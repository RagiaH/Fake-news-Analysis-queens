{
  "cells": [
    {
      "cell_type": "markdown",
      "metadata": {
        "id": "1s8mTIxP-JA8"
      },
      "source": [
        "#**Import the data**"
      ]
    },
    {
      "cell_type": "code",
      "execution_count": null,
      "metadata": {
        "colab": {
          "base_uri": "https://localhost:8080/"
        },
        "id": "GmxM3m1gBuDZ",
        "outputId": "99a316a4-fe3c-441d-bc5b-84f8f0957226"
      },
      "outputs": [
        {
          "output_type": "stream",
          "name": "stdout",
          "text": [
            "Looking in indexes: https://pypi.org/simple, https://us-python.pkg.dev/colab-wheels/public/simple/\n",
            "Requirement already satisfied: kaggle in /usr/local/lib/python3.7/dist-packages (1.5.12)\n",
            "Requirement already satisfied: python-dateutil in /usr/local/lib/python3.7/dist-packages (from kaggle) (2.8.2)\n",
            "Requirement already satisfied: six>=1.10 in /usr/local/lib/python3.7/dist-packages (from kaggle) (1.15.0)\n",
            "Requirement already satisfied: urllib3 in /usr/local/lib/python3.7/dist-packages (from kaggle) (1.24.3)\n",
            "Requirement already satisfied: certifi in /usr/local/lib/python3.7/dist-packages (from kaggle) (2022.5.18.1)\n",
            "Requirement already satisfied: tqdm in /usr/local/lib/python3.7/dist-packages (from kaggle) (4.64.0)\n",
            "Requirement already satisfied: requests in /usr/local/lib/python3.7/dist-packages (from kaggle) (2.23.0)\n",
            "Requirement already satisfied: python-slugify in /usr/local/lib/python3.7/dist-packages (from kaggle) (6.1.2)\n",
            "Requirement already satisfied: text-unidecode>=1.3 in /usr/local/lib/python3.7/dist-packages (from python-slugify->kaggle) (1.3)\n",
            "Requirement already satisfied: chardet<4,>=3.0.2 in /usr/local/lib/python3.7/dist-packages (from requests->kaggle) (3.0.4)\n",
            "Requirement already satisfied: idna<3,>=2.5 in /usr/local/lib/python3.7/dist-packages (from requests->kaggle) (2.10)\n"
          ]
        }
      ],
      "source": [
        "! pip install kaggle"
      ]
    },
    {
      "cell_type": "code",
      "execution_count": null,
      "metadata": {
        "id": "_JNnjNdHLtFZ"
      },
      "outputs": [],
      "source": [
        "! mkdir ~/.kaggle\n"
      ]
    },
    {
      "cell_type": "code",
      "execution_count": null,
      "metadata": {
        "id": "kIvaSfThSENM"
      },
      "outputs": [],
      "source": [
        "! cp kaggle.json ~/.kaggle"
      ]
    },
    {
      "cell_type": "code",
      "execution_count": null,
      "metadata": {
        "id": "AsHdhLJGSNwq"
      },
      "outputs": [],
      "source": [
        "! chmod 600 ~/.kaggle/kaggle.json"
      ]
    },
    {
      "cell_type": "code",
      "execution_count": null,
      "metadata": {
        "colab": {
          "base_uri": "https://localhost:8080/"
        },
        "id": "UpletW0WSSR4",
        "outputId": "64ade0cd-9b55-4130-bd09-89b58ffb8f3d"
      },
      "outputs": [
        {
          "output_type": "stream",
          "name": "stdout",
          "text": [
            "Downloading fakenews-reddit-comments.zip to /content\n",
            " 98% 281M/287M [00:18<00:00, 20.8MB/s]\n",
            "100% 287M/287M [00:18<00:00, 16.5MB/s]\n"
          ]
        }
      ],
      "source": [
        "!kaggle datasets download -d deepnews/fakenews-reddit-comments"
      ]
    },
    {
      "cell_type": "code",
      "execution_count": null,
      "metadata": {
        "colab": {
          "base_uri": "https://localhost:8080/"
        },
        "id": "gyN61FSqTEVw",
        "outputId": "7e8f53cf-9ecb-463a-96ee-95ea76bf97b9"
      },
      "outputs": [
        {
          "output_type": "stream",
          "name": "stdout",
          "text": [
            "Archive:  /content/fakenews-reddit-comments.zip\n",
            "  inflating: fake_news_reddit_cikm20.json  \n"
          ]
        }
      ],
      "source": [
        "!unzip /content/fakenews-reddit-comments.zip"
      ]
    },
    {
      "cell_type": "markdown",
      "metadata": {
        "id": "hVUwkOtF-bDY"
      },
      "source": [
        "#**Import libraries**"
      ]
    },
    {
      "cell_type": "code",
      "execution_count": null,
      "metadata": {
        "id": "QG5EjEVC5TLr"
      },
      "outputs": [],
      "source": [
        "import time\n",
        "import re\n",
        "from nltk.stem.snowball import SnowballStemmer\n",
        "from nltk.tokenize import word_tokenize\n",
        "from nltk.corpus import stopwords\n",
        "import nltk \n",
        "from sklearn.model_selection import train_test_split\n",
        "from sklearn.feature_extraction.text import TfidfVectorizer\n",
        "\n",
        "import numpy as np\n",
        "import pandas as pd\n",
        "import tensorflow as tf\n",
        "from tensorflow.keras.preprocessing.text import Tokenizer\n",
        "from tensorflow.keras.preprocessing.sequence import pad_sequences\n",
        "\n",
        "\n",
        "#Visualization libraries\n",
        "import matplotlib.pyplot as plt \n",
        "from matplotlib import rcParams\n",
        "import seaborn as sns\n",
        "from textblob import TextBlob\n",
        "from plotly import tools\n",
        "import plotly.graph_objs as go\n",
        "from plotly.offline import iplot\n",
        "%matplotlib inline\n",
        "plt.rcParams['figure.figsize'] = [10, 5]\n",
        "\n",
        "import string\n",
        "\n",
        "from wordcloud import WordCloud,STOPWORDS\n",
        "from nltk.stem.porter import PorterStemmer\n",
        "from sklearn.feature_extraction.text import CountVectorizer\n",
        "# Machine Learning libraries\n",
        "import sklearn \n",
        "from sklearn.model_selection import GridSearchCV\n",
        "from sklearn.linear_model import LogisticRegression\n",
        "from sklearn.tree import DecisionTreeClassifier\n",
        "from sklearn.naive_bayes import MultinomialNB \n",
        "from sklearn.neighbors import KNeighborsClassifier\n",
        "\n",
        "#Metrics libraries\n",
        "from sklearn import metrics\n",
        "from sklearn.metrics import classification_report\n",
        "from sklearn.model_selection import cross_val_score\n",
        "from sklearn.metrics import roc_auc_score\n",
        "from sklearn.metrics import roc_curve\n",
        "from sklearn.metrics import confusion_matrix\n",
        "from sklearn.metrics import accuracy_score\n",
        "\n",
        "#Miscellanous libraries\n",
        "from collections import Counter\n",
        "\n",
        "#Ignore warnings\n",
        "import warnings\n",
        "warnings.filterwarnings('ignore')\n",
        "\n",
        "#Deep learning libraries\n",
        "from tensorflow.keras.layers import Embedding\n",
        "from tensorflow.keras.models import Sequential\n",
        "from tensorflow.keras.preprocessing.text import one_hot\n",
        "from tensorflow.keras.layers import LSTM , GRU\n",
        "from tensorflow.keras.layers import Bidirectional\n",
        "from tensorflow.keras.layers import Dense\n",
        "from tensorflow.keras.layers import Dropout\n",
        "\n",
        "from sklearn.metrics import mean_squared_error, r2_score, mean_absolute_error\n",
        "from sklearn.preprocessing import LabelBinarizer\n",
        "from sklearn.dummy import DummyRegressor\n",
        "from sklearn.linear_model import LinearRegression\n",
        "from sklearn.linear_model import LassoCV\n",
        "from sklearn.linear_model import RidgeCV\n",
        "from sklearn.linear_model import ElasticNetCV\n",
        "from sklearn.neighbors import KNeighborsRegressor\n",
        "from sklearn.tree import DecisionTreeRegressor\n",
        "from sklearn.ensemble import RandomForestRegressor\n",
        "from sklearn.ensemble import GradientBoostingRegressor"
      ]
    },
    {
      "cell_type": "markdown",
      "metadata": {
        "id": "oXGw9P1N-erJ"
      },
      "source": [
        "#**Read the data**"
      ]
    },
    {
      "cell_type": "code",
      "execution_count": null,
      "metadata": {
        "colab": {
          "base_uri": "https://localhost:8080/"
        },
        "id": "4_gdrmwPZID9",
        "outputId": "6ce6e005-ffbb-4509-bff5-230cb3ea14b5"
      },
      "outputs": [
        {
          "output_type": "execute_result",
          "data": {
            "text/plain": [
              "       label                                    reddit_comments researched_by  \\\n",
              "0          0                                                 []        snopes   \n",
              "1          1                                                 []        snopes   \n",
              "2          0                                                 []        snopes   \n",
              "3          1                                                 []        snopes   \n",
              "4          1                                                 []        snopes   \n",
              "...      ...                                                ...           ...   \n",
              "69391      0  [{'created_utc': 1370998152, 'label': 0, 'auth...        snopes   \n",
              "69392      0                                                 []        snopes   \n",
              "69393      0                                                 []        snopes   \n",
              "69394      0                                                 []        snopes   \n",
              "69395      0  [{'created_utc': 1436457724, 'label': 0, 'auth...        snopes   \n",
              "\n",
              "                                                    text  \\\n",
              "0      analyze videos growth watch videos growth sinc...   \n",
              "1      last week current administration missed point ...   \n",
              "2      email protected member male join date jul 2001...   \n",
              "3      urban outfitters sunk new low vintage kent sta...   \n",
              "4      santa goes many names santa claus st nick kris...   \n",
              "...                                                  ...   \n",
              "69391  donate stuff 101 places clutter good book joy ...   \n",
              "69392  update 3272012 painting depicts obama burning ...   \n",
              "69393  take selena movie quiz need go back watch movi...   \n",
              "69394  robert well know love ya wants love do ray rob...   \n",
              "69395  children crayons marketed colorful characters ...   \n",
              "\n",
              "                                                   title  \\\n",
              "0                                                vidinfo   \n",
              "1              editorial misinterpreted toon unpatriotic   \n",
              "2                           general health message board   \n",
              "3      urban outfitters sorry selling kent state swea...   \n",
              "4                                      story santa claus   \n",
              "...                                                  ...   \n",
              "69391  donate stuff 101 places clutter good miss mini...   \n",
              "69392  finally obama original birth certificate surfaces   \n",
              "69393                       selena quintanilla news 2014   \n",
              "69394                tropes q z  everybody loves raymond   \n",
              "69395                            child coloring asbestos   \n",
              "\n",
              "                                                     url  \n",
              "0      http://www.vidinfo.org/video/67155269/jeremy-m...  \n",
              "1      http://pittnews.com/30440/archives/editorial-m...  \n",
              "2      http://www.healthboards.com/boards/general-hea...  \n",
              "3      http://gothamist.com/2014/09/15/urban_outfitte...  \n",
              "4      http://www.englishteachermelanie.com/canada-fu...  \n",
              "...                                                  ...  \n",
              "69391  http://www.missminimalist.com/2011/04/where-to...  \n",
              "69392  http://geopolitics.co/2012/03/21/finally-obama...  \n",
              "69393               http://loveselena.com/News/2014.html  \n",
              "69394  http://tvtropes.org/pmwiki/pmwiki.php/Everybod...  \n",
              "69395  http://www.scientificamerican.com/article/is-y...  \n",
              "\n",
              "[69396 rows x 6 columns]"
            ],
            "text/html": [
              "\n",
              "  <div id=\"df-fc0ae673-1e9d-4a4b-bd90-cdbb58ab98c4\">\n",
              "    <div class=\"colab-df-container\">\n",
              "      <div>\n",
              "<style scoped>\n",
              "    .dataframe tbody tr th:only-of-type {\n",
              "        vertical-align: middle;\n",
              "    }\n",
              "\n",
              "    .dataframe tbody tr th {\n",
              "        vertical-align: top;\n",
              "    }\n",
              "\n",
              "    .dataframe thead th {\n",
              "        text-align: right;\n",
              "    }\n",
              "</style>\n",
              "<table border=\"1\" class=\"dataframe\">\n",
              "  <thead>\n",
              "    <tr style=\"text-align: right;\">\n",
              "      <th></th>\n",
              "      <th>label</th>\n",
              "      <th>reddit_comments</th>\n",
              "      <th>researched_by</th>\n",
              "      <th>text</th>\n",
              "      <th>title</th>\n",
              "      <th>url</th>\n",
              "    </tr>\n",
              "  </thead>\n",
              "  <tbody>\n",
              "    <tr>\n",
              "      <th>0</th>\n",
              "      <td>0</td>\n",
              "      <td>[]</td>\n",
              "      <td>snopes</td>\n",
              "      <td>analyze videos growth watch videos growth sinc...</td>\n",
              "      <td>vidinfo</td>\n",
              "      <td>http://www.vidinfo.org/video/67155269/jeremy-m...</td>\n",
              "    </tr>\n",
              "    <tr>\n",
              "      <th>1</th>\n",
              "      <td>1</td>\n",
              "      <td>[]</td>\n",
              "      <td>snopes</td>\n",
              "      <td>last week current administration missed point ...</td>\n",
              "      <td>editorial misinterpreted toon unpatriotic</td>\n",
              "      <td>http://pittnews.com/30440/archives/editorial-m...</td>\n",
              "    </tr>\n",
              "    <tr>\n",
              "      <th>2</th>\n",
              "      <td>0</td>\n",
              "      <td>[]</td>\n",
              "      <td>snopes</td>\n",
              "      <td>email protected member male join date jul 2001...</td>\n",
              "      <td>general health message board</td>\n",
              "      <td>http://www.healthboards.com/boards/general-hea...</td>\n",
              "    </tr>\n",
              "    <tr>\n",
              "      <th>3</th>\n",
              "      <td>1</td>\n",
              "      <td>[]</td>\n",
              "      <td>snopes</td>\n",
              "      <td>urban outfitters sunk new low vintage kent sta...</td>\n",
              "      <td>urban outfitters sorry selling kent state swea...</td>\n",
              "      <td>http://gothamist.com/2014/09/15/urban_outfitte...</td>\n",
              "    </tr>\n",
              "    <tr>\n",
              "      <th>4</th>\n",
              "      <td>1</td>\n",
              "      <td>[]</td>\n",
              "      <td>snopes</td>\n",
              "      <td>santa goes many names santa claus st nick kris...</td>\n",
              "      <td>story santa claus</td>\n",
              "      <td>http://www.englishteachermelanie.com/canada-fu...</td>\n",
              "    </tr>\n",
              "    <tr>\n",
              "      <th>...</th>\n",
              "      <td>...</td>\n",
              "      <td>...</td>\n",
              "      <td>...</td>\n",
              "      <td>...</td>\n",
              "      <td>...</td>\n",
              "      <td>...</td>\n",
              "    </tr>\n",
              "    <tr>\n",
              "      <th>69391</th>\n",
              "      <td>0</td>\n",
              "      <td>[{'created_utc': 1370998152, 'label': 0, 'auth...</td>\n",
              "      <td>snopes</td>\n",
              "      <td>donate stuff 101 places clutter good book joy ...</td>\n",
              "      <td>donate stuff 101 places clutter good miss mini...</td>\n",
              "      <td>http://www.missminimalist.com/2011/04/where-to...</td>\n",
              "    </tr>\n",
              "    <tr>\n",
              "      <th>69392</th>\n",
              "      <td>0</td>\n",
              "      <td>[]</td>\n",
              "      <td>snopes</td>\n",
              "      <td>update 3272012 painting depicts obama burning ...</td>\n",
              "      <td>finally obama original birth certificate surfaces</td>\n",
              "      <td>http://geopolitics.co/2012/03/21/finally-obama...</td>\n",
              "    </tr>\n",
              "    <tr>\n",
              "      <th>69393</th>\n",
              "      <td>0</td>\n",
              "      <td>[]</td>\n",
              "      <td>snopes</td>\n",
              "      <td>take selena movie quiz need go back watch movi...</td>\n",
              "      <td>selena quintanilla news 2014</td>\n",
              "      <td>http://loveselena.com/News/2014.html</td>\n",
              "    </tr>\n",
              "    <tr>\n",
              "      <th>69394</th>\n",
              "      <td>0</td>\n",
              "      <td>[]</td>\n",
              "      <td>snopes</td>\n",
              "      <td>robert well know love ya wants love do ray rob...</td>\n",
              "      <td>tropes q z  everybody loves raymond</td>\n",
              "      <td>http://tvtropes.org/pmwiki/pmwiki.php/Everybod...</td>\n",
              "    </tr>\n",
              "    <tr>\n",
              "      <th>69395</th>\n",
              "      <td>0</td>\n",
              "      <td>[{'created_utc': 1436457724, 'label': 0, 'auth...</td>\n",
              "      <td>snopes</td>\n",
              "      <td>children crayons marketed colorful characters ...</td>\n",
              "      <td>child coloring asbestos</td>\n",
              "      <td>http://www.scientificamerican.com/article/is-y...</td>\n",
              "    </tr>\n",
              "  </tbody>\n",
              "</table>\n",
              "<p>69396 rows × 6 columns</p>\n",
              "</div>\n",
              "      <button class=\"colab-df-convert\" onclick=\"convertToInteractive('df-fc0ae673-1e9d-4a4b-bd90-cdbb58ab98c4')\"\n",
              "              title=\"Convert this dataframe to an interactive table.\"\n",
              "              style=\"display:none;\">\n",
              "        \n",
              "  <svg xmlns=\"http://www.w3.org/2000/svg\" height=\"24px\"viewBox=\"0 0 24 24\"\n",
              "       width=\"24px\">\n",
              "    <path d=\"M0 0h24v24H0V0z\" fill=\"none\"/>\n",
              "    <path d=\"M18.56 5.44l.94 2.06.94-2.06 2.06-.94-2.06-.94-.94-2.06-.94 2.06-2.06.94zm-11 1L8.5 8.5l.94-2.06 2.06-.94-2.06-.94L8.5 2.5l-.94 2.06-2.06.94zm10 10l.94 2.06.94-2.06 2.06-.94-2.06-.94-.94-2.06-.94 2.06-2.06.94z\"/><path d=\"M17.41 7.96l-1.37-1.37c-.4-.4-.92-.59-1.43-.59-.52 0-1.04.2-1.43.59L10.3 9.45l-7.72 7.72c-.78.78-.78 2.05 0 2.83L4 21.41c.39.39.9.59 1.41.59.51 0 1.02-.2 1.41-.59l7.78-7.78 2.81-2.81c.8-.78.8-2.07 0-2.86zM5.41 20L4 18.59l7.72-7.72 1.47 1.35L5.41 20z\"/>\n",
              "  </svg>\n",
              "      </button>\n",
              "      \n",
              "  <style>\n",
              "    .colab-df-container {\n",
              "      display:flex;\n",
              "      flex-wrap:wrap;\n",
              "      gap: 12px;\n",
              "    }\n",
              "\n",
              "    .colab-df-convert {\n",
              "      background-color: #E8F0FE;\n",
              "      border: none;\n",
              "      border-radius: 50%;\n",
              "      cursor: pointer;\n",
              "      display: none;\n",
              "      fill: #1967D2;\n",
              "      height: 32px;\n",
              "      padding: 0 0 0 0;\n",
              "      width: 32px;\n",
              "    }\n",
              "\n",
              "    .colab-df-convert:hover {\n",
              "      background-color: #E2EBFA;\n",
              "      box-shadow: 0px 1px 2px rgba(60, 64, 67, 0.3), 0px 1px 3px 1px rgba(60, 64, 67, 0.15);\n",
              "      fill: #174EA6;\n",
              "    }\n",
              "\n",
              "    [theme=dark] .colab-df-convert {\n",
              "      background-color: #3B4455;\n",
              "      fill: #D2E3FC;\n",
              "    }\n",
              "\n",
              "    [theme=dark] .colab-df-convert:hover {\n",
              "      background-color: #434B5C;\n",
              "      box-shadow: 0px 1px 3px 1px rgba(0, 0, 0, 0.15);\n",
              "      filter: drop-shadow(0px 1px 2px rgba(0, 0, 0, 0.3));\n",
              "      fill: #FFFFFF;\n",
              "    }\n",
              "  </style>\n",
              "\n",
              "      <script>\n",
              "        const buttonEl =\n",
              "          document.querySelector('#df-fc0ae673-1e9d-4a4b-bd90-cdbb58ab98c4 button.colab-df-convert');\n",
              "        buttonEl.style.display =\n",
              "          google.colab.kernel.accessAllowed ? 'block' : 'none';\n",
              "\n",
              "        async function convertToInteractive(key) {\n",
              "          const element = document.querySelector('#df-fc0ae673-1e9d-4a4b-bd90-cdbb58ab98c4');\n",
              "          const dataTable =\n",
              "            await google.colab.kernel.invokeFunction('convertToInteractive',\n",
              "                                                     [key], {});\n",
              "          if (!dataTable) return;\n",
              "\n",
              "          const docLinkHtml = 'Like what you see? Visit the ' +\n",
              "            '<a target=\"_blank\" href=https://colab.research.google.com/notebooks/data_table.ipynb>data table notebook</a>'\n",
              "            + ' to learn more about interactive tables.';\n",
              "          element.innerHTML = '';\n",
              "          dataTable['output_type'] = 'display_data';\n",
              "          await google.colab.output.renderOutput(dataTable, element);\n",
              "          const docLink = document.createElement('div');\n",
              "          docLink.innerHTML = docLinkHtml;\n",
              "          element.appendChild(docLink);\n",
              "        }\n",
              "      </script>\n",
              "    </div>\n",
              "  </div>\n",
              "  "
            ]
          },
          "metadata": {},
          "execution_count": 8
        }
      ],
      "source": [
        "#read the data\n",
        "df = pd.read_json(\"/content/fake_news_reddit_cikm20.json\")\n",
        "df\n"
      ]
    },
    {
      "cell_type": "markdown",
      "source": [
        "#**Data Exploration**"
      ],
      "metadata": {
        "id": "qvXvaKyhBNRO"
      }
    },
    {
      "cell_type": "code",
      "source": [
        "#display the data shape\n",
        "df.shape"
      ],
      "metadata": {
        "colab": {
          "base_uri": "https://localhost:8080/"
        },
        "id": "QHQDH99GDusO",
        "outputId": "09d7475e-1cc7-4878-d853-9b529f738ed4"
      },
      "execution_count": null,
      "outputs": [
        {
          "output_type": "execute_result",
          "data": {
            "text/plain": [
              "(69396, 6)"
            ]
          },
          "metadata": {},
          "execution_count": 9
        }
      ]
    },
    {
      "cell_type": "code",
      "source": [
        "#display data columns\n",
        "df.columns"
      ],
      "metadata": {
        "colab": {
          "base_uri": "https://localhost:8080/"
        },
        "id": "Uh6gvYElFBU3",
        "outputId": "a9269459-aeb0-433f-e849-0233916441ad"
      },
      "execution_count": null,
      "outputs": [
        {
          "output_type": "execute_result",
          "data": {
            "text/plain": [
              "Index(['label', 'reddit_comments', 'researched_by', 'text', 'title', 'url'], dtype='object')"
            ]
          },
          "metadata": {},
          "execution_count": 10
        }
      ]
    },
    {
      "cell_type": "code",
      "source": [
        "#check missing values\n",
        "df.isnull().sum()"
      ],
      "metadata": {
        "colab": {
          "base_uri": "https://localhost:8080/"
        },
        "id": "LTvGbp3eDuvQ",
        "outputId": "a75a7839-3eea-468b-db3e-9602b69369d9"
      },
      "execution_count": null,
      "outputs": [
        {
          "output_type": "execute_result",
          "data": {
            "text/plain": [
              "label              0\n",
              "reddit_comments    0\n",
              "researched_by      0\n",
              "text               0\n",
              "title              0\n",
              "url                0\n",
              "dtype: int64"
            ]
          },
          "metadata": {},
          "execution_count": 11
        }
      ]
    },
    {
      "cell_type": "code",
      "source": [
        "#display some data info\n",
        "df.info()"
      ],
      "metadata": {
        "colab": {
          "base_uri": "https://localhost:8080/"
        },
        "id": "PNzK9a84FKNB",
        "outputId": "e8ae9dd6-2ecd-400f-db4c-99ead6e32af0"
      },
      "execution_count": null,
      "outputs": [
        {
          "output_type": "stream",
          "name": "stdout",
          "text": [
            "<class 'pandas.core.frame.DataFrame'>\n",
            "RangeIndex: 69396 entries, 0 to 69395\n",
            "Data columns (total 6 columns):\n",
            " #   Column           Non-Null Count  Dtype \n",
            "---  ------           --------------  ----- \n",
            " 0   label            69396 non-null  int64 \n",
            " 1   reddit_comments  69396 non-null  object\n",
            " 2   researched_by    69396 non-null  object\n",
            " 3   text             69396 non-null  object\n",
            " 4   title            69396 non-null  object\n",
            " 5   url              69396 non-null  object\n",
            "dtypes: int64(1), object(5)\n",
            "memory usage: 3.2+ MB\n"
          ]
        }
      ]
    },
    {
      "cell_type": "code",
      "source": [
        "#display data statistical summary\n",
        "df.describe()"
      ],
      "metadata": {
        "colab": {
          "base_uri": "https://localhost:8080/"
        },
        "id": "5zZb38G0FNjv",
        "outputId": "83d30e93-35ff-44cc-e63e-7e0222d9418e"
      },
      "execution_count": null,
      "outputs": [
        {
          "output_type": "execute_result",
          "data": {
            "text/plain": [
              "              label\n",
              "count  69396.000000\n",
              "mean       0.256081\n",
              "std        0.436470\n",
              "min        0.000000\n",
              "25%        0.000000\n",
              "50%        0.000000\n",
              "75%        1.000000\n",
              "max        1.000000"
            ],
            "text/html": [
              "\n",
              "  <div id=\"df-2fb27163-1e1e-416d-97ed-9a1772d8744f\">\n",
              "    <div class=\"colab-df-container\">\n",
              "      <div>\n",
              "<style scoped>\n",
              "    .dataframe tbody tr th:only-of-type {\n",
              "        vertical-align: middle;\n",
              "    }\n",
              "\n",
              "    .dataframe tbody tr th {\n",
              "        vertical-align: top;\n",
              "    }\n",
              "\n",
              "    .dataframe thead th {\n",
              "        text-align: right;\n",
              "    }\n",
              "</style>\n",
              "<table border=\"1\" class=\"dataframe\">\n",
              "  <thead>\n",
              "    <tr style=\"text-align: right;\">\n",
              "      <th></th>\n",
              "      <th>label</th>\n",
              "    </tr>\n",
              "  </thead>\n",
              "  <tbody>\n",
              "    <tr>\n",
              "      <th>count</th>\n",
              "      <td>69396.000000</td>\n",
              "    </tr>\n",
              "    <tr>\n",
              "      <th>mean</th>\n",
              "      <td>0.256081</td>\n",
              "    </tr>\n",
              "    <tr>\n",
              "      <th>std</th>\n",
              "      <td>0.436470</td>\n",
              "    </tr>\n",
              "    <tr>\n",
              "      <th>min</th>\n",
              "      <td>0.000000</td>\n",
              "    </tr>\n",
              "    <tr>\n",
              "      <th>25%</th>\n",
              "      <td>0.000000</td>\n",
              "    </tr>\n",
              "    <tr>\n",
              "      <th>50%</th>\n",
              "      <td>0.000000</td>\n",
              "    </tr>\n",
              "    <tr>\n",
              "      <th>75%</th>\n",
              "      <td>1.000000</td>\n",
              "    </tr>\n",
              "    <tr>\n",
              "      <th>max</th>\n",
              "      <td>1.000000</td>\n",
              "    </tr>\n",
              "  </tbody>\n",
              "</table>\n",
              "</div>\n",
              "      <button class=\"colab-df-convert\" onclick=\"convertToInteractive('df-2fb27163-1e1e-416d-97ed-9a1772d8744f')\"\n",
              "              title=\"Convert this dataframe to an interactive table.\"\n",
              "              style=\"display:none;\">\n",
              "        \n",
              "  <svg xmlns=\"http://www.w3.org/2000/svg\" height=\"24px\"viewBox=\"0 0 24 24\"\n",
              "       width=\"24px\">\n",
              "    <path d=\"M0 0h24v24H0V0z\" fill=\"none\"/>\n",
              "    <path d=\"M18.56 5.44l.94 2.06.94-2.06 2.06-.94-2.06-.94-.94-2.06-.94 2.06-2.06.94zm-11 1L8.5 8.5l.94-2.06 2.06-.94-2.06-.94L8.5 2.5l-.94 2.06-2.06.94zm10 10l.94 2.06.94-2.06 2.06-.94-2.06-.94-.94-2.06-.94 2.06-2.06.94z\"/><path d=\"M17.41 7.96l-1.37-1.37c-.4-.4-.92-.59-1.43-.59-.52 0-1.04.2-1.43.59L10.3 9.45l-7.72 7.72c-.78.78-.78 2.05 0 2.83L4 21.41c.39.39.9.59 1.41.59.51 0 1.02-.2 1.41-.59l7.78-7.78 2.81-2.81c.8-.78.8-2.07 0-2.86zM5.41 20L4 18.59l7.72-7.72 1.47 1.35L5.41 20z\"/>\n",
              "  </svg>\n",
              "      </button>\n",
              "      \n",
              "  <style>\n",
              "    .colab-df-container {\n",
              "      display:flex;\n",
              "      flex-wrap:wrap;\n",
              "      gap: 12px;\n",
              "    }\n",
              "\n",
              "    .colab-df-convert {\n",
              "      background-color: #E8F0FE;\n",
              "      border: none;\n",
              "      border-radius: 50%;\n",
              "      cursor: pointer;\n",
              "      display: none;\n",
              "      fill: #1967D2;\n",
              "      height: 32px;\n",
              "      padding: 0 0 0 0;\n",
              "      width: 32px;\n",
              "    }\n",
              "\n",
              "    .colab-df-convert:hover {\n",
              "      background-color: #E2EBFA;\n",
              "      box-shadow: 0px 1px 2px rgba(60, 64, 67, 0.3), 0px 1px 3px 1px rgba(60, 64, 67, 0.15);\n",
              "      fill: #174EA6;\n",
              "    }\n",
              "\n",
              "    [theme=dark] .colab-df-convert {\n",
              "      background-color: #3B4455;\n",
              "      fill: #D2E3FC;\n",
              "    }\n",
              "\n",
              "    [theme=dark] .colab-df-convert:hover {\n",
              "      background-color: #434B5C;\n",
              "      box-shadow: 0px 1px 3px 1px rgba(0, 0, 0, 0.15);\n",
              "      filter: drop-shadow(0px 1px 2px rgba(0, 0, 0, 0.3));\n",
              "      fill: #FFFFFF;\n",
              "    }\n",
              "  </style>\n",
              "\n",
              "      <script>\n",
              "        const buttonEl =\n",
              "          document.querySelector('#df-2fb27163-1e1e-416d-97ed-9a1772d8744f button.colab-df-convert');\n",
              "        buttonEl.style.display =\n",
              "          google.colab.kernel.accessAllowed ? 'block' : 'none';\n",
              "\n",
              "        async function convertToInteractive(key) {\n",
              "          const element = document.querySelector('#df-2fb27163-1e1e-416d-97ed-9a1772d8744f');\n",
              "          const dataTable =\n",
              "            await google.colab.kernel.invokeFunction('convertToInteractive',\n",
              "                                                     [key], {});\n",
              "          if (!dataTable) return;\n",
              "\n",
              "          const docLinkHtml = 'Like what you see? Visit the ' +\n",
              "            '<a target=\"_blank\" href=https://colab.research.google.com/notebooks/data_table.ipynb>data table notebook</a>'\n",
              "            + ' to learn more about interactive tables.';\n",
              "          element.innerHTML = '';\n",
              "          dataTable['output_type'] = 'display_data';\n",
              "          await google.colab.output.renderOutput(dataTable, element);\n",
              "          const docLink = document.createElement('div');\n",
              "          docLink.innerHTML = docLinkHtml;\n",
              "          element.appendChild(docLink);\n",
              "        }\n",
              "      </script>\n",
              "    </div>\n",
              "  </div>\n",
              "  "
            ]
          },
          "metadata": {},
          "execution_count": 13
        }
      ]
    },
    {
      "cell_type": "code",
      "source": [
        "#display data catigorical summary\n",
        "df.describe(include='O')"
      ],
      "metadata": {
        "colab": {
          "base_uri": "https://localhost:8080/"
        },
        "id": "QBofGoVHFV1B",
        "outputId": "97f0774f-0430-498a-f483-71776b60767f"
      },
      "execution_count": null,
      "outputs": [
        {
          "output_type": "execute_result",
          "data": {
            "text/plain": [
              "       reddit_comments researched_by  \\\n",
              "count            69396         69396   \n",
              "unique            5235             3   \n",
              "top                 []        snopes   \n",
              "freq             64161         67285   \n",
              "\n",
              "                                                     text  title  \\\n",
              "count                                               69396  69396   \n",
              "unique                                              67364  64302   \n",
              "top     trendolizer trendolizer patent pending automat...          \n",
              "freq                                                  289    463   \n",
              "\n",
              "                                                      url  \n",
              "count                                               69396  \n",
              "unique                                              69396  \n",
              "top     http://www.vidinfo.org/video/67155269/jeremy-m...  \n",
              "freq                                                    1  "
            ],
            "text/html": [
              "\n",
              "  <div id=\"df-2d739387-4466-42d6-9c3f-52594227f492\">\n",
              "    <div class=\"colab-df-container\">\n",
              "      <div>\n",
              "<style scoped>\n",
              "    .dataframe tbody tr th:only-of-type {\n",
              "        vertical-align: middle;\n",
              "    }\n",
              "\n",
              "    .dataframe tbody tr th {\n",
              "        vertical-align: top;\n",
              "    }\n",
              "\n",
              "    .dataframe thead th {\n",
              "        text-align: right;\n",
              "    }\n",
              "</style>\n",
              "<table border=\"1\" class=\"dataframe\">\n",
              "  <thead>\n",
              "    <tr style=\"text-align: right;\">\n",
              "      <th></th>\n",
              "      <th>reddit_comments</th>\n",
              "      <th>researched_by</th>\n",
              "      <th>text</th>\n",
              "      <th>title</th>\n",
              "      <th>url</th>\n",
              "    </tr>\n",
              "  </thead>\n",
              "  <tbody>\n",
              "    <tr>\n",
              "      <th>count</th>\n",
              "      <td>69396</td>\n",
              "      <td>69396</td>\n",
              "      <td>69396</td>\n",
              "      <td>69396</td>\n",
              "      <td>69396</td>\n",
              "    </tr>\n",
              "    <tr>\n",
              "      <th>unique</th>\n",
              "      <td>5235</td>\n",
              "      <td>3</td>\n",
              "      <td>67364</td>\n",
              "      <td>64302</td>\n",
              "      <td>69396</td>\n",
              "    </tr>\n",
              "    <tr>\n",
              "      <th>top</th>\n",
              "      <td>[]</td>\n",
              "      <td>snopes</td>\n",
              "      <td>trendolizer trendolizer patent pending automat...</td>\n",
              "      <td></td>\n",
              "      <td>http://www.vidinfo.org/video/67155269/jeremy-m...</td>\n",
              "    </tr>\n",
              "    <tr>\n",
              "      <th>freq</th>\n",
              "      <td>64161</td>\n",
              "      <td>67285</td>\n",
              "      <td>289</td>\n",
              "      <td>463</td>\n",
              "      <td>1</td>\n",
              "    </tr>\n",
              "  </tbody>\n",
              "</table>\n",
              "</div>\n",
              "      <button class=\"colab-df-convert\" onclick=\"convertToInteractive('df-2d739387-4466-42d6-9c3f-52594227f492')\"\n",
              "              title=\"Convert this dataframe to an interactive table.\"\n",
              "              style=\"display:none;\">\n",
              "        \n",
              "  <svg xmlns=\"http://www.w3.org/2000/svg\" height=\"24px\"viewBox=\"0 0 24 24\"\n",
              "       width=\"24px\">\n",
              "    <path d=\"M0 0h24v24H0V0z\" fill=\"none\"/>\n",
              "    <path d=\"M18.56 5.44l.94 2.06.94-2.06 2.06-.94-2.06-.94-.94-2.06-.94 2.06-2.06.94zm-11 1L8.5 8.5l.94-2.06 2.06-.94-2.06-.94L8.5 2.5l-.94 2.06-2.06.94zm10 10l.94 2.06.94-2.06 2.06-.94-2.06-.94-.94-2.06-.94 2.06-2.06.94z\"/><path d=\"M17.41 7.96l-1.37-1.37c-.4-.4-.92-.59-1.43-.59-.52 0-1.04.2-1.43.59L10.3 9.45l-7.72 7.72c-.78.78-.78 2.05 0 2.83L4 21.41c.39.39.9.59 1.41.59.51 0 1.02-.2 1.41-.59l7.78-7.78 2.81-2.81c.8-.78.8-2.07 0-2.86zM5.41 20L4 18.59l7.72-7.72 1.47 1.35L5.41 20z\"/>\n",
              "  </svg>\n",
              "      </button>\n",
              "      \n",
              "  <style>\n",
              "    .colab-df-container {\n",
              "      display:flex;\n",
              "      flex-wrap:wrap;\n",
              "      gap: 12px;\n",
              "    }\n",
              "\n",
              "    .colab-df-convert {\n",
              "      background-color: #E8F0FE;\n",
              "      border: none;\n",
              "      border-radius: 50%;\n",
              "      cursor: pointer;\n",
              "      display: none;\n",
              "      fill: #1967D2;\n",
              "      height: 32px;\n",
              "      padding: 0 0 0 0;\n",
              "      width: 32px;\n",
              "    }\n",
              "\n",
              "    .colab-df-convert:hover {\n",
              "      background-color: #E2EBFA;\n",
              "      box-shadow: 0px 1px 2px rgba(60, 64, 67, 0.3), 0px 1px 3px 1px rgba(60, 64, 67, 0.15);\n",
              "      fill: #174EA6;\n",
              "    }\n",
              "\n",
              "    [theme=dark] .colab-df-convert {\n",
              "      background-color: #3B4455;\n",
              "      fill: #D2E3FC;\n",
              "    }\n",
              "\n",
              "    [theme=dark] .colab-df-convert:hover {\n",
              "      background-color: #434B5C;\n",
              "      box-shadow: 0px 1px 3px 1px rgba(0, 0, 0, 0.15);\n",
              "      filter: drop-shadow(0px 1px 2px rgba(0, 0, 0, 0.3));\n",
              "      fill: #FFFFFF;\n",
              "    }\n",
              "  </style>\n",
              "\n",
              "      <script>\n",
              "        const buttonEl =\n",
              "          document.querySelector('#df-2d739387-4466-42d6-9c3f-52594227f492 button.colab-df-convert');\n",
              "        buttonEl.style.display =\n",
              "          google.colab.kernel.accessAllowed ? 'block' : 'none';\n",
              "\n",
              "        async function convertToInteractive(key) {\n",
              "          const element = document.querySelector('#df-2d739387-4466-42d6-9c3f-52594227f492');\n",
              "          const dataTable =\n",
              "            await google.colab.kernel.invokeFunction('convertToInteractive',\n",
              "                                                     [key], {});\n",
              "          if (!dataTable) return;\n",
              "\n",
              "          const docLinkHtml = 'Like what you see? Visit the ' +\n",
              "            '<a target=\"_blank\" href=https://colab.research.google.com/notebooks/data_table.ipynb>data table notebook</a>'\n",
              "            + ' to learn more about interactive tables.';\n",
              "          element.innerHTML = '';\n",
              "          dataTable['output_type'] = 'display_data';\n",
              "          await google.colab.output.renderOutput(dataTable, element);\n",
              "          const docLink = document.createElement('div');\n",
              "          docLink.innerHTML = docLinkHtml;\n",
              "          element.appendChild(docLink);\n",
              "        }\n",
              "      </script>\n",
              "    </div>\n",
              "  </div>\n",
              "  "
            ]
          },
          "metadata": {},
          "execution_count": 14
        }
      ]
    },
    {
      "cell_type": "markdown",
      "source": [
        "**\"label\" column**"
      ],
      "metadata": {
        "id": "BjK9M4NQFnc_"
      }
    },
    {
      "cell_type": "code",
      "source": [
        "#display label catigories & their counts\n",
        "df.label.value_counts()"
      ],
      "metadata": {
        "colab": {
          "base_uri": "https://localhost:8080/"
        },
        "id": "jkmqHE9pDuyH",
        "outputId": "a19301b6-9038-412c-c079-1ac8e33da2af"
      },
      "execution_count": null,
      "outputs": [
        {
          "output_type": "execute_result",
          "data": {
            "text/plain": [
              "0    51625\n",
              "1    17771\n",
              "Name: label, dtype: int64"
            ]
          },
          "metadata": {},
          "execution_count": 15
        }
      ]
    },
    {
      "cell_type": "code",
      "source": [
        "Real_news = df[df[\"label\"]==0].values\n",
        "fake_news = df[df[\"label\"]==1].values\n",
        "plt.bar(0,height=len(Real_news))\n",
        "plt.bar(1,height=len(fake_news))\n",
        "plt.xticks([0,1],[\"Real News\",\"Fake News\"])\n",
        "plt.ylabel(\"Counts\")\n",
        "plt.show()"
      ],
      "metadata": {
        "colab": {
          "base_uri": "https://localhost:8080/"
        },
        "id": "7YnlQJs_U_Uh",
        "outputId": "0bd925bf-da0c-4496-c88b-3fcb5662013f"
      },
      "execution_count": null,
      "outputs": [
        {
          "output_type": "display_data",
          "data": {
            "text/plain": [
              "<Figure size 720x360 with 1 Axes>"
            ],
            "image/png": "[encoded data removed]"
          },
          "metadata": {
            "needs_background": "light"
          }
        }
      ]
    },
    {
      "cell_type": "markdown",
      "source": [
        "**\"researched_by\" column**"
      ],
      "metadata": {
        "id": "7ES6NVhJEg__"
      }
    },
    {
      "cell_type": "code",
      "source": [
        "#display unique values\n",
        "df.researched_by.unique()"
      ],
      "metadata": {
        "colab": {
          "base_uri": "https://localhost:8080/"
        },
        "id": "I00kKmoRDu1D",
        "outputId": "f97be607-65b7-4a06-9362-a8753426a5c6"
      },
      "execution_count": null,
      "outputs": [
        {
          "output_type": "execute_result",
          "data": {
            "text/plain": [
              "array(['snopes', 'politifact', 'emergent'], dtype=object)"
            ]
          },
          "metadata": {},
          "execution_count": 17
        }
      ]
    },
    {
      "cell_type": "code",
      "source": [
        "#display value counts for each unique value\n",
        "df.researched_by.value_counts()"
      ],
      "metadata": {
        "colab": {
          "base_uri": "https://localhost:8080/"
        },
        "id": "Mc4VcQVJDu4W",
        "outputId": "2abe8b09-75f7-4000-caee-84840b56c0ae"
      },
      "execution_count": null,
      "outputs": [
        {
          "output_type": "execute_result",
          "data": {
            "text/plain": [
              "snopes        67285\n",
              "politifact     1460\n",
              "emergent        651\n",
              "Name: researched_by, dtype: int64"
            ]
          },
          "metadata": {},
          "execution_count": 18
        }
      ]
    },
    {
      "cell_type": "code",
      "source": [
        "#Plotting the frequency plot\n",
        "ax = sns.countplot(x=\"researched_by\", data=df,\n",
        "                   facecolor=(0, 0, 0, 0),\n",
        "                   linewidth=5,\n",
        "                   edgecolor=sns.color_palette(\"dark\", 3))\n",
        "\n",
        "#Setting labels and font size\n",
        "ax.set(xlabel='Type of fact-checking sites', ylabel='Number of news',title='Count of news checked by each site')\n",
        "ax.xaxis.get_label().set_fontsize(15)\n",
        "ax.yaxis.get_label().set_fontsize(15)"
      ],
      "metadata": {
        "colab": {
          "base_uri": "https://localhost:8080/"
        },
        "id": "M0GZrxG4tsjt",
        "outputId": "2aab8a5d-7990-4775-f9e5-568bc5e5783d"
      },
      "execution_count": null,
      "outputs": [
        {
          "output_type": "display_data",
          "data": {
            "text/plain": [
              "<Figure size 720x360 with 1 Axes>"
            ],
            "image/png": "[encoded data removed]"
          },
          "metadata": {
            "needs_background": "light"
          }
        }
      ]
    },
    {
      "cell_type": "code",
      "source": [
        "g = sns.catplot(x=\"researched_by\", col=\"label\",data=df, kind=\"count\",height=4, aspect=2)\n",
        "#Rotating the xlabels\n",
        "g.set_xticklabels(rotation=45);"
      ],
      "metadata": {
        "colab": {
          "base_uri": "https://localhost:8080/"
        },
        "id": "3N1DpCYmuwVx",
        "outputId": "8d2297d6-3dbc-445a-cede-0f5090344a6c"
      },
      "execution_count": null,
      "outputs": [
        {
          "output_type": "display_data",
          "data": {
            "text/plain": [
              "<Figure size 1152x288 with 2 Axes>"
            ],
            "image/png": "[encoded data removed]"
          },
          "metadata": {
            "needs_background": "light"
          }
        }
      ]
    },
    {
      "cell_type": "markdown",
      "source": [
        "#**1) Hypothesis Test Question**"
      ],
      "metadata": {
        "id": "BYWRa34nmjxl"
      }
    },
    {
      "cell_type": "markdown",
      "source": [
        "**The question is:** *Is the ratio of fake news in Emergent fact-checking site significantly higher than the ratio of fake news by all\n",
        "other fact-checking sites?*"
      ],
      "metadata": {
        "id": "qQH6dLQzwH-x"
      }
    },
    {
      "cell_type": "code",
      "source": [
        "#display the value counts of researched_by column\n",
        "df['researched_by'].value_counts()"
      ],
      "metadata": {
        "id": "d10tK1-8INkO",
        "colab": {
          "base_uri": "https://localhost:8080/"
        },
        "outputId": "74cb3fa8-c195-48f5-d784-ee23d9c6e2c9"
      },
      "execution_count": null,
      "outputs": [
        {
          "output_type": "execute_result",
          "data": {
            "text/plain": [
              "snopes        67285\n",
              "politifact     1460\n",
              "emergent        651\n",
              "Name: researched_by, dtype: int64"
            ]
          },
          "metadata": {},
          "execution_count": 21
        }
      ]
    },
    {
      "cell_type": "code",
      "source": [
        "import scipy.stats as stats\n",
        "\n",
        "stats.f_oneway(df['label'][df['researched_by'] == 'snopes'],\n",
        "               df['label'][df['researched_by'] == 'politifact'],\n",
        "               df['label'][df['researched_by'] == 'emergent'])"
      ],
      "metadata": {
        "colab": {
          "base_uri": "https://localhost:8080/"
        },
        "id": "5g-EgZWRHLCZ",
        "outputId": "3d692e28-b3cf-4b1a-ab1f-6450af0d5488"
      },
      "execution_count": null,
      "outputs": [
        {
          "output_type": "execute_result",
          "data": {
            "text/plain": [
              "F_onewayResult(statistic=89.8368765501599, pvalue=1.0833362861337408e-39)"
            ]
          },
          "metadata": {},
          "execution_count": 22
        }
      ]
    },
    {
      "cell_type": "markdown",
      "source": [
        "**H0:** the three means different are equal \n",
        "\n",
        "**H1:** the three means different are equal (Emergent fact-checking site significantly higher than the ratio of fake news by all\n",
        "other fact-checking sites)\n",
        "\n",
        "As pvalue is so small we should reject H0 (<.05)"
      ],
      "metadata": {
        "id": "n32VPIWLH_M6"
      }
    },
    {
      "cell_type": "markdown",
      "source": [
        "#**2) Regression Question (Predicting the number of user comments for each news)**\n",
        "We will extracte the length of comments of each news as a new feature, then used it as label to predict later the expected number of comments on each news and applied this through 2 scenarios:\n",
        "\n",
        "• **1:** Using the whole data ( 69396 rows) that has missing values in reddit_comments column assuming that the remained news have no comments (0).\n",
        "\n",
        "• **2:** Using part of the data that has comments on each news without the ones that has missing values assuming that their comments are missed, so delete them, and use that 5235 rows to train/test our model."
      ],
      "metadata": {
        "id": "a7-XvopBbuqt"
      }
    },
    {
      "cell_type": "markdown",
      "source": [
        "##**First scenario**\n"
      ],
      "metadata": {
        "id": "SWS5oe1eOhhC"
      }
    },
    {
      "cell_type": "markdown",
      "source": [
        "###**Columns preprocessing**"
      ],
      "metadata": {
        "id": "OIjvu5_S5wWZ"
      }
    },
    {
      "cell_type": "markdown",
      "metadata": {
        "id": "rPOTswAaY2yq"
      },
      "source": [
        "####**reddit_comments**"
      ]
    },
    {
      "cell_type": "code",
      "execution_count": null,
      "metadata": {
        "colab": {
          "base_uri": "https://localhost:8080/",
          "height": 206
        },
        "id": "5YTkqsnY2E9k",
        "outputId": "64b40ddd-f03b-45a6-ae68-fe07810ea337"
      },
      "outputs": [
        {
          "output_type": "execute_result",
          "data": {
            "text/plain": [
              "   label reddit_comments researched_by  \\\n",
              "0      0              []        snopes   \n",
              "1      1              []        snopes   \n",
              "2      0              []        snopes   \n",
              "3      1              []        snopes   \n",
              "4      1              []        snopes   \n",
              "\n",
              "                                                text  \\\n",
              "0  analyze videos growth watch videos growth sinc...   \n",
              "1  last week current administration missed point ...   \n",
              "2  email protected member male join date jul 2001...   \n",
              "3  urban outfitters sunk new low vintage kent sta...   \n",
              "4  santa goes many names santa claus st nick kris...   \n",
              "\n",
              "                                               title  \\\n",
              "0                                            vidinfo   \n",
              "1          editorial misinterpreted toon unpatriotic   \n",
              "2                       general health message board   \n",
              "3  urban outfitters sorry selling kent state swea...   \n",
              "4                                  story santa claus   \n",
              "\n",
              "                                                 url  \n",
              "0  http://www.vidinfo.org/video/67155269/jeremy-m...  \n",
              "1  http://pittnews.com/30440/archives/editorial-m...  \n",
              "2  http://www.healthboards.com/boards/general-hea...  \n",
              "3  http://gothamist.com/2014/09/15/urban_outfitte...  \n",
              "4  http://www.englishteachermelanie.com/canada-fu...  "
            ],
            "text/html": [
              "\n",
              "  <div id=\"df-0fb255b5-1f1e-4933-8bf7-37e783448c05\">\n",
              "    <div class=\"colab-df-container\">\n",
              "      <div>\n",
              "<style scoped>\n",
              "    .dataframe tbody tr th:only-of-type {\n",
              "        vertical-align: middle;\n",
              "    }\n",
              "\n",
              "    .dataframe tbody tr th {\n",
              "        vertical-align: top;\n",
              "    }\n",
              "\n",
              "    .dataframe thead th {\n",
              "        text-align: right;\n",
              "    }\n",
              "</style>\n",
              "<table border=\"1\" class=\"dataframe\">\n",
              "  <thead>\n",
              "    <tr style=\"text-align: right;\">\n",
              "      <th></th>\n",
              "      <th>label</th>\n",
              "      <th>reddit_comments</th>\n",
              "      <th>researched_by</th>\n",
              "      <th>text</th>\n",
              "      <th>title</th>\n",
              "      <th>url</th>\n",
              "    </tr>\n",
              "  </thead>\n",
              "  <tbody>\n",
              "    <tr>\n",
              "      <th>0</th>\n",
              "      <td>0</td>\n",
              "      <td>[]</td>\n",
              "      <td>snopes</td>\n",
              "      <td>analyze videos growth watch videos growth sinc...</td>\n",
              "      <td>vidinfo</td>\n",
              "      <td>http://www.vidinfo.org/video/67155269/jeremy-m...</td>\n",
              "    </tr>\n",
              "    <tr>\n",
              "      <th>1</th>\n",
              "      <td>1</td>\n",
              "      <td>[]</td>\n",
              "      <td>snopes</td>\n",
              "      <td>last week current administration missed point ...</td>\n",
              "      <td>editorial misinterpreted toon unpatriotic</td>\n",
              "      <td>http://pittnews.com/30440/archives/editorial-m...</td>\n",
              "    </tr>\n",
              "    <tr>\n",
              "      <th>2</th>\n",
              "      <td>0</td>\n",
              "      <td>[]</td>\n",
              "      <td>snopes</td>\n",
              "      <td>email protected member male join date jul 2001...</td>\n",
              "      <td>general health message board</td>\n",
              "      <td>http://www.healthboards.com/boards/general-hea...</td>\n",
              "    </tr>\n",
              "    <tr>\n",
              "      <th>3</th>\n",
              "      <td>1</td>\n",
              "      <td>[]</td>\n",
              "      <td>snopes</td>\n",
              "      <td>urban outfitters sunk new low vintage kent sta...</td>\n",
              "      <td>urban outfitters sorry selling kent state swea...</td>\n",
              "      <td>http://gothamist.com/2014/09/15/urban_outfitte...</td>\n",
              "    </tr>\n",
              "    <tr>\n",
              "      <th>4</th>\n",
              "      <td>1</td>\n",
              "      <td>[]</td>\n",
              "      <td>snopes</td>\n",
              "      <td>santa goes many names santa claus st nick kris...</td>\n",
              "      <td>story santa claus</td>\n",
              "      <td>http://www.englishteachermelanie.com/canada-fu...</td>\n",
              "    </tr>\n",
              "  </tbody>\n",
              "</table>\n",
              "</div>\n",
              "      <button class=\"colab-df-convert\" onclick=\"convertToInteractive('df-0fb255b5-1f1e-4933-8bf7-37e783448c05')\"\n",
              "              title=\"Convert this dataframe to an interactive table.\"\n",
              "              style=\"display:none;\">\n",
              "        \n",
              "  <svg xmlns=\"http://www.w3.org/2000/svg\" height=\"24px\"viewBox=\"0 0 24 24\"\n",
              "       width=\"24px\">\n",
              "    <path d=\"M0 0h24v24H0V0z\" fill=\"none\"/>\n",
              "    <path d=\"M18.56 5.44l.94 2.06.94-2.06 2.06-.94-2.06-.94-.94-2.06-.94 2.06-2.06.94zm-11 1L8.5 8.5l.94-2.06 2.06-.94-2.06-.94L8.5 2.5l-.94 2.06-2.06.94zm10 10l.94 2.06.94-2.06 2.06-.94-2.06-.94-.94-2.06-.94 2.06-2.06.94z\"/><path d=\"M17.41 7.96l-1.37-1.37c-.4-.4-.92-.59-1.43-.59-.52 0-1.04.2-1.43.59L10.3 9.45l-7.72 7.72c-.78.78-.78 2.05 0 2.83L4 21.41c.39.39.9.59 1.41.59.51 0 1.02-.2 1.41-.59l7.78-7.78 2.81-2.81c.8-.78.8-2.07 0-2.86zM5.41 20L4 18.59l7.72-7.72 1.47 1.35L5.41 20z\"/>\n",
              "  </svg>\n",
              "      </button>\n",
              "      \n",
              "  <style>\n",
              "    .colab-df-container {\n",
              "      display:flex;\n",
              "      flex-wrap:wrap;\n",
              "      gap: 12px;\n",
              "    }\n",
              "\n",
              "    .colab-df-convert {\n",
              "      background-color: #E8F0FE;\n",
              "      border: none;\n",
              "      border-radius: 50%;\n",
              "      cursor: pointer;\n",
              "      display: none;\n",
              "      fill: #1967D2;\n",
              "      height: 32px;\n",
              "      padding: 0 0 0 0;\n",
              "      width: 32px;\n",
              "    }\n",
              "\n",
              "    .colab-df-convert:hover {\n",
              "      background-color: #E2EBFA;\n",
              "      box-shadow: 0px 1px 2px rgba(60, 64, 67, 0.3), 0px 1px 3px 1px rgba(60, 64, 67, 0.15);\n",
              "      fill: #174EA6;\n",
              "    }\n",
              "\n",
              "    [theme=dark] .colab-df-convert {\n",
              "      background-color: #3B4455;\n",
              "      fill: #D2E3FC;\n",
              "    }\n",
              "\n",
              "    [theme=dark] .colab-df-convert:hover {\n",
              "      background-color: #434B5C;\n",
              "      box-shadow: 0px 1px 3px 1px rgba(0, 0, 0, 0.15);\n",
              "      filter: drop-shadow(0px 1px 2px rgba(0, 0, 0, 0.3));\n",
              "      fill: #FFFFFF;\n",
              "    }\n",
              "  </style>\n",
              "\n",
              "      <script>\n",
              "        const buttonEl =\n",
              "          document.querySelector('#df-0fb255b5-1f1e-4933-8bf7-37e783448c05 button.colab-df-convert');\n",
              "        buttonEl.style.display =\n",
              "          google.colab.kernel.accessAllowed ? 'block' : 'none';\n",
              "\n",
              "        async function convertToInteractive(key) {\n",
              "          const element = document.querySelector('#df-0fb255b5-1f1e-4933-8bf7-37e783448c05');\n",
              "          const dataTable =\n",
              "            await google.colab.kernel.invokeFunction('convertToInteractive',\n",
              "                                                     [key], {});\n",
              "          if (!dataTable) return;\n",
              "\n",
              "          const docLinkHtml = 'Like what you see? Visit the ' +\n",
              "            '<a target=\"_blank\" href=https://colab.research.google.com/notebooks/data_table.ipynb>data table notebook</a>'\n",
              "            + ' to learn more about interactive tables.';\n",
              "          element.innerHTML = '';\n",
              "          dataTable['output_type'] = 'display_data';\n",
              "          await google.colab.output.renderOutput(dataTable, element);\n",
              "          const docLink = document.createElement('div');\n",
              "          docLink.innerHTML = docLinkHtml;\n",
              "          element.appendChild(docLink);\n",
              "        }\n",
              "      </script>\n",
              "    </div>\n",
              "  </div>\n",
              "  "
            ]
          },
          "metadata": {},
          "execution_count": 23
        }
      ],
      "source": [
        "#drop missing values from reddit_comments creating new dataframe called(df2)\n",
        "df2=df.copy()\n",
        "df2.head()\n"
      ]
    },
    {
      "cell_type": "code",
      "execution_count": null,
      "metadata": {
        "id": "Ein7FgBL4kJV"
      },
      "outputs": [],
      "source": [
        "#extact the bodies & their lengths(number of comments on each news) from reddit_comments column\n",
        "bodies=[]\n",
        "lengths =[]\n",
        "for i in df2.index:\n",
        "  bodies.append([x['body'] for x in df2['reddit_comments'][i]])\n",
        "  lengths.append(len([x['body'] for x in df2['reddit_comments'][i]]))\n",
        "#adding the new columns to the dataframe\n",
        "df2['bodies']=bodies\n",
        "df2['lengths']=lengths "
      ]
    },
    {
      "cell_type": "code",
      "execution_count": null,
      "metadata": {
        "colab": {
          "base_uri": "https://localhost:8080/",
          "height": 371
        },
        "id": "g7KU9fH354uC",
        "outputId": "19be5cc5-779c-41f9-c066-4b1e8e423454"
      },
      "outputs": [
        {
          "output_type": "execute_result",
          "data": {
            "text/plain": [
              "       label                                    reddit_comments researched_by  \\\n",
              "69391      0  [{'created_utc': 1370998152, 'label': 0, 'auth...        snopes   \n",
              "69392      0                                                 []        snopes   \n",
              "69393      0                                                 []        snopes   \n",
              "69394      0                                                 []        snopes   \n",
              "69395      0  [{'created_utc': 1436457724, 'label': 0, 'auth...        snopes   \n",
              "\n",
              "                                                    text  \\\n",
              "69391  donate stuff 101 places clutter good book joy ...   \n",
              "69392  update 3272012 painting depicts obama burning ...   \n",
              "69393  take selena movie quiz need go back watch movi...   \n",
              "69394  robert well know love ya wants love do ray rob...   \n",
              "69395  children crayons marketed colorful characters ...   \n",
              "\n",
              "                                                   title  \\\n",
              "69391  donate stuff 101 places clutter good miss mini...   \n",
              "69392  finally obama original birth certificate surfaces   \n",
              "69393                       selena quintanilla news 2014   \n",
              "69394                tropes q z  everybody loves raymond   \n",
              "69395                            child coloring asbestos   \n",
              "\n",
              "                                                     url  \\\n",
              "69391  http://www.missminimalist.com/2011/04/where-to...   \n",
              "69392  http://geopolitics.co/2012/03/21/finally-obama...   \n",
              "69393               http://loveselena.com/News/2014.html   \n",
              "69394  http://tvtropes.org/pmwiki/pmwiki.php/Everybod...   \n",
              "69395  http://www.scientificamerican.com/article/is-y...   \n",
              "\n",
              "                                                  bodies  lengths  \n",
              "69391  [great post im hoping obtain minimal lifestyle...        8  \n",
              "69392                                                 []        0  \n",
              "69393                                                 []        0  \n",
              "69394                                                 []        0  \n",
              "69395  [deleted, whether airborne not exposure asbest...        2  "
            ],
            "text/html": [
              "\n",
              "  <div id=\"df-12bebaa1-5562-4a12-8806-abf9ffd90433\">\n",
              "    <div class=\"colab-df-container\">\n",
              "      <div>\n",
              "<style scoped>\n",
              "    .dataframe tbody tr th:only-of-type {\n",
              "        vertical-align: middle;\n",
              "    }\n",
              "\n",
              "    .dataframe tbody tr th {\n",
              "        vertical-align: top;\n",
              "    }\n",
              "\n",
              "    .dataframe thead th {\n",
              "        text-align: right;\n",
              "    }\n",
              "</style>\n",
              "<table border=\"1\" class=\"dataframe\">\n",
              "  <thead>\n",
              "    <tr style=\"text-align: right;\">\n",
              "      <th></th>\n",
              "      <th>label</th>\n",
              "      <th>reddit_comments</th>\n",
              "      <th>researched_by</th>\n",
              "      <th>text</th>\n",
              "      <th>title</th>\n",
              "      <th>url</th>\n",
              "      <th>bodies</th>\n",
              "      <th>lengths</th>\n",
              "    </tr>\n",
              "  </thead>\n",
              "  <tbody>\n",
              "    <tr>\n",
              "      <th>69391</th>\n",
              "      <td>0</td>\n",
              "      <td>[{'created_utc': 1370998152, 'label': 0, 'auth...</td>\n",
              "      <td>snopes</td>\n",
              "      <td>donate stuff 101 places clutter good book joy ...</td>\n",
              "      <td>donate stuff 101 places clutter good miss mini...</td>\n",
              "      <td>http://www.missminimalist.com/2011/04/where-to...</td>\n",
              "      <td>[great post im hoping obtain minimal lifestyle...</td>\n",
              "      <td>8</td>\n",
              "    </tr>\n",
              "    <tr>\n",
              "      <th>69392</th>\n",
              "      <td>0</td>\n",
              "      <td>[]</td>\n",
              "      <td>snopes</td>\n",
              "      <td>update 3272012 painting depicts obama burning ...</td>\n",
              "      <td>finally obama original birth certificate surfaces</td>\n",
              "      <td>http://geopolitics.co/2012/03/21/finally-obama...</td>\n",
              "      <td>[]</td>\n",
              "      <td>0</td>\n",
              "    </tr>\n",
              "    <tr>\n",
              "      <th>69393</th>\n",
              "      <td>0</td>\n",
              "      <td>[]</td>\n",
              "      <td>snopes</td>\n",
              "      <td>take selena movie quiz need go back watch movi...</td>\n",
              "      <td>selena quintanilla news 2014</td>\n",
              "      <td>http://loveselena.com/News/2014.html</td>\n",
              "      <td>[]</td>\n",
              "      <td>0</td>\n",
              "    </tr>\n",
              "    <tr>\n",
              "      <th>69394</th>\n",
              "      <td>0</td>\n",
              "      <td>[]</td>\n",
              "      <td>snopes</td>\n",
              "      <td>robert well know love ya wants love do ray rob...</td>\n",
              "      <td>tropes q z  everybody loves raymond</td>\n",
              "      <td>http://tvtropes.org/pmwiki/pmwiki.php/Everybod...</td>\n",
              "      <td>[]</td>\n",
              "      <td>0</td>\n",
              "    </tr>\n",
              "    <tr>\n",
              "      <th>69395</th>\n",
              "      <td>0</td>\n",
              "      <td>[{'created_utc': 1436457724, 'label': 0, 'auth...</td>\n",
              "      <td>snopes</td>\n",
              "      <td>children crayons marketed colorful characters ...</td>\n",
              "      <td>child coloring asbestos</td>\n",
              "      <td>http://www.scientificamerican.com/article/is-y...</td>\n",
              "      <td>[deleted, whether airborne not exposure asbest...</td>\n",
              "      <td>2</td>\n",
              "    </tr>\n",
              "  </tbody>\n",
              "</table>\n",
              "</div>\n",
              "      <button class=\"colab-df-convert\" onclick=\"convertToInteractive('df-12bebaa1-5562-4a12-8806-abf9ffd90433')\"\n",
              "              title=\"Convert this dataframe to an interactive table.\"\n",
              "              style=\"display:none;\">\n",
              "        \n",
              "  <svg xmlns=\"http://www.w3.org/2000/svg\" height=\"24px\"viewBox=\"0 0 24 24\"\n",
              "       width=\"24px\">\n",
              "    <path d=\"M0 0h24v24H0V0z\" fill=\"none\"/>\n",
              "    <path d=\"M18.56 5.44l.94 2.06.94-2.06 2.06-.94-2.06-.94-.94-2.06-.94 2.06-2.06.94zm-11 1L8.5 8.5l.94-2.06 2.06-.94-2.06-.94L8.5 2.5l-.94 2.06-2.06.94zm10 10l.94 2.06.94-2.06 2.06-.94-2.06-.94-.94-2.06-.94 2.06-2.06.94z\"/><path d=\"M17.41 7.96l-1.37-1.37c-.4-.4-.92-.59-1.43-.59-.52 0-1.04.2-1.43.59L10.3 9.45l-7.72 7.72c-.78.78-.78 2.05 0 2.83L4 21.41c.39.39.9.59 1.41.59.51 0 1.02-.2 1.41-.59l7.78-7.78 2.81-2.81c.8-.78.8-2.07 0-2.86zM5.41 20L4 18.59l7.72-7.72 1.47 1.35L5.41 20z\"/>\n",
              "  </svg>\n",
              "      </button>\n",
              "      \n",
              "  <style>\n",
              "    .colab-df-container {\n",
              "      display:flex;\n",
              "      flex-wrap:wrap;\n",
              "      gap: 12px;\n",
              "    }\n",
              "\n",
              "    .colab-df-convert {\n",
              "      background-color: #E8F0FE;\n",
              "      border: none;\n",
              "      border-radius: 50%;\n",
              "      cursor: pointer;\n",
              "      display: none;\n",
              "      fill: #1967D2;\n",
              "      height: 32px;\n",
              "      padding: 0 0 0 0;\n",
              "      width: 32px;\n",
              "    }\n",
              "\n",
              "    .colab-df-convert:hover {\n",
              "      background-color: #E2EBFA;\n",
              "      box-shadow: 0px 1px 2px rgba(60, 64, 67, 0.3), 0px 1px 3px 1px rgba(60, 64, 67, 0.15);\n",
              "      fill: #174EA6;\n",
              "    }\n",
              "\n",
              "    [theme=dark] .colab-df-convert {\n",
              "      background-color: #3B4455;\n",
              "      fill: #D2E3FC;\n",
              "    }\n",
              "\n",
              "    [theme=dark] .colab-df-convert:hover {\n",
              "      background-color: #434B5C;\n",
              "      box-shadow: 0px 1px 3px 1px rgba(0, 0, 0, 0.15);\n",
              "      filter: drop-shadow(0px 1px 2px rgba(0, 0, 0, 0.3));\n",
              "      fill: #FFFFFF;\n",
              "    }\n",
              "  </style>\n",
              "\n",
              "      <script>\n",
              "        const buttonEl =\n",
              "          document.querySelector('#df-12bebaa1-5562-4a12-8806-abf9ffd90433 button.colab-df-convert');\n",
              "        buttonEl.style.display =\n",
              "          google.colab.kernel.accessAllowed ? 'block' : 'none';\n",
              "\n",
              "        async function convertToInteractive(key) {\n",
              "          const element = document.querySelector('#df-12bebaa1-5562-4a12-8806-abf9ffd90433');\n",
              "          const dataTable =\n",
              "            await google.colab.kernel.invokeFunction('convertToInteractive',\n",
              "                                                     [key], {});\n",
              "          if (!dataTable) return;\n",
              "\n",
              "          const docLinkHtml = 'Like what you see? Visit the ' +\n",
              "            '<a target=\"_blank\" href=https://colab.research.google.com/notebooks/data_table.ipynb>data table notebook</a>'\n",
              "            + ' to learn more about interactive tables.';\n",
              "          element.innerHTML = '';\n",
              "          dataTable['output_type'] = 'display_data';\n",
              "          await google.colab.output.renderOutput(dataTable, element);\n",
              "          const docLink = document.createElement('div');\n",
              "          docLink.innerHTML = docLinkHtml;\n",
              "          element.appendChild(docLink);\n",
              "        }\n",
              "      </script>\n",
              "    </div>\n",
              "  </div>\n",
              "  "
            ]
          },
          "metadata": {},
          "execution_count": 25
        }
      ],
      "source": [
        "df2.tail()"
      ]
    },
    {
      "cell_type": "code",
      "execution_count": null,
      "metadata": {
        "id": "JZ3QU-_0hnC-"
      },
      "outputs": [],
      "source": [
        "#remove the unwanted strings and empty bodies(deleted)\n",
        "unwanted_strings=['       ','        ',\"\",\" \",\"deleted\",\"nan\"]\n",
        "for i in df2.index:\n",
        "  df2['bodies'][i] = [x for x in df2['bodies'][i] if x not in unwanted_strings]"
      ]
    },
    {
      "cell_type": "code",
      "source": [
        "#recalculate the number of comments(lengths) after removing the unwanted strings & empty comments(deleted)\n",
        "for i in df2.index:\n",
        "  df2['lengths'][i]=len([x for x in df2['bodies'][i]])"
      ],
      "metadata": {
        "id": "kDyrjedvQ_cn"
      },
      "execution_count": null,
      "outputs": []
    },
    {
      "cell_type": "code",
      "execution_count": null,
      "metadata": {
        "colab": {
          "base_uri": "https://localhost:8080/",
          "height": 371
        },
        "id": "btJ3Qo-lhnGf",
        "outputId": "fed50aa8-86ee-450b-f9b3-fd57d1b149fb"
      },
      "outputs": [
        {
          "output_type": "execute_result",
          "data": {
            "text/plain": [
              "       label                                    reddit_comments researched_by  \\\n",
              "69391      0  [{'created_utc': 1370998152, 'label': 0, 'auth...        snopes   \n",
              "69392      0                                                 []        snopes   \n",
              "69393      0                                                 []        snopes   \n",
              "69394      0                                                 []        snopes   \n",
              "69395      0  [{'created_utc': 1436457724, 'label': 0, 'auth...        snopes   \n",
              "\n",
              "                                                    text  \\\n",
              "69391  donate stuff 101 places clutter good book joy ...   \n",
              "69392  update 3272012 painting depicts obama burning ...   \n",
              "69393  take selena movie quiz need go back watch movi...   \n",
              "69394  robert well know love ya wants love do ray rob...   \n",
              "69395  children crayons marketed colorful characters ...   \n",
              "\n",
              "                                                   title  \\\n",
              "69391  donate stuff 101 places clutter good miss mini...   \n",
              "69392  finally obama original birth certificate surfaces   \n",
              "69393                       selena quintanilla news 2014   \n",
              "69394                tropes q z  everybody loves raymond   \n",
              "69395                            child coloring asbestos   \n",
              "\n",
              "                                                     url  \\\n",
              "69391  http://www.missminimalist.com/2011/04/where-to...   \n",
              "69392  http://geopolitics.co/2012/03/21/finally-obama...   \n",
              "69393               http://loveselena.com/News/2014.html   \n",
              "69394  http://tvtropes.org/pmwiki/pmwiki.php/Everybod...   \n",
              "69395  http://www.scientificamerican.com/article/is-y...   \n",
              "\n",
              "                                                  bodies  lengths  \n",
              "69391  [great post im hoping obtain minimal lifestyle...        7  \n",
              "69392                                                 []        0  \n",
              "69393                                                 []        0  \n",
              "69394                                                 []        0  \n",
              "69395  [whether airborne not exposure asbestos child ...        1  "
            ],
            "text/html": [
              "\n",
              "  <div id=\"df-cf1b688e-459f-4e6f-9cda-4e8582f8a16d\">\n",
              "    <div class=\"colab-df-container\">\n",
              "      <div>\n",
              "<style scoped>\n",
              "    .dataframe tbody tr th:only-of-type {\n",
              "        vertical-align: middle;\n",
              "    }\n",
              "\n",
              "    .dataframe tbody tr th {\n",
              "        vertical-align: top;\n",
              "    }\n",
              "\n",
              "    .dataframe thead th {\n",
              "        text-align: right;\n",
              "    }\n",
              "</style>\n",
              "<table border=\"1\" class=\"dataframe\">\n",
              "  <thead>\n",
              "    <tr style=\"text-align: right;\">\n",
              "      <th></th>\n",
              "      <th>label</th>\n",
              "      <th>reddit_comments</th>\n",
              "      <th>researched_by</th>\n",
              "      <th>text</th>\n",
              "      <th>title</th>\n",
              "      <th>url</th>\n",
              "      <th>bodies</th>\n",
              "      <th>lengths</th>\n",
              "    </tr>\n",
              "  </thead>\n",
              "  <tbody>\n",
              "    <tr>\n",
              "      <th>69391</th>\n",
              "      <td>0</td>\n",
              "      <td>[{'created_utc': 1370998152, 'label': 0, 'auth...</td>\n",
              "      <td>snopes</td>\n",
              "      <td>donate stuff 101 places clutter good book joy ...</td>\n",
              "      <td>donate stuff 101 places clutter good miss mini...</td>\n",
              "      <td>http://www.missminimalist.com/2011/04/where-to...</td>\n",
              "      <td>[great post im hoping obtain minimal lifestyle...</td>\n",
              "      <td>7</td>\n",
              "    </tr>\n",
              "    <tr>\n",
              "      <th>69392</th>\n",
              "      <td>0</td>\n",
              "      <td>[]</td>\n",
              "      <td>snopes</td>\n",
              "      <td>update 3272012 painting depicts obama burning ...</td>\n",
              "      <td>finally obama original birth certificate surfaces</td>\n",
              "      <td>http://geopolitics.co/2012/03/21/finally-obama...</td>\n",
              "      <td>[]</td>\n",
              "      <td>0</td>\n",
              "    </tr>\n",
              "    <tr>\n",
              "      <th>69393</th>\n",
              "      <td>0</td>\n",
              "      <td>[]</td>\n",
              "      <td>snopes</td>\n",
              "      <td>take selena movie quiz need go back watch movi...</td>\n",
              "      <td>selena quintanilla news 2014</td>\n",
              "      <td>http://loveselena.com/News/2014.html</td>\n",
              "      <td>[]</td>\n",
              "      <td>0</td>\n",
              "    </tr>\n",
              "    <tr>\n",
              "      <th>69394</th>\n",
              "      <td>0</td>\n",
              "      <td>[]</td>\n",
              "      <td>snopes</td>\n",
              "      <td>robert well know love ya wants love do ray rob...</td>\n",
              "      <td>tropes q z  everybody loves raymond</td>\n",
              "      <td>http://tvtropes.org/pmwiki/pmwiki.php/Everybod...</td>\n",
              "      <td>[]</td>\n",
              "      <td>0</td>\n",
              "    </tr>\n",
              "    <tr>\n",
              "      <th>69395</th>\n",
              "      <td>0</td>\n",
              "      <td>[{'created_utc': 1436457724, 'label': 0, 'auth...</td>\n",
              "      <td>snopes</td>\n",
              "      <td>children crayons marketed colorful characters ...</td>\n",
              "      <td>child coloring asbestos</td>\n",
              "      <td>http://www.scientificamerican.com/article/is-y...</td>\n",
              "      <td>[whether airborne not exposure asbestos child ...</td>\n",
              "      <td>1</td>\n",
              "    </tr>\n",
              "  </tbody>\n",
              "</table>\n",
              "</div>\n",
              "      <button class=\"colab-df-convert\" onclick=\"convertToInteractive('df-cf1b688e-459f-4e6f-9cda-4e8582f8a16d')\"\n",
              "              title=\"Convert this dataframe to an interactive table.\"\n",
              "              style=\"display:none;\">\n",
              "        \n",
              "  <svg xmlns=\"http://www.w3.org/2000/svg\" height=\"24px\"viewBox=\"0 0 24 24\"\n",
              "       width=\"24px\">\n",
              "    <path d=\"M0 0h24v24H0V0z\" fill=\"none\"/>\n",
              "    <path d=\"M18.56 5.44l.94 2.06.94-2.06 2.06-.94-2.06-.94-.94-2.06-.94 2.06-2.06.94zm-11 1L8.5 8.5l.94-2.06 2.06-.94-2.06-.94L8.5 2.5l-.94 2.06-2.06.94zm10 10l.94 2.06.94-2.06 2.06-.94-2.06-.94-.94-2.06-.94 2.06-2.06.94z\"/><path d=\"M17.41 7.96l-1.37-1.37c-.4-.4-.92-.59-1.43-.59-.52 0-1.04.2-1.43.59L10.3 9.45l-7.72 7.72c-.78.78-.78 2.05 0 2.83L4 21.41c.39.39.9.59 1.41.59.51 0 1.02-.2 1.41-.59l7.78-7.78 2.81-2.81c.8-.78.8-2.07 0-2.86zM5.41 20L4 18.59l7.72-7.72 1.47 1.35L5.41 20z\"/>\n",
              "  </svg>\n",
              "      </button>\n",
              "      \n",
              "  <style>\n",
              "    .colab-df-container {\n",
              "      display:flex;\n",
              "      flex-wrap:wrap;\n",
              "      gap: 12px;\n",
              "    }\n",
              "\n",
              "    .colab-df-convert {\n",
              "      background-color: #E8F0FE;\n",
              "      border: none;\n",
              "      border-radius: 50%;\n",
              "      cursor: pointer;\n",
              "      display: none;\n",
              "      fill: #1967D2;\n",
              "      height: 32px;\n",
              "      padding: 0 0 0 0;\n",
              "      width: 32px;\n",
              "    }\n",
              "\n",
              "    .colab-df-convert:hover {\n",
              "      background-color: #E2EBFA;\n",
              "      box-shadow: 0px 1px 2px rgba(60, 64, 67, 0.3), 0px 1px 3px 1px rgba(60, 64, 67, 0.15);\n",
              "      fill: #174EA6;\n",
              "    }\n",
              "\n",
              "    [theme=dark] .colab-df-convert {\n",
              "      background-color: #3B4455;\n",
              "      fill: #D2E3FC;\n",
              "    }\n",
              "\n",
              "    [theme=dark] .colab-df-convert:hover {\n",
              "      background-color: #434B5C;\n",
              "      box-shadow: 0px 1px 3px 1px rgba(0, 0, 0, 0.15);\n",
              "      filter: drop-shadow(0px 1px 2px rgba(0, 0, 0, 0.3));\n",
              "      fill: #FFFFFF;\n",
              "    }\n",
              "  </style>\n",
              "\n",
              "      <script>\n",
              "        const buttonEl =\n",
              "          document.querySelector('#df-cf1b688e-459f-4e6f-9cda-4e8582f8a16d button.colab-df-convert');\n",
              "        buttonEl.style.display =\n",
              "          google.colab.kernel.accessAllowed ? 'block' : 'none';\n",
              "\n",
              "        async function convertToInteractive(key) {\n",
              "          const element = document.querySelector('#df-cf1b688e-459f-4e6f-9cda-4e8582f8a16d');\n",
              "          const dataTable =\n",
              "            await google.colab.kernel.invokeFunction('convertToInteractive',\n",
              "                                                     [key], {});\n",
              "          if (!dataTable) return;\n",
              "\n",
              "          const docLinkHtml = 'Like what you see? Visit the ' +\n",
              "            '<a target=\"_blank\" href=https://colab.research.google.com/notebooks/data_table.ipynb>data table notebook</a>'\n",
              "            + ' to learn more about interactive tables.';\n",
              "          element.innerHTML = '';\n",
              "          dataTable['output_type'] = 'display_data';\n",
              "          await google.colab.output.renderOutput(dataTable, element);\n",
              "          const docLink = document.createElement('div');\n",
              "          docLink.innerHTML = docLinkHtml;\n",
              "          element.appendChild(docLink);\n",
              "        }\n",
              "      </script>\n",
              "    </div>\n",
              "  </div>\n",
              "  "
            ]
          },
          "metadata": {},
          "execution_count": 28
        }
      ],
      "source": [
        "df2.tail()"
      ]
    },
    {
      "cell_type": "code",
      "execution_count": null,
      "metadata": {
        "colab": {
          "base_uri": "https://localhost:8080/",
          "height": 320
        },
        "id": "JuSyiKuFpGeW",
        "outputId": "dc5ad35b-4fa4-44ea-bd2c-2c6a62bf14f5"
      },
      "outputs": [
        {
          "output_type": "display_data",
          "data": {
            "text/plain": [
              "<Figure size 720x360 with 1 Axes>"
            ],
            "image/png": "[encoded data removed]"
          },
          "metadata": {
            "needs_background": "light"
          }
        }
      ],
      "source": [
        "#display the distribution of number of comments per each news\n",
        "df2['lengths'].hist();"
      ]
    },
    {
      "cell_type": "markdown",
      "metadata": {
        "id": "7bCDGGiQcI4U"
      },
      "source": [
        "####**url**\n"
      ]
    },
    {
      "cell_type": "code",
      "execution_count": null,
      "metadata": {
        "id": "yWSyZyBUcP-X"
      },
      "outputs": [],
      "source": [
        "#The URL parsing functions to split a URL string into its components\n",
        "from urllib.parse import urlparse\n",
        "df2['clean_url'] = df2['url'].astype('str').apply(lambda x: urlparse(x)[1])"
      ]
    },
    {
      "cell_type": "code",
      "execution_count": null,
      "metadata": {
        "colab": {
          "base_uri": "https://localhost:8080/"
        },
        "id": "pTlZn0M3cP7U",
        "outputId": "4174a6b3-8427-4d5e-a7e7-83a37a6106e9"
      },
      "outputs": [
        {
          "output_type": "execute_result",
          "data": {
            "text/plain": [
              "0                      www vidinfo org\n",
              "1                         pittnews com\n",
              "2                 www healthboards com\n",
              "3                        gothamist com\n",
              "4        www englishteachermelanie com\n",
              "                     ...              \n",
              "69391           www missminimalist com\n",
              "69392                   geopolitics co\n",
              "69393                   loveselena com\n",
              "69394                     tvtropes org\n",
              "69395       www scientificamerican com\n",
              "Name: clean_url, Length: 69396, dtype: object"
            ]
          },
          "metadata": {},
          "execution_count": 31
        }
      ],
      "source": [
        "#remove the dot character\n",
        "for i in df2.index:\n",
        "  df2['clean_url'][i]=df2['clean_url'][i].replace('.' , ' ')\n",
        "df2['clean_url']"
      ]
    },
    {
      "cell_type": "markdown",
      "metadata": {
        "id": "mtcYdp1tzV16"
      },
      "source": [
        "####**title**"
      ]
    },
    {
      "cell_type": "code",
      "execution_count": null,
      "metadata": {
        "colab": {
          "base_uri": "https://localhost:8080/"
        },
        "id": "tMG4wbA5zWyp",
        "outputId": "a68d0d61-8cfc-4685-cfa1-3c1c6ce047d7"
      },
      "outputs": [
        {
          "output_type": "stream",
          "name": "stderr",
          "text": [
            "[nltk_data] Downloading package punkt to /root/nltk_data...\n",
            "[nltk_data]   Unzipping tokenizers/punkt.zip.\n",
            "[nltk_data] Downloading package stopwords to /root/nltk_data...\n",
            "[nltk_data]   Unzipping corpora/stopwords.zip.\n"
          ]
        }
      ],
      "source": [
        "#Building function for Cleaning any passed text\n",
        "nltk.download('punkt')\n",
        "nltk.download('stopwords')\n",
        "\n",
        "stemmer = SnowballStemmer(\"english\")\n",
        "stop_words = set(stopwords.words(\"english\"))\n",
        "\n",
        "\n",
        "def clean_text(text, for_embedding=False):\n",
        "    \"\"\" steps:\n",
        "        - remove any html tags (< /br> often found)\n",
        "        - Keep only ASCII + European Chars and whitespace, no digits\n",
        "        - remove single letter chars\n",
        "        - convert all whitespaces (tabs etc.) to single wspace\n",
        "        if not for embedding (but e.g. tdf-idf):\n",
        "        - all lowercase\n",
        "        - remove stopwords, punctuation and stemm\n",
        "    \"\"\"\n",
        "    RE_WSPACE = re.compile(r\"\\s+\", re.IGNORECASE)\n",
        "    RE_TAGS = re.compile(r\"<[^>]+>\")\n",
        "    RE_ASCII = re.compile(r\"[^A-Za-zÀ-ž ]\", re.IGNORECASE)\n",
        "    RE_SINGLECHAR = re.compile(r\"\\b[A-Za-zÀ-ž]\\b\", re.IGNORECASE)\n",
        "\n",
        "    if for_embedding:\n",
        "        # Keep punctuation\n",
        "        RE_ASCII = re.compile(r\"[^A-Za-zÀ-ž,.!? ]\", re.IGNORECASE)\n",
        "        RE_SINGLECHAR = re.compile(r\"\\b[A-Za-zÀ-ž,.!?]\\b\", re.IGNORECASE)\n",
        "    text = re.sub(RE_TAGS, \" \", text)\n",
        "    text = re.sub(RE_ASCII, \" \", text)\n",
        "    text = re.sub(RE_SINGLECHAR, \" \", text)\n",
        "    text = re.sub(RE_WSPACE, \" \", text)\n",
        "\n",
        "    word_tokens = word_tokenize(text)\n",
        "    words_tokens_lower = [word.lower() for word in word_tokens]\n",
        "\n",
        "    if for_embedding:\n",
        "        # no stemming, lowering and punctuation / stop words removal\n",
        "        words_filtered = word_tokens\n",
        "    else:\n",
        "        words_filtered = [\n",
        "            stemmer.stem(word) for word in words_tokens_lower if word not in stop_words\n",
        "        ]\n",
        "\n",
        "    clean_text = \" \".join(words_filtered)\n",
        "    return clean_text"
      ]
    },
    {
      "cell_type": "code",
      "execution_count": null,
      "metadata": {
        "colab": {
          "base_uri": "https://localhost:8080/"
        },
        "id": "kSwIdGtFzytF",
        "outputId": "acb6999d-e293-4e82-bfd8-2c0c4425e1d3"
      },
      "outputs": [
        {
          "output_type": "stream",
          "name": "stdout",
          "text": [
            "CPU times: user 13.2 s, sys: 7.49 ms, total: 13.2 s\n",
            "Wall time: 13.2 s\n"
          ]
        }
      ],
      "source": [
        "#applying the first cleaning function on title column \n",
        "#and put the output of this cleaning process in new column(\"clean_title\")\n",
        "%%time\n",
        "# Clean text in train data (1.45 s)\n",
        "df2[\"clean_title\"] = df2.loc[df2[\"title\"].str.len() > 0, \"title\"]\n",
        "df2[\"clean_title\"] = df2[\"clean_title\"].map(lambda x: clean_text(x, for_embedding=False) if isinstance(x, str) else x)\n",
        "df2['clean_title']=df2['clean_title'].replace(np.nan , \" \" )"
      ]
    },
    {
      "cell_type": "code",
      "execution_count": null,
      "metadata": {
        "colab": {
          "base_uri": "https://localhost:8080/"
        },
        "id": "Y0wZ443i3P_0",
        "outputId": "6b5820ab-7999-4ff2-baa3-56a262b8760a"
      },
      "outputs": [
        {
          "output_type": "execute_result",
          "data": {
            "text/plain": [
              "   label reddit_comments researched_by  \\\n",
              "0      0              []        snopes   \n",
              "1      1              []        snopes   \n",
              "2      0              []        snopes   \n",
              "3      1              []        snopes   \n",
              "4      1              []        snopes   \n",
              "\n",
              "                                                text  \\\n",
              "0  analyze videos growth watch videos growth sinc...   \n",
              "1  last week current administration missed point ...   \n",
              "2  email protected member male join date jul 2001...   \n",
              "3  urban outfitters sunk new low vintage kent sta...   \n",
              "4  santa goes many names santa claus st nick kris...   \n",
              "\n",
              "                                               title  \\\n",
              "0                                            vidinfo   \n",
              "1          editorial misinterpreted toon unpatriotic   \n",
              "2                       general health message board   \n",
              "3  urban outfitters sorry selling kent state swea...   \n",
              "4                                  story santa claus   \n",
              "\n",
              "                                                 url bodies  lengths  \\\n",
              "0  http://www.vidinfo.org/video/67155269/jeremy-m...     []        0   \n",
              "1  http://pittnews.com/30440/archives/editorial-m...     []        0   \n",
              "2  http://www.healthboards.com/boards/general-hea...     []        0   \n",
              "3  http://gothamist.com/2014/09/15/urban_outfitte...     []        0   \n",
              "4  http://www.englishteachermelanie.com/canada-fu...     []        0   \n",
              "\n",
              "                       clean_url  \\\n",
              "0                www vidinfo org   \n",
              "1                   pittnews com   \n",
              "2           www healthboards com   \n",
              "3                  gothamist com   \n",
              "4  www englishteachermelanie com   \n",
              "\n",
              "                                         clean_title  \n",
              "0                                            vidinfo  \n",
              "1                editori misinterpret toon unpatriot  \n",
              "2                        general health messag board  \n",
              "3  urban outfitt sorri sell kent state sweatshirt...  \n",
              "4                                  stori santa claus  "
            ],
            "text/html": [
              "\n",
              "  <div id=\"df-64ac3931-5c7b-4cdd-8dd4-37bef0bbb160\">\n",
              "    <div class=\"colab-df-container\">\n",
              "      <div>\n",
              "<style scoped>\n",
              "    .dataframe tbody tr th:only-of-type {\n",
              "        vertical-align: middle;\n",
              "    }\n",
              "\n",
              "    .dataframe tbody tr th {\n",
              "        vertical-align: top;\n",
              "    }\n",
              "\n",
              "    .dataframe thead th {\n",
              "        text-align: right;\n",
              "    }\n",
              "</style>\n",
              "<table border=\"1\" class=\"dataframe\">\n",
              "  <thead>\n",
              "    <tr style=\"text-align: right;\">\n",
              "      <th></th>\n",
              "      <th>label</th>\n",
              "      <th>reddit_comments</th>\n",
              "      <th>researched_by</th>\n",
              "      <th>text</th>\n",
              "      <th>title</th>\n",
              "      <th>url</th>\n",
              "      <th>bodies</th>\n",
              "      <th>lengths</th>\n",
              "      <th>clean_url</th>\n",
              "      <th>clean_title</th>\n",
              "    </tr>\n",
              "  </thead>\n",
              "  <tbody>\n",
              "    <tr>\n",
              "      <th>0</th>\n",
              "      <td>0</td>\n",
              "      <td>[]</td>\n",
              "      <td>snopes</td>\n",
              "      <td>analyze videos growth watch videos growth sinc...</td>\n",
              "      <td>vidinfo</td>\n",
              "      <td>http://www.vidinfo.org/video/67155269/jeremy-m...</td>\n",
              "      <td>[]</td>\n",
              "      <td>0</td>\n",
              "      <td>www vidinfo org</td>\n",
              "      <td>vidinfo</td>\n",
              "    </tr>\n",
              "    <tr>\n",
              "      <th>1</th>\n",
              "      <td>1</td>\n",
              "      <td>[]</td>\n",
              "      <td>snopes</td>\n",
              "      <td>last week current administration missed point ...</td>\n",
              "      <td>editorial misinterpreted toon unpatriotic</td>\n",
              "      <td>http://pittnews.com/30440/archives/editorial-m...</td>\n",
              "      <td>[]</td>\n",
              "      <td>0</td>\n",
              "      <td>pittnews com</td>\n",
              "      <td>editori misinterpret toon unpatriot</td>\n",
              "    </tr>\n",
              "    <tr>\n",
              "      <th>2</th>\n",
              "      <td>0</td>\n",
              "      <td>[]</td>\n",
              "      <td>snopes</td>\n",
              "      <td>email protected member male join date jul 2001...</td>\n",
              "      <td>general health message board</td>\n",
              "      <td>http://www.healthboards.com/boards/general-hea...</td>\n",
              "      <td>[]</td>\n",
              "      <td>0</td>\n",
              "      <td>www healthboards com</td>\n",
              "      <td>general health messag board</td>\n",
              "    </tr>\n",
              "    <tr>\n",
              "      <th>3</th>\n",
              "      <td>1</td>\n",
              "      <td>[]</td>\n",
              "      <td>snopes</td>\n",
              "      <td>urban outfitters sunk new low vintage kent sta...</td>\n",
              "      <td>urban outfitters sorry selling kent state swea...</td>\n",
              "      <td>http://gothamist.com/2014/09/15/urban_outfitte...</td>\n",
              "      <td>[]</td>\n",
              "      <td>0</td>\n",
              "      <td>gothamist com</td>\n",
              "      <td>urban outfitt sorri sell kent state sweatshirt...</td>\n",
              "    </tr>\n",
              "    <tr>\n",
              "      <th>4</th>\n",
              "      <td>1</td>\n",
              "      <td>[]</td>\n",
              "      <td>snopes</td>\n",
              "      <td>santa goes many names santa claus st nick kris...</td>\n",
              "      <td>story santa claus</td>\n",
              "      <td>http://www.englishteachermelanie.com/canada-fu...</td>\n",
              "      <td>[]</td>\n",
              "      <td>0</td>\n",
              "      <td>www englishteachermelanie com</td>\n",
              "      <td>stori santa claus</td>\n",
              "    </tr>\n",
              "  </tbody>\n",
              "</table>\n",
              "</div>\n",
              "      <button class=\"colab-df-convert\" onclick=\"convertToInteractive('df-64ac3931-5c7b-4cdd-8dd4-37bef0bbb160')\"\n",
              "              title=\"Convert this dataframe to an interactive table.\"\n",
              "              style=\"display:none;\">\n",
              "        \n",
              "  <svg xmlns=\"http://www.w3.org/2000/svg\" height=\"24px\"viewBox=\"0 0 24 24\"\n",
              "       width=\"24px\">\n",
              "    <path d=\"M0 0h24v24H0V0z\" fill=\"none\"/>\n",
              "    <path d=\"M18.56 5.44l.94 2.06.94-2.06 2.06-.94-2.06-.94-.94-2.06-.94 2.06-2.06.94zm-11 1L8.5 8.5l.94-2.06 2.06-.94-2.06-.94L8.5 2.5l-.94 2.06-2.06.94zm10 10l.94 2.06.94-2.06 2.06-.94-2.06-.94-.94-2.06-.94 2.06-2.06.94z\"/><path d=\"M17.41 7.96l-1.37-1.37c-.4-.4-.92-.59-1.43-.59-.52 0-1.04.2-1.43.59L10.3 9.45l-7.72 7.72c-.78.78-.78 2.05 0 2.83L4 21.41c.39.39.9.59 1.41.59.51 0 1.02-.2 1.41-.59l7.78-7.78 2.81-2.81c.8-.78.8-2.07 0-2.86zM5.41 20L4 18.59l7.72-7.72 1.47 1.35L5.41 20z\"/>\n",
              "  </svg>\n",
              "      </button>\n",
              "      \n",
              "  <style>\n",
              "    .colab-df-container {\n",
              "      display:flex;\n",
              "      flex-wrap:wrap;\n",
              "      gap: 12px;\n",
              "    }\n",
              "\n",
              "    .colab-df-convert {\n",
              "      background-color: #E8F0FE;\n",
              "      border: none;\n",
              "      border-radius: 50%;\n",
              "      cursor: pointer;\n",
              "      display: none;\n",
              "      fill: #1967D2;\n",
              "      height: 32px;\n",
              "      padding: 0 0 0 0;\n",
              "      width: 32px;\n",
              "    }\n",
              "\n",
              "    .colab-df-convert:hover {\n",
              "      background-color: #E2EBFA;\n",
              "      box-shadow: 0px 1px 2px rgba(60, 64, 67, 0.3), 0px 1px 3px 1px rgba(60, 64, 67, 0.15);\n",
              "      fill: #174EA6;\n",
              "    }\n",
              "\n",
              "    [theme=dark] .colab-df-convert {\n",
              "      background-color: #3B4455;\n",
              "      fill: #D2E3FC;\n",
              "    }\n",
              "\n",
              "    [theme=dark] .colab-df-convert:hover {\n",
              "      background-color: #434B5C;\n",
              "      box-shadow: 0px 1px 3px 1px rgba(0, 0, 0, 0.15);\n",
              "      filter: drop-shadow(0px 1px 2px rgba(0, 0, 0, 0.3));\n",
              "      fill: #FFFFFF;\n",
              "    }\n",
              "  </style>\n",
              "\n",
              "      <script>\n",
              "        const buttonEl =\n",
              "          document.querySelector('#df-64ac3931-5c7b-4cdd-8dd4-37bef0bbb160 button.colab-df-convert');\n",
              "        buttonEl.style.display =\n",
              "          google.colab.kernel.accessAllowed ? 'block' : 'none';\n",
              "\n",
              "        async function convertToInteractive(key) {\n",
              "          const element = document.querySelector('#df-64ac3931-5c7b-4cdd-8dd4-37bef0bbb160');\n",
              "          const dataTable =\n",
              "            await google.colab.kernel.invokeFunction('convertToInteractive',\n",
              "                                                     [key], {});\n",
              "          if (!dataTable) return;\n",
              "\n",
              "          const docLinkHtml = 'Like what you see? Visit the ' +\n",
              "            '<a target=\"_blank\" href=https://colab.research.google.com/notebooks/data_table.ipynb>data table notebook</a>'\n",
              "            + ' to learn more about interactive tables.';\n",
              "          element.innerHTML = '';\n",
              "          dataTable['output_type'] = 'display_data';\n",
              "          await google.colab.output.renderOutput(dataTable, element);\n",
              "          const docLink = document.createElement('div');\n",
              "          docLink.innerHTML = docLinkHtml;\n",
              "          element.appendChild(docLink);\n",
              "        }\n",
              "      </script>\n",
              "    </div>\n",
              "  </div>\n",
              "  "
            ]
          },
          "metadata": {},
          "execution_count": 34
        }
      ],
      "source": [
        "df2.head()"
      ]
    },
    {
      "cell_type": "markdown",
      "source": [
        "###**Create new DataFrame from our new features**"
      ],
      "metadata": {
        "id": "XTmKDG_H6vbG"
      }
    },
    {
      "cell_type": "code",
      "execution_count": null,
      "metadata": {
        "id": "wWkrpO0C_qfZ"
      },
      "outputs": [],
      "source": [
        "#concate the text features that we will use into one column(content column)\n",
        "train=pd.DataFrame()\n",
        "df2['content']= df2['researched_by']+' '+df2['clean_title']+ ' '+ df2['clean_url']"
      ]
    },
    {
      "cell_type": "code",
      "execution_count": null,
      "metadata": {
        "colab": {
          "base_uri": "https://localhost:8080/"
        },
        "id": "OaSPhlmDBKnQ",
        "outputId": "a22b4e27-361e-4a03-9094-7a294dd55256"
      },
      "outputs": [
        {
          "output_type": "execute_result",
          "data": {
            "text/plain": [
              "   label reddit_comments researched_by  \\\n",
              "0      0              []        snopes   \n",
              "1      1              []        snopes   \n",
              "2      0              []        snopes   \n",
              "3      1              []        snopes   \n",
              "4      1              []        snopes   \n",
              "\n",
              "                                                text  \\\n",
              "0  analyze videos growth watch videos growth sinc...   \n",
              "1  last week current administration missed point ...   \n",
              "2  email protected member male join date jul 2001...   \n",
              "3  urban outfitters sunk new low vintage kent sta...   \n",
              "4  santa goes many names santa claus st nick kris...   \n",
              "\n",
              "                                               title  \\\n",
              "0                                            vidinfo   \n",
              "1          editorial misinterpreted toon unpatriotic   \n",
              "2                       general health message board   \n",
              "3  urban outfitters sorry selling kent state swea...   \n",
              "4                                  story santa claus   \n",
              "\n",
              "                                                 url bodies  lengths  \\\n",
              "0  http://www.vidinfo.org/video/67155269/jeremy-m...     []        0   \n",
              "1  http://pittnews.com/30440/archives/editorial-m...     []        0   \n",
              "2  http://www.healthboards.com/boards/general-hea...     []        0   \n",
              "3  http://gothamist.com/2014/09/15/urban_outfitte...     []        0   \n",
              "4  http://www.englishteachermelanie.com/canada-fu...     []        0   \n",
              "\n",
              "                       clean_url  \\\n",
              "0                www vidinfo org   \n",
              "1                   pittnews com   \n",
              "2           www healthboards com   \n",
              "3                  gothamist com   \n",
              "4  www englishteachermelanie com   \n",
              "\n",
              "                                         clean_title  \\\n",
              "0                                            vidinfo   \n",
              "1                editori misinterpret toon unpatriot   \n",
              "2                        general health messag board   \n",
              "3  urban outfitt sorri sell kent state sweatshirt...   \n",
              "4                                  stori santa claus   \n",
              "\n",
              "                                             content  \n",
              "0                     snopes vidinfo www vidinfo org  \n",
              "1  snopes editori misinterpret toon unpatriot pit...  \n",
              "2  snopes general health messag board www healthb...  \n",
              "3  snopes urban outfitt sorri sell kent state swe...  \n",
              "4  snopes stori santa claus www englishteachermel...  "
            ],
            "text/html": [
              "\n",
              "  <div id=\"df-cf5ea429-1d66-4a74-93c6-54901de9f4fc\">\n",
              "    <div class=\"colab-df-container\">\n",
              "      <div>\n",
              "<style scoped>\n",
              "    .dataframe tbody tr th:only-of-type {\n",
              "        vertical-align: middle;\n",
              "    }\n",
              "\n",
              "    .dataframe tbody tr th {\n",
              "        vertical-align: top;\n",
              "    }\n",
              "\n",
              "    .dataframe thead th {\n",
              "        text-align: right;\n",
              "    }\n",
              "</style>\n",
              "<table border=\"1\" class=\"dataframe\">\n",
              "  <thead>\n",
              "    <tr style=\"text-align: right;\">\n",
              "      <th></th>\n",
              "      <th>label</th>\n",
              "      <th>reddit_comments</th>\n",
              "      <th>researched_by</th>\n",
              "      <th>text</th>\n",
              "      <th>title</th>\n",
              "      <th>url</th>\n",
              "      <th>bodies</th>\n",
              "      <th>lengths</th>\n",
              "      <th>clean_url</th>\n",
              "      <th>clean_title</th>\n",
              "      <th>content</th>\n",
              "    </tr>\n",
              "  </thead>\n",
              "  <tbody>\n",
              "    <tr>\n",
              "      <th>0</th>\n",
              "      <td>0</td>\n",
              "      <td>[]</td>\n",
              "      <td>snopes</td>\n",
              "      <td>analyze videos growth watch videos growth sinc...</td>\n",
              "      <td>vidinfo</td>\n",
              "      <td>http://www.vidinfo.org/video/67155269/jeremy-m...</td>\n",
              "      <td>[]</td>\n",
              "      <td>0</td>\n",
              "      <td>www vidinfo org</td>\n",
              "      <td>vidinfo</td>\n",
              "      <td>snopes vidinfo www vidinfo org</td>\n",
              "    </tr>\n",
              "    <tr>\n",
              "      <th>1</th>\n",
              "      <td>1</td>\n",
              "      <td>[]</td>\n",
              "      <td>snopes</td>\n",
              "      <td>last week current administration missed point ...</td>\n",
              "      <td>editorial misinterpreted toon unpatriotic</td>\n",
              "      <td>http://pittnews.com/30440/archives/editorial-m...</td>\n",
              "      <td>[]</td>\n",
              "      <td>0</td>\n",
              "      <td>pittnews com</td>\n",
              "      <td>editori misinterpret toon unpatriot</td>\n",
              "      <td>snopes editori misinterpret toon unpatriot pit...</td>\n",
              "    </tr>\n",
              "    <tr>\n",
              "      <th>2</th>\n",
              "      <td>0</td>\n",
              "      <td>[]</td>\n",
              "      <td>snopes</td>\n",
              "      <td>email protected member male join date jul 2001...</td>\n",
              "      <td>general health message board</td>\n",
              "      <td>http://www.healthboards.com/boards/general-hea...</td>\n",
              "      <td>[]</td>\n",
              "      <td>0</td>\n",
              "      <td>www healthboards com</td>\n",
              "      <td>general health messag board</td>\n",
              "      <td>snopes general health messag board www healthb...</td>\n",
              "    </tr>\n",
              "    <tr>\n",
              "      <th>3</th>\n",
              "      <td>1</td>\n",
              "      <td>[]</td>\n",
              "      <td>snopes</td>\n",
              "      <td>urban outfitters sunk new low vintage kent sta...</td>\n",
              "      <td>urban outfitters sorry selling kent state swea...</td>\n",
              "      <td>http://gothamist.com/2014/09/15/urban_outfitte...</td>\n",
              "      <td>[]</td>\n",
              "      <td>0</td>\n",
              "      <td>gothamist com</td>\n",
              "      <td>urban outfitt sorri sell kent state sweatshirt...</td>\n",
              "      <td>snopes urban outfitt sorri sell kent state swe...</td>\n",
              "    </tr>\n",
              "    <tr>\n",
              "      <th>4</th>\n",
              "      <td>1</td>\n",
              "      <td>[]</td>\n",
              "      <td>snopes</td>\n",
              "      <td>santa goes many names santa claus st nick kris...</td>\n",
              "      <td>story santa claus</td>\n",
              "      <td>http://www.englishteachermelanie.com/canada-fu...</td>\n",
              "      <td>[]</td>\n",
              "      <td>0</td>\n",
              "      <td>www englishteachermelanie com</td>\n",
              "      <td>stori santa claus</td>\n",
              "      <td>snopes stori santa claus www englishteachermel...</td>\n",
              "    </tr>\n",
              "  </tbody>\n",
              "</table>\n",
              "</div>\n",
              "      <button class=\"colab-df-convert\" onclick=\"convertToInteractive('df-cf5ea429-1d66-4a74-93c6-54901de9f4fc')\"\n",
              "              title=\"Convert this dataframe to an interactive table.\"\n",
              "              style=\"display:none;\">\n",
              "        \n",
              "  <svg xmlns=\"http://www.w3.org/2000/svg\" height=\"24px\"viewBox=\"0 0 24 24\"\n",
              "       width=\"24px\">\n",
              "    <path d=\"M0 0h24v24H0V0z\" fill=\"none\"/>\n",
              "    <path d=\"M18.56 5.44l.94 2.06.94-2.06 2.06-.94-2.06-.94-.94-2.06-.94 2.06-2.06.94zm-11 1L8.5 8.5l.94-2.06 2.06-.94-2.06-.94L8.5 2.5l-.94 2.06-2.06.94zm10 10l.94 2.06.94-2.06 2.06-.94-2.06-.94-.94-2.06-.94 2.06-2.06.94z\"/><path d=\"M17.41 7.96l-1.37-1.37c-.4-.4-.92-.59-1.43-.59-.52 0-1.04.2-1.43.59L10.3 9.45l-7.72 7.72c-.78.78-.78 2.05 0 2.83L4 21.41c.39.39.9.59 1.41.59.51 0 1.02-.2 1.41-.59l7.78-7.78 2.81-2.81c.8-.78.8-2.07 0-2.86zM5.41 20L4 18.59l7.72-7.72 1.47 1.35L5.41 20z\"/>\n",
              "  </svg>\n",
              "      </button>\n",
              "      \n",
              "  <style>\n",
              "    .colab-df-container {\n",
              "      display:flex;\n",
              "      flex-wrap:wrap;\n",
              "      gap: 12px;\n",
              "    }\n",
              "\n",
              "    .colab-df-convert {\n",
              "      background-color: #E8F0FE;\n",
              "      border: none;\n",
              "      border-radius: 50%;\n",
              "      cursor: pointer;\n",
              "      display: none;\n",
              "      fill: #1967D2;\n",
              "      height: 32px;\n",
              "      padding: 0 0 0 0;\n",
              "      width: 32px;\n",
              "    }\n",
              "\n",
              "    .colab-df-convert:hover {\n",
              "      background-color: #E2EBFA;\n",
              "      box-shadow: 0px 1px 2px rgba(60, 64, 67, 0.3), 0px 1px 3px 1px rgba(60, 64, 67, 0.15);\n",
              "      fill: #174EA6;\n",
              "    }\n",
              "\n",
              "    [theme=dark] .colab-df-convert {\n",
              "      background-color: #3B4455;\n",
              "      fill: #D2E3FC;\n",
              "    }\n",
              "\n",
              "    [theme=dark] .colab-df-convert:hover {\n",
              "      background-color: #434B5C;\n",
              "      box-shadow: 0px 1px 3px 1px rgba(0, 0, 0, 0.15);\n",
              "      filter: drop-shadow(0px 1px 2px rgba(0, 0, 0, 0.3));\n",
              "      fill: #FFFFFF;\n",
              "    }\n",
              "  </style>\n",
              "\n",
              "      <script>\n",
              "        const buttonEl =\n",
              "          document.querySelector('#df-cf5ea429-1d66-4a74-93c6-54901de9f4fc button.colab-df-convert');\n",
              "        buttonEl.style.display =\n",
              "          google.colab.kernel.accessAllowed ? 'block' : 'none';\n",
              "\n",
              "        async function convertToInteractive(key) {\n",
              "          const element = document.querySelector('#df-cf5ea429-1d66-4a74-93c6-54901de9f4fc');\n",
              "          const dataTable =\n",
              "            await google.colab.kernel.invokeFunction('convertToInteractive',\n",
              "                                                     [key], {});\n",
              "          if (!dataTable) return;\n",
              "\n",
              "          const docLinkHtml = 'Like what you see? Visit the ' +\n",
              "            '<a target=\"_blank\" href=https://colab.research.google.com/notebooks/data_table.ipynb>data table notebook</a>'\n",
              "            + ' to learn more about interactive tables.';\n",
              "          element.innerHTML = '';\n",
              "          dataTable['output_type'] = 'display_data';\n",
              "          await google.colab.output.renderOutput(dataTable, element);\n",
              "          const docLink = document.createElement('div');\n",
              "          docLink.innerHTML = docLinkHtml;\n",
              "          element.appendChild(docLink);\n",
              "        }\n",
              "      </script>\n",
              "    </div>\n",
              "  </div>\n",
              "  "
            ]
          },
          "metadata": {},
          "execution_count": 36
        }
      ],
      "source": [
        "df2.head()"
      ]
    },
    {
      "cell_type": "markdown",
      "metadata": {
        "id": "PI3wWj8D1gpm"
      },
      "source": [
        "These models are the TF-IDF Model, N-Gram Model, Bag of Words Model. These models extract the features from the training data set and then the classifier is trained through these features. "
      ]
    },
    {
      "cell_type": "code",
      "execution_count": null,
      "metadata": {
        "id": "6ID_R78r0y9A",
        "colab": {
          "base_uri": "https://localhost:8080/"
        },
        "outputId": "a0c41be1-f7ed-4066-f87f-d2e28d83ae39"
      },
      "outputs": [
        {
          "output_type": "execute_result",
          "data": {
            "text/plain": [
              "     0    1    2    3    4    5    6    7    8    9  ...  14208  14209  14210  \\\n",
              "0  0.0  0.0  0.0  0.0  0.0  0.0  0.0  0.0  0.0  0.0  ...    0.0    0.0    0.0   \n",
              "1  0.0  0.0  0.0  0.0  0.0  0.0  0.0  0.0  0.0  0.0  ...    0.0    0.0    0.0   \n",
              "2  0.0  0.0  0.0  0.0  0.0  0.0  0.0  0.0  0.0  0.0  ...    0.0    0.0    0.0   \n",
              "3  0.0  0.0  0.0  0.0  0.0  0.0  0.0  0.0  0.0  0.0  ...    0.0    0.0    0.0   \n",
              "4  0.0  0.0  0.0  0.0  0.0  0.0  0.0  0.0  0.0  0.0  ...    0.0    0.0    0.0   \n",
              "\n",
              "   14211  14212  14213  14214  14215  14216  lengths  \n",
              "0    0.0    0.0    0.0    0.0    0.0    0.0        0  \n",
              "1    0.0    0.0    0.0    0.0    0.0    0.0        0  \n",
              "2    0.0    0.0    0.0    0.0    0.0    0.0        0  \n",
              "3    0.0    0.0    0.0    0.0    0.0    0.0        0  \n",
              "4    0.0    0.0    0.0    0.0    0.0    0.0        0  \n",
              "\n",
              "[5 rows x 14218 columns]"
            ],
            "text/html": [
              "\n",
              "  <div id=\"df-ac584c1b-094e-44ca-bb8a-bec54a501555\">\n",
              "    <div class=\"colab-df-container\">\n",
              "      <div>\n",
              "<style scoped>\n",
              "    .dataframe tbody tr th:only-of-type {\n",
              "        vertical-align: middle;\n",
              "    }\n",
              "\n",
              "    .dataframe tbody tr th {\n",
              "        vertical-align: top;\n",
              "    }\n",
              "\n",
              "    .dataframe thead th {\n",
              "        text-align: right;\n",
              "    }\n",
              "</style>\n",
              "<table border=\"1\" class=\"dataframe\">\n",
              "  <thead>\n",
              "    <tr style=\"text-align: right;\">\n",
              "      <th></th>\n",
              "      <th>0</th>\n",
              "      <th>1</th>\n",
              "      <th>2</th>\n",
              "      <th>3</th>\n",
              "      <th>4</th>\n",
              "      <th>5</th>\n",
              "      <th>6</th>\n",
              "      <th>7</th>\n",
              "      <th>8</th>\n",
              "      <th>9</th>\n",
              "      <th>...</th>\n",
              "      <th>14208</th>\n",
              "      <th>14209</th>\n",
              "      <th>14210</th>\n",
              "      <th>14211</th>\n",
              "      <th>14212</th>\n",
              "      <th>14213</th>\n",
              "      <th>14214</th>\n",
              "      <th>14215</th>\n",
              "      <th>14216</th>\n",
              "      <th>lengths</th>\n",
              "    </tr>\n",
              "  </thead>\n",
              "  <tbody>\n",
              "    <tr>\n",
              "      <th>0</th>\n",
              "      <td>0.0</td>\n",
              "      <td>0.0</td>\n",
              "      <td>0.0</td>\n",
              "      <td>0.0</td>\n",
              "      <td>0.0</td>\n",
              "      <td>0.0</td>\n",
              "      <td>0.0</td>\n",
              "      <td>0.0</td>\n",
              "      <td>0.0</td>\n",
              "      <td>0.0</td>\n",
              "      <td>...</td>\n",
              "      <td>0.0</td>\n",
              "      <td>0.0</td>\n",
              "      <td>0.0</td>\n",
              "      <td>0.0</td>\n",
              "      <td>0.0</td>\n",
              "      <td>0.0</td>\n",
              "      <td>0.0</td>\n",
              "      <td>0.0</td>\n",
              "      <td>0.0</td>\n",
              "      <td>0</td>\n",
              "    </tr>\n",
              "    <tr>\n",
              "      <th>1</th>\n",
              "      <td>0.0</td>\n",
              "      <td>0.0</td>\n",
              "      <td>0.0</td>\n",
              "      <td>0.0</td>\n",
              "      <td>0.0</td>\n",
              "      <td>0.0</td>\n",
              "      <td>0.0</td>\n",
              "      <td>0.0</td>\n",
              "      <td>0.0</td>\n",
              "      <td>0.0</td>\n",
              "      <td>...</td>\n",
              "      <td>0.0</td>\n",
              "      <td>0.0</td>\n",
              "      <td>0.0</td>\n",
              "      <td>0.0</td>\n",
              "      <td>0.0</td>\n",
              "      <td>0.0</td>\n",
              "      <td>0.0</td>\n",
              "      <td>0.0</td>\n",
              "      <td>0.0</td>\n",
              "      <td>0</td>\n",
              "    </tr>\n",
              "    <tr>\n",
              "      <th>2</th>\n",
              "      <td>0.0</td>\n",
              "      <td>0.0</td>\n",
              "      <td>0.0</td>\n",
              "      <td>0.0</td>\n",
              "      <td>0.0</td>\n",
              "      <td>0.0</td>\n",
              "      <td>0.0</td>\n",
              "      <td>0.0</td>\n",
              "      <td>0.0</td>\n",
              "      <td>0.0</td>\n",
              "      <td>...</td>\n",
              "      <td>0.0</td>\n",
              "      <td>0.0</td>\n",
              "      <td>0.0</td>\n",
              "      <td>0.0</td>\n",
              "      <td>0.0</td>\n",
              "      <td>0.0</td>\n",
              "      <td>0.0</td>\n",
              "      <td>0.0</td>\n",
              "      <td>0.0</td>\n",
              "      <td>0</td>\n",
              "    </tr>\n",
              "    <tr>\n",
              "      <th>3</th>\n",
              "      <td>0.0</td>\n",
              "      <td>0.0</td>\n",
              "      <td>0.0</td>\n",
              "      <td>0.0</td>\n",
              "      <td>0.0</td>\n",
              "      <td>0.0</td>\n",
              "      <td>0.0</td>\n",
              "      <td>0.0</td>\n",
              "      <td>0.0</td>\n",
              "      <td>0.0</td>\n",
              "      <td>...</td>\n",
              "      <td>0.0</td>\n",
              "      <td>0.0</td>\n",
              "      <td>0.0</td>\n",
              "      <td>0.0</td>\n",
              "      <td>0.0</td>\n",
              "      <td>0.0</td>\n",
              "      <td>0.0</td>\n",
              "      <td>0.0</td>\n",
              "      <td>0.0</td>\n",
              "      <td>0</td>\n",
              "    </tr>\n",
              "    <tr>\n",
              "      <th>4</th>\n",
              "      <td>0.0</td>\n",
              "      <td>0.0</td>\n",
              "      <td>0.0</td>\n",
              "      <td>0.0</td>\n",
              "      <td>0.0</td>\n",
              "      <td>0.0</td>\n",
              "      <td>0.0</td>\n",
              "      <td>0.0</td>\n",
              "      <td>0.0</td>\n",
              "      <td>0.0</td>\n",
              "      <td>...</td>\n",
              "      <td>0.0</td>\n",
              "      <td>0.0</td>\n",
              "      <td>0.0</td>\n",
              "      <td>0.0</td>\n",
              "      <td>0.0</td>\n",
              "      <td>0.0</td>\n",
              "      <td>0.0</td>\n",
              "      <td>0.0</td>\n",
              "      <td>0.0</td>\n",
              "      <td>0</td>\n",
              "    </tr>\n",
              "  </tbody>\n",
              "</table>\n",
              "<p>5 rows × 14218 columns</p>\n",
              "</div>\n",
              "      <button class=\"colab-df-convert\" onclick=\"convertToInteractive('df-ac584c1b-094e-44ca-bb8a-bec54a501555')\"\n",
              "              title=\"Convert this dataframe to an interactive table.\"\n",
              "              style=\"display:none;\">\n",
              "        \n",
              "  <svg xmlns=\"http://www.w3.org/2000/svg\" height=\"24px\"viewBox=\"0 0 24 24\"\n",
              "       width=\"24px\">\n",
              "    <path d=\"M0 0h24v24H0V0z\" fill=\"none\"/>\n",
              "    <path d=\"M18.56 5.44l.94 2.06.94-2.06 2.06-.94-2.06-.94-.94-2.06-.94 2.06-2.06.94zm-11 1L8.5 8.5l.94-2.06 2.06-.94-2.06-.94L8.5 2.5l-.94 2.06-2.06.94zm10 10l.94 2.06.94-2.06 2.06-.94-2.06-.94-.94-2.06-.94 2.06-2.06.94z\"/><path d=\"M17.41 7.96l-1.37-1.37c-.4-.4-.92-.59-1.43-.59-.52 0-1.04.2-1.43.59L10.3 9.45l-7.72 7.72c-.78.78-.78 2.05 0 2.83L4 21.41c.39.39.9.59 1.41.59.51 0 1.02-.2 1.41-.59l7.78-7.78 2.81-2.81c.8-.78.8-2.07 0-2.86zM5.41 20L4 18.59l7.72-7.72 1.47 1.35L5.41 20z\"/>\n",
              "  </svg>\n",
              "      </button>\n",
              "      \n",
              "  <style>\n",
              "    .colab-df-container {\n",
              "      display:flex;\n",
              "      flex-wrap:wrap;\n",
              "      gap: 12px;\n",
              "    }\n",
              "\n",
              "    .colab-df-convert {\n",
              "      background-color: #E8F0FE;\n",
              "      border: none;\n",
              "      border-radius: 50%;\n",
              "      cursor: pointer;\n",
              "      display: none;\n",
              "      fill: #1967D2;\n",
              "      height: 32px;\n",
              "      padding: 0 0 0 0;\n",
              "      width: 32px;\n",
              "    }\n",
              "\n",
              "    .colab-df-convert:hover {\n",
              "      background-color: #E2EBFA;\n",
              "      box-shadow: 0px 1px 2px rgba(60, 64, 67, 0.3), 0px 1px 3px 1px rgba(60, 64, 67, 0.15);\n",
              "      fill: #174EA6;\n",
              "    }\n",
              "\n",
              "    [theme=dark] .colab-df-convert {\n",
              "      background-color: #3B4455;\n",
              "      fill: #D2E3FC;\n",
              "    }\n",
              "\n",
              "    [theme=dark] .colab-df-convert:hover {\n",
              "      background-color: #434B5C;\n",
              "      box-shadow: 0px 1px 3px 1px rgba(0, 0, 0, 0.15);\n",
              "      filter: drop-shadow(0px 1px 2px rgba(0, 0, 0, 0.3));\n",
              "      fill: #FFFFFF;\n",
              "    }\n",
              "  </style>\n",
              "\n",
              "      <script>\n",
              "        const buttonEl =\n",
              "          document.querySelector('#df-ac584c1b-094e-44ca-bb8a-bec54a501555 button.colab-df-convert');\n",
              "        buttonEl.style.display =\n",
              "          google.colab.kernel.accessAllowed ? 'block' : 'none';\n",
              "\n",
              "        async function convertToInteractive(key) {\n",
              "          const element = document.querySelector('#df-ac584c1b-094e-44ca-bb8a-bec54a501555');\n",
              "          const dataTable =\n",
              "            await google.colab.kernel.invokeFunction('convertToInteractive',\n",
              "                                                     [key], {});\n",
              "          if (!dataTable) return;\n",
              "\n",
              "          const docLinkHtml = 'Like what you see? Visit the ' +\n",
              "            '<a target=\"_blank\" href=https://colab.research.google.com/notebooks/data_table.ipynb>data table notebook</a>'\n",
              "            + ' to learn more about interactive tables.';\n",
              "          element.innerHTML = '';\n",
              "          dataTable['output_type'] = 'display_data';\n",
              "          await google.colab.output.renderOutput(dataTable, element);\n",
              "          const docLink = document.createElement('div');\n",
              "          docLink.innerHTML = docLinkHtml;\n",
              "          element.appendChild(docLink);\n",
              "        }\n",
              "      </script>\n",
              "    </div>\n",
              "  </div>\n",
              "  "
            ]
          },
          "metadata": {},
          "execution_count": 37
        }
      ],
      "source": [
        "\"\"\"\n",
        "Compute unique word vector with frequencies\n",
        "exclude very uncommon (<10 obsv.) and common (>=40%) words\n",
        "use pairs of three words (ngram)\n",
        "and max_features equal to 40000 features\n",
        "\"\"\"\n",
        "vectorizer_word = TfidfVectorizer( max_features=40000, analyzer=\"word\", max_df=0.4, min_df=10, ngram_range=(1, 3), norm=\"l2\")\n",
        "X = vectorizer_word.fit_transform(df2['content'])\n",
        "\n",
        "\n",
        "#concate the vectorised output and our label(comment length on each news) in one dataframe(df_train)\n",
        "from scipy.sparse import csr_matrix\n",
        "df_train = pd.DataFrame.sparse.from_spmatrix(X)\n",
        "df_train.index=df2.index\n",
        "df_train['lengths']= df2['lengths']\n",
        "\n",
        "df_train.head()"
      ]
    },
    {
      "cell_type": "markdown",
      "metadata": {
        "id": "1prwLMuF1UOf"
      },
      "source": [
        "####**Split data**"
      ]
    },
    {
      "cell_type": "code",
      "execution_count": null,
      "metadata": {
        "id": "6EKgH0TmXJbq"
      },
      "outputs": [],
      "source": [
        "X= df_train.iloc[:,:-1]\n",
        "Y= df_train['lengths']"
      ]
    },
    {
      "cell_type": "code",
      "execution_count": null,
      "metadata": {
        "id": "UXOwWADf16hU"
      },
      "outputs": [],
      "source": [
        "# Further split the original training set to a train and a validation set\n",
        "X_train, X_test, Y_train, Y_test = train_test_split( X, Y, test_size = 0.2, random_state = 42) "
      ]
    },
    {
      "cell_type": "code",
      "execution_count": null,
      "metadata": {
        "colab": {
          "base_uri": "https://localhost:8080/"
        },
        "id": "m6Dfkgdk1K2L",
        "outputId": "c782160d-0cf5-4253-9d7c-2b7837dbdc74"
      },
      "outputs": [
        {
          "output_type": "stream",
          "name": "stdout",
          "text": [
            "(55516, 14217)\n",
            "(13880, 14217)\n"
          ]
        }
      ],
      "source": [
        "print(X_train.shape)\n",
        "print(X_test.shape)"
      ]
    },
    {
      "cell_type": "code",
      "execution_count": null,
      "metadata": {
        "colab": {
          "base_uri": "https://localhost:8080/"
        },
        "id": "o_8EfWcCpB4P",
        "outputId": "4dbec88e-99ce-4c9e-a622-a6f61da32267"
      },
      "outputs": [
        {
          "output_type": "stream",
          "name": "stdout",
          "text": [
            "(55516, 14217)\n",
            "(55516,)\n"
          ]
        }
      ],
      "source": [
        "print(X_train.shape) \n",
        "print(Y_train.shape) "
      ]
    },
    {
      "cell_type": "markdown",
      "metadata": {
        "id": "6BfXDDqjYIfs"
      },
      "source": [
        "###**Regression models**"
      ]
    },
    {
      "cell_type": "code",
      "execution_count": null,
      "metadata": {
        "id": "b5ffZdGkX4B9"
      },
      "outputs": [],
      "source": [
        "def model_diagnostics(model, pr=True):\n",
        "    \"\"\"\n",
        "    Returns and prints the R-squared, RMSE and the MAE for a trained model\n",
        "    \"\"\"\n",
        "    y_predicted = model.predict(X_test)\n",
        "    r2 = r2_score(Y_test, y_predicted)\n",
        "    mse = mean_squared_error(Y_test, y_predicted)\n",
        "    mae = mean_absolute_error(Y_test, y_predicted)\n",
        "    if pr:\n",
        "        print(f\"R-Sq: {r2:.4}\")\n",
        "        print(f\"MSE: {mse}\")\n",
        "        print(f\"MAE: {mae}\")\n",
        "    \n",
        "    return [r2,mse,mae]\n",
        "    \n",
        "def new_model_diagnostics(model, pr=True):\n",
        "    \"\"\"\n",
        "    Returns and prints the R-squared, RMSE and the MAE for a trained model\n",
        "    after converting prediction values that less than zero to zero\n",
        "    \"\"\"\n",
        "    y_predicted = model.predict(X_test)\n",
        "    for i in range(len(y_predicted)):\n",
        "        if (y_predicted[i]<0):\n",
        "           y_predicted[i]=0\n",
        "\n",
        "    r2 = r2_score(Y_test, y_predicted)\n",
        "    mse = mean_squared_error(Y_test, y_predicted)\n",
        "    mae = mean_absolute_error(Y_test, y_predicted)\n",
        "    if pr:\n",
        "        print(f\"R-Sq: {r2:.4}\")\n",
        "        print(f\"MSE: {mse}\")\n",
        "        print(f\"MAE: {mae}\")\n",
        "    \n",
        "    return [r2,mse,mae]\n",
        "\n",
        "def plot_residuals(y_test, y_predicted):\n",
        "    \"\"\"\"\n",
        "    Plots the distribution for actual and predicted values of the target variable. Also plots the distribution for the residuals\n",
        "    \"\"\"\n",
        "    fig, (ax0, ax1) = plt.subplots(nrows=1, ncols=2, sharey=True)\n",
        "    sns.distplot(y_test, ax=ax0, kde = False)\n",
        "    ax0.set(xlabel='Test scores')\n",
        "    sns.distplot(y_predicted, ax=ax1, kde = False)\n",
        "    ax1.set(xlabel=\"Predicted scores\")\n",
        "    plt.show()\n",
        "    fig, ax2 = plt.subplots()\n",
        "    sns.distplot((y_test-y_predicted), ax = ax2,kde = False)\n",
        "    ax2.set(xlabel=\"Residuals\")\n",
        "    plt.show()\n",
        "    \n",
        "def y_test_vs_y_predicted(y_test,y_predicted):\n",
        "    \"\"\"\n",
        "    Produces a scatter plot for the actual and predicted values of the target variable\n",
        "    \"\"\"\n",
        "    fig, ax = plt.subplots()\n",
        "    ax.scatter(y_test, y_predicted)\n",
        "    ax.set_xlabel(\"Test Scores\")\n",
        "    ax.set_ylim([-75, 1400])\n",
        "    ax.set_ylabel(\"Predicted Scores\")\n",
        "    plt.show()"
      ]
    },
    {
      "cell_type": "code",
      "execution_count": null,
      "metadata": {
        "id": "71zaT_GoYMov"
      },
      "outputs": [],
      "source": [
        "#dictionary to save results from our models\n",
        "model_performance_dict = dict()\n",
        "#dictionary to save results from our models (after converting prediction values that less than zero)\n",
        "new_model_performance_dict= dict()"
      ]
    },
    {
      "cell_type": "markdown",
      "source": [
        "###**Before converting the predicted values that less than zero to zero**"
      ],
      "metadata": {
        "id": "9BIz7faPz1Pt"
      }
    },
    {
      "cell_type": "markdown",
      "source": [
        "####**Linear Regression Models**"
      ],
      "metadata": {
        "id": "VoH81-AYNJ96"
      }
    },
    {
      "cell_type": "markdown",
      "metadata": {
        "id": "umWpe6aybG5w"
      },
      "source": [
        "**Baseline model**"
      ]
    },
    {
      "cell_type": "code",
      "execution_count": null,
      "metadata": {
        "colab": {
          "base_uri": "https://localhost:8080/"
        },
        "id": "uvKa1tGeYMr8",
        "outputId": "868d7bf7-c877-43c1-dcaf-b8c292bcfc8a"
      },
      "outputs": [
        {
          "output_type": "stream",
          "name": "stdout",
          "text": [
            "R-Sq: -3.896e-05\n",
            "MSE: 14107.778574982127\n",
            "MAE: 16.244761662811126\n"
          ]
        }
      ],
      "source": [
        "baseline = DummyRegressor(strategy='mean')\n",
        "baseline.fit(X_train,Y_train)\n",
        "model_performance_dict[\"Baseline\"] = model_diagnostics(baseline)"
      ]
    },
    {
      "cell_type": "markdown",
      "metadata": {
        "id": "G58ghh6ub-S1"
      },
      "source": [
        "**Linear Regression**"
      ]
    },
    {
      "cell_type": "code",
      "execution_count": null,
      "metadata": {
        "colab": {
          "base_uri": "https://localhost:8080/"
        },
        "id": "M4mAYmUnYMvA",
        "outputId": "04fb71e9-d04b-4647-d595-4ca9147cc4fc"
      },
      "outputs": [
        {
          "output_type": "stream",
          "name": "stdout",
          "text": [
            "R-Sq: -0.7099\n",
            "MSE: 24121.662923427397\n",
            "MAE: 54.11320570500642\n"
          ]
        }
      ],
      "source": [
        "linear = LinearRegression()\n",
        "linear.fit(X_train,Y_train)\n",
        "model_performance_dict[\"Linear Regression\"] = model_diagnostics(linear)"
      ]
    },
    {
      "cell_type": "markdown",
      "metadata": {
        "id": "n8k2_O6hcsSG"
      },
      "source": [
        "####**Nonlinear Regression Models**\n",
        "\n"
      ]
    },
    {
      "cell_type": "markdown",
      "metadata": {
        "id": "JNaPEEkYcyN7"
      },
      "source": [
        "**K-Nearest Neighbor Regression**"
      ]
    },
    {
      "cell_type": "code",
      "execution_count": null,
      "metadata": {
        "colab": {
          "base_uri": "https://localhost:8080/"
        },
        "id": "QSsbuvUFYM8b",
        "outputId": "f2587f35-7d97-41a4-cab2-ebf42b8d7643"
      },
      "outputs": [
        {
          "output_type": "stream",
          "name": "stdout",
          "text": [
            "R-Sq: -0.06907\n",
            "MSE: 15081.609579250719\n",
            "MAE: 10.165619596541786\n"
          ]
        }
      ],
      "source": [
        "knr = KNeighborsRegressor()\n",
        "knr.fit(X_train, Y_train)\n",
        "model_performance_dict[\"KNN Regression\"] = model_diagnostics(knr)"
      ]
    },
    {
      "cell_type": "markdown",
      "metadata": {
        "id": "vP32hRbOdNov"
      },
      "source": [
        "**Decision Tree Regression**\n",
        "\n"
      ]
    },
    {
      "cell_type": "code",
      "execution_count": null,
      "metadata": {
        "colab": {
          "base_uri": "https://localhost:8080/"
        },
        "id": "vyEa83H6YNVJ",
        "outputId": "4e4343bc-726e-4e5a-fe7b-652d275c24af"
      },
      "outputs": [
        {
          "output_type": "stream",
          "name": "stdout",
          "text": [
            "R-Sq: -0.05164\n",
            "MSE: 14835.774152615293\n",
            "MAE: 15.792189849222567\n"
          ]
        }
      ],
      "source": [
        "dt = DecisionTreeRegressor(min_samples_split=45, min_samples_leaf=45, random_state = 10)\n",
        "dt.fit(X_train, Y_train)\n",
        "model_performance_dict[\"Decision Tree\"] = model_diagnostics(dt)"
      ]
    },
    {
      "cell_type": "markdown",
      "metadata": {
        "id": "6InupPi1d1Qi"
      },
      "source": [
        "####**Model comparison**\n",
        "\n",
        "We compare the models based on three metrics: R², MAE, and RMSE. To do so, we define the function below."
      ]
    },
    {
      "cell_type": "code",
      "execution_count": null,
      "metadata": {
        "id": "8LUHas7zda8c"
      },
      "outputs": [],
      "source": [
        "def model_comparison(model_performance_dict, sort_by = 'MSE', metric = 'MSE'):\n",
        "\n",
        "    Rsq_list = []\n",
        "    RMSE_list = []\n",
        "    MAE_list = []\n",
        "    for key in model_performance_dict.keys():\n",
        "        Rsq_list.append(model_performance_dict[key][0])\n",
        "        RMSE_list.append(model_performance_dict[key][1])\n",
        "        MAE_list.append(model_performance_dict[key][2])\n",
        "\n",
        "    props = pd.DataFrame([])\n",
        "\n",
        "    props[\"R-squared\"] = Rsq_list\n",
        "    props[\"MSE\"] = RMSE_list\n",
        "    props[\"MAE\"] = MAE_list\n",
        "    props.index = model_performance_dict.keys()\n",
        "    props = props.sort_values(by = sort_by)\n",
        "\n",
        "    fig, ax = plt.subplots(figsize = (12,6))\n",
        "\n",
        "    ax.bar(props.index, props[metric], color=\"blue\")\n",
        "    plt.title(metric)\n",
        "    plt.xlabel('Model')\n",
        "    plt.xticks(rotation = 45)\n",
        "    plt.ylabel(metric)"
      ]
    },
    {
      "cell_type": "markdown",
      "metadata": {
        "id": "SGNxS_3IeBrg"
      },
      "source": [
        "Let’s use this function to compare the models based on each metric."
      ]
    },
    {
      "cell_type": "code",
      "execution_count": null,
      "metadata": {
        "id": "NpMtKH3Ida_d",
        "colab": {
          "base_uri": "https://localhost:8080/",
          "height": 464
        },
        "outputId": "593306a8-1e4a-4a65-fcdf-64686c096f6a"
      },
      "outputs": [
        {
          "output_type": "display_data",
          "data": {
            "text/plain": [
              "<Figure size 864x432 with 1 Axes>"
            ],
            "image/png": "[encoded data removed]"
          },
          "metadata": {
            "needs_background": "light"
          }
        }
      ],
      "source": [
        "model_comparison(model_performance_dict, sort_by = 'R-squared', metric = 'R-squared')"
      ]
    },
    {
      "cell_type": "code",
      "execution_count": null,
      "metadata": {
        "id": "baxO02kddbC0",
        "colab": {
          "base_uri": "https://localhost:8080/",
          "height": 464
        },
        "outputId": "9c2dfe5a-6a0a-41d7-cb94-e858c98fff43"
      },
      "outputs": [
        {
          "output_type": "display_data",
          "data": {
            "text/plain": [
              "<Figure size 864x432 with 1 Axes>"
            ],
            "image/png": "[encoded data removed]"
          },
          "metadata": {
            "needs_background": "light"
          }
        }
      ],
      "source": [
        "model_comparison(model_performance_dict, sort_by = 'R-squared', metric = 'MAE')"
      ]
    },
    {
      "cell_type": "code",
      "execution_count": null,
      "metadata": {
        "id": "O-8Saw3-eK0z",
        "colab": {
          "base_uri": "https://localhost:8080/",
          "height": 464
        },
        "outputId": "f2c830ab-d029-46c5-9d8b-8531c815f83b"
      },
      "outputs": [
        {
          "output_type": "display_data",
          "data": {
            "text/plain": [
              "<Figure size 864x432 with 1 Axes>"
            ],
            "image/png": "[encoded data removed]"
          },
          "metadata": {
            "needs_background": "light"
          }
        }
      ],
      "source": [
        "model_comparison(model_performance_dict, sort_by = 'R-squared', metric = 'MSE')"
      ]
    },
    {
      "cell_type": "markdown",
      "source": [
        "###**After converting the predicted values that less than zero to zero**\n"
      ],
      "metadata": {
        "id": "gOgrdBFJ0C1_"
      }
    },
    {
      "cell_type": "markdown",
      "source": [
        "####**Linear Regression Models**"
      ],
      "metadata": {
        "id": "HNDm-rjdM31n"
      }
    },
    {
      "cell_type": "markdown",
      "metadata": {
        "id": "39IhQaOX0C2C"
      },
      "source": [
        "**Baseline model**"
      ]
    },
    {
      "cell_type": "code",
      "execution_count": null,
      "metadata": {
        "colab": {
          "base_uri": "https://localhost:8080/"
        },
        "outputId": "490705c1-0159-4e13-bfed-2e2971d8061c",
        "id": "mKcxABu-0C2F"
      },
      "outputs": [
        {
          "output_type": "stream",
          "name": "stdout",
          "text": [
            "R-Sq: -3.896e-05\n",
            "MSE: 14107.778574982127\n",
            "MAE: 16.244761662811126\n"
          ]
        }
      ],
      "source": [
        "new_model_performance_dict[\"Baseline\"] = new_model_diagnostics(baseline)"
      ]
    },
    {
      "cell_type": "markdown",
      "metadata": {
        "id": "Jec4V19G0C2J"
      },
      "source": [
        "**Linear Regression**"
      ]
    },
    {
      "cell_type": "code",
      "execution_count": null,
      "metadata": {
        "colab": {
          "base_uri": "https://localhost:8080/"
        },
        "outputId": "09ea94e4-0af0-41a1-e816-adf96bde470f",
        "id": "9LOGuxTX0C2K"
      },
      "outputs": [
        {
          "output_type": "stream",
          "name": "stdout",
          "text": [
            "R-Sq: -0.5624\n",
            "MSE: 22041.0854482702\n",
            "MAE: 34.52443996750125\n"
          ]
        }
      ],
      "source": [
        "new_model_performance_dict[\"Linear Regression\"] = new_model_diagnostics(linear)"
      ]
    },
    {
      "cell_type": "markdown",
      "metadata": {
        "id": "HiJwveBe0C2T"
      },
      "source": [
        "####**Nonlinear Regression Models**\n",
        "\n"
      ]
    },
    {
      "cell_type": "markdown",
      "metadata": {
        "id": "dLzDnWYg0C2T"
      },
      "source": [
        "**K-Nearest Neighbor Regression**"
      ]
    },
    {
      "cell_type": "code",
      "execution_count": null,
      "metadata": {
        "colab": {
          "base_uri": "https://localhost:8080/"
        },
        "outputId": "e00b46cc-6e00-43be-ebad-9c3c1c6ec6cf",
        "id": "oQ9RXTFh0C2U"
      },
      "outputs": [
        {
          "output_type": "stream",
          "name": "stdout",
          "text": [
            "R-Sq: -0.06907\n",
            "MSE: 15081.609579250719\n",
            "MAE: 10.165619596541786\n"
          ]
        }
      ],
      "source": [
        "new_model_performance_dict[\"KNN Regression\"] = new_model_diagnostics(knr)"
      ]
    },
    {
      "cell_type": "markdown",
      "metadata": {
        "id": "t-EtB9RW0C2V"
      },
      "source": [
        "**Decision Tree Regression**\n",
        "\n"
      ]
    },
    {
      "cell_type": "code",
      "execution_count": null,
      "metadata": {
        "colab": {
          "base_uri": "https://localhost:8080/"
        },
        "outputId": "b7c33192-ad7e-4a8e-b03f-936bb54429b0",
        "id": "N4KyXri80C2V"
      },
      "outputs": [
        {
          "output_type": "stream",
          "name": "stdout",
          "text": [
            "R-Sq: -0.05164\n",
            "MSE: 14835.774152615293\n",
            "MAE: 15.792189849222567\n"
          ]
        }
      ],
      "source": [
        "new_model_performance_dict[\"Decision Tree\"] = new_model_diagnostics(dt)"
      ]
    },
    {
      "cell_type": "markdown",
      "metadata": {
        "id": "AILei80s0C2Z"
      },
      "source": [
        "####**Model comparison**\n",
        "\n",
        "We compare the models based on three metrics: R², MAE, and RMSE. To do so, we define the function below."
      ]
    },
    {
      "cell_type": "code",
      "execution_count": null,
      "metadata": {
        "id": "NcxNUWXL0C2Z"
      },
      "outputs": [],
      "source": [
        "def model_comparison(new_model_performance_dict, sort_by = 'MSE', metric = 'MSE'):\n",
        "\n",
        "    Rsq_list = []\n",
        "    RMSE_list = []\n",
        "    MAE_list = []\n",
        "    for key in new_model_performance_dict.keys():\n",
        "        Rsq_list.append(new_model_performance_dict[key][0])\n",
        "        RMSE_list.append(new_model_performance_dict[key][1])\n",
        "        MAE_list.append(new_model_performance_dict[key][2])\n",
        "\n",
        "    props = pd.DataFrame([])\n",
        "\n",
        "    props[\"R-squared\"] = Rsq_list\n",
        "    props[\"MSE\"] = RMSE_list\n",
        "    props[\"MAE\"] = MAE_list\n",
        "    props.index = new_model_performance_dict.keys()\n",
        "    props = props.sort_values(by = sort_by)\n",
        "\n",
        "    fig, ax = plt.subplots(figsize = (12,6))\n",
        "\n",
        "    ax.bar(props.index, props[metric], color=\"blue\")\n",
        "    plt.title(metric)\n",
        "    plt.xlabel('Model')\n",
        "    plt.xticks(rotation = 45)\n",
        "    plt.ylabel(metric)"
      ]
    },
    {
      "cell_type": "markdown",
      "metadata": {
        "id": "JqEsUilA0C2a"
      },
      "source": [
        "Let’s use this function to compare the models based on each metric."
      ]
    },
    {
      "cell_type": "code",
      "execution_count": null,
      "metadata": {
        "colab": {
          "base_uri": "https://localhost:8080/",
          "height": 464
        },
        "id": "c4UM8G2B0C2b",
        "outputId": "5e80d887-169c-4a68-d7ed-13d806b0ed01"
      },
      "outputs": [
        {
          "output_type": "display_data",
          "data": {
            "text/plain": [
              "<Figure size 864x432 with 1 Axes>"
            ],
            "image/png": "[encoded data removed]"
          },
          "metadata": {
            "needs_background": "light"
          }
        }
      ],
      "source": [
        "model_comparison(new_model_performance_dict, sort_by = 'R-squared', metric = 'R-squared')"
      ]
    },
    {
      "cell_type": "code",
      "execution_count": null,
      "metadata": {
        "colab": {
          "base_uri": "https://localhost:8080/",
          "height": 464
        },
        "id": "FHZsluE60C2c",
        "outputId": "61817c4d-31bd-42b2-de62-cf910e8dfd18"
      },
      "outputs": [
        {
          "output_type": "display_data",
          "data": {
            "text/plain": [
              "<Figure size 864x432 with 1 Axes>"
            ],
            "image/png": "[encoded data removed]"
          },
          "metadata": {
            "needs_background": "light"
          }
        }
      ],
      "source": [
        "model_comparison(new_model_performance_dict, sort_by = 'R-squared', metric = 'MAE')"
      ]
    },
    {
      "cell_type": "code",
      "execution_count": null,
      "metadata": {
        "colab": {
          "base_uri": "https://localhost:8080/",
          "height": 464
        },
        "id": "hTpYwKVk0C2c",
        "outputId": "4c9ceb80-f1ce-4421-ccf9-0622c3f76f00"
      },
      "outputs": [
        {
          "output_type": "display_data",
          "data": {
            "text/plain": [
              "<Figure size 864x432 with 1 Axes>"
            ],
            "image/png": "[encoded data removed]"
          },
          "metadata": {
            "needs_background": "light"
          }
        }
      ],
      "source": [
        "model_comparison(new_model_performance_dict, sort_by = 'R-squared', metric = 'MSE')"
      ]
    },
    {
      "cell_type": "code",
      "source": [],
      "metadata": {
        "id": "tl5D9wyCQXVV"
      },
      "execution_count": null,
      "outputs": []
    },
    {
      "cell_type": "code",
      "source": [],
      "metadata": {
        "id": "WdWj4R6hQ5xH"
      },
      "execution_count": null,
      "outputs": []
    },
    {
      "cell_type": "markdown",
      "source": [
        "##**Second scenario**\n"
      ],
      "metadata": {
        "id": "zul8BOhERY6L"
      }
    },
    {
      "cell_type": "code",
      "execution_count": null,
      "metadata": {
        "colab": {
          "base_uri": "https://localhost:8080/",
          "height": 641
        },
        "id": "913R4gx3B75N",
        "outputId": "5a9a34bd-51e7-4178-bb1b-4fa593422ec2"
      },
      "outputs": [
        {
          "output_type": "execute_result",
          "data": {
            "text/plain": [
              "       label                                    reddit_comments researched_by  \\\n",
              "0          0                                                NaN        snopes   \n",
              "1          1                                                NaN        snopes   \n",
              "2          0                                                NaN        snopes   \n",
              "3          1                                                NaN        snopes   \n",
              "4          1                                                NaN        snopes   \n",
              "...      ...                                                ...           ...   \n",
              "69391      0  [{'created_utc': 1370998152, 'label': 0, 'auth...        snopes   \n",
              "69392      0                                                NaN        snopes   \n",
              "69393      0                                                NaN        snopes   \n",
              "69394      0                                                NaN        snopes   \n",
              "69395      0  [{'created_utc': 1436457724, 'label': 0, 'auth...        snopes   \n",
              "\n",
              "                                                    text  \\\n",
              "0      analyze videos growth watch videos growth sinc...   \n",
              "1      last week current administration missed point ...   \n",
              "2      email protected member male join date jul 2001...   \n",
              "3      urban outfitters sunk new low vintage kent sta...   \n",
              "4      santa goes many names santa claus st nick kris...   \n",
              "...                                                  ...   \n",
              "69391  donate stuff 101 places clutter good book joy ...   \n",
              "69392  update 3272012 painting depicts obama burning ...   \n",
              "69393  take selena movie quiz need go back watch movi...   \n",
              "69394  robert well know love ya wants love do ray rob...   \n",
              "69395  children crayons marketed colorful characters ...   \n",
              "\n",
              "                                                   title  \\\n",
              "0                                                vidinfo   \n",
              "1              editorial misinterpreted toon unpatriotic   \n",
              "2                           general health message board   \n",
              "3      urban outfitters sorry selling kent state swea...   \n",
              "4                                      story santa claus   \n",
              "...                                                  ...   \n",
              "69391  donate stuff 101 places clutter good miss mini...   \n",
              "69392  finally obama original birth certificate surfaces   \n",
              "69393                       selena quintanilla news 2014   \n",
              "69394                tropes q z  everybody loves raymond   \n",
              "69395                            child coloring asbestos   \n",
              "\n",
              "                                                     url  \n",
              "0      http://www.vidinfo.org/video/67155269/jeremy-m...  \n",
              "1      http://pittnews.com/30440/archives/editorial-m...  \n",
              "2      http://www.healthboards.com/boards/general-hea...  \n",
              "3      http://gothamist.com/2014/09/15/urban_outfitte...  \n",
              "4      http://www.englishteachermelanie.com/canada-fu...  \n",
              "...                                                  ...  \n",
              "69391  http://www.missminimalist.com/2011/04/where-to...  \n",
              "69392  http://geopolitics.co/2012/03/21/finally-obama...  \n",
              "69393               http://loveselena.com/News/2014.html  \n",
              "69394  http://tvtropes.org/pmwiki/pmwiki.php/Everybod...  \n",
              "69395  http://www.scientificamerican.com/article/is-y...  \n",
              "\n",
              "[69396 rows x 6 columns]"
            ],
            "text/html": [
              "\n",
              "  <div id=\"df-c0a1f069-63b8-4d43-a973-7974f71c1e97\">\n",
              "    <div class=\"colab-df-container\">\n",
              "      <div>\n",
              "<style scoped>\n",
              "    .dataframe tbody tr th:only-of-type {\n",
              "        vertical-align: middle;\n",
              "    }\n",
              "\n",
              "    .dataframe tbody tr th {\n",
              "        vertical-align: top;\n",
              "    }\n",
              "\n",
              "    .dataframe thead th {\n",
              "        text-align: right;\n",
              "    }\n",
              "</style>\n",
              "<table border=\"1\" class=\"dataframe\">\n",
              "  <thead>\n",
              "    <tr style=\"text-align: right;\">\n",
              "      <th></th>\n",
              "      <th>label</th>\n",
              "      <th>reddit_comments</th>\n",
              "      <th>researched_by</th>\n",
              "      <th>text</th>\n",
              "      <th>title</th>\n",
              "      <th>url</th>\n",
              "    </tr>\n",
              "  </thead>\n",
              "  <tbody>\n",
              "    <tr>\n",
              "      <th>0</th>\n",
              "      <td>0</td>\n",
              "      <td>NaN</td>\n",
              "      <td>snopes</td>\n",
              "      <td>analyze videos growth watch videos growth sinc...</td>\n",
              "      <td>vidinfo</td>\n",
              "      <td>http://www.vidinfo.org/video/67155269/jeremy-m...</td>\n",
              "    </tr>\n",
              "    <tr>\n",
              "      <th>1</th>\n",
              "      <td>1</td>\n",
              "      <td>NaN</td>\n",
              "      <td>snopes</td>\n",
              "      <td>last week current administration missed point ...</td>\n",
              "      <td>editorial misinterpreted toon unpatriotic</td>\n",
              "      <td>http://pittnews.com/30440/archives/editorial-m...</td>\n",
              "    </tr>\n",
              "    <tr>\n",
              "      <th>2</th>\n",
              "      <td>0</td>\n",
              "      <td>NaN</td>\n",
              "      <td>snopes</td>\n",
              "      <td>email protected member male join date jul 2001...</td>\n",
              "      <td>general health message board</td>\n",
              "      <td>http://www.healthboards.com/boards/general-hea...</td>\n",
              "    </tr>\n",
              "    <tr>\n",
              "      <th>3</th>\n",
              "      <td>1</td>\n",
              "      <td>NaN</td>\n",
              "      <td>snopes</td>\n",
              "      <td>urban outfitters sunk new low vintage kent sta...</td>\n",
              "      <td>urban outfitters sorry selling kent state swea...</td>\n",
              "      <td>http://gothamist.com/2014/09/15/urban_outfitte...</td>\n",
              "    </tr>\n",
              "    <tr>\n",
              "      <th>4</th>\n",
              "      <td>1</td>\n",
              "      <td>NaN</td>\n",
              "      <td>snopes</td>\n",
              "      <td>santa goes many names santa claus st nick kris...</td>\n",
              "      <td>story santa claus</td>\n",
              "      <td>http://www.englishteachermelanie.com/canada-fu...</td>\n",
              "    </tr>\n",
              "    <tr>\n",
              "      <th>...</th>\n",
              "      <td>...</td>\n",
              "      <td>...</td>\n",
              "      <td>...</td>\n",
              "      <td>...</td>\n",
              "      <td>...</td>\n",
              "      <td>...</td>\n",
              "    </tr>\n",
              "    <tr>\n",
              "      <th>69391</th>\n",
              "      <td>0</td>\n",
              "      <td>[{'created_utc': 1370998152, 'label': 0, 'auth...</td>\n",
              "      <td>snopes</td>\n",
              "      <td>donate stuff 101 places clutter good book joy ...</td>\n",
              "      <td>donate stuff 101 places clutter good miss mini...</td>\n",
              "      <td>http://www.missminimalist.com/2011/04/where-to...</td>\n",
              "    </tr>\n",
              "    <tr>\n",
              "      <th>69392</th>\n",
              "      <td>0</td>\n",
              "      <td>NaN</td>\n",
              "      <td>snopes</td>\n",
              "      <td>update 3272012 painting depicts obama burning ...</td>\n",
              "      <td>finally obama original birth certificate surfaces</td>\n",
              "      <td>http://geopolitics.co/2012/03/21/finally-obama...</td>\n",
              "    </tr>\n",
              "    <tr>\n",
              "      <th>69393</th>\n",
              "      <td>0</td>\n",
              "      <td>NaN</td>\n",
              "      <td>snopes</td>\n",
              "      <td>take selena movie quiz need go back watch movi...</td>\n",
              "      <td>selena quintanilla news 2014</td>\n",
              "      <td>http://loveselena.com/News/2014.html</td>\n",
              "    </tr>\n",
              "    <tr>\n",
              "      <th>69394</th>\n",
              "      <td>0</td>\n",
              "      <td>NaN</td>\n",
              "      <td>snopes</td>\n",
              "      <td>robert well know love ya wants love do ray rob...</td>\n",
              "      <td>tropes q z  everybody loves raymond</td>\n",
              "      <td>http://tvtropes.org/pmwiki/pmwiki.php/Everybod...</td>\n",
              "    </tr>\n",
              "    <tr>\n",
              "      <th>69395</th>\n",
              "      <td>0</td>\n",
              "      <td>[{'created_utc': 1436457724, 'label': 0, 'auth...</td>\n",
              "      <td>snopes</td>\n",
              "      <td>children crayons marketed colorful characters ...</td>\n",
              "      <td>child coloring asbestos</td>\n",
              "      <td>http://www.scientificamerican.com/article/is-y...</td>\n",
              "    </tr>\n",
              "  </tbody>\n",
              "</table>\n",
              "<p>69396 rows × 6 columns</p>\n",
              "</div>\n",
              "      <button class=\"colab-df-convert\" onclick=\"convertToInteractive('df-c0a1f069-63b8-4d43-a973-7974f71c1e97')\"\n",
              "              title=\"Convert this dataframe to an interactive table.\"\n",
              "              style=\"display:none;\">\n",
              "        \n",
              "  <svg xmlns=\"http://www.w3.org/2000/svg\" height=\"24px\"viewBox=\"0 0 24 24\"\n",
              "       width=\"24px\">\n",
              "    <path d=\"M0 0h24v24H0V0z\" fill=\"none\"/>\n",
              "    <path d=\"M18.56 5.44l.94 2.06.94-2.06 2.06-.94-2.06-.94-.94-2.06-.94 2.06-2.06.94zm-11 1L8.5 8.5l.94-2.06 2.06-.94-2.06-.94L8.5 2.5l-.94 2.06-2.06.94zm10 10l.94 2.06.94-2.06 2.06-.94-2.06-.94-.94-2.06-.94 2.06-2.06.94z\"/><path d=\"M17.41 7.96l-1.37-1.37c-.4-.4-.92-.59-1.43-.59-.52 0-1.04.2-1.43.59L10.3 9.45l-7.72 7.72c-.78.78-.78 2.05 0 2.83L4 21.41c.39.39.9.59 1.41.59.51 0 1.02-.2 1.41-.59l7.78-7.78 2.81-2.81c.8-.78.8-2.07 0-2.86zM5.41 20L4 18.59l7.72-7.72 1.47 1.35L5.41 20z\"/>\n",
              "  </svg>\n",
              "      </button>\n",
              "      \n",
              "  <style>\n",
              "    .colab-df-container {\n",
              "      display:flex;\n",
              "      flex-wrap:wrap;\n",
              "      gap: 12px;\n",
              "    }\n",
              "\n",
              "    .colab-df-convert {\n",
              "      background-color: #E8F0FE;\n",
              "      border: none;\n",
              "      border-radius: 50%;\n",
              "      cursor: pointer;\n",
              "      display: none;\n",
              "      fill: #1967D2;\n",
              "      height: 32px;\n",
              "      padding: 0 0 0 0;\n",
              "      width: 32px;\n",
              "    }\n",
              "\n",
              "    .colab-df-convert:hover {\n",
              "      background-color: #E2EBFA;\n",
              "      box-shadow: 0px 1px 2px rgba(60, 64, 67, 0.3), 0px 1px 3px 1px rgba(60, 64, 67, 0.15);\n",
              "      fill: #174EA6;\n",
              "    }\n",
              "\n",
              "    [theme=dark] .colab-df-convert {\n",
              "      background-color: #3B4455;\n",
              "      fill: #D2E3FC;\n",
              "    }\n",
              "\n",
              "    [theme=dark] .colab-df-convert:hover {\n",
              "      background-color: #434B5C;\n",
              "      box-shadow: 0px 1px 3px 1px rgba(0, 0, 0, 0.15);\n",
              "      filter: drop-shadow(0px 1px 2px rgba(0, 0, 0, 0.3));\n",
              "      fill: #FFFFFF;\n",
              "    }\n",
              "  </style>\n",
              "\n",
              "      <script>\n",
              "        const buttonEl =\n",
              "          document.querySelector('#df-c0a1f069-63b8-4d43-a973-7974f71c1e97 button.colab-df-convert');\n",
              "        buttonEl.style.display =\n",
              "          google.colab.kernel.accessAllowed ? 'block' : 'none';\n",
              "\n",
              "        async function convertToInteractive(key) {\n",
              "          const element = document.querySelector('#df-c0a1f069-63b8-4d43-a973-7974f71c1e97');\n",
              "          const dataTable =\n",
              "            await google.colab.kernel.invokeFunction('convertToInteractive',\n",
              "                                                     [key], {});\n",
              "          if (!dataTable) return;\n",
              "\n",
              "          const docLinkHtml = 'Like what you see? Visit the ' +\n",
              "            '<a target=\"_blank\" href=https://colab.research.google.com/notebooks/data_table.ipynb>data table notebook</a>'\n",
              "            + ' to learn more about interactive tables.';\n",
              "          element.innerHTML = '';\n",
              "          dataTable['output_type'] = 'display_data';\n",
              "          await google.colab.output.renderOutput(dataTable, element);\n",
              "          const docLink = document.createElement('div');\n",
              "          docLink.innerHTML = docLinkHtml;\n",
              "          element.appendChild(docLink);\n",
              "        }\n",
              "      </script>\n",
              "    </div>\n",
              "  </div>\n",
              "  "
            ]
          },
          "metadata": {},
          "execution_count": 61
        }
      ],
      "source": [
        "#replace each empty list in 'reddit_comments' column with np.nan value\n",
        "#even we can check number of empty record in this column\n",
        "df['reddit_comments'] = df['reddit_comments'].apply(lambda y: np.nan if len(y)==0 else y)\n",
        "df"
      ]
    },
    {
      "cell_type": "markdown",
      "source": [
        "###**Columns preprocessing**"
      ],
      "metadata": {
        "id": "1H-BgmtDQ6FE"
      }
    },
    {
      "cell_type": "markdown",
      "metadata": {
        "id": "25BaCL02Q6FE"
      },
      "source": [
        "####**reddit_comments**"
      ]
    },
    {
      "cell_type": "code",
      "execution_count": null,
      "metadata": {
        "colab": {
          "base_uri": "https://localhost:8080/"
        },
        "outputId": "e5440d22-fc86-45fe-94d6-2a350ec04776",
        "id": "-TMBaZs7Q6FE"
      },
      "outputs": [
        {
          "output_type": "execute_result",
          "data": {
            "text/plain": [
              "    label                                    reddit_comments researched_by  \\\n",
              "14      0  [{'created_utc': 1344890447, 'label': 0, 'auth...        snopes   \n",
              "21      1  [{'created_utc': 1383445326, 'label': 1, 'auth...        snopes   \n",
              "25      0  [{'created_utc': 1450314492, 'label': 0, 'auth...        snopes   \n",
              "29      1  [{'created_utc': 1357236735, 'label': 1, 'auth...        snopes   \n",
              "36      0  [{'created_utc': 1398095468, 'label': 0, 'auth...        snopes   \n",
              "\n",
              "                                                 text  \\\n",
              "14  comprehensive database us voter fraud uncovers...   \n",
              "21  megan thompson asked national association chai...   \n",
              "25  prosecond amendment protester holds sign readi...   \n",
              "29  miami cbsmiami every time turn lights may putt...   \n",
              "36  something relate to dreaded moment realize sup...   \n",
              "\n",
              "                                                title  \\\n",
              "14                       news21 2012 national project   \n",
              "21          generic drugs necessarily mean low prices   \n",
              "25  obama admin willing run roughshod constitution...   \n",
              "29  study ecofriendly light bulbs may put health risk   \n",
              "36  spring cleaning three ways increase computers ...   \n",
              "\n",
              "                                                  url  \n",
              "14  http://votingrights.news21.com/article/electio...  \n",
              "21  http://www.pbs.org/newshour/bb/health-july-dec...  \n",
              "25  http://cnsnews.com/commentary/daniel-mitchell/...  \n",
              "29  http://miami.cbslocal.com/2013/01/02/study-eco...  \n",
              "36  http://www.cnet.com/how-to/ways-to-increase-yo...  "
            ],
            "text/html": [
              "\n",
              "  <div id=\"df-9c2dd8ff-92b1-4ad9-bbfd-90581a3f9100\">\n",
              "    <div class=\"colab-df-container\">\n",
              "      <div>\n",
              "<style scoped>\n",
              "    .dataframe tbody tr th:only-of-type {\n",
              "        vertical-align: middle;\n",
              "    }\n",
              "\n",
              "    .dataframe tbody tr th {\n",
              "        vertical-align: top;\n",
              "    }\n",
              "\n",
              "    .dataframe thead th {\n",
              "        text-align: right;\n",
              "    }\n",
              "</style>\n",
              "<table border=\"1\" class=\"dataframe\">\n",
              "  <thead>\n",
              "    <tr style=\"text-align: right;\">\n",
              "      <th></th>\n",
              "      <th>label</th>\n",
              "      <th>reddit_comments</th>\n",
              "      <th>researched_by</th>\n",
              "      <th>text</th>\n",
              "      <th>title</th>\n",
              "      <th>url</th>\n",
              "    </tr>\n",
              "  </thead>\n",
              "  <tbody>\n",
              "    <tr>\n",
              "      <th>14</th>\n",
              "      <td>0</td>\n",
              "      <td>[{'created_utc': 1344890447, 'label': 0, 'auth...</td>\n",
              "      <td>snopes</td>\n",
              "      <td>comprehensive database us voter fraud uncovers...</td>\n",
              "      <td>news21 2012 national project</td>\n",
              "      <td>http://votingrights.news21.com/article/electio...</td>\n",
              "    </tr>\n",
              "    <tr>\n",
              "      <th>21</th>\n",
              "      <td>1</td>\n",
              "      <td>[{'created_utc': 1383445326, 'label': 1, 'auth...</td>\n",
              "      <td>snopes</td>\n",
              "      <td>megan thompson asked national association chai...</td>\n",
              "      <td>generic drugs necessarily mean low prices</td>\n",
              "      <td>http://www.pbs.org/newshour/bb/health-july-dec...</td>\n",
              "    </tr>\n",
              "    <tr>\n",
              "      <th>25</th>\n",
              "      <td>0</td>\n",
              "      <td>[{'created_utc': 1450314492, 'label': 0, 'auth...</td>\n",
              "      <td>snopes</td>\n",
              "      <td>prosecond amendment protester holds sign readi...</td>\n",
              "      <td>obama admin willing run roughshod constitution...</td>\n",
              "      <td>http://cnsnews.com/commentary/daniel-mitchell/...</td>\n",
              "    </tr>\n",
              "    <tr>\n",
              "      <th>29</th>\n",
              "      <td>1</td>\n",
              "      <td>[{'created_utc': 1357236735, 'label': 1, 'auth...</td>\n",
              "      <td>snopes</td>\n",
              "      <td>miami cbsmiami every time turn lights may putt...</td>\n",
              "      <td>study ecofriendly light bulbs may put health risk</td>\n",
              "      <td>http://miami.cbslocal.com/2013/01/02/study-eco...</td>\n",
              "    </tr>\n",
              "    <tr>\n",
              "      <th>36</th>\n",
              "      <td>0</td>\n",
              "      <td>[{'created_utc': 1398095468, 'label': 0, 'auth...</td>\n",
              "      <td>snopes</td>\n",
              "      <td>something relate to dreaded moment realize sup...</td>\n",
              "      <td>spring cleaning three ways increase computers ...</td>\n",
              "      <td>http://www.cnet.com/how-to/ways-to-increase-yo...</td>\n",
              "    </tr>\n",
              "  </tbody>\n",
              "</table>\n",
              "</div>\n",
              "      <button class=\"colab-df-convert\" onclick=\"convertToInteractive('df-9c2dd8ff-92b1-4ad9-bbfd-90581a3f9100')\"\n",
              "              title=\"Convert this dataframe to an interactive table.\"\n",
              "              style=\"display:none;\">\n",
              "        \n",
              "  <svg xmlns=\"http://www.w3.org/2000/svg\" height=\"24px\"viewBox=\"0 0 24 24\"\n",
              "       width=\"24px\">\n",
              "    <path d=\"M0 0h24v24H0V0z\" fill=\"none\"/>\n",
              "    <path d=\"M18.56 5.44l.94 2.06.94-2.06 2.06-.94-2.06-.94-.94-2.06-.94 2.06-2.06.94zm-11 1L8.5 8.5l.94-2.06 2.06-.94-2.06-.94L8.5 2.5l-.94 2.06-2.06.94zm10 10l.94 2.06.94-2.06 2.06-.94-2.06-.94-.94-2.06-.94 2.06-2.06.94z\"/><path d=\"M17.41 7.96l-1.37-1.37c-.4-.4-.92-.59-1.43-.59-.52 0-1.04.2-1.43.59L10.3 9.45l-7.72 7.72c-.78.78-.78 2.05 0 2.83L4 21.41c.39.39.9.59 1.41.59.51 0 1.02-.2 1.41-.59l7.78-7.78 2.81-2.81c.8-.78.8-2.07 0-2.86zM5.41 20L4 18.59l7.72-7.72 1.47 1.35L5.41 20z\"/>\n",
              "  </svg>\n",
              "      </button>\n",
              "      \n",
              "  <style>\n",
              "    .colab-df-container {\n",
              "      display:flex;\n",
              "      flex-wrap:wrap;\n",
              "      gap: 12px;\n",
              "    }\n",
              "\n",
              "    .colab-df-convert {\n",
              "      background-color: #E8F0FE;\n",
              "      border: none;\n",
              "      border-radius: 50%;\n",
              "      cursor: pointer;\n",
              "      display: none;\n",
              "      fill: #1967D2;\n",
              "      height: 32px;\n",
              "      padding: 0 0 0 0;\n",
              "      width: 32px;\n",
              "    }\n",
              "\n",
              "    .colab-df-convert:hover {\n",
              "      background-color: #E2EBFA;\n",
              "      box-shadow: 0px 1px 2px rgba(60, 64, 67, 0.3), 0px 1px 3px 1px rgba(60, 64, 67, 0.15);\n",
              "      fill: #174EA6;\n",
              "    }\n",
              "\n",
              "    [theme=dark] .colab-df-convert {\n",
              "      background-color: #3B4455;\n",
              "      fill: #D2E3FC;\n",
              "    }\n",
              "\n",
              "    [theme=dark] .colab-df-convert:hover {\n",
              "      background-color: #434B5C;\n",
              "      box-shadow: 0px 1px 3px 1px rgba(0, 0, 0, 0.15);\n",
              "      filter: drop-shadow(0px 1px 2px rgba(0, 0, 0, 0.3));\n",
              "      fill: #FFFFFF;\n",
              "    }\n",
              "  </style>\n",
              "\n",
              "      <script>\n",
              "        const buttonEl =\n",
              "          document.querySelector('#df-9c2dd8ff-92b1-4ad9-bbfd-90581a3f9100 button.colab-df-convert');\n",
              "        buttonEl.style.display =\n",
              "          google.colab.kernel.accessAllowed ? 'block' : 'none';\n",
              "\n",
              "        async function convertToInteractive(key) {\n",
              "          const element = document.querySelector('#df-9c2dd8ff-92b1-4ad9-bbfd-90581a3f9100');\n",
              "          const dataTable =\n",
              "            await google.colab.kernel.invokeFunction('convertToInteractive',\n",
              "                                                     [key], {});\n",
              "          if (!dataTable) return;\n",
              "\n",
              "          const docLinkHtml = 'Like what you see? Visit the ' +\n",
              "            '<a target=\"_blank\" href=https://colab.research.google.com/notebooks/data_table.ipynb>data table notebook</a>'\n",
              "            + ' to learn more about interactive tables.';\n",
              "          element.innerHTML = '';\n",
              "          dataTable['output_type'] = 'display_data';\n",
              "          await google.colab.output.renderOutput(dataTable, element);\n",
              "          const docLink = document.createElement('div');\n",
              "          docLink.innerHTML = docLinkHtml;\n",
              "          element.appendChild(docLink);\n",
              "        }\n",
              "      </script>\n",
              "    </div>\n",
              "  </div>\n",
              "  "
            ]
          },
          "metadata": {},
          "execution_count": 62
        }
      ],
      "source": [
        "#drop missing values from reddit_comments creating new dataframe called(df2)\n",
        "df3=df.dropna()\n",
        "df3.head()\n"
      ]
    },
    {
      "cell_type": "code",
      "execution_count": null,
      "metadata": {
        "id": "Z_-C6So0Q6FE"
      },
      "outputs": [],
      "source": [
        "#extact the bodies & their lengths(number of comments on each news) from reddit_comments column\n",
        "bodies=[]\n",
        "lengths =[]\n",
        "for i in df3.index:\n",
        "  bodies.append([x['body'] for x in df3['reddit_comments'][i]])\n",
        "  lengths.append(len([x['body'] for x in df3['reddit_comments'][i]]))\n",
        "#adding the new columns to the dataframe\n",
        "df3['bodies']=bodies\n",
        "df3['lengths']=lengths "
      ]
    },
    {
      "cell_type": "code",
      "execution_count": null,
      "metadata": {
        "colab": {
          "base_uri": "https://localhost:8080/"
        },
        "outputId": "2557c39e-a35a-4fc4-c79a-6a8993acbd67",
        "id": "ZRZONHoaQ6FE"
      },
      "outputs": [
        {
          "output_type": "execute_result",
          "data": {
            "text/plain": [
              "       label                                    reddit_comments researched_by  \\\n",
              "69357      0  [{'created_utc': 1419009280, 'label': 0, 'auth...        snopes   \n",
              "69376      1  [{'created_utc': 1396451042, 'label': 1, 'auth...        snopes   \n",
              "69388      0  [{'created_utc': 1438088891, 'label': 0, 'auth...        snopes   \n",
              "69391      0  [{'created_utc': 1370998152, 'label': 0, 'auth...        snopes   \n",
              "69395      0  [{'created_utc': 1436457724, 'label': 0, 'auth...        snopes   \n",
              "\n",
              "                                                    text  \\\n",
              "69357  close heels obamas pointed comments sony pictu...   \n",
              "69376  parents pennsylvania community edge police say...   \n",
              "69388  attack woman france wore bikini public park sp...   \n",
              "69391  donate stuff 101 places clutter good book joy ...   \n",
              "69395  children crayons marketed colorful characters ...   \n",
              "\n",
              "                                                   title  \\\n",
              "69357            obama sony did wrong thing pulled movie   \n",
              "69376  razor blades found ducttaped playground equipment   \n",
              "69388  muslim girl gang attacks bikini wearing sunbat...   \n",
              "69391  donate stuff 101 places clutter good miss mini...   \n",
              "69395                            child coloring asbestos   \n",
              "\n",
              "                                                     url  \\\n",
              "69357  http://www.usatoday.com/story/news/2014/12/19/...   \n",
              "69376  http://www.nbcphiladelphia.com/news/local/Razo...   \n",
              "69388  http://www.dailymail.co.uk/news/article-317595...   \n",
              "69391  http://www.missminimalist.com/2011/04/where-to...   \n",
              "69395  http://www.scientificamerican.com/article/is-y...   \n",
              "\n",
              "                                                  bodies  lengths  \n",
              "69357  [hackers watched movie liked it, send sony new...      177  \n",
              "69376  [like incident injuries caused still douche mo...        2  \n",
              "69388  [mayor reims arnaud robinet said careful jump ...        4  \n",
              "69391  [great post im hoping obtain minimal lifestyle...        8  \n",
              "69395  [deleted, whether airborne not exposure asbest...        2  "
            ],
            "text/html": [
              "\n",
              "  <div id=\"df-7b0f4721-15a0-4d82-9908-c0bc6f50773c\">\n",
              "    <div class=\"colab-df-container\">\n",
              "      <div>\n",
              "<style scoped>\n",
              "    .dataframe tbody tr th:only-of-type {\n",
              "        vertical-align: middle;\n",
              "    }\n",
              "\n",
              "    .dataframe tbody tr th {\n",
              "        vertical-align: top;\n",
              "    }\n",
              "\n",
              "    .dataframe thead th {\n",
              "        text-align: right;\n",
              "    }\n",
              "</style>\n",
              "<table border=\"1\" class=\"dataframe\">\n",
              "  <thead>\n",
              "    <tr style=\"text-align: right;\">\n",
              "      <th></th>\n",
              "      <th>label</th>\n",
              "      <th>reddit_comments</th>\n",
              "      <th>researched_by</th>\n",
              "      <th>text</th>\n",
              "      <th>title</th>\n",
              "      <th>url</th>\n",
              "      <th>bodies</th>\n",
              "      <th>lengths</th>\n",
              "    </tr>\n",
              "  </thead>\n",
              "  <tbody>\n",
              "    <tr>\n",
              "      <th>69357</th>\n",
              "      <td>0</td>\n",
              "      <td>[{'created_utc': 1419009280, 'label': 0, 'auth...</td>\n",
              "      <td>snopes</td>\n",
              "      <td>close heels obamas pointed comments sony pictu...</td>\n",
              "      <td>obama sony did wrong thing pulled movie</td>\n",
              "      <td>http://www.usatoday.com/story/news/2014/12/19/...</td>\n",
              "      <td>[hackers watched movie liked it, send sony new...</td>\n",
              "      <td>177</td>\n",
              "    </tr>\n",
              "    <tr>\n",
              "      <th>69376</th>\n",
              "      <td>1</td>\n",
              "      <td>[{'created_utc': 1396451042, 'label': 1, 'auth...</td>\n",
              "      <td>snopes</td>\n",
              "      <td>parents pennsylvania community edge police say...</td>\n",
              "      <td>razor blades found ducttaped playground equipment</td>\n",
              "      <td>http://www.nbcphiladelphia.com/news/local/Razo...</td>\n",
              "      <td>[like incident injuries caused still douche mo...</td>\n",
              "      <td>2</td>\n",
              "    </tr>\n",
              "    <tr>\n",
              "      <th>69388</th>\n",
              "      <td>0</td>\n",
              "      <td>[{'created_utc': 1438088891, 'label': 0, 'auth...</td>\n",
              "      <td>snopes</td>\n",
              "      <td>attack woman france wore bikini public park sp...</td>\n",
              "      <td>muslim girl gang attacks bikini wearing sunbat...</td>\n",
              "      <td>http://www.dailymail.co.uk/news/article-317595...</td>\n",
              "      <td>[mayor reims arnaud robinet said careful jump ...</td>\n",
              "      <td>4</td>\n",
              "    </tr>\n",
              "    <tr>\n",
              "      <th>69391</th>\n",
              "      <td>0</td>\n",
              "      <td>[{'created_utc': 1370998152, 'label': 0, 'auth...</td>\n",
              "      <td>snopes</td>\n",
              "      <td>donate stuff 101 places clutter good book joy ...</td>\n",
              "      <td>donate stuff 101 places clutter good miss mini...</td>\n",
              "      <td>http://www.missminimalist.com/2011/04/where-to...</td>\n",
              "      <td>[great post im hoping obtain minimal lifestyle...</td>\n",
              "      <td>8</td>\n",
              "    </tr>\n",
              "    <tr>\n",
              "      <th>69395</th>\n",
              "      <td>0</td>\n",
              "      <td>[{'created_utc': 1436457724, 'label': 0, 'auth...</td>\n",
              "      <td>snopes</td>\n",
              "      <td>children crayons marketed colorful characters ...</td>\n",
              "      <td>child coloring asbestos</td>\n",
              "      <td>http://www.scientificamerican.com/article/is-y...</td>\n",
              "      <td>[deleted, whether airborne not exposure asbest...</td>\n",
              "      <td>2</td>\n",
              "    </tr>\n",
              "  </tbody>\n",
              "</table>\n",
              "</div>\n",
              "      <button class=\"colab-df-convert\" onclick=\"convertToInteractive('df-7b0f4721-15a0-4d82-9908-c0bc6f50773c')\"\n",
              "              title=\"Convert this dataframe to an interactive table.\"\n",
              "              style=\"display:none;\">\n",
              "        \n",
              "  <svg xmlns=\"http://www.w3.org/2000/svg\" height=\"24px\"viewBox=\"0 0 24 24\"\n",
              "       width=\"24px\">\n",
              "    <path d=\"M0 0h24v24H0V0z\" fill=\"none\"/>\n",
              "    <path d=\"M18.56 5.44l.94 2.06.94-2.06 2.06-.94-2.06-.94-.94-2.06-.94 2.06-2.06.94zm-11 1L8.5 8.5l.94-2.06 2.06-.94-2.06-.94L8.5 2.5l-.94 2.06-2.06.94zm10 10l.94 2.06.94-2.06 2.06-.94-2.06-.94-.94-2.06-.94 2.06-2.06.94z\"/><path d=\"M17.41 7.96l-1.37-1.37c-.4-.4-.92-.59-1.43-.59-.52 0-1.04.2-1.43.59L10.3 9.45l-7.72 7.72c-.78.78-.78 2.05 0 2.83L4 21.41c.39.39.9.59 1.41.59.51 0 1.02-.2 1.41-.59l7.78-7.78 2.81-2.81c.8-.78.8-2.07 0-2.86zM5.41 20L4 18.59l7.72-7.72 1.47 1.35L5.41 20z\"/>\n",
              "  </svg>\n",
              "      </button>\n",
              "      \n",
              "  <style>\n",
              "    .colab-df-container {\n",
              "      display:flex;\n",
              "      flex-wrap:wrap;\n",
              "      gap: 12px;\n",
              "    }\n",
              "\n",
              "    .colab-df-convert {\n",
              "      background-color: #E8F0FE;\n",
              "      border: none;\n",
              "      border-radius: 50%;\n",
              "      cursor: pointer;\n",
              "      display: none;\n",
              "      fill: #1967D2;\n",
              "      height: 32px;\n",
              "      padding: 0 0 0 0;\n",
              "      width: 32px;\n",
              "    }\n",
              "\n",
              "    .colab-df-convert:hover {\n",
              "      background-color: #E2EBFA;\n",
              "      box-shadow: 0px 1px 2px rgba(60, 64, 67, 0.3), 0px 1px 3px 1px rgba(60, 64, 67, 0.15);\n",
              "      fill: #174EA6;\n",
              "    }\n",
              "\n",
              "    [theme=dark] .colab-df-convert {\n",
              "      background-color: #3B4455;\n",
              "      fill: #D2E3FC;\n",
              "    }\n",
              "\n",
              "    [theme=dark] .colab-df-convert:hover {\n",
              "      background-color: #434B5C;\n",
              "      box-shadow: 0px 1px 3px 1px rgba(0, 0, 0, 0.15);\n",
              "      filter: drop-shadow(0px 1px 2px rgba(0, 0, 0, 0.3));\n",
              "      fill: #FFFFFF;\n",
              "    }\n",
              "  </style>\n",
              "\n",
              "      <script>\n",
              "        const buttonEl =\n",
              "          document.querySelector('#df-7b0f4721-15a0-4d82-9908-c0bc6f50773c button.colab-df-convert');\n",
              "        buttonEl.style.display =\n",
              "          google.colab.kernel.accessAllowed ? 'block' : 'none';\n",
              "\n",
              "        async function convertToInteractive(key) {\n",
              "          const element = document.querySelector('#df-7b0f4721-15a0-4d82-9908-c0bc6f50773c');\n",
              "          const dataTable =\n",
              "            await google.colab.kernel.invokeFunction('convertToInteractive',\n",
              "                                                     [key], {});\n",
              "          if (!dataTable) return;\n",
              "\n",
              "          const docLinkHtml = 'Like what you see? Visit the ' +\n",
              "            '<a target=\"_blank\" href=https://colab.research.google.com/notebooks/data_table.ipynb>data table notebook</a>'\n",
              "            + ' to learn more about interactive tables.';\n",
              "          element.innerHTML = '';\n",
              "          dataTable['output_type'] = 'display_data';\n",
              "          await google.colab.output.renderOutput(dataTable, element);\n",
              "          const docLink = document.createElement('div');\n",
              "          docLink.innerHTML = docLinkHtml;\n",
              "          element.appendChild(docLink);\n",
              "        }\n",
              "      </script>\n",
              "    </div>\n",
              "  </div>\n",
              "  "
            ]
          },
          "metadata": {},
          "execution_count": 64
        }
      ],
      "source": [
        "df3.tail()"
      ]
    },
    {
      "cell_type": "code",
      "execution_count": null,
      "metadata": {
        "id": "F3oxIGsCQ6FE"
      },
      "outputs": [],
      "source": [
        "#remove the unwanted strings and empty bodies(deleted)\n",
        "unwanted_strings=['       ','        ',\"\",\" \",\"deleted\",\"nan\"]\n",
        "for i in df3.index:\n",
        "  df3['bodies'][i] = [x for x in df3['bodies'][i] if x not in unwanted_strings]"
      ]
    },
    {
      "cell_type": "code",
      "source": [
        "#recalculate the number of comments(lengths) after removing the unwanted strings & empty comments(deleted)\n",
        "for i in df3.index:\n",
        "  df3['lengths'][i]=len([x for x in df3['bodies'][i]])"
      ],
      "metadata": {
        "id": "PCbxxxV8Q6FF"
      },
      "execution_count": null,
      "outputs": []
    },
    {
      "cell_type": "code",
      "execution_count": null,
      "metadata": {
        "colab": {
          "base_uri": "https://localhost:8080/"
        },
        "outputId": "072cb1fd-28a9-4578-f0a1-7a1c0053364b",
        "id": "Jm1tZmsQQ6FF"
      },
      "outputs": [
        {
          "output_type": "execute_result",
          "data": {
            "text/plain": [
              "       label                                    reddit_comments researched_by  \\\n",
              "69357      0  [{'created_utc': 1419009280, 'label': 0, 'auth...        snopes   \n",
              "69376      1  [{'created_utc': 1396451042, 'label': 1, 'auth...        snopes   \n",
              "69388      0  [{'created_utc': 1438088891, 'label': 0, 'auth...        snopes   \n",
              "69391      0  [{'created_utc': 1370998152, 'label': 0, 'auth...        snopes   \n",
              "69395      0  [{'created_utc': 1436457724, 'label': 0, 'auth...        snopes   \n",
              "\n",
              "                                                    text  \\\n",
              "69357  close heels obamas pointed comments sony pictu...   \n",
              "69376  parents pennsylvania community edge police say...   \n",
              "69388  attack woman france wore bikini public park sp...   \n",
              "69391  donate stuff 101 places clutter good book joy ...   \n",
              "69395  children crayons marketed colorful characters ...   \n",
              "\n",
              "                                                   title  \\\n",
              "69357            obama sony did wrong thing pulled movie   \n",
              "69376  razor blades found ducttaped playground equipment   \n",
              "69388  muslim girl gang attacks bikini wearing sunbat...   \n",
              "69391  donate stuff 101 places clutter good miss mini...   \n",
              "69395                            child coloring asbestos   \n",
              "\n",
              "                                                     url  \\\n",
              "69357  http://www.usatoday.com/story/news/2014/12/19/...   \n",
              "69376  http://www.nbcphiladelphia.com/news/local/Razo...   \n",
              "69388  http://www.dailymail.co.uk/news/article-317595...   \n",
              "69391  http://www.missminimalist.com/2011/04/where-to...   \n",
              "69395  http://www.scientificamerican.com/article/is-y...   \n",
              "\n",
              "                                                  bodies  lengths  \n",
              "69357  [hackers watched movie liked it, send sony new...      174  \n",
              "69376  [like incident injuries caused still douche mo...        2  \n",
              "69388  [mayor reims arnaud robinet said careful jump ...        4  \n",
              "69391  [great post im hoping obtain minimal lifestyle...        7  \n",
              "69395  [whether airborne not exposure asbestos child ...        1  "
            ],
            "text/html": [
              "\n",
              "  <div id=\"df-1f1d2b99-daa2-4111-b749-67af9e271381\">\n",
              "    <div class=\"colab-df-container\">\n",
              "      <div>\n",
              "<style scoped>\n",
              "    .dataframe tbody tr th:only-of-type {\n",
              "        vertical-align: middle;\n",
              "    }\n",
              "\n",
              "    .dataframe tbody tr th {\n",
              "        vertical-align: top;\n",
              "    }\n",
              "\n",
              "    .dataframe thead th {\n",
              "        text-align: right;\n",
              "    }\n",
              "</style>\n",
              "<table border=\"1\" class=\"dataframe\">\n",
              "  <thead>\n",
              "    <tr style=\"text-align: right;\">\n",
              "      <th></th>\n",
              "      <th>label</th>\n",
              "      <th>reddit_comments</th>\n",
              "      <th>researched_by</th>\n",
              "      <th>text</th>\n",
              "      <th>title</th>\n",
              "      <th>url</th>\n",
              "      <th>bodies</th>\n",
              "      <th>lengths</th>\n",
              "    </tr>\n",
              "  </thead>\n",
              "  <tbody>\n",
              "    <tr>\n",
              "      <th>69357</th>\n",
              "      <td>0</td>\n",
              "      <td>[{'created_utc': 1419009280, 'label': 0, 'auth...</td>\n",
              "      <td>snopes</td>\n",
              "      <td>close heels obamas pointed comments sony pictu...</td>\n",
              "      <td>obama sony did wrong thing pulled movie</td>\n",
              "      <td>http://www.usatoday.com/story/news/2014/12/19/...</td>\n",
              "      <td>[hackers watched movie liked it, send sony new...</td>\n",
              "      <td>174</td>\n",
              "    </tr>\n",
              "    <tr>\n",
              "      <th>69376</th>\n",
              "      <td>1</td>\n",
              "      <td>[{'created_utc': 1396451042, 'label': 1, 'auth...</td>\n",
              "      <td>snopes</td>\n",
              "      <td>parents pennsylvania community edge police say...</td>\n",
              "      <td>razor blades found ducttaped playground equipment</td>\n",
              "      <td>http://www.nbcphiladelphia.com/news/local/Razo...</td>\n",
              "      <td>[like incident injuries caused still douche mo...</td>\n",
              "      <td>2</td>\n",
              "    </tr>\n",
              "    <tr>\n",
              "      <th>69388</th>\n",
              "      <td>0</td>\n",
              "      <td>[{'created_utc': 1438088891, 'label': 0, 'auth...</td>\n",
              "      <td>snopes</td>\n",
              "      <td>attack woman france wore bikini public park sp...</td>\n",
              "      <td>muslim girl gang attacks bikini wearing sunbat...</td>\n",
              "      <td>http://www.dailymail.co.uk/news/article-317595...</td>\n",
              "      <td>[mayor reims arnaud robinet said careful jump ...</td>\n",
              "      <td>4</td>\n",
              "    </tr>\n",
              "    <tr>\n",
              "      <th>69391</th>\n",
              "      <td>0</td>\n",
              "      <td>[{'created_utc': 1370998152, 'label': 0, 'auth...</td>\n",
              "      <td>snopes</td>\n",
              "      <td>donate stuff 101 places clutter good book joy ...</td>\n",
              "      <td>donate stuff 101 places clutter good miss mini...</td>\n",
              "      <td>http://www.missminimalist.com/2011/04/where-to...</td>\n",
              "      <td>[great post im hoping obtain minimal lifestyle...</td>\n",
              "      <td>7</td>\n",
              "    </tr>\n",
              "    <tr>\n",
              "      <th>69395</th>\n",
              "      <td>0</td>\n",
              "      <td>[{'created_utc': 1436457724, 'label': 0, 'auth...</td>\n",
              "      <td>snopes</td>\n",
              "      <td>children crayons marketed colorful characters ...</td>\n",
              "      <td>child coloring asbestos</td>\n",
              "      <td>http://www.scientificamerican.com/article/is-y...</td>\n",
              "      <td>[whether airborne not exposure asbestos child ...</td>\n",
              "      <td>1</td>\n",
              "    </tr>\n",
              "  </tbody>\n",
              "</table>\n",
              "</div>\n",
              "      <button class=\"colab-df-convert\" onclick=\"convertToInteractive('df-1f1d2b99-daa2-4111-b749-67af9e271381')\"\n",
              "              title=\"Convert this dataframe to an interactive table.\"\n",
              "              style=\"display:none;\">\n",
              "        \n",
              "  <svg xmlns=\"http://www.w3.org/2000/svg\" height=\"24px\"viewBox=\"0 0 24 24\"\n",
              "       width=\"24px\">\n",
              "    <path d=\"M0 0h24v24H0V0z\" fill=\"none\"/>\n",
              "    <path d=\"M18.56 5.44l.94 2.06.94-2.06 2.06-.94-2.06-.94-.94-2.06-.94 2.06-2.06.94zm-11 1L8.5 8.5l.94-2.06 2.06-.94-2.06-.94L8.5 2.5l-.94 2.06-2.06.94zm10 10l.94 2.06.94-2.06 2.06-.94-2.06-.94-.94-2.06-.94 2.06-2.06.94z\"/><path d=\"M17.41 7.96l-1.37-1.37c-.4-.4-.92-.59-1.43-.59-.52 0-1.04.2-1.43.59L10.3 9.45l-7.72 7.72c-.78.78-.78 2.05 0 2.83L4 21.41c.39.39.9.59 1.41.59.51 0 1.02-.2 1.41-.59l7.78-7.78 2.81-2.81c.8-.78.8-2.07 0-2.86zM5.41 20L4 18.59l7.72-7.72 1.47 1.35L5.41 20z\"/>\n",
              "  </svg>\n",
              "      </button>\n",
              "      \n",
              "  <style>\n",
              "    .colab-df-container {\n",
              "      display:flex;\n",
              "      flex-wrap:wrap;\n",
              "      gap: 12px;\n",
              "    }\n",
              "\n",
              "    .colab-df-convert {\n",
              "      background-color: #E8F0FE;\n",
              "      border: none;\n",
              "      border-radius: 50%;\n",
              "      cursor: pointer;\n",
              "      display: none;\n",
              "      fill: #1967D2;\n",
              "      height: 32px;\n",
              "      padding: 0 0 0 0;\n",
              "      width: 32px;\n",
              "    }\n",
              "\n",
              "    .colab-df-convert:hover {\n",
              "      background-color: #E2EBFA;\n",
              "      box-shadow: 0px 1px 2px rgba(60, 64, 67, 0.3), 0px 1px 3px 1px rgba(60, 64, 67, 0.15);\n",
              "      fill: #174EA6;\n",
              "    }\n",
              "\n",
              "    [theme=dark] .colab-df-convert {\n",
              "      background-color: #3B4455;\n",
              "      fill: #D2E3FC;\n",
              "    }\n",
              "\n",
              "    [theme=dark] .colab-df-convert:hover {\n",
              "      background-color: #434B5C;\n",
              "      box-shadow: 0px 1px 3px 1px rgba(0, 0, 0, 0.15);\n",
              "      filter: drop-shadow(0px 1px 2px rgba(0, 0, 0, 0.3));\n",
              "      fill: #FFFFFF;\n",
              "    }\n",
              "  </style>\n",
              "\n",
              "      <script>\n",
              "        const buttonEl =\n",
              "          document.querySelector('#df-1f1d2b99-daa2-4111-b749-67af9e271381 button.colab-df-convert');\n",
              "        buttonEl.style.display =\n",
              "          google.colab.kernel.accessAllowed ? 'block' : 'none';\n",
              "\n",
              "        async function convertToInteractive(key) {\n",
              "          const element = document.querySelector('#df-1f1d2b99-daa2-4111-b749-67af9e271381');\n",
              "          const dataTable =\n",
              "            await google.colab.kernel.invokeFunction('convertToInteractive',\n",
              "                                                     [key], {});\n",
              "          if (!dataTable) return;\n",
              "\n",
              "          const docLinkHtml = 'Like what you see? Visit the ' +\n",
              "            '<a target=\"_blank\" href=https://colab.research.google.com/notebooks/data_table.ipynb>data table notebook</a>'\n",
              "            + ' to learn more about interactive tables.';\n",
              "          element.innerHTML = '';\n",
              "          dataTable['output_type'] = 'display_data';\n",
              "          await google.colab.output.renderOutput(dataTable, element);\n",
              "          const docLink = document.createElement('div');\n",
              "          docLink.innerHTML = docLinkHtml;\n",
              "          element.appendChild(docLink);\n",
              "        }\n",
              "      </script>\n",
              "    </div>\n",
              "  </div>\n",
              "  "
            ]
          },
          "metadata": {},
          "execution_count": 67
        }
      ],
      "source": [
        "df3.tail()"
      ]
    },
    {
      "cell_type": "code",
      "execution_count": null,
      "metadata": {
        "colab": {
          "base_uri": "https://localhost:8080/"
        },
        "outputId": "87e6530e-82d3-47f9-d46b-1145872287c3",
        "id": "Ofovxmr9Q6FF"
      },
      "outputs": [
        {
          "output_type": "display_data",
          "data": {
            "text/plain": [
              "<Figure size 720x360 with 1 Axes>"
            ],
            "image/png": "[encoded data removed]"
          },
          "metadata": {
            "needs_background": "light"
          }
        }
      ],
      "source": [
        "#display the distribution of number of comments per each news\n",
        "df3['lengths'].hist();"
      ]
    },
    {
      "cell_type": "markdown",
      "metadata": {
        "id": "e95HAh-GQ6FF"
      },
      "source": [
        "####**url**\n"
      ]
    },
    {
      "cell_type": "code",
      "execution_count": null,
      "metadata": {
        "id": "BoSggigoQ6FF"
      },
      "outputs": [],
      "source": [
        "#The URL parsing functions to split a URL string into its components\n",
        "from urllib.parse import urlparse\n",
        "df3['clean_url'] = df3['url'].astype('str').apply(lambda x: urlparse(x)[1])"
      ]
    },
    {
      "cell_type": "code",
      "execution_count": null,
      "metadata": {
        "colab": {
          "base_uri": "https://localhost:8080/"
        },
        "outputId": "8b32c616-b6d8-4942-b287-839e5ba45f6b",
        "id": "jPnk2aL8Q6FF"
      },
      "outputs": [
        {
          "output_type": "execute_result",
          "data": {
            "text/plain": [
              "14          votingrights news21 com\n",
              "21                      www pbs org\n",
              "25                      cnsnews com\n",
              "29               miami cbslocal com\n",
              "36                     www cnet com\n",
              "                    ...            \n",
              "69357              www usatoday com\n",
              "69376       www nbcphiladelphia com\n",
              "69388           www dailymail co uk\n",
              "69391        www missminimalist com\n",
              "69395    www scientificamerican com\n",
              "Name: clean_url, Length: 5235, dtype: object"
            ]
          },
          "metadata": {},
          "execution_count": 70
        }
      ],
      "source": [
        "#remove the dot character\n",
        "for i in df3.index:\n",
        "  df3['clean_url'][i]=df3['clean_url'][i].replace('.' , ' ')\n",
        "df3['clean_url']"
      ]
    },
    {
      "cell_type": "markdown",
      "metadata": {
        "id": "bUz1K_ZDQ6FF"
      },
      "source": [
        "####**title**"
      ]
    },
    {
      "cell_type": "code",
      "execution_count": null,
      "metadata": {
        "colab": {
          "base_uri": "https://localhost:8080/"
        },
        "outputId": "8c7c1be4-496f-4c88-aed6-cc85b0918155",
        "id": "aw0oh5XQQ6FG"
      },
      "outputs": [
        {
          "output_type": "stream",
          "name": "stdout",
          "text": [
            "CPU times: user 1.03 s, sys: 537 µs, total: 1.03 s\n",
            "Wall time: 1.03 s\n"
          ]
        }
      ],
      "source": [
        "#applying the first cleaning function on title column \n",
        "#and put the output of this cleaning process in new column(\"clean_title\")\n",
        "%%time\n",
        "# Clean text in train data (1.45 s)\n",
        "df3[\"clean_title\"] = df3.loc[df3[\"title\"].str.len() > 0, \"title\"]\n",
        "df3[\"clean_title\"] = df3[\"clean_title\"].map(lambda x: clean_text(x, for_embedding=False) if isinstance(x, str) else x)\n",
        "df3['clean_title']=df3['clean_title'].replace(np.nan , \" \" )"
      ]
    },
    {
      "cell_type": "code",
      "execution_count": null,
      "metadata": {
        "colab": {
          "base_uri": "https://localhost:8080/"
        },
        "outputId": "cc967cb2-fbdc-46c3-ec1b-f3d66f48cea2",
        "id": "KDFzG8gFQ6FG"
      },
      "outputs": [
        {
          "output_type": "execute_result",
          "data": {
            "text/plain": [
              "    label                                    reddit_comments researched_by  \\\n",
              "14      0  [{'created_utc': 1344890447, 'label': 0, 'auth...        snopes   \n",
              "21      1  [{'created_utc': 1383445326, 'label': 1, 'auth...        snopes   \n",
              "25      0  [{'created_utc': 1450314492, 'label': 0, 'auth...        snopes   \n",
              "29      1  [{'created_utc': 1357236735, 'label': 1, 'auth...        snopes   \n",
              "36      0  [{'created_utc': 1398095468, 'label': 0, 'auth...        snopes   \n",
              "\n",
              "                                                 text  \\\n",
              "14  comprehensive database us voter fraud uncovers...   \n",
              "21  megan thompson asked national association chai...   \n",
              "25  prosecond amendment protester holds sign readi...   \n",
              "29  miami cbsmiami every time turn lights may putt...   \n",
              "36  something relate to dreaded moment realize sup...   \n",
              "\n",
              "                                                title  \\\n",
              "14                       news21 2012 national project   \n",
              "21          generic drugs necessarily mean low prices   \n",
              "25  obama admin willing run roughshod constitution...   \n",
              "29  study ecofriendly light bulbs may put health risk   \n",
              "36  spring cleaning three ways increase computers ...   \n",
              "\n",
              "                                                  url  \\\n",
              "14  http://votingrights.news21.com/article/electio...   \n",
              "21  http://www.pbs.org/newshour/bb/health-july-dec...   \n",
              "25  http://cnsnews.com/commentary/daniel-mitchell/...   \n",
              "29  http://miami.cbslocal.com/2013/01/02/study-eco...   \n",
              "36  http://www.cnet.com/how-to/ways-to-increase-yo...   \n",
              "\n",
              "                                               bodies  lengths  \\\n",
              "14  [analysis resulting comprehensive news21 elect...       16   \n",
              "21  [discovered recently trying get script generic...        2   \n",
              "25  [isnt, removed, last 7 years man day take ever...       26   \n",
              "29  [exposure bulbs could lead premature skin canc...       14   \n",
              "36                             [would amazed read 99]        1   \n",
              "\n",
              "                  clean_url                                        clean_title  \n",
              "14  votingrights news21 com                                news nation project  \n",
              "21              www pbs org            generic drug necessarili mean low price  \n",
              "25              cnsnews com  obama admin will run roughshod constitut gun c...  \n",
              "29       miami cbslocal com     studi ecofriend light bulb may put health risk  \n",
              "36             www cnet com      spring clean three way increas comput perform  "
            ],
            "text/html": [
              "\n",
              "  <div id=\"df-6bdafa26-e692-4499-9006-2967f366dbcb\">\n",
              "    <div class=\"colab-df-container\">\n",
              "      <div>\n",
              "<style scoped>\n",
              "    .dataframe tbody tr th:only-of-type {\n",
              "        vertical-align: middle;\n",
              "    }\n",
              "\n",
              "    .dataframe tbody tr th {\n",
              "        vertical-align: top;\n",
              "    }\n",
              "\n",
              "    .dataframe thead th {\n",
              "        text-align: right;\n",
              "    }\n",
              "</style>\n",
              "<table border=\"1\" class=\"dataframe\">\n",
              "  <thead>\n",
              "    <tr style=\"text-align: right;\">\n",
              "      <th></th>\n",
              "      <th>label</th>\n",
              "      <th>reddit_comments</th>\n",
              "      <th>researched_by</th>\n",
              "      <th>text</th>\n",
              "      <th>title</th>\n",
              "      <th>url</th>\n",
              "      <th>bodies</th>\n",
              "      <th>lengths</th>\n",
              "      <th>clean_url</th>\n",
              "      <th>clean_title</th>\n",
              "    </tr>\n",
              "  </thead>\n",
              "  <tbody>\n",
              "    <tr>\n",
              "      <th>14</th>\n",
              "      <td>0</td>\n",
              "      <td>[{'created_utc': 1344890447, 'label': 0, 'auth...</td>\n",
              "      <td>snopes</td>\n",
              "      <td>comprehensive database us voter fraud uncovers...</td>\n",
              "      <td>news21 2012 national project</td>\n",
              "      <td>http://votingrights.news21.com/article/electio...</td>\n",
              "      <td>[analysis resulting comprehensive news21 elect...</td>\n",
              "      <td>16</td>\n",
              "      <td>votingrights news21 com</td>\n",
              "      <td>news nation project</td>\n",
              "    </tr>\n",
              "    <tr>\n",
              "      <th>21</th>\n",
              "      <td>1</td>\n",
              "      <td>[{'created_utc': 1383445326, 'label': 1, 'auth...</td>\n",
              "      <td>snopes</td>\n",
              "      <td>megan thompson asked national association chai...</td>\n",
              "      <td>generic drugs necessarily mean low prices</td>\n",
              "      <td>http://www.pbs.org/newshour/bb/health-july-dec...</td>\n",
              "      <td>[discovered recently trying get script generic...</td>\n",
              "      <td>2</td>\n",
              "      <td>www pbs org</td>\n",
              "      <td>generic drug necessarili mean low price</td>\n",
              "    </tr>\n",
              "    <tr>\n",
              "      <th>25</th>\n",
              "      <td>0</td>\n",
              "      <td>[{'created_utc': 1450314492, 'label': 0, 'auth...</td>\n",
              "      <td>snopes</td>\n",
              "      <td>prosecond amendment protester holds sign readi...</td>\n",
              "      <td>obama admin willing run roughshod constitution...</td>\n",
              "      <td>http://cnsnews.com/commentary/daniel-mitchell/...</td>\n",
              "      <td>[isnt, removed, last 7 years man day take ever...</td>\n",
              "      <td>26</td>\n",
              "      <td>cnsnews com</td>\n",
              "      <td>obama admin will run roughshod constitut gun c...</td>\n",
              "    </tr>\n",
              "    <tr>\n",
              "      <th>29</th>\n",
              "      <td>1</td>\n",
              "      <td>[{'created_utc': 1357236735, 'label': 1, 'auth...</td>\n",
              "      <td>snopes</td>\n",
              "      <td>miami cbsmiami every time turn lights may putt...</td>\n",
              "      <td>study ecofriendly light bulbs may put health risk</td>\n",
              "      <td>http://miami.cbslocal.com/2013/01/02/study-eco...</td>\n",
              "      <td>[exposure bulbs could lead premature skin canc...</td>\n",
              "      <td>14</td>\n",
              "      <td>miami cbslocal com</td>\n",
              "      <td>studi ecofriend light bulb may put health risk</td>\n",
              "    </tr>\n",
              "    <tr>\n",
              "      <th>36</th>\n",
              "      <td>0</td>\n",
              "      <td>[{'created_utc': 1398095468, 'label': 0, 'auth...</td>\n",
              "      <td>snopes</td>\n",
              "      <td>something relate to dreaded moment realize sup...</td>\n",
              "      <td>spring cleaning three ways increase computers ...</td>\n",
              "      <td>http://www.cnet.com/how-to/ways-to-increase-yo...</td>\n",
              "      <td>[would amazed read 99]</td>\n",
              "      <td>1</td>\n",
              "      <td>www cnet com</td>\n",
              "      <td>spring clean three way increas comput perform</td>\n",
              "    </tr>\n",
              "  </tbody>\n",
              "</table>\n",
              "</div>\n",
              "      <button class=\"colab-df-convert\" onclick=\"convertToInteractive('df-6bdafa26-e692-4499-9006-2967f366dbcb')\"\n",
              "              title=\"Convert this dataframe to an interactive table.\"\n",
              "              style=\"display:none;\">\n",
              "        \n",
              "  <svg xmlns=\"http://www.w3.org/2000/svg\" height=\"24px\"viewBox=\"0 0 24 24\"\n",
              "       width=\"24px\">\n",
              "    <path d=\"M0 0h24v24H0V0z\" fill=\"none\"/>\n",
              "    <path d=\"M18.56 5.44l.94 2.06.94-2.06 2.06-.94-2.06-.94-.94-2.06-.94 2.06-2.06.94zm-11 1L8.5 8.5l.94-2.06 2.06-.94-2.06-.94L8.5 2.5l-.94 2.06-2.06.94zm10 10l.94 2.06.94-2.06 2.06-.94-2.06-.94-.94-2.06-.94 2.06-2.06.94z\"/><path d=\"M17.41 7.96l-1.37-1.37c-.4-.4-.92-.59-1.43-.59-.52 0-1.04.2-1.43.59L10.3 9.45l-7.72 7.72c-.78.78-.78 2.05 0 2.83L4 21.41c.39.39.9.59 1.41.59.51 0 1.02-.2 1.41-.59l7.78-7.78 2.81-2.81c.8-.78.8-2.07 0-2.86zM5.41 20L4 18.59l7.72-7.72 1.47 1.35L5.41 20z\"/>\n",
              "  </svg>\n",
              "      </button>\n",
              "      \n",
              "  <style>\n",
              "    .colab-df-container {\n",
              "      display:flex;\n",
              "      flex-wrap:wrap;\n",
              "      gap: 12px;\n",
              "    }\n",
              "\n",
              "    .colab-df-convert {\n",
              "      background-color: #E8F0FE;\n",
              "      border: none;\n",
              "      border-radius: 50%;\n",
              "      cursor: pointer;\n",
              "      display: none;\n",
              "      fill: #1967D2;\n",
              "      height: 32px;\n",
              "      padding: 0 0 0 0;\n",
              "      width: 32px;\n",
              "    }\n",
              "\n",
              "    .colab-df-convert:hover {\n",
              "      background-color: #E2EBFA;\n",
              "      box-shadow: 0px 1px 2px rgba(60, 64, 67, 0.3), 0px 1px 3px 1px rgba(60, 64, 67, 0.15);\n",
              "      fill: #174EA6;\n",
              "    }\n",
              "\n",
              "    [theme=dark] .colab-df-convert {\n",
              "      background-color: #3B4455;\n",
              "      fill: #D2E3FC;\n",
              "    }\n",
              "\n",
              "    [theme=dark] .colab-df-convert:hover {\n",
              "      background-color: #434B5C;\n",
              "      box-shadow: 0px 1px 3px 1px rgba(0, 0, 0, 0.15);\n",
              "      filter: drop-shadow(0px 1px 2px rgba(0, 0, 0, 0.3));\n",
              "      fill: #FFFFFF;\n",
              "    }\n",
              "  </style>\n",
              "\n",
              "      <script>\n",
              "        const buttonEl =\n",
              "          document.querySelector('#df-6bdafa26-e692-4499-9006-2967f366dbcb button.colab-df-convert');\n",
              "        buttonEl.style.display =\n",
              "          google.colab.kernel.accessAllowed ? 'block' : 'none';\n",
              "\n",
              "        async function convertToInteractive(key) {\n",
              "          const element = document.querySelector('#df-6bdafa26-e692-4499-9006-2967f366dbcb');\n",
              "          const dataTable =\n",
              "            await google.colab.kernel.invokeFunction('convertToInteractive',\n",
              "                                                     [key], {});\n",
              "          if (!dataTable) return;\n",
              "\n",
              "          const docLinkHtml = 'Like what you see? Visit the ' +\n",
              "            '<a target=\"_blank\" href=https://colab.research.google.com/notebooks/data_table.ipynb>data table notebook</a>'\n",
              "            + ' to learn more about interactive tables.';\n",
              "          element.innerHTML = '';\n",
              "          dataTable['output_type'] = 'display_data';\n",
              "          await google.colab.output.renderOutput(dataTable, element);\n",
              "          const docLink = document.createElement('div');\n",
              "          docLink.innerHTML = docLinkHtml;\n",
              "          element.appendChild(docLink);\n",
              "        }\n",
              "      </script>\n",
              "    </div>\n",
              "  </div>\n",
              "  "
            ]
          },
          "metadata": {},
          "execution_count": 72
        }
      ],
      "source": [
        "df3.head()"
      ]
    },
    {
      "cell_type": "markdown",
      "source": [
        "###**Create new DataFrame from our new features**"
      ],
      "metadata": {
        "id": "zzrUWbz3Q6FG"
      }
    },
    {
      "cell_type": "code",
      "execution_count": null,
      "metadata": {
        "id": "96TViCPIQ6FG"
      },
      "outputs": [],
      "source": [
        "#concate the text features that we will use into one column(content column)\n",
        "train=pd.DataFrame()\n",
        "df3['content']= df3['researched_by']+' '+df3['clean_title']+ ' '+ df3['clean_url']"
      ]
    },
    {
      "cell_type": "code",
      "execution_count": null,
      "metadata": {
        "colab": {
          "base_uri": "https://localhost:8080/"
        },
        "outputId": "db32f219-c4a5-4832-e4b0-577859cc848d",
        "id": "dw0bJVaJQ6FG"
      },
      "outputs": [
        {
          "output_type": "execute_result",
          "data": {
            "text/plain": [
              "    label                                    reddit_comments researched_by  \\\n",
              "14      0  [{'created_utc': 1344890447, 'label': 0, 'auth...        snopes   \n",
              "21      1  [{'created_utc': 1383445326, 'label': 1, 'auth...        snopes   \n",
              "25      0  [{'created_utc': 1450314492, 'label': 0, 'auth...        snopes   \n",
              "29      1  [{'created_utc': 1357236735, 'label': 1, 'auth...        snopes   \n",
              "36      0  [{'created_utc': 1398095468, 'label': 0, 'auth...        snopes   \n",
              "\n",
              "                                                 text  \\\n",
              "14  comprehensive database us voter fraud uncovers...   \n",
              "21  megan thompson asked national association chai...   \n",
              "25  prosecond amendment protester holds sign readi...   \n",
              "29  miami cbsmiami every time turn lights may putt...   \n",
              "36  something relate to dreaded moment realize sup...   \n",
              "\n",
              "                                                title  \\\n",
              "14                       news21 2012 national project   \n",
              "21          generic drugs necessarily mean low prices   \n",
              "25  obama admin willing run roughshod constitution...   \n",
              "29  study ecofriendly light bulbs may put health risk   \n",
              "36  spring cleaning three ways increase computers ...   \n",
              "\n",
              "                                                  url  \\\n",
              "14  http://votingrights.news21.com/article/electio...   \n",
              "21  http://www.pbs.org/newshour/bb/health-july-dec...   \n",
              "25  http://cnsnews.com/commentary/daniel-mitchell/...   \n",
              "29  http://miami.cbslocal.com/2013/01/02/study-eco...   \n",
              "36  http://www.cnet.com/how-to/ways-to-increase-yo...   \n",
              "\n",
              "                                               bodies  lengths  \\\n",
              "14  [analysis resulting comprehensive news21 elect...       16   \n",
              "21  [discovered recently trying get script generic...        2   \n",
              "25  [isnt, removed, last 7 years man day take ever...       26   \n",
              "29  [exposure bulbs could lead premature skin canc...       14   \n",
              "36                             [would amazed read 99]        1   \n",
              "\n",
              "                  clean_url  \\\n",
              "14  votingrights news21 com   \n",
              "21              www pbs org   \n",
              "25              cnsnews com   \n",
              "29       miami cbslocal com   \n",
              "36             www cnet com   \n",
              "\n",
              "                                          clean_title  \\\n",
              "14                                news nation project   \n",
              "21            generic drug necessarili mean low price   \n",
              "25  obama admin will run roughshod constitut gun c...   \n",
              "29     studi ecofriend light bulb may put health risk   \n",
              "36      spring clean three way increas comput perform   \n",
              "\n",
              "                                              content  \n",
              "14  snopes news nation project votingrights news21...  \n",
              "21  snopes generic drug necessarili mean low price...  \n",
              "25  snopes obama admin will run roughshod constitu...  \n",
              "29  snopes studi ecofriend light bulb may put heal...  \n",
              "36  snopes spring clean three way increas comput p...  "
            ],
            "text/html": [
              "\n",
              "  <div id=\"df-92c03e3b-1af5-4a27-b376-85fd730b1fc5\">\n",
              "    <div class=\"colab-df-container\">\n",
              "      <div>\n",
              "<style scoped>\n",
              "    .dataframe tbody tr th:only-of-type {\n",
              "        vertical-align: middle;\n",
              "    }\n",
              "\n",
              "    .dataframe tbody tr th {\n",
              "        vertical-align: top;\n",
              "    }\n",
              "\n",
              "    .dataframe thead th {\n",
              "        text-align: right;\n",
              "    }\n",
              "</style>\n",
              "<table border=\"1\" class=\"dataframe\">\n",
              "  <thead>\n",
              "    <tr style=\"text-align: right;\">\n",
              "      <th></th>\n",
              "      <th>label</th>\n",
              "      <th>reddit_comments</th>\n",
              "      <th>researched_by</th>\n",
              "      <th>text</th>\n",
              "      <th>title</th>\n",
              "      <th>url</th>\n",
              "      <th>bodies</th>\n",
              "      <th>lengths</th>\n",
              "      <th>clean_url</th>\n",
              "      <th>clean_title</th>\n",
              "      <th>content</th>\n",
              "    </tr>\n",
              "  </thead>\n",
              "  <tbody>\n",
              "    <tr>\n",
              "      <th>14</th>\n",
              "      <td>0</td>\n",
              "      <td>[{'created_utc': 1344890447, 'label': 0, 'auth...</td>\n",
              "      <td>snopes</td>\n",
              "      <td>comprehensive database us voter fraud uncovers...</td>\n",
              "      <td>news21 2012 national project</td>\n",
              "      <td>http://votingrights.news21.com/article/electio...</td>\n",
              "      <td>[analysis resulting comprehensive news21 elect...</td>\n",
              "      <td>16</td>\n",
              "      <td>votingrights news21 com</td>\n",
              "      <td>news nation project</td>\n",
              "      <td>snopes news nation project votingrights news21...</td>\n",
              "    </tr>\n",
              "    <tr>\n",
              "      <th>21</th>\n",
              "      <td>1</td>\n",
              "      <td>[{'created_utc': 1383445326, 'label': 1, 'auth...</td>\n",
              "      <td>snopes</td>\n",
              "      <td>megan thompson asked national association chai...</td>\n",
              "      <td>generic drugs necessarily mean low prices</td>\n",
              "      <td>http://www.pbs.org/newshour/bb/health-july-dec...</td>\n",
              "      <td>[discovered recently trying get script generic...</td>\n",
              "      <td>2</td>\n",
              "      <td>www pbs org</td>\n",
              "      <td>generic drug necessarili mean low price</td>\n",
              "      <td>snopes generic drug necessarili mean low price...</td>\n",
              "    </tr>\n",
              "    <tr>\n",
              "      <th>25</th>\n",
              "      <td>0</td>\n",
              "      <td>[{'created_utc': 1450314492, 'label': 0, 'auth...</td>\n",
              "      <td>snopes</td>\n",
              "      <td>prosecond amendment protester holds sign readi...</td>\n",
              "      <td>obama admin willing run roughshod constitution...</td>\n",
              "      <td>http://cnsnews.com/commentary/daniel-mitchell/...</td>\n",
              "      <td>[isnt, removed, last 7 years man day take ever...</td>\n",
              "      <td>26</td>\n",
              "      <td>cnsnews com</td>\n",
              "      <td>obama admin will run roughshod constitut gun c...</td>\n",
              "      <td>snopes obama admin will run roughshod constitu...</td>\n",
              "    </tr>\n",
              "    <tr>\n",
              "      <th>29</th>\n",
              "      <td>1</td>\n",
              "      <td>[{'created_utc': 1357236735, 'label': 1, 'auth...</td>\n",
              "      <td>snopes</td>\n",
              "      <td>miami cbsmiami every time turn lights may putt...</td>\n",
              "      <td>study ecofriendly light bulbs may put health risk</td>\n",
              "      <td>http://miami.cbslocal.com/2013/01/02/study-eco...</td>\n",
              "      <td>[exposure bulbs could lead premature skin canc...</td>\n",
              "      <td>14</td>\n",
              "      <td>miami cbslocal com</td>\n",
              "      <td>studi ecofriend light bulb may put health risk</td>\n",
              "      <td>snopes studi ecofriend light bulb may put heal...</td>\n",
              "    </tr>\n",
              "    <tr>\n",
              "      <th>36</th>\n",
              "      <td>0</td>\n",
              "      <td>[{'created_utc': 1398095468, 'label': 0, 'auth...</td>\n",
              "      <td>snopes</td>\n",
              "      <td>something relate to dreaded moment realize sup...</td>\n",
              "      <td>spring cleaning three ways increase computers ...</td>\n",
              "      <td>http://www.cnet.com/how-to/ways-to-increase-yo...</td>\n",
              "      <td>[would amazed read 99]</td>\n",
              "      <td>1</td>\n",
              "      <td>www cnet com</td>\n",
              "      <td>spring clean three way increas comput perform</td>\n",
              "      <td>snopes spring clean three way increas comput p...</td>\n",
              "    </tr>\n",
              "  </tbody>\n",
              "</table>\n",
              "</div>\n",
              "      <button class=\"colab-df-convert\" onclick=\"convertToInteractive('df-92c03e3b-1af5-4a27-b376-85fd730b1fc5')\"\n",
              "              title=\"Convert this dataframe to an interactive table.\"\n",
              "              style=\"display:none;\">\n",
              "        \n",
              "  <svg xmlns=\"http://www.w3.org/2000/svg\" height=\"24px\"viewBox=\"0 0 24 24\"\n",
              "       width=\"24px\">\n",
              "    <path d=\"M0 0h24v24H0V0z\" fill=\"none\"/>\n",
              "    <path d=\"M18.56 5.44l.94 2.06.94-2.06 2.06-.94-2.06-.94-.94-2.06-.94 2.06-2.06.94zm-11 1L8.5 8.5l.94-2.06 2.06-.94-2.06-.94L8.5 2.5l-.94 2.06-2.06.94zm10 10l.94 2.06.94-2.06 2.06-.94-2.06-.94-.94-2.06-.94 2.06-2.06.94z\"/><path d=\"M17.41 7.96l-1.37-1.37c-.4-.4-.92-.59-1.43-.59-.52 0-1.04.2-1.43.59L10.3 9.45l-7.72 7.72c-.78.78-.78 2.05 0 2.83L4 21.41c.39.39.9.59 1.41.59.51 0 1.02-.2 1.41-.59l7.78-7.78 2.81-2.81c.8-.78.8-2.07 0-2.86zM5.41 20L4 18.59l7.72-7.72 1.47 1.35L5.41 20z\"/>\n",
              "  </svg>\n",
              "      </button>\n",
              "      \n",
              "  <style>\n",
              "    .colab-df-container {\n",
              "      display:flex;\n",
              "      flex-wrap:wrap;\n",
              "      gap: 12px;\n",
              "    }\n",
              "\n",
              "    .colab-df-convert {\n",
              "      background-color: #E8F0FE;\n",
              "      border: none;\n",
              "      border-radius: 50%;\n",
              "      cursor: pointer;\n",
              "      display: none;\n",
              "      fill: #1967D2;\n",
              "      height: 32px;\n",
              "      padding: 0 0 0 0;\n",
              "      width: 32px;\n",
              "    }\n",
              "\n",
              "    .colab-df-convert:hover {\n",
              "      background-color: #E2EBFA;\n",
              "      box-shadow: 0px 1px 2px rgba(60, 64, 67, 0.3), 0px 1px 3px 1px rgba(60, 64, 67, 0.15);\n",
              "      fill: #174EA6;\n",
              "    }\n",
              "\n",
              "    [theme=dark] .colab-df-convert {\n",
              "      background-color: #3B4455;\n",
              "      fill: #D2E3FC;\n",
              "    }\n",
              "\n",
              "    [theme=dark] .colab-df-convert:hover {\n",
              "      background-color: #434B5C;\n",
              "      box-shadow: 0px 1px 3px 1px rgba(0, 0, 0, 0.15);\n",
              "      filter: drop-shadow(0px 1px 2px rgba(0, 0, 0, 0.3));\n",
              "      fill: #FFFFFF;\n",
              "    }\n",
              "  </style>\n",
              "\n",
              "      <script>\n",
              "        const buttonEl =\n",
              "          document.querySelector('#df-92c03e3b-1af5-4a27-b376-85fd730b1fc5 button.colab-df-convert');\n",
              "        buttonEl.style.display =\n",
              "          google.colab.kernel.accessAllowed ? 'block' : 'none';\n",
              "\n",
              "        async function convertToInteractive(key) {\n",
              "          const element = document.querySelector('#df-92c03e3b-1af5-4a27-b376-85fd730b1fc5');\n",
              "          const dataTable =\n",
              "            await google.colab.kernel.invokeFunction('convertToInteractive',\n",
              "                                                     [key], {});\n",
              "          if (!dataTable) return;\n",
              "\n",
              "          const docLinkHtml = 'Like what you see? Visit the ' +\n",
              "            '<a target=\"_blank\" href=https://colab.research.google.com/notebooks/data_table.ipynb>data table notebook</a>'\n",
              "            + ' to learn more about interactive tables.';\n",
              "          element.innerHTML = '';\n",
              "          dataTable['output_type'] = 'display_data';\n",
              "          await google.colab.output.renderOutput(dataTable, element);\n",
              "          const docLink = document.createElement('div');\n",
              "          docLink.innerHTML = docLinkHtml;\n",
              "          element.appendChild(docLink);\n",
              "        }\n",
              "      </script>\n",
              "    </div>\n",
              "  </div>\n",
              "  "
            ]
          },
          "metadata": {},
          "execution_count": 74
        }
      ],
      "source": [
        "df3.head()"
      ]
    },
    {
      "cell_type": "markdown",
      "metadata": {
        "id": "v2qqfXOaQ6FG"
      },
      "source": [
        "These models are the TF-IDF Model, N-Gram Model, Bag of Words Model. These models extract the features from the training data set and then the classifier is trained through these features. "
      ]
    },
    {
      "cell_type": "code",
      "execution_count": null,
      "metadata": {
        "id": "VFFeGvm5Q6FG"
      },
      "outputs": [],
      "source": [
        "\"\"\"\n",
        "Compute unique word vector with frequencies\n",
        "exclude very uncommon (<10 obsv.) and common (>=40%) words\n",
        "use pairs of three words (ngram)\n",
        "and max_features equal to 40000 features\n",
        "\"\"\"\n",
        "vectorizer_word = TfidfVectorizer( max_features=40000, analyzer=\"word\", max_df=0.4, min_df=10, ngram_range=(1, 3), norm=\"l2\")\n",
        "X = vectorizer_word.fit_transform(df3['content'])"
      ]
    },
    {
      "cell_type": "code",
      "execution_count": null,
      "metadata": {
        "colab": {
          "base_uri": "https://localhost:8080/"
        },
        "id": "n1XyTfsbjopQ",
        "outputId": "38be568c-cea7-491d-f4f3-b14e3663e2b2"
      },
      "outputs": [
        {
          "output_type": "execute_result",
          "data": {
            "text/plain": [
              "<5235x1250 sparse matrix of type '<class 'numpy.float64'>'\n",
              "\twith 39621 stored elements in Compressed Sparse Row format>"
            ]
          },
          "metadata": {},
          "execution_count": 76
        }
      ],
      "source": [
        "X"
      ]
    },
    {
      "cell_type": "code",
      "execution_count": null,
      "metadata": {
        "colab": {
          "base_uri": "https://localhost:8080/"
        },
        "id": "cwJuG8szBF8v",
        "outputId": "21f7396d-0ef2-4b22-a587-0960c2f4c4fa"
      },
      "outputs": [
        {
          "output_type": "execute_result",
          "data": {
            "text/plain": [
              "         0    1    2    3    4    5    6    7    8    9  ...  1241  1242  \\\n",
              "14     0.0  0.0  0.0  0.0  0.0  0.0  0.0  0.0  0.0  0.0  ...   0.0   0.0   \n",
              "21     0.0  0.0  0.0  0.0  0.0  0.0  0.0  0.0  0.0  0.0  ...   0.0   0.0   \n",
              "25     0.0  0.0  0.0  0.0  0.0  0.0  0.0  0.0  0.0  0.0  ...   0.0   0.0   \n",
              "29     0.0  0.0  0.0  0.0  0.0  0.0  0.0  0.0  0.0  0.0  ...   0.0   0.0   \n",
              "36     0.0  0.0  0.0  0.0  0.0  0.0  0.0  0.0  0.0  0.0  ...   0.0   0.0   \n",
              "...    ...  ...  ...  ...  ...  ...  ...  ...  ...  ...  ...   ...   ...   \n",
              "69357  0.0  0.0  0.0  0.0  0.0  0.0  0.0  0.0  0.0  0.0  ...   0.0   0.0   \n",
              "69376  0.0  0.0  0.0  0.0  0.0  0.0  0.0  0.0  0.0  0.0  ...   0.0   0.0   \n",
              "69388  0.0  0.0  0.0  0.0  0.0  0.0  0.0  0.0  0.0  0.0  ...   0.0   0.0   \n",
              "69391  0.0  0.0  0.0  0.0  0.0  0.0  0.0  0.0  0.0  0.0  ...   0.0   0.0   \n",
              "69395  0.0  0.0  0.0  0.0  0.0  0.0  0.0  0.0  0.0  0.0  ...   0.0   0.0   \n",
              "\n",
              "       1243  1244  1245  1246  1247  1248  1249  lengths  \n",
              "14      0.0   0.0   0.0   0.0   0.0   0.0   0.0       16  \n",
              "21      0.0   0.0   0.0   0.0   0.0   0.0   0.0        2  \n",
              "25      0.0   0.0   0.0   0.0   0.0   0.0   0.0       26  \n",
              "29      0.0   0.0   0.0   0.0   0.0   0.0   0.0       14  \n",
              "36      0.0   0.0   0.0   0.0   0.0   0.0   0.0        1  \n",
              "...     ...   ...   ...   ...   ...   ...   ...      ...  \n",
              "69357   0.0   0.0   0.0   0.0   0.0   0.0   0.0      174  \n",
              "69376   0.0   0.0   0.0   0.0   0.0   0.0   0.0        2  \n",
              "69388   0.0   0.0   0.0   0.0   0.0   0.0   0.0        4  \n",
              "69391   0.0   0.0   0.0   0.0   0.0   0.0   0.0        7  \n",
              "69395   0.0   0.0   0.0   0.0   0.0   0.0   0.0        1  \n",
              "\n",
              "[5235 rows x 1251 columns]"
            ],
            "text/html": [
              "\n",
              "  <div id=\"df-9dd0cf09-092d-43fb-80a6-7562dfb23648\">\n",
              "    <div class=\"colab-df-container\">\n",
              "      <div>\n",
              "<style scoped>\n",
              "    .dataframe tbody tr th:only-of-type {\n",
              "        vertical-align: middle;\n",
              "    }\n",
              "\n",
              "    .dataframe tbody tr th {\n",
              "        vertical-align: top;\n",
              "    }\n",
              "\n",
              "    .dataframe thead th {\n",
              "        text-align: right;\n",
              "    }\n",
              "</style>\n",
              "<table border=\"1\" class=\"dataframe\">\n",
              "  <thead>\n",
              "    <tr style=\"text-align: right;\">\n",
              "      <th></th>\n",
              "      <th>0</th>\n",
              "      <th>1</th>\n",
              "      <th>2</th>\n",
              "      <th>3</th>\n",
              "      <th>4</th>\n",
              "      <th>5</th>\n",
              "      <th>6</th>\n",
              "      <th>7</th>\n",
              "      <th>8</th>\n",
              "      <th>9</th>\n",
              "      <th>...</th>\n",
              "      <th>1241</th>\n",
              "      <th>1242</th>\n",
              "      <th>1243</th>\n",
              "      <th>1244</th>\n",
              "      <th>1245</th>\n",
              "      <th>1246</th>\n",
              "      <th>1247</th>\n",
              "      <th>1248</th>\n",
              "      <th>1249</th>\n",
              "      <th>lengths</th>\n",
              "    </tr>\n",
              "  </thead>\n",
              "  <tbody>\n",
              "    <tr>\n",
              "      <th>14</th>\n",
              "      <td>0.0</td>\n",
              "      <td>0.0</td>\n",
              "      <td>0.0</td>\n",
              "      <td>0.0</td>\n",
              "      <td>0.0</td>\n",
              "      <td>0.0</td>\n",
              "      <td>0.0</td>\n",
              "      <td>0.0</td>\n",
              "      <td>0.0</td>\n",
              "      <td>0.0</td>\n",
              "      <td>...</td>\n",
              "      <td>0.0</td>\n",
              "      <td>0.0</td>\n",
              "      <td>0.0</td>\n",
              "      <td>0.0</td>\n",
              "      <td>0.0</td>\n",
              "      <td>0.0</td>\n",
              "      <td>0.0</td>\n",
              "      <td>0.0</td>\n",
              "      <td>0.0</td>\n",
              "      <td>16</td>\n",
              "    </tr>\n",
              "    <tr>\n",
              "      <th>21</th>\n",
              "      <td>0.0</td>\n",
              "      <td>0.0</td>\n",
              "      <td>0.0</td>\n",
              "      <td>0.0</td>\n",
              "      <td>0.0</td>\n",
              "      <td>0.0</td>\n",
              "      <td>0.0</td>\n",
              "      <td>0.0</td>\n",
              "      <td>0.0</td>\n",
              "      <td>0.0</td>\n",
              "      <td>...</td>\n",
              "      <td>0.0</td>\n",
              "      <td>0.0</td>\n",
              "      <td>0.0</td>\n",
              "      <td>0.0</td>\n",
              "      <td>0.0</td>\n",
              "      <td>0.0</td>\n",
              "      <td>0.0</td>\n",
              "      <td>0.0</td>\n",
              "      <td>0.0</td>\n",
              "      <td>2</td>\n",
              "    </tr>\n",
              "    <tr>\n",
              "      <th>25</th>\n",
              "      <td>0.0</td>\n",
              "      <td>0.0</td>\n",
              "      <td>0.0</td>\n",
              "      <td>0.0</td>\n",
              "      <td>0.0</td>\n",
              "      <td>0.0</td>\n",
              "      <td>0.0</td>\n",
              "      <td>0.0</td>\n",
              "      <td>0.0</td>\n",
              "      <td>0.0</td>\n",
              "      <td>...</td>\n",
              "      <td>0.0</td>\n",
              "      <td>0.0</td>\n",
              "      <td>0.0</td>\n",
              "      <td>0.0</td>\n",
              "      <td>0.0</td>\n",
              "      <td>0.0</td>\n",
              "      <td>0.0</td>\n",
              "      <td>0.0</td>\n",
              "      <td>0.0</td>\n",
              "      <td>26</td>\n",
              "    </tr>\n",
              "    <tr>\n",
              "      <th>29</th>\n",
              "      <td>0.0</td>\n",
              "      <td>0.0</td>\n",
              "      <td>0.0</td>\n",
              "      <td>0.0</td>\n",
              "      <td>0.0</td>\n",
              "      <td>0.0</td>\n",
              "      <td>0.0</td>\n",
              "      <td>0.0</td>\n",
              "      <td>0.0</td>\n",
              "      <td>0.0</td>\n",
              "      <td>...</td>\n",
              "      <td>0.0</td>\n",
              "      <td>0.0</td>\n",
              "      <td>0.0</td>\n",
              "      <td>0.0</td>\n",
              "      <td>0.0</td>\n",
              "      <td>0.0</td>\n",
              "      <td>0.0</td>\n",
              "      <td>0.0</td>\n",
              "      <td>0.0</td>\n",
              "      <td>14</td>\n",
              "    </tr>\n",
              "    <tr>\n",
              "      <th>36</th>\n",
              "      <td>0.0</td>\n",
              "      <td>0.0</td>\n",
              "      <td>0.0</td>\n",
              "      <td>0.0</td>\n",
              "      <td>0.0</td>\n",
              "      <td>0.0</td>\n",
              "      <td>0.0</td>\n",
              "      <td>0.0</td>\n",
              "      <td>0.0</td>\n",
              "      <td>0.0</td>\n",
              "      <td>...</td>\n",
              "      <td>0.0</td>\n",
              "      <td>0.0</td>\n",
              "      <td>0.0</td>\n",
              "      <td>0.0</td>\n",
              "      <td>0.0</td>\n",
              "      <td>0.0</td>\n",
              "      <td>0.0</td>\n",
              "      <td>0.0</td>\n",
              "      <td>0.0</td>\n",
              "      <td>1</td>\n",
              "    </tr>\n",
              "    <tr>\n",
              "      <th>...</th>\n",
              "      <td>...</td>\n",
              "      <td>...</td>\n",
              "      <td>...</td>\n",
              "      <td>...</td>\n",
              "      <td>...</td>\n",
              "      <td>...</td>\n",
              "      <td>...</td>\n",
              "      <td>...</td>\n",
              "      <td>...</td>\n",
              "      <td>...</td>\n",
              "      <td>...</td>\n",
              "      <td>...</td>\n",
              "      <td>...</td>\n",
              "      <td>...</td>\n",
              "      <td>...</td>\n",
              "      <td>...</td>\n",
              "      <td>...</td>\n",
              "      <td>...</td>\n",
              "      <td>...</td>\n",
              "      <td>...</td>\n",
              "      <td>...</td>\n",
              "    </tr>\n",
              "    <tr>\n",
              "      <th>69357</th>\n",
              "      <td>0.0</td>\n",
              "      <td>0.0</td>\n",
              "      <td>0.0</td>\n",
              "      <td>0.0</td>\n",
              "      <td>0.0</td>\n",
              "      <td>0.0</td>\n",
              "      <td>0.0</td>\n",
              "      <td>0.0</td>\n",
              "      <td>0.0</td>\n",
              "      <td>0.0</td>\n",
              "      <td>...</td>\n",
              "      <td>0.0</td>\n",
              "      <td>0.0</td>\n",
              "      <td>0.0</td>\n",
              "      <td>0.0</td>\n",
              "      <td>0.0</td>\n",
              "      <td>0.0</td>\n",
              "      <td>0.0</td>\n",
              "      <td>0.0</td>\n",
              "      <td>0.0</td>\n",
              "      <td>174</td>\n",
              "    </tr>\n",
              "    <tr>\n",
              "      <th>69376</th>\n",
              "      <td>0.0</td>\n",
              "      <td>0.0</td>\n",
              "      <td>0.0</td>\n",
              "      <td>0.0</td>\n",
              "      <td>0.0</td>\n",
              "      <td>0.0</td>\n",
              "      <td>0.0</td>\n",
              "      <td>0.0</td>\n",
              "      <td>0.0</td>\n",
              "      <td>0.0</td>\n",
              "      <td>...</td>\n",
              "      <td>0.0</td>\n",
              "      <td>0.0</td>\n",
              "      <td>0.0</td>\n",
              "      <td>0.0</td>\n",
              "      <td>0.0</td>\n",
              "      <td>0.0</td>\n",
              "      <td>0.0</td>\n",
              "      <td>0.0</td>\n",
              "      <td>0.0</td>\n",
              "      <td>2</td>\n",
              "    </tr>\n",
              "    <tr>\n",
              "      <th>69388</th>\n",
              "      <td>0.0</td>\n",
              "      <td>0.0</td>\n",
              "      <td>0.0</td>\n",
              "      <td>0.0</td>\n",
              "      <td>0.0</td>\n",
              "      <td>0.0</td>\n",
              "      <td>0.0</td>\n",
              "      <td>0.0</td>\n",
              "      <td>0.0</td>\n",
              "      <td>0.0</td>\n",
              "      <td>...</td>\n",
              "      <td>0.0</td>\n",
              "      <td>0.0</td>\n",
              "      <td>0.0</td>\n",
              "      <td>0.0</td>\n",
              "      <td>0.0</td>\n",
              "      <td>0.0</td>\n",
              "      <td>0.0</td>\n",
              "      <td>0.0</td>\n",
              "      <td>0.0</td>\n",
              "      <td>4</td>\n",
              "    </tr>\n",
              "    <tr>\n",
              "      <th>69391</th>\n",
              "      <td>0.0</td>\n",
              "      <td>0.0</td>\n",
              "      <td>0.0</td>\n",
              "      <td>0.0</td>\n",
              "      <td>0.0</td>\n",
              "      <td>0.0</td>\n",
              "      <td>0.0</td>\n",
              "      <td>0.0</td>\n",
              "      <td>0.0</td>\n",
              "      <td>0.0</td>\n",
              "      <td>...</td>\n",
              "      <td>0.0</td>\n",
              "      <td>0.0</td>\n",
              "      <td>0.0</td>\n",
              "      <td>0.0</td>\n",
              "      <td>0.0</td>\n",
              "      <td>0.0</td>\n",
              "      <td>0.0</td>\n",
              "      <td>0.0</td>\n",
              "      <td>0.0</td>\n",
              "      <td>7</td>\n",
              "    </tr>\n",
              "    <tr>\n",
              "      <th>69395</th>\n",
              "      <td>0.0</td>\n",
              "      <td>0.0</td>\n",
              "      <td>0.0</td>\n",
              "      <td>0.0</td>\n",
              "      <td>0.0</td>\n",
              "      <td>0.0</td>\n",
              "      <td>0.0</td>\n",
              "      <td>0.0</td>\n",
              "      <td>0.0</td>\n",
              "      <td>0.0</td>\n",
              "      <td>...</td>\n",
              "      <td>0.0</td>\n",
              "      <td>0.0</td>\n",
              "      <td>0.0</td>\n",
              "      <td>0.0</td>\n",
              "      <td>0.0</td>\n",
              "      <td>0.0</td>\n",
              "      <td>0.0</td>\n",
              "      <td>0.0</td>\n",
              "      <td>0.0</td>\n",
              "      <td>1</td>\n",
              "    </tr>\n",
              "  </tbody>\n",
              "</table>\n",
              "<p>5235 rows × 1251 columns</p>\n",
              "</div>\n",
              "      <button class=\"colab-df-convert\" onclick=\"convertToInteractive('df-9dd0cf09-092d-43fb-80a6-7562dfb23648')\"\n",
              "              title=\"Convert this dataframe to an interactive table.\"\n",
              "              style=\"display:none;\">\n",
              "        \n",
              "  <svg xmlns=\"http://www.w3.org/2000/svg\" height=\"24px\"viewBox=\"0 0 24 24\"\n",
              "       width=\"24px\">\n",
              "    <path d=\"M0 0h24v24H0V0z\" fill=\"none\"/>\n",
              "    <path d=\"M18.56 5.44l.94 2.06.94-2.06 2.06-.94-2.06-.94-.94-2.06-.94 2.06-2.06.94zm-11 1L8.5 8.5l.94-2.06 2.06-.94-2.06-.94L8.5 2.5l-.94 2.06-2.06.94zm10 10l.94 2.06.94-2.06 2.06-.94-2.06-.94-.94-2.06-.94 2.06-2.06.94z\"/><path d=\"M17.41 7.96l-1.37-1.37c-.4-.4-.92-.59-1.43-.59-.52 0-1.04.2-1.43.59L10.3 9.45l-7.72 7.72c-.78.78-.78 2.05 0 2.83L4 21.41c.39.39.9.59 1.41.59.51 0 1.02-.2 1.41-.59l7.78-7.78 2.81-2.81c.8-.78.8-2.07 0-2.86zM5.41 20L4 18.59l7.72-7.72 1.47 1.35L5.41 20z\"/>\n",
              "  </svg>\n",
              "      </button>\n",
              "      \n",
              "  <style>\n",
              "    .colab-df-container {\n",
              "      display:flex;\n",
              "      flex-wrap:wrap;\n",
              "      gap: 12px;\n",
              "    }\n",
              "\n",
              "    .colab-df-convert {\n",
              "      background-color: #E8F0FE;\n",
              "      border: none;\n",
              "      border-radius: 50%;\n",
              "      cursor: pointer;\n",
              "      display: none;\n",
              "      fill: #1967D2;\n",
              "      height: 32px;\n",
              "      padding: 0 0 0 0;\n",
              "      width: 32px;\n",
              "    }\n",
              "\n",
              "    .colab-df-convert:hover {\n",
              "      background-color: #E2EBFA;\n",
              "      box-shadow: 0px 1px 2px rgba(60, 64, 67, 0.3), 0px 1px 3px 1px rgba(60, 64, 67, 0.15);\n",
              "      fill: #174EA6;\n",
              "    }\n",
              "\n",
              "    [theme=dark] .colab-df-convert {\n",
              "      background-color: #3B4455;\n",
              "      fill: #D2E3FC;\n",
              "    }\n",
              "\n",
              "    [theme=dark] .colab-df-convert:hover {\n",
              "      background-color: #434B5C;\n",
              "      box-shadow: 0px 1px 3px 1px rgba(0, 0, 0, 0.15);\n",
              "      filter: drop-shadow(0px 1px 2px rgba(0, 0, 0, 0.3));\n",
              "      fill: #FFFFFF;\n",
              "    }\n",
              "  </style>\n",
              "\n",
              "      <script>\n",
              "        const buttonEl =\n",
              "          document.querySelector('#df-9dd0cf09-092d-43fb-80a6-7562dfb23648 button.colab-df-convert');\n",
              "        buttonEl.style.display =\n",
              "          google.colab.kernel.accessAllowed ? 'block' : 'none';\n",
              "\n",
              "        async function convertToInteractive(key) {\n",
              "          const element = document.querySelector('#df-9dd0cf09-092d-43fb-80a6-7562dfb23648');\n",
              "          const dataTable =\n",
              "            await google.colab.kernel.invokeFunction('convertToInteractive',\n",
              "                                                     [key], {});\n",
              "          if (!dataTable) return;\n",
              "\n",
              "          const docLinkHtml = 'Like what you see? Visit the ' +\n",
              "            '<a target=\"_blank\" href=https://colab.research.google.com/notebooks/data_table.ipynb>data table notebook</a>'\n",
              "            + ' to learn more about interactive tables.';\n",
              "          element.innerHTML = '';\n",
              "          dataTable['output_type'] = 'display_data';\n",
              "          await google.colab.output.renderOutput(dataTable, element);\n",
              "          const docLink = document.createElement('div');\n",
              "          docLink.innerHTML = docLinkHtml;\n",
              "          element.appendChild(docLink);\n",
              "        }\n",
              "      </script>\n",
              "    </div>\n",
              "  </div>\n",
              "  "
            ]
          },
          "metadata": {},
          "execution_count": 77
        }
      ],
      "source": [
        "#concate the vectorised output and our label(comment length on each news) in one dataframe(df_train)\n",
        "from scipy.sparse import csr_matrix\n",
        "df_train = pd.DataFrame.sparse.from_spmatrix(X)\n",
        "df_train.index=df3.index\n",
        "df_train['lengths']= df3['lengths']\n",
        "\n",
        "df_train"
      ]
    },
    {
      "cell_type": "markdown",
      "metadata": {
        "id": "-M0goMAFQ6FH"
      },
      "source": [
        "####**Split data**"
      ]
    },
    {
      "cell_type": "code",
      "execution_count": null,
      "metadata": {
        "id": "1Yx2w8VBQ6FH"
      },
      "outputs": [],
      "source": [
        "X= df_train.iloc[:,:-1]\n",
        "Y= df_train['lengths']\n"
      ]
    },
    {
      "cell_type": "code",
      "execution_count": null,
      "metadata": {
        "id": "M1JyTyKdQ6FH"
      },
      "outputs": [],
      "source": [
        "# Further split the original training set to a train and a validation set\n",
        "X_train, X_test, Y_train, Y_test = train_test_split( X, Y, test_size = 0.2, random_state = 42) "
      ]
    },
    {
      "cell_type": "code",
      "execution_count": null,
      "metadata": {
        "colab": {
          "base_uri": "https://localhost:8080/"
        },
        "outputId": "df2578ff-3ecf-457f-b879-3efada2d1e01",
        "id": "d7mgQuzxQ6FH"
      },
      "outputs": [
        {
          "output_type": "stream",
          "name": "stdout",
          "text": [
            "(4188, 1250)\n",
            "(1047, 1250)\n"
          ]
        }
      ],
      "source": [
        "print(X_train.shape)\n",
        "print(X_test.shape)"
      ]
    },
    {
      "cell_type": "code",
      "execution_count": null,
      "metadata": {
        "colab": {
          "base_uri": "https://localhost:8080/"
        },
        "outputId": "4a7f9c66-58cb-49b2-b9fd-33e9c206a218",
        "id": "p2Dnd3fEQ6FH"
      },
      "outputs": [
        {
          "output_type": "stream",
          "name": "stdout",
          "text": [
            "(4188, 1250)\n",
            "(4188,)\n"
          ]
        }
      ],
      "source": [
        "print(X_train.shape) \n",
        "print(Y_train.shape) "
      ]
    },
    {
      "cell_type": "markdown",
      "metadata": {
        "id": "SnXI-VAqQ6FH"
      },
      "source": [
        "###**Regression models**"
      ]
    },
    {
      "cell_type": "markdown",
      "source": [
        "We also define some functions for interacting with the models."
      ],
      "metadata": {
        "id": "nD68_RFFmzNk"
      }
    },
    {
      "cell_type": "code",
      "execution_count": null,
      "metadata": {
        "id": "n11PnG94Q6FI"
      },
      "outputs": [],
      "source": [
        "def model_diagnostics(model, pr=True):\n",
        "    \"\"\"\n",
        "    Returns and prints the R-squared, RMSE and the MAE for a trained model\n",
        "    \"\"\"\n",
        "    y_predicted = model.predict(X_test)\n",
        "    r2 = r2_score(Y_test, y_predicted)\n",
        "    mse = mean_squared_error(Y_test, y_predicted)\n",
        "    mae = mean_absolute_error(Y_test, y_predicted)\n",
        "    if pr:\n",
        "        print(f\"R-Sq: {r2:.4}\")\n",
        "        print(f\"MSE: {mse}\")\n",
        "        print(f\"MAE: {mae}\")\n",
        "    \n",
        "    return [r2,mse,mae]\n",
        "    \n",
        "def new_model_diagnostics(model, pr=True):\n",
        "    \"\"\"\n",
        "    Returns and prints the R-squared, RMSE and the MAE for a trained model\n",
        "    after converting prediction values that less than zero to zero\n",
        "    \"\"\"\n",
        "    y_predicted = model.predict(X_test)\n",
        "    for i in range(len(y_predicted)):\n",
        "        if (y_predicted[i]<0):\n",
        "           y_predicted[i]=0\n",
        "\n",
        "    r2 = r2_score(Y_test, y_predicted)\n",
        "    mse = mean_squared_error(Y_test, y_predicted)\n",
        "    mae = mean_absolute_error(Y_test, y_predicted)\n",
        "    if pr:\n",
        "        print(f\"R-Sq: {r2:.4}\")\n",
        "        print(f\"MSE: {mse}\")\n",
        "        print(f\"MAE: {mae}\")\n",
        "    \n",
        "    return [r2,mse,mae]\n",
        "\n",
        "def plot_residuals(y_test, y_predicted):\n",
        "    \"\"\"\"\n",
        "    Plots the distribution for actual and predicted values of the target variable. Also plots the distribution for the residuals\n",
        "        * The residual for each observation is the difference between predicted values of y (dependent variable) and observed values of y.\n",
        "        * Residual=actual y value−predicted y value, ri=yi−^yi.\n",
        "    \"\"\"\n",
        "    fig, (ax0, ax1) = plt.subplots(nrows=1, ncols=2, sharey=True)\n",
        "    sns.distplot(y_test, ax=ax0, kde = False)\n",
        "    ax0.set(xlabel='Test scores')\n",
        "    sns.distplot(y_predicted, ax=ax1, kde = False)\n",
        "    ax1.set(xlabel=\"Predicted scores\")\n",
        "    plt.show()\n",
        "    fig, ax2 = plt.subplots()\n",
        "    sns.distplot((y_test-y_predicted), ax = ax2,kde = False)\n",
        "    ax2.set(xlabel=\"Residuals\")\n",
        "    plt.show()\n",
        "    \n",
        "def y_test_vs_y_predicted(y_test,y_predicted):\n",
        "    \"\"\"\n",
        "    Produces a scatter plot for the actual and predicted values of the target variable\n",
        "    \"\"\"\n",
        "    fig, ax = plt.subplots()\n",
        "    ax.scatter(y_test, y_predicted)\n",
        "    ax.set_xlabel(\"Test Scores\")\n",
        "    ax.set_ylim([-75, 1400])\n",
        "    ax.set_ylabel(\"Predicted Scores\")\n",
        "    plt.show()"
      ]
    },
    {
      "cell_type": "markdown",
      "source": [
        "**Modeling**\n",
        "\n",
        "In this section, we use scikit-learn to fit models on the Reddit data. We start with a baseline model, then try to improve results with Lasso, Ridge, and Elastic Net Regression. In addition, we try K-Nearest Neighbors, Decision Tree, Random Forest and Gradient Boosted Regression."
      ],
      "metadata": {
        "id": "K8Q8Fv9MnFu6"
      }
    },
    {
      "cell_type": "markdown",
      "source": [
        "First, let’s define 2 dictionaries that will store the results of the model diagnostics for 2 scenarios."
      ],
      "metadata": {
        "id": "v1K7nzx_nPrz"
      }
    },
    {
      "cell_type": "code",
      "execution_count": null,
      "metadata": {
        "id": "lLD4M4hEQ6FJ"
      },
      "outputs": [],
      "source": [
        "#dictionary to save results from our models\n",
        "model_performance_dict = dict()\n",
        "#dictionary to save results from our models (after converting prediction values that less than zero)\n",
        "new_model_performance_dict= dict()"
      ]
    },
    {
      "cell_type": "markdown",
      "source": [
        "###**Before converting the predicted values that less than zero to zero**"
      ],
      "metadata": {
        "id": "1xTeW4fLQ6FJ"
      }
    },
    {
      "cell_type": "markdown",
      "source": [
        "####**Linear Regression Models**"
      ],
      "metadata": {
        "id": "xILMOyURQ6FJ"
      }
    },
    {
      "cell_type": "markdown",
      "metadata": {
        "id": "Wyu7zc0wQ6FJ"
      },
      "source": [
        "**Baseline model**"
      ]
    },
    {
      "cell_type": "markdown",
      "source": [
        "We fit a simple model to establish a baseline. This model always predicts the mean number of comments."
      ],
      "metadata": {
        "id": "8aIjzYo_n3Cn"
      }
    },
    {
      "cell_type": "code",
      "execution_count": null,
      "metadata": {
        "colab": {
          "base_uri": "https://localhost:8080/"
        },
        "outputId": "cbf587e0-d450-4b19-beb5-6f27eba0c83f",
        "id": "JwSQ0zbHQ6FJ"
      },
      "outputs": [
        {
          "output_type": "stream",
          "name": "stdout",
          "text": [
            "R-Sq: -0.0003208\n",
            "MSE: 247282.69434027863\n",
            "MAE: 163.42013361503146\n"
          ]
        }
      ],
      "source": [
        "baseline = DummyRegressor(strategy='mean')\n",
        "baseline.fit(X_train,Y_train)\n",
        "model_performance_dict[\"Baseline\"] = model_diagnostics(baseline)"
      ]
    },
    {
      "cell_type": "markdown",
      "metadata": {
        "id": "0ltRf4PwQ6FJ"
      },
      "source": [
        "**Linear Regression**"
      ]
    },
    {
      "cell_type": "code",
      "execution_count": null,
      "metadata": {
        "colab": {
          "base_uri": "https://localhost:8080/"
        },
        "outputId": "25b11f08-c865-40a0-bba7-d6672d2241fb",
        "id": "OoiNZgukQ6FJ"
      },
      "outputs": [
        {
          "output_type": "stream",
          "name": "stdout",
          "text": [
            "R-Sq: -0.7757\n",
            "MSE: 438954.6274857406\n",
            "MAE: 327.92770782358355\n"
          ]
        }
      ],
      "source": [
        "linear = LinearRegression()\n",
        "linear.fit(X_train,Y_train)\n",
        "model_performance_dict[\"Linear Regression\"] = model_diagnostics(linear)"
      ]
    },
    {
      "cell_type": "markdown",
      "metadata": {
        "id": "KInnvcZqcNJ9"
      },
      "source": [
        "**Lasso Regression**"
      ]
    },
    {
      "cell_type": "code",
      "execution_count": null,
      "metadata": {
        "id": "15VcjJo4iUx0",
        "colab": {
          "base_uri": "https://localhost:8080/"
        },
        "outputId": "a3ef7a8a-0987-4551-e11f-c7bb922f3de6"
      },
      "outputs": [
        {
          "output_type": "stream",
          "name": "stdout",
          "text": [
            "R-Sq: -0.0003208\n",
            "MSE: 247282.69434027863\n",
            "MAE: 163.42013361503146\n"
          ]
        }
      ],
      "source": [
        "lasso = LassoCV(cv=3).fit(X_train, Y_train)\n",
        "model_performance_dict[\"Lasso Regression\"] = model_diagnostics(lasso)"
      ]
    },
    {
      "cell_type": "markdown",
      "metadata": {
        "id": "pJlIvSLtcYY5"
      },
      "source": [
        "**Ridge Regression**\n",
        "\n"
      ]
    },
    {
      "cell_type": "code",
      "execution_count": null,
      "metadata": {
        "id": "OfuoWjpUYM1g",
        "colab": {
          "base_uri": "https://localhost:8080/"
        },
        "outputId": "5bb1eb55-66ac-4db4-874d-f76c0d233fbb"
      },
      "outputs": [
        {
          "output_type": "stream",
          "name": "stdout",
          "text": [
            "R-Sq: -0.004842\n",
            "MSE: 248400.25169706644\n",
            "MAE: 165.4099508133459\n"
          ]
        }
      ],
      "source": [
        "ridge = RidgeCV(cv=3).fit(X_train, Y_train)\n",
        "model_performance_dict[\"Ridge Regression\"] = model_diagnostics(ridge)"
      ]
    },
    {
      "cell_type": "markdown",
      "metadata": {
        "id": "m-c5zGc8cggw"
      },
      "source": [
        "**Elastic Net Regression**"
      ]
    },
    {
      "cell_type": "code",
      "execution_count": null,
      "metadata": {
        "id": "Z-8dyHIfYM4r",
        "colab": {
          "base_uri": "https://localhost:8080/"
        },
        "outputId": "ccc55644-629e-4ed3-a478-89f484adb378"
      },
      "outputs": [
        {
          "output_type": "stream",
          "name": "stdout",
          "text": [
            "R-Sq: 0.008596\n",
            "MSE: 245078.3679268154\n",
            "MAE: 162.03333866476797\n"
          ]
        }
      ],
      "source": [
        "elastic_net = ElasticNetCV(cv = 3).fit(X_train, Y_train)\n",
        "model_performance_dict[\"Elastic Net Regression\"] = model_diagnostics(elastic_net)"
      ]
    },
    {
      "cell_type": "markdown",
      "metadata": {
        "id": "nUdnYLg5Q6FK"
      },
      "source": [
        "####**Nonlinear Regression Models**\n",
        "\n"
      ]
    },
    {
      "cell_type": "markdown",
      "metadata": {
        "id": "chn7dJJAQ6FK"
      },
      "source": [
        "**K-Nearest Neighbor Regression**"
      ]
    },
    {
      "cell_type": "code",
      "execution_count": null,
      "metadata": {
        "colab": {
          "base_uri": "https://localhost:8080/"
        },
        "outputId": "7552f289-b895-4323-b803-5d7dbe2873cf",
        "id": "eyZ9jCLWQ6FK"
      },
      "outputs": [
        {
          "output_type": "stream",
          "name": "stdout",
          "text": [
            "R-Sq: -0.08671\n",
            "MSE: 268638.83392550144\n",
            "MAE: 152.24450811843363\n"
          ]
        }
      ],
      "source": [
        "knr = KNeighborsRegressor()\n",
        "knr.fit(X_train, Y_train)\n",
        "model_performance_dict[\"KNN Regression\"] = model_diagnostics(knr)"
      ]
    },
    {
      "cell_type": "markdown",
      "metadata": {
        "id": "bFYdIAobQ6FL"
      },
      "source": [
        "**Decision Tree Regression**\n",
        "\n"
      ]
    },
    {
      "cell_type": "code",
      "execution_count": null,
      "metadata": {
        "colab": {
          "base_uri": "https://localhost:8080/"
        },
        "outputId": "d7108b4f-cb1c-4914-d4ee-176e65370852",
        "id": "MvpQsAEzQ6FL"
      },
      "outputs": [
        {
          "output_type": "stream",
          "name": "stdout",
          "text": [
            "R-Sq: -0.01846\n",
            "MSE: 251767.568459277\n",
            "MAE: 162.65568169395814\n"
          ]
        }
      ],
      "source": [
        "dt = DecisionTreeRegressor(min_samples_split=45, min_samples_leaf=45, random_state = 10)\n",
        "dt.fit(X_train, Y_train)\n",
        "model_performance_dict[\"Decision Tree\"] = model_diagnostics(dt)"
      ]
    },
    {
      "cell_type": "markdown",
      "metadata": {
        "id": "yxKDBOGydVun"
      },
      "source": [
        "**Random Forest Regression**\n",
        "\n"
      ]
    },
    {
      "cell_type": "code",
      "execution_count": null,
      "metadata": {
        "colab": {
          "base_uri": "https://localhost:8080/"
        },
        "id": "XDhhMrCHYNYd",
        "outputId": "9486775a-46c7-440f-f05f-f2c6decd6509"
      },
      "outputs": [
        {
          "output_type": "stream",
          "name": "stdout",
          "text": [
            "R-Sq: -0.02278\n",
            "MSE: 252835.10101567567\n",
            "MAE: 165.77209961280764\n"
          ]
        }
      ],
      "source": [
        "rf = RandomForestRegressor(n_jobs=-1, n_estimators=1000, min_samples_leaf=10, random_state = 10)\n",
        "rf.fit(X_train, Y_train)\n",
        "model_performance_dict[\"Random Forest\"] = model_diagnostics(rf)"
      ]
    },
    {
      "cell_type": "markdown",
      "metadata": {
        "id": "GmgTi-WxdrD1"
      },
      "source": [
        "**Gradient Boosting Regression**\n",
        "\n"
      ]
    },
    {
      "cell_type": "code",
      "execution_count": null,
      "metadata": {
        "colab": {
          "base_uri": "https://localhost:8080/"
        },
        "id": "H4_iiNj7da5P",
        "outputId": "bbff7a73-e913-4fdc-d232-c9b567d1b8e7"
      },
      "outputs": [
        {
          "output_type": "stream",
          "name": "stdout",
          "text": [
            "R-Sq: -0.4543\n",
            "MSE: 359510.74461671343\n",
            "MAE: 169.8631361441279\n"
          ]
        }
      ],
      "source": [
        "gbr = GradientBoostingRegressor(n_estimators=70, max_depth=5)\n",
        "gbr.fit(X_train, Y_train)\n",
        "model_performance_dict[\"Gradient Boosting Regression\"] = model_diagnostics(gbr)"
      ]
    },
    {
      "cell_type": "markdown",
      "metadata": {
        "id": "F08V3yrWQ6FL"
      },
      "source": [
        "####**Model comparison**\n",
        "\n",
        "We compare the models based on three metrics: R², MAE, and MSE. To do so, we define the function below."
      ]
    },
    {
      "cell_type": "code",
      "execution_count": null,
      "metadata": {
        "id": "IZ040Ip0Q6FL"
      },
      "outputs": [],
      "source": [
        "def model_comparison(model_performance_dict, sort_by = 'MSE', metric = 'MSE'):\n",
        "\n",
        "    Rsq_list = []\n",
        "    RMSE_list = []\n",
        "    MAE_list = []\n",
        "    for key in model_performance_dict.keys():\n",
        "        Rsq_list.append(model_performance_dict[key][0])\n",
        "        RMSE_list.append(model_performance_dict[key][1])\n",
        "        MAE_list.append(model_performance_dict[key][2])\n",
        "\n",
        "    props = pd.DataFrame([])\n",
        "\n",
        "    props[\"R-squared\"] = Rsq_list\n",
        "    props[\"MSE\"] = RMSE_list\n",
        "    props[\"MAE\"] = MAE_list\n",
        "    props.index = model_performance_dict.keys()\n",
        "    props = props.sort_values(by = sort_by)\n",
        "\n",
        "    fig, ax = plt.subplots(figsize = (12,6))\n",
        "\n",
        "    ax.bar(props.index, props[metric], color=\"blue\")\n",
        "    plt.title(metric)\n",
        "    plt.xlabel('Model')\n",
        "    plt.xticks(rotation = 45)\n",
        "    plt.ylabel(metric)"
      ]
    },
    {
      "cell_type": "markdown",
      "metadata": {
        "id": "Wv1yu1AOQ6FL"
      },
      "source": [
        "Let’s use this function to compare the models based on each metric."
      ]
    },
    {
      "cell_type": "code",
      "execution_count": null,
      "metadata": {
        "colab": {
          "base_uri": "https://localhost:8080/"
        },
        "outputId": "638fd52d-ef88-4a8a-e0d3-f103d1ec57ff",
        "id": "tpVXMpsHQ6FM"
      },
      "outputs": [
        {
          "output_type": "display_data",
          "data": {
            "text/plain": [
              "<Figure size 864x432 with 1 Axes>"
            ],
            "image/png": "[encoded data removed]"
          },
          "metadata": {
            "needs_background": "light"
          }
        }
      ],
      "source": [
        "model_comparison(model_performance_dict, sort_by = 'R-squared', metric = 'R-squared')"
      ]
    },
    {
      "cell_type": "code",
      "execution_count": null,
      "metadata": {
        "colab": {
          "base_uri": "https://localhost:8080/"
        },
        "outputId": "dc37173d-a9ca-4339-980f-90cb2b2a0856",
        "id": "pvynOki5Q6FM"
      },
      "outputs": [
        {
          "output_type": "display_data",
          "data": {
            "text/plain": [
              "<Figure size 864x432 with 1 Axes>"
            ],
            "image/png": "[encoded data removed]"
          },
          "metadata": {
            "needs_background": "light"
          }
        }
      ],
      "source": [
        "model_comparison(model_performance_dict, sort_by = 'R-squared', metric = 'MAE')"
      ]
    },
    {
      "cell_type": "code",
      "execution_count": null,
      "metadata": {
        "colab": {
          "base_uri": "https://localhost:8080/"
        },
        "outputId": "2c6cd06c-d164-45b7-8f97-17b10dc3ef48",
        "id": "KFui74MwQ6FM"
      },
      "outputs": [
        {
          "output_type": "display_data",
          "data": {
            "text/plain": [
              "<Figure size 864x432 with 1 Axes>"
            ],
            "image/png": "[encoded data removed]"
          },
          "metadata": {
            "needs_background": "light"
          }
        }
      ],
      "source": [
        "model_comparison(model_performance_dict, sort_by = 'R-squared', metric = 'MSE')"
      ]
    },
    {
      "cell_type": "markdown",
      "source": [
        "###**After converting the predicted values that less than zero to zero**\n"
      ],
      "metadata": {
        "id": "7mczODBkQ6FM"
      }
    },
    {
      "cell_type": "markdown",
      "source": [
        "####**Linear Regression Models**"
      ],
      "metadata": {
        "id": "TKfJeXEJQ6FM"
      }
    },
    {
      "cell_type": "markdown",
      "metadata": {
        "id": "z4Gffb-bQ6FM"
      },
      "source": [
        "**Baseline model**"
      ]
    },
    {
      "cell_type": "code",
      "execution_count": null,
      "metadata": {
        "colab": {
          "base_uri": "https://localhost:8080/"
        },
        "outputId": "1a6d92ea-bd93-4308-dbbc-e5c587ad0b06",
        "id": "oGsCtDysQ6FN"
      },
      "outputs": [
        {
          "output_type": "stream",
          "name": "stdout",
          "text": [
            "R-Sq: -0.0003208\n",
            "MSE: 247282.69434027863\n",
            "MAE: 163.42013361503146\n"
          ]
        }
      ],
      "source": [
        "new_model_performance_dict[\"Baseline\"] = new_model_diagnostics(baseline)"
      ]
    },
    {
      "cell_type": "markdown",
      "metadata": {
        "id": "EOZlgogyQ6FN"
      },
      "source": [
        "**Linear Regression**"
      ]
    },
    {
      "cell_type": "code",
      "execution_count": null,
      "metadata": {
        "colab": {
          "base_uri": "https://localhost:8080/"
        },
        "outputId": "0b3bb4ab-a754-4340-ce91-bd4dbe2dad13",
        "id": "VH5PrgGzQ6FO"
      },
      "outputs": [
        {
          "output_type": "stream",
          "name": "stdout",
          "text": [
            "R-Sq: -0.5752\n",
            "MSE: 389385.56581511605\n",
            "MAE: 247.46387507538176\n"
          ]
        }
      ],
      "source": [
        "new_model_performance_dict[\"Linear Regression\"] = new_model_diagnostics(linear)"
      ]
    },
    {
      "cell_type": "markdown",
      "metadata": {
        "id": "GSmhYz8x0C2M"
      },
      "source": [
        "**Lasso Regression**"
      ]
    },
    {
      "cell_type": "code",
      "execution_count": null,
      "metadata": {
        "colab": {
          "base_uri": "https://localhost:8080/"
        },
        "id": "Ciqr5nvr0C2O",
        "outputId": "d5aee521-7ac9-4e9c-bb0a-37e2af2a7bd6"
      },
      "outputs": [
        {
          "output_type": "stream",
          "name": "stdout",
          "text": [
            "R-Sq: -0.0003208\n",
            "MSE: 247282.69434027863\n",
            "MAE: 163.42013361503146\n"
          ]
        }
      ],
      "source": [
        "new_model_performance_dict[\"Lasso Regression\"] = new_model_diagnostics(lasso)"
      ]
    },
    {
      "cell_type": "markdown",
      "metadata": {
        "id": "QGIQSnDC0C2P"
      },
      "source": [
        "**Ridge Regression**\n",
        "\n"
      ]
    },
    {
      "cell_type": "code",
      "execution_count": null,
      "metadata": {
        "colab": {
          "base_uri": "https://localhost:8080/"
        },
        "id": "Hf0Ux8gg0C2Q",
        "outputId": "8a137851-96ad-4592-bf7e-bf80a662595e"
      },
      "outputs": [
        {
          "output_type": "stream",
          "name": "stdout",
          "text": [
            "R-Sq: -0.004719\n",
            "MSE: 248370.06772367665\n",
            "MAE: 164.9986527564179\n"
          ]
        }
      ],
      "source": [
        "new_model_performance_dict[\"Ridge Regression\"] = new_model_diagnostics(ridge)"
      ]
    },
    {
      "cell_type": "markdown",
      "metadata": {
        "id": "sHTUu19o0C2R"
      },
      "source": [
        "**Elastic Net Regression**"
      ]
    },
    {
      "cell_type": "code",
      "execution_count": null,
      "metadata": {
        "colab": {
          "base_uri": "https://localhost:8080/"
        },
        "id": "jU3Ah_o40C2S",
        "outputId": "1c2fcb87-1431-4d0e-8bf4-f5945c285fe4"
      },
      "outputs": [
        {
          "output_type": "stream",
          "name": "stdout",
          "text": [
            "R-Sq: 0.008596\n",
            "MSE: 245078.3679268154\n",
            "MAE: 162.03333866476797\n"
          ]
        }
      ],
      "source": [
        "new_model_performance_dict[\"Elastic Net Regression\"] = new_model_diagnostics(elastic_net)"
      ]
    },
    {
      "cell_type": "markdown",
      "metadata": {
        "id": "Lm4cqCdSQ6FO"
      },
      "source": [
        "####**Nonlinear Regression Models**\n",
        "\n"
      ]
    },
    {
      "cell_type": "markdown",
      "metadata": {
        "id": "Hw3U8edyQ6FP"
      },
      "source": [
        "**K-Nearest Neighbor Regression**"
      ]
    },
    {
      "cell_type": "code",
      "execution_count": null,
      "metadata": {
        "colab": {
          "base_uri": "https://localhost:8080/"
        },
        "outputId": "76752533-1be6-42cd-911b-60c306fbabff",
        "id": "t0lq3VLRQ6FP"
      },
      "outputs": [
        {
          "output_type": "stream",
          "name": "stdout",
          "text": [
            "R-Sq: -0.08671\n",
            "MSE: 268638.83392550144\n",
            "MAE: 152.24450811843363\n"
          ]
        }
      ],
      "source": [
        "new_model_performance_dict[\"KNN Regression\"] = new_model_diagnostics(knr)"
      ]
    },
    {
      "cell_type": "markdown",
      "metadata": {
        "id": "c_SxIFIxQ6FP"
      },
      "source": [
        "**Decision Tree Regression**\n",
        "\n"
      ]
    },
    {
      "cell_type": "code",
      "execution_count": null,
      "metadata": {
        "colab": {
          "base_uri": "https://localhost:8080/"
        },
        "outputId": "7eba6bee-41a4-44ab-b2d9-4b385dc05b4c",
        "id": "2DJH8Dc7Q6FP"
      },
      "outputs": [
        {
          "output_type": "stream",
          "name": "stdout",
          "text": [
            "R-Sq: -0.01846\n",
            "MSE: 251767.568459277\n",
            "MAE: 162.65568169395814\n"
          ]
        }
      ],
      "source": [
        "new_model_performance_dict[\"Decision Tree\"] = new_model_diagnostics(dt)"
      ]
    },
    {
      "cell_type": "markdown",
      "metadata": {
        "id": "WQ3BM_t40C2W"
      },
      "source": [
        "**Random Forest Regression**\n",
        "\n"
      ]
    },
    {
      "cell_type": "code",
      "execution_count": null,
      "metadata": {
        "colab": {
          "base_uri": "https://localhost:8080/"
        },
        "outputId": "e050fa2a-4a68-4e91-acce-896cf1491209",
        "id": "75GAWJPO0C2X"
      },
      "outputs": [
        {
          "output_type": "stream",
          "name": "stdout",
          "text": [
            "R-Sq: -0.02278\n",
            "MSE: 252835.10101567567\n",
            "MAE: 165.77209961280764\n"
          ]
        }
      ],
      "source": [
        "new_model_performance_dict[\"Random Forest\"] = new_model_diagnostics(rf)"
      ]
    },
    {
      "cell_type": "markdown",
      "metadata": {
        "id": "0Rvqyb_j0C2Y"
      },
      "source": [
        "**Gradient Boosting Regression**\n",
        "\n"
      ]
    },
    {
      "cell_type": "code",
      "execution_count": null,
      "metadata": {
        "colab": {
          "base_uri": "https://localhost:8080/"
        },
        "outputId": "e112301e-01fb-42f2-ea0d-0431d68a6f86",
        "id": "CW8XLMFX0C2Y"
      },
      "outputs": [
        {
          "output_type": "stream",
          "name": "stdout",
          "text": [
            "R-Sq: -0.4543\n",
            "MSE: 359510.74461671343\n",
            "MAE: 169.8631361441279\n"
          ]
        }
      ],
      "source": [
        "new_model_performance_dict[\"Gradient Boosting Regression\"] = new_model_diagnostics(gbr)"
      ]
    },
    {
      "cell_type": "markdown",
      "metadata": {
        "id": "otbf92uNQ6FQ"
      },
      "source": [
        "####**Model comparison**\n",
        "\n",
        "We compare the models based on three metrics: R², MAE, and MSE. To do so, we define the function below."
      ]
    },
    {
      "cell_type": "code",
      "execution_count": null,
      "metadata": {
        "id": "yB1RUIRSQ6FQ"
      },
      "outputs": [],
      "source": [
        "def model_comparison(new_model_performance_dict, sort_by = 'MSE', metric = 'MSE'):\n",
        "\n",
        "    Rsq_list = []\n",
        "    RMSE_list = []\n",
        "    MAE_list = []\n",
        "    for key in new_model_performance_dict.keys():\n",
        "        Rsq_list.append(new_model_performance_dict[key][0])\n",
        "        RMSE_list.append(new_model_performance_dict[key][1])\n",
        "        MAE_list.append(new_model_performance_dict[key][2])\n",
        "\n",
        "    props = pd.DataFrame([])\n",
        "\n",
        "    props[\"R-squared\"] = Rsq_list\n",
        "    props[\"MSE\"] = RMSE_list\n",
        "    props[\"MAE\"] = MAE_list\n",
        "    props.index = new_model_performance_dict.keys()\n",
        "    props = props.sort_values(by = sort_by)\n",
        "\n",
        "    fig, ax = plt.subplots(figsize = (12,6))\n",
        "\n",
        "    ax.bar(props.index, props[metric], color=\"blue\")\n",
        "    plt.title(metric)\n",
        "    plt.xlabel('Model')\n",
        "    plt.xticks(rotation = 45)\n",
        "    plt.ylabel(metric)"
      ]
    },
    {
      "cell_type": "markdown",
      "metadata": {
        "id": "1g9WgxRTQ6FQ"
      },
      "source": [
        "Let’s use this function to compare the models based on each metric."
      ]
    },
    {
      "cell_type": "code",
      "execution_count": null,
      "metadata": {
        "colab": {
          "base_uri": "https://localhost:8080/"
        },
        "outputId": "06dd730b-0e0f-4f77-b217-0de1d7620bab",
        "id": "CQGNGAVnQ6FQ"
      },
      "outputs": [
        {
          "output_type": "display_data",
          "data": {
            "text/plain": [
              "<Figure size 864x432 with 1 Axes>"
            ],
            "image/png": "[encoded data removed]"
          },
          "metadata": {
            "needs_background": "light"
          }
        }
      ],
      "source": [
        "model_comparison(new_model_performance_dict, sort_by = 'R-squared', metric = 'R-squared')"
      ]
    },
    {
      "cell_type": "code",
      "execution_count": null,
      "metadata": {
        "colab": {
          "base_uri": "https://localhost:8080/"
        },
        "outputId": "0b77b3a1-fcff-463d-f5fe-a8de928118b0",
        "id": "jERv8IOIQ6FQ"
      },
      "outputs": [
        {
          "output_type": "display_data",
          "data": {
            "text/plain": [
              "<Figure size 864x432 with 1 Axes>"
            ],
            "image/png": "[encoded data removed]"
          },
          "metadata": {
            "needs_background": "light"
          }
        }
      ],
      "source": [
        "model_comparison(new_model_performance_dict, sort_by = 'R-squared', metric = 'MAE')"
      ]
    },
    {
      "cell_type": "code",
      "execution_count": null,
      "metadata": {
        "colab": {
          "base_uri": "https://localhost:8080/"
        },
        "outputId": "43d4909d-cd5a-4eae-c32a-38220abcf018",
        "id": "jbmhMs13Q6FQ"
      },
      "outputs": [
        {
          "output_type": "display_data",
          "data": {
            "text/plain": [
              "<Figure size 864x432 with 1 Axes>"
            ],
            "image/png": "[encoded data removed]"
          },
          "metadata": {
            "needs_background": "light"
          }
        }
      ],
      "source": [
        "model_comparison(new_model_performance_dict, sort_by = 'R-squared', metric = 'MSE')"
      ]
    },
    {
      "cell_type": "markdown",
      "source": [
        "#**3) Predictive Question (Predicting fake news with/without URLs)**\n",
        "\n",
        "We tried to predict fake news in two different scenarios:\n",
        "\n",
        "• **1:** predicting it by the some features including the url.\n",
        "\n",
        "• **2:** predicting it by the same some features but url."
      ],
      "metadata": {
        "id": "XBOeeM-wdNRp"
      }
    },
    {
      "cell_type": "markdown",
      "source": [
        "##**First scenario**\n",
        "\n"
      ],
      "metadata": {
        "id": "GryBR0hLZylh"
      }
    },
    {
      "cell_type": "markdown",
      "source": [
        "###**Prepare Our Data**"
      ],
      "metadata": {
        "id": "u7zcneITuYLS"
      }
    },
    {
      "cell_type": "code",
      "source": [
        "df3.head()"
      ],
      "metadata": {
        "colab": {
          "base_uri": "https://localhost:8080/"
        },
        "id": "FHj5pduKZ-f5",
        "outputId": "f87781f8-e6a9-4893-c723-81ecfa1f29af"
      },
      "execution_count": null,
      "outputs": [
        {
          "output_type": "execute_result",
          "data": {
            "text/plain": [
              "    label                                    reddit_comments researched_by  \\\n",
              "14      0  [{'created_utc': 1344890447, 'label': 0, 'auth...        snopes   \n",
              "21      1  [{'created_utc': 1383445326, 'label': 1, 'auth...        snopes   \n",
              "25      0  [{'created_utc': 1450314492, 'label': 0, 'auth...        snopes   \n",
              "29      1  [{'created_utc': 1357236735, 'label': 1, 'auth...        snopes   \n",
              "36      0  [{'created_utc': 1398095468, 'label': 0, 'auth...        snopes   \n",
              "\n",
              "                                                 text  \\\n",
              "14  comprehensive database us voter fraud uncovers...   \n",
              "21  megan thompson asked national association chai...   \n",
              "25  prosecond amendment protester holds sign readi...   \n",
              "29  miami cbsmiami every time turn lights may putt...   \n",
              "36  something relate to dreaded moment realize sup...   \n",
              "\n",
              "                                                title  \\\n",
              "14                       news21 2012 national project   \n",
              "21          generic drugs necessarily mean low prices   \n",
              "25  obama admin willing run roughshod constitution...   \n",
              "29  study ecofriendly light bulbs may put health risk   \n",
              "36  spring cleaning three ways increase computers ...   \n",
              "\n",
              "                                                  url  \\\n",
              "14  http://votingrights.news21.com/article/electio...   \n",
              "21  http://www.pbs.org/newshour/bb/health-july-dec...   \n",
              "25  http://cnsnews.com/commentary/daniel-mitchell/...   \n",
              "29  http://miami.cbslocal.com/2013/01/02/study-eco...   \n",
              "36  http://www.cnet.com/how-to/ways-to-increase-yo...   \n",
              "\n",
              "                                               bodies  lengths  \\\n",
              "14  [analysis resulting comprehensive news21 elect...       16   \n",
              "21  [discovered recently trying get script generic...        2   \n",
              "25  [isnt, removed, last 7 years man day take ever...       26   \n",
              "29  [exposure bulbs could lead premature skin canc...       14   \n",
              "36                             [would amazed read 99]        1   \n",
              "\n",
              "                  clean_url  \\\n",
              "14  votingrights news21 com   \n",
              "21              www pbs org   \n",
              "25              cnsnews com   \n",
              "29       miami cbslocal com   \n",
              "36             www cnet com   \n",
              "\n",
              "                                          clean_title  \\\n",
              "14                                news nation project   \n",
              "21            generic drug necessarili mean low price   \n",
              "25  obama admin will run roughshod constitut gun c...   \n",
              "29     studi ecofriend light bulb may put health risk   \n",
              "36      spring clean three way increas comput perform   \n",
              "\n",
              "                                              content  \n",
              "14  snopes news nation project votingrights news21...  \n",
              "21  snopes generic drug necessarili mean low price...  \n",
              "25  snopes obama admin will run roughshod constitu...  \n",
              "29  snopes studi ecofriend light bulb may put heal...  \n",
              "36  snopes spring clean three way increas comput p...  "
            ],
            "text/html": [
              "\n",
              "  <div id=\"df-3d7c4340-586a-4b3b-8fbc-497177dc63cb\">\n",
              "    <div class=\"colab-df-container\">\n",
              "      <div>\n",
              "<style scoped>\n",
              "    .dataframe tbody tr th:only-of-type {\n",
              "        vertical-align: middle;\n",
              "    }\n",
              "\n",
              "    .dataframe tbody tr th {\n",
              "        vertical-align: top;\n",
              "    }\n",
              "\n",
              "    .dataframe thead th {\n",
              "        text-align: right;\n",
              "    }\n",
              "</style>\n",
              "<table border=\"1\" class=\"dataframe\">\n",
              "  <thead>\n",
              "    <tr style=\"text-align: right;\">\n",
              "      <th></th>\n",
              "      <th>label</th>\n",
              "      <th>reddit_comments</th>\n",
              "      <th>researched_by</th>\n",
              "      <th>text</th>\n",
              "      <th>title</th>\n",
              "      <th>url</th>\n",
              "      <th>bodies</th>\n",
              "      <th>lengths</th>\n",
              "      <th>clean_url</th>\n",
              "      <th>clean_title</th>\n",
              "      <th>content</th>\n",
              "    </tr>\n",
              "  </thead>\n",
              "  <tbody>\n",
              "    <tr>\n",
              "      <th>14</th>\n",
              "      <td>0</td>\n",
              "      <td>[{'created_utc': 1344890447, 'label': 0, 'auth...</td>\n",
              "      <td>snopes</td>\n",
              "      <td>comprehensive database us voter fraud uncovers...</td>\n",
              "      <td>news21 2012 national project</td>\n",
              "      <td>http://votingrights.news21.com/article/electio...</td>\n",
              "      <td>[analysis resulting comprehensive news21 elect...</td>\n",
              "      <td>16</td>\n",
              "      <td>votingrights news21 com</td>\n",
              "      <td>news nation project</td>\n",
              "      <td>snopes news nation project votingrights news21...</td>\n",
              "    </tr>\n",
              "    <tr>\n",
              "      <th>21</th>\n",
              "      <td>1</td>\n",
              "      <td>[{'created_utc': 1383445326, 'label': 1, 'auth...</td>\n",
              "      <td>snopes</td>\n",
              "      <td>megan thompson asked national association chai...</td>\n",
              "      <td>generic drugs necessarily mean low prices</td>\n",
              "      <td>http://www.pbs.org/newshour/bb/health-july-dec...</td>\n",
              "      <td>[discovered recently trying get script generic...</td>\n",
              "      <td>2</td>\n",
              "      <td>www pbs org</td>\n",
              "      <td>generic drug necessarili mean low price</td>\n",
              "      <td>snopes generic drug necessarili mean low price...</td>\n",
              "    </tr>\n",
              "    <tr>\n",
              "      <th>25</th>\n",
              "      <td>0</td>\n",
              "      <td>[{'created_utc': 1450314492, 'label': 0, 'auth...</td>\n",
              "      <td>snopes</td>\n",
              "      <td>prosecond amendment protester holds sign readi...</td>\n",
              "      <td>obama admin willing run roughshod constitution...</td>\n",
              "      <td>http://cnsnews.com/commentary/daniel-mitchell/...</td>\n",
              "      <td>[isnt, removed, last 7 years man day take ever...</td>\n",
              "      <td>26</td>\n",
              "      <td>cnsnews com</td>\n",
              "      <td>obama admin will run roughshod constitut gun c...</td>\n",
              "      <td>snopes obama admin will run roughshod constitu...</td>\n",
              "    </tr>\n",
              "    <tr>\n",
              "      <th>29</th>\n",
              "      <td>1</td>\n",
              "      <td>[{'created_utc': 1357236735, 'label': 1, 'auth...</td>\n",
              "      <td>snopes</td>\n",
              "      <td>miami cbsmiami every time turn lights may putt...</td>\n",
              "      <td>study ecofriendly light bulbs may put health risk</td>\n",
              "      <td>http://miami.cbslocal.com/2013/01/02/study-eco...</td>\n",
              "      <td>[exposure bulbs could lead premature skin canc...</td>\n",
              "      <td>14</td>\n",
              "      <td>miami cbslocal com</td>\n",
              "      <td>studi ecofriend light bulb may put health risk</td>\n",
              "      <td>snopes studi ecofriend light bulb may put heal...</td>\n",
              "    </tr>\n",
              "    <tr>\n",
              "      <th>36</th>\n",
              "      <td>0</td>\n",
              "      <td>[{'created_utc': 1398095468, 'label': 0, 'auth...</td>\n",
              "      <td>snopes</td>\n",
              "      <td>something relate to dreaded moment realize sup...</td>\n",
              "      <td>spring cleaning three ways increase computers ...</td>\n",
              "      <td>http://www.cnet.com/how-to/ways-to-increase-yo...</td>\n",
              "      <td>[would amazed read 99]</td>\n",
              "      <td>1</td>\n",
              "      <td>www cnet com</td>\n",
              "      <td>spring clean three way increas comput perform</td>\n",
              "      <td>snopes spring clean three way increas comput p...</td>\n",
              "    </tr>\n",
              "  </tbody>\n",
              "</table>\n",
              "</div>\n",
              "      <button class=\"colab-df-convert\" onclick=\"convertToInteractive('df-3d7c4340-586a-4b3b-8fbc-497177dc63cb')\"\n",
              "              title=\"Convert this dataframe to an interactive table.\"\n",
              "              style=\"display:none;\">\n",
              "        \n",
              "  <svg xmlns=\"http://www.w3.org/2000/svg\" height=\"24px\"viewBox=\"0 0 24 24\"\n",
              "       width=\"24px\">\n",
              "    <path d=\"M0 0h24v24H0V0z\" fill=\"none\"/>\n",
              "    <path d=\"M18.56 5.44l.94 2.06.94-2.06 2.06-.94-2.06-.94-.94-2.06-.94 2.06-2.06.94zm-11 1L8.5 8.5l.94-2.06 2.06-.94-2.06-.94L8.5 2.5l-.94 2.06-2.06.94zm10 10l.94 2.06.94-2.06 2.06-.94-2.06-.94-.94-2.06-.94 2.06-2.06.94z\"/><path d=\"M17.41 7.96l-1.37-1.37c-.4-.4-.92-.59-1.43-.59-.52 0-1.04.2-1.43.59L10.3 9.45l-7.72 7.72c-.78.78-.78 2.05 0 2.83L4 21.41c.39.39.9.59 1.41.59.51 0 1.02-.2 1.41-.59l7.78-7.78 2.81-2.81c.8-.78.8-2.07 0-2.86zM5.41 20L4 18.59l7.72-7.72 1.47 1.35L5.41 20z\"/>\n",
              "  </svg>\n",
              "      </button>\n",
              "      \n",
              "  <style>\n",
              "    .colab-df-container {\n",
              "      display:flex;\n",
              "      flex-wrap:wrap;\n",
              "      gap: 12px;\n",
              "    }\n",
              "\n",
              "    .colab-df-convert {\n",
              "      background-color: #E8F0FE;\n",
              "      border: none;\n",
              "      border-radius: 50%;\n",
              "      cursor: pointer;\n",
              "      display: none;\n",
              "      fill: #1967D2;\n",
              "      height: 32px;\n",
              "      padding: 0 0 0 0;\n",
              "      width: 32px;\n",
              "    }\n",
              "\n",
              "    .colab-df-convert:hover {\n",
              "      background-color: #E2EBFA;\n",
              "      box-shadow: 0px 1px 2px rgba(60, 64, 67, 0.3), 0px 1px 3px 1px rgba(60, 64, 67, 0.15);\n",
              "      fill: #174EA6;\n",
              "    }\n",
              "\n",
              "    [theme=dark] .colab-df-convert {\n",
              "      background-color: #3B4455;\n",
              "      fill: #D2E3FC;\n",
              "    }\n",
              "\n",
              "    [theme=dark] .colab-df-convert:hover {\n",
              "      background-color: #434B5C;\n",
              "      box-shadow: 0px 1px 3px 1px rgba(0, 0, 0, 0.15);\n",
              "      filter: drop-shadow(0px 1px 2px rgba(0, 0, 0, 0.3));\n",
              "      fill: #FFFFFF;\n",
              "    }\n",
              "  </style>\n",
              "\n",
              "      <script>\n",
              "        const buttonEl =\n",
              "          document.querySelector('#df-3d7c4340-586a-4b3b-8fbc-497177dc63cb button.colab-df-convert');\n",
              "        buttonEl.style.display =\n",
              "          google.colab.kernel.accessAllowed ? 'block' : 'none';\n",
              "\n",
              "        async function convertToInteractive(key) {\n",
              "          const element = document.querySelector('#df-3d7c4340-586a-4b3b-8fbc-497177dc63cb');\n",
              "          const dataTable =\n",
              "            await google.colab.kernel.invokeFunction('convertToInteractive',\n",
              "                                                     [key], {});\n",
              "          if (!dataTable) return;\n",
              "\n",
              "          const docLinkHtml = 'Like what you see? Visit the ' +\n",
              "            '<a target=\"_blank\" href=https://colab.research.google.com/notebooks/data_table.ipynb>data table notebook</a>'\n",
              "            + ' to learn more about interactive tables.';\n",
              "          element.innerHTML = '';\n",
              "          dataTable['output_type'] = 'display_data';\n",
              "          await google.colab.output.renderOutput(dataTable, element);\n",
              "          const docLink = document.createElement('div');\n",
              "          docLink.innerHTML = docLinkHtml;\n",
              "          element.appendChild(docLink);\n",
              "        }\n",
              "      </script>\n",
              "    </div>\n",
              "  </div>\n",
              "  "
            ]
          },
          "metadata": {},
          "execution_count": 291
        }
      ]
    },
    {
      "cell_type": "code",
      "source": [
        "#creating dataframe from our new features\n",
        "df_new = df3.iloc[:,[0,2,3,5]]\n",
        "df_new.head()"
      ],
      "metadata": {
        "id": "Bwji6L4Bo2Wf",
        "outputId": "32fcd8c1-14dc-4390-c513-6e8c80b6de01",
        "execution": {
          "iopub.status.busy": "2022-06-12T23:49:32.907792Z",
          "iopub.execute_input": "2022-06-12T23:49:32.908589Z",
          "iopub.status.idle": "2022-06-12T23:49:32.923543Z",
          "shell.execute_reply.started": "2022-06-12T23:49:32.908541Z",
          "shell.execute_reply": "2022-06-12T23:49:32.922818Z"
        },
        "trusted": true,
        "colab": {
          "base_uri": "https://localhost:8080/"
        }
      },
      "execution_count": null,
      "outputs": [
        {
          "output_type": "execute_result",
          "data": {
            "text/plain": [
              "    label researched_by                                               text  \\\n",
              "14      0        snopes  comprehensive database us voter fraud uncovers...   \n",
              "21      1        snopes  megan thompson asked national association chai...   \n",
              "25      0        snopes  prosecond amendment protester holds sign readi...   \n",
              "29      1        snopes  miami cbsmiami every time turn lights may putt...   \n",
              "36      0        snopes  something relate to dreaded moment realize sup...   \n",
              "\n",
              "                                                  url  \n",
              "14  http://votingrights.news21.com/article/electio...  \n",
              "21  http://www.pbs.org/newshour/bb/health-july-dec...  \n",
              "25  http://cnsnews.com/commentary/daniel-mitchell/...  \n",
              "29  http://miami.cbslocal.com/2013/01/02/study-eco...  \n",
              "36  http://www.cnet.com/how-to/ways-to-increase-yo...  "
            ],
            "text/html": [
              "\n",
              "  <div id=\"df-a1a506c7-2497-4c94-99c3-09583668df6f\">\n",
              "    <div class=\"colab-df-container\">\n",
              "      <div>\n",
              "<style scoped>\n",
              "    .dataframe tbody tr th:only-of-type {\n",
              "        vertical-align: middle;\n",
              "    }\n",
              "\n",
              "    .dataframe tbody tr th {\n",
              "        vertical-align: top;\n",
              "    }\n",
              "\n",
              "    .dataframe thead th {\n",
              "        text-align: right;\n",
              "    }\n",
              "</style>\n",
              "<table border=\"1\" class=\"dataframe\">\n",
              "  <thead>\n",
              "    <tr style=\"text-align: right;\">\n",
              "      <th></th>\n",
              "      <th>label</th>\n",
              "      <th>researched_by</th>\n",
              "      <th>text</th>\n",
              "      <th>url</th>\n",
              "    </tr>\n",
              "  </thead>\n",
              "  <tbody>\n",
              "    <tr>\n",
              "      <th>14</th>\n",
              "      <td>0</td>\n",
              "      <td>snopes</td>\n",
              "      <td>comprehensive database us voter fraud uncovers...</td>\n",
              "      <td>http://votingrights.news21.com/article/electio...</td>\n",
              "    </tr>\n",
              "    <tr>\n",
              "      <th>21</th>\n",
              "      <td>1</td>\n",
              "      <td>snopes</td>\n",
              "      <td>megan thompson asked national association chai...</td>\n",
              "      <td>http://www.pbs.org/newshour/bb/health-july-dec...</td>\n",
              "    </tr>\n",
              "    <tr>\n",
              "      <th>25</th>\n",
              "      <td>0</td>\n",
              "      <td>snopes</td>\n",
              "      <td>prosecond amendment protester holds sign readi...</td>\n",
              "      <td>http://cnsnews.com/commentary/daniel-mitchell/...</td>\n",
              "    </tr>\n",
              "    <tr>\n",
              "      <th>29</th>\n",
              "      <td>1</td>\n",
              "      <td>snopes</td>\n",
              "      <td>miami cbsmiami every time turn lights may putt...</td>\n",
              "      <td>http://miami.cbslocal.com/2013/01/02/study-eco...</td>\n",
              "    </tr>\n",
              "    <tr>\n",
              "      <th>36</th>\n",
              "      <td>0</td>\n",
              "      <td>snopes</td>\n",
              "      <td>something relate to dreaded moment realize sup...</td>\n",
              "      <td>http://www.cnet.com/how-to/ways-to-increase-yo...</td>\n",
              "    </tr>\n",
              "  </tbody>\n",
              "</table>\n",
              "</div>\n",
              "      <button class=\"colab-df-convert\" onclick=\"convertToInteractive('df-a1a506c7-2497-4c94-99c3-09583668df6f')\"\n",
              "              title=\"Convert this dataframe to an interactive table.\"\n",
              "              style=\"display:none;\">\n",
              "        \n",
              "  <svg xmlns=\"http://www.w3.org/2000/svg\" height=\"24px\"viewBox=\"0 0 24 24\"\n",
              "       width=\"24px\">\n",
              "    <path d=\"M0 0h24v24H0V0z\" fill=\"none\"/>\n",
              "    <path d=\"M18.56 5.44l.94 2.06.94-2.06 2.06-.94-2.06-.94-.94-2.06-.94 2.06-2.06.94zm-11 1L8.5 8.5l.94-2.06 2.06-.94-2.06-.94L8.5 2.5l-.94 2.06-2.06.94zm10 10l.94 2.06.94-2.06 2.06-.94-2.06-.94-.94-2.06-.94 2.06-2.06.94z\"/><path d=\"M17.41 7.96l-1.37-1.37c-.4-.4-.92-.59-1.43-.59-.52 0-1.04.2-1.43.59L10.3 9.45l-7.72 7.72c-.78.78-.78 2.05 0 2.83L4 21.41c.39.39.9.59 1.41.59.51 0 1.02-.2 1.41-.59l7.78-7.78 2.81-2.81c.8-.78.8-2.07 0-2.86zM5.41 20L4 18.59l7.72-7.72 1.47 1.35L5.41 20z\"/>\n",
              "  </svg>\n",
              "      </button>\n",
              "      \n",
              "  <style>\n",
              "    .colab-df-container {\n",
              "      display:flex;\n",
              "      flex-wrap:wrap;\n",
              "      gap: 12px;\n",
              "    }\n",
              "\n",
              "    .colab-df-convert {\n",
              "      background-color: #E8F0FE;\n",
              "      border: none;\n",
              "      border-radius: 50%;\n",
              "      cursor: pointer;\n",
              "      display: none;\n",
              "      fill: #1967D2;\n",
              "      height: 32px;\n",
              "      padding: 0 0 0 0;\n",
              "      width: 32px;\n",
              "    }\n",
              "\n",
              "    .colab-df-convert:hover {\n",
              "      background-color: #E2EBFA;\n",
              "      box-shadow: 0px 1px 2px rgba(60, 64, 67, 0.3), 0px 1px 3px 1px rgba(60, 64, 67, 0.15);\n",
              "      fill: #174EA6;\n",
              "    }\n",
              "\n",
              "    [theme=dark] .colab-df-convert {\n",
              "      background-color: #3B4455;\n",
              "      fill: #D2E3FC;\n",
              "    }\n",
              "\n",
              "    [theme=dark] .colab-df-convert:hover {\n",
              "      background-color: #434B5C;\n",
              "      box-shadow: 0px 1px 3px 1px rgba(0, 0, 0, 0.15);\n",
              "      filter: drop-shadow(0px 1px 2px rgba(0, 0, 0, 0.3));\n",
              "      fill: #FFFFFF;\n",
              "    }\n",
              "  </style>\n",
              "\n",
              "      <script>\n",
              "        const buttonEl =\n",
              "          document.querySelector('#df-a1a506c7-2497-4c94-99c3-09583668df6f button.colab-df-convert');\n",
              "        buttonEl.style.display =\n",
              "          google.colab.kernel.accessAllowed ? 'block' : 'none';\n",
              "\n",
              "        async function convertToInteractive(key) {\n",
              "          const element = document.querySelector('#df-a1a506c7-2497-4c94-99c3-09583668df6f');\n",
              "          const dataTable =\n",
              "            await google.colab.kernel.invokeFunction('convertToInteractive',\n",
              "                                                     [key], {});\n",
              "          if (!dataTable) return;\n",
              "\n",
              "          const docLinkHtml = 'Like what you see? Visit the ' +\n",
              "            '<a target=\"_blank\" href=https://colab.research.google.com/notebooks/data_table.ipynb>data table notebook</a>'\n",
              "            + ' to learn more about interactive tables.';\n",
              "          element.innerHTML = '';\n",
              "          dataTable['output_type'] = 'display_data';\n",
              "          await google.colab.output.renderOutput(dataTable, element);\n",
              "          const docLink = document.createElement('div');\n",
              "          docLink.innerHTML = docLinkHtml;\n",
              "          element.appendChild(docLink);\n",
              "        }\n",
              "      </script>\n",
              "    </div>\n",
              "  </div>\n",
              "  "
            ]
          },
          "metadata": {},
          "execution_count": 292
        }
      ]
    },
    {
      "cell_type": "code",
      "source": [
        "#apply Label encoder on researched_by column\n",
        "from sklearn import preprocessing\n",
        "le = preprocessing.LabelEncoder()\n",
        "df_new['researched_by']=le.fit_transform(df_new['researched_by'])\n",
        "df_new.head()"
      ],
      "metadata": {
        "id": "PDi3k-2PyZwZ",
        "outputId": "ea34be2b-a330-419a-e6de-b0bb32d0235a",
        "execution": {
          "iopub.status.busy": "2022-06-12T23:49:54.430800Z",
          "iopub.execute_input": "2022-06-12T23:49:54.431200Z",
          "iopub.status.idle": "2022-06-12T23:49:54.454867Z",
          "shell.execute_reply.started": "2022-06-12T23:49:54.431169Z",
          "shell.execute_reply": "2022-06-12T23:49:54.454016Z"
        },
        "trusted": true,
        "colab": {
          "base_uri": "https://localhost:8080/"
        }
      },
      "execution_count": null,
      "outputs": [
        {
          "output_type": "execute_result",
          "data": {
            "text/plain": [
              "    label  researched_by                                               text  \\\n",
              "14      0              2  comprehensive database us voter fraud uncovers...   \n",
              "21      1              2  megan thompson asked national association chai...   \n",
              "25      0              2  prosecond amendment protester holds sign readi...   \n",
              "29      1              2  miami cbsmiami every time turn lights may putt...   \n",
              "36      0              2  something relate to dreaded moment realize sup...   \n",
              "\n",
              "                                                  url  \n",
              "14  http://votingrights.news21.com/article/electio...  \n",
              "21  http://www.pbs.org/newshour/bb/health-july-dec...  \n",
              "25  http://cnsnews.com/commentary/daniel-mitchell/...  \n",
              "29  http://miami.cbslocal.com/2013/01/02/study-eco...  \n",
              "36  http://www.cnet.com/how-to/ways-to-increase-yo...  "
            ],
            "text/html": [
              "\n",
              "  <div id=\"df-b34933c5-0b26-4281-a236-0506b48888e4\">\n",
              "    <div class=\"colab-df-container\">\n",
              "      <div>\n",
              "<style scoped>\n",
              "    .dataframe tbody tr th:only-of-type {\n",
              "        vertical-align: middle;\n",
              "    }\n",
              "\n",
              "    .dataframe tbody tr th {\n",
              "        vertical-align: top;\n",
              "    }\n",
              "\n",
              "    .dataframe thead th {\n",
              "        text-align: right;\n",
              "    }\n",
              "</style>\n",
              "<table border=\"1\" class=\"dataframe\">\n",
              "  <thead>\n",
              "    <tr style=\"text-align: right;\">\n",
              "      <th></th>\n",
              "      <th>label</th>\n",
              "      <th>researched_by</th>\n",
              "      <th>text</th>\n",
              "      <th>url</th>\n",
              "    </tr>\n",
              "  </thead>\n",
              "  <tbody>\n",
              "    <tr>\n",
              "      <th>14</th>\n",
              "      <td>0</td>\n",
              "      <td>2</td>\n",
              "      <td>comprehensive database us voter fraud uncovers...</td>\n",
              "      <td>http://votingrights.news21.com/article/electio...</td>\n",
              "    </tr>\n",
              "    <tr>\n",
              "      <th>21</th>\n",
              "      <td>1</td>\n",
              "      <td>2</td>\n",
              "      <td>megan thompson asked national association chai...</td>\n",
              "      <td>http://www.pbs.org/newshour/bb/health-july-dec...</td>\n",
              "    </tr>\n",
              "    <tr>\n",
              "      <th>25</th>\n",
              "      <td>0</td>\n",
              "      <td>2</td>\n",
              "      <td>prosecond amendment protester holds sign readi...</td>\n",
              "      <td>http://cnsnews.com/commentary/daniel-mitchell/...</td>\n",
              "    </tr>\n",
              "    <tr>\n",
              "      <th>29</th>\n",
              "      <td>1</td>\n",
              "      <td>2</td>\n",
              "      <td>miami cbsmiami every time turn lights may putt...</td>\n",
              "      <td>http://miami.cbslocal.com/2013/01/02/study-eco...</td>\n",
              "    </tr>\n",
              "    <tr>\n",
              "      <th>36</th>\n",
              "      <td>0</td>\n",
              "      <td>2</td>\n",
              "      <td>something relate to dreaded moment realize sup...</td>\n",
              "      <td>http://www.cnet.com/how-to/ways-to-increase-yo...</td>\n",
              "    </tr>\n",
              "  </tbody>\n",
              "</table>\n",
              "</div>\n",
              "      <button class=\"colab-df-convert\" onclick=\"convertToInteractive('df-b34933c5-0b26-4281-a236-0506b48888e4')\"\n",
              "              title=\"Convert this dataframe to an interactive table.\"\n",
              "              style=\"display:none;\">\n",
              "        \n",
              "  <svg xmlns=\"http://www.w3.org/2000/svg\" height=\"24px\"viewBox=\"0 0 24 24\"\n",
              "       width=\"24px\">\n",
              "    <path d=\"M0 0h24v24H0V0z\" fill=\"none\"/>\n",
              "    <path d=\"M18.56 5.44l.94 2.06.94-2.06 2.06-.94-2.06-.94-.94-2.06-.94 2.06-2.06.94zm-11 1L8.5 8.5l.94-2.06 2.06-.94-2.06-.94L8.5 2.5l-.94 2.06-2.06.94zm10 10l.94 2.06.94-2.06 2.06-.94-2.06-.94-.94-2.06-.94 2.06-2.06.94z\"/><path d=\"M17.41 7.96l-1.37-1.37c-.4-.4-.92-.59-1.43-.59-.52 0-1.04.2-1.43.59L10.3 9.45l-7.72 7.72c-.78.78-.78 2.05 0 2.83L4 21.41c.39.39.9.59 1.41.59.51 0 1.02-.2 1.41-.59l7.78-7.78 2.81-2.81c.8-.78.8-2.07 0-2.86zM5.41 20L4 18.59l7.72-7.72 1.47 1.35L5.41 20z\"/>\n",
              "  </svg>\n",
              "      </button>\n",
              "      \n",
              "  <style>\n",
              "    .colab-df-container {\n",
              "      display:flex;\n",
              "      flex-wrap:wrap;\n",
              "      gap: 12px;\n",
              "    }\n",
              "\n",
              "    .colab-df-convert {\n",
              "      background-color: #E8F0FE;\n",
              "      border: none;\n",
              "      border-radius: 50%;\n",
              "      cursor: pointer;\n",
              "      display: none;\n",
              "      fill: #1967D2;\n",
              "      height: 32px;\n",
              "      padding: 0 0 0 0;\n",
              "      width: 32px;\n",
              "    }\n",
              "\n",
              "    .colab-df-convert:hover {\n",
              "      background-color: #E2EBFA;\n",
              "      box-shadow: 0px 1px 2px rgba(60, 64, 67, 0.3), 0px 1px 3px 1px rgba(60, 64, 67, 0.15);\n",
              "      fill: #174EA6;\n",
              "    }\n",
              "\n",
              "    [theme=dark] .colab-df-convert {\n",
              "      background-color: #3B4455;\n",
              "      fill: #D2E3FC;\n",
              "    }\n",
              "\n",
              "    [theme=dark] .colab-df-convert:hover {\n",
              "      background-color: #434B5C;\n",
              "      box-shadow: 0px 1px 3px 1px rgba(0, 0, 0, 0.15);\n",
              "      filter: drop-shadow(0px 1px 2px rgba(0, 0, 0, 0.3));\n",
              "      fill: #FFFFFF;\n",
              "    }\n",
              "  </style>\n",
              "\n",
              "      <script>\n",
              "        const buttonEl =\n",
              "          document.querySelector('#df-b34933c5-0b26-4281-a236-0506b48888e4 button.colab-df-convert');\n",
              "        buttonEl.style.display =\n",
              "          google.colab.kernel.accessAllowed ? 'block' : 'none';\n",
              "\n",
              "        async function convertToInteractive(key) {\n",
              "          const element = document.querySelector('#df-b34933c5-0b26-4281-a236-0506b48888e4');\n",
              "          const dataTable =\n",
              "            await google.colab.kernel.invokeFunction('convertToInteractive',\n",
              "                                                     [key], {});\n",
              "          if (!dataTable) return;\n",
              "\n",
              "          const docLinkHtml = 'Like what you see? Visit the ' +\n",
              "            '<a target=\"_blank\" href=https://colab.research.google.com/notebooks/data_table.ipynb>data table notebook</a>'\n",
              "            + ' to learn more about interactive tables.';\n",
              "          element.innerHTML = '';\n",
              "          dataTable['output_type'] = 'display_data';\n",
              "          await google.colab.output.renderOutput(dataTable, element);\n",
              "          const docLink = document.createElement('div');\n",
              "          docLink.innerHTML = docLinkHtml;\n",
              "          element.appendChild(docLink);\n",
              "        }\n",
              "      </script>\n",
              "    </div>\n",
              "  </div>\n",
              "  "
            ]
          },
          "metadata": {},
          "execution_count": 293
        }
      ]
    },
    {
      "cell_type": "code",
      "source": [
        "#use clean function to clean the data in this scenario\n",
        "df_new[\"clean_text\"] = df_new.loc[df_new[\"text\"].str.len() > 0, \"text\"]\n",
        "df_new[\"clean_text\"] = df_new[\"clean_text\"].map(lambda x: clean_text(x, for_embedding=False) if isinstance(x, str) else x)\n",
        "df_new[\"clean_url\"] = df_new.loc[df_new[\"url\"].str.len() > 0, \"url\"]\n",
        "df_new[\"clean_url\"] = df_new[\"clean_url\"].map(lambda x: clean_text(x, for_embedding=False) if isinstance(x, str) else x)"
      ],
      "metadata": {
        "id": "Kg31zGwX1azt",
        "execution": {
          "iopub.status.busy": "2022-06-12T23:50:28.106183Z",
          "iopub.execute_input": "2022-06-12T23:50:28.106715Z",
          "iopub.status.idle": "2022-06-12T23:53:20.111900Z",
          "shell.execute_reply.started": "2022-06-12T23:50:28.106672Z",
          "shell.execute_reply": "2022-06-12T23:53:20.110606Z"
        },
        "trusted": true
      },
      "execution_count": null,
      "outputs": []
    },
    {
      "cell_type": "code",
      "source": [
        "df_new.head()"
      ],
      "metadata": {
        "id": "ndHMpZRE_yDj",
        "execution": {
          "iopub.status.busy": "2022-06-12T23:53:20.114065Z",
          "iopub.execute_input": "2022-06-12T23:53:20.114535Z",
          "iopub.status.idle": "2022-06-12T23:53:20.137812Z",
          "shell.execute_reply.started": "2022-06-12T23:53:20.114489Z",
          "shell.execute_reply": "2022-06-12T23:53:20.136757Z"
        },
        "trusted": true,
        "colab": {
          "base_uri": "https://localhost:8080/"
        },
        "outputId": "37ad4691-aa5c-48b5-cbf3-9499b20e15f1"
      },
      "execution_count": null,
      "outputs": [
        {
          "output_type": "execute_result",
          "data": {
            "text/plain": [
              "    label  researched_by                                               text  \\\n",
              "14      0              2  comprehensive database us voter fraud uncovers...   \n",
              "21      1              2  megan thompson asked national association chai...   \n",
              "25      0              2  prosecond amendment protester holds sign readi...   \n",
              "29      1              2  miami cbsmiami every time turn lights may putt...   \n",
              "36      0              2  something relate to dreaded moment realize sup...   \n",
              "\n",
              "                                                  url  \\\n",
              "14  http://votingrights.news21.com/article/electio...   \n",
              "21  http://www.pbs.org/newshour/bb/health-july-dec...   \n",
              "25  http://cnsnews.com/commentary/daniel-mitchell/...   \n",
              "29  http://miami.cbslocal.com/2013/01/02/study-eco...   \n",
              "36  http://www.cnet.com/how-to/ways-to-increase-yo...   \n",
              "\n",
              "                                           clean_text  \\\n",
              "14  comprehens databas us voter fraud uncov evid p...   \n",
              "21  megan thompson ask nation associ chain drug st...   \n",
              "25  prosecond amend protest hold sign read part sh...   \n",
              "29  miami cbsmiami everi time turn light may put r...   \n",
              "36  someth relat dread moment realiz superfast com...   \n",
              "\n",
              "                                            clean_url  \n",
              "14       http votingright news com articl elect fraud  \n",
              "21  http www pbs org newshour bb health juli dec c...  \n",
              "25  http cnsnew com commentari daniel mitchel obam...  \n",
              "29  http miami cbslocal com studi eco friend light...  \n",
              "36       http www cnet com way increas comput perform  "
            ],
            "text/html": [
              "\n",
              "  <div id=\"df-8b06774b-dfa0-4515-ab73-a0c54bcd96b3\">\n",
              "    <div class=\"colab-df-container\">\n",
              "      <div>\n",
              "<style scoped>\n",
              "    .dataframe tbody tr th:only-of-type {\n",
              "        vertical-align: middle;\n",
              "    }\n",
              "\n",
              "    .dataframe tbody tr th {\n",
              "        vertical-align: top;\n",
              "    }\n",
              "\n",
              "    .dataframe thead th {\n",
              "        text-align: right;\n",
              "    }\n",
              "</style>\n",
              "<table border=\"1\" class=\"dataframe\">\n",
              "  <thead>\n",
              "    <tr style=\"text-align: right;\">\n",
              "      <th></th>\n",
              "      <th>label</th>\n",
              "      <th>researched_by</th>\n",
              "      <th>text</th>\n",
              "      <th>url</th>\n",
              "      <th>clean_text</th>\n",
              "      <th>clean_url</th>\n",
              "    </tr>\n",
              "  </thead>\n",
              "  <tbody>\n",
              "    <tr>\n",
              "      <th>14</th>\n",
              "      <td>0</td>\n",
              "      <td>2</td>\n",
              "      <td>comprehensive database us voter fraud uncovers...</td>\n",
              "      <td>http://votingrights.news21.com/article/electio...</td>\n",
              "      <td>comprehens databas us voter fraud uncov evid p...</td>\n",
              "      <td>http votingright news com articl elect fraud</td>\n",
              "    </tr>\n",
              "    <tr>\n",
              "      <th>21</th>\n",
              "      <td>1</td>\n",
              "      <td>2</td>\n",
              "      <td>megan thompson asked national association chai...</td>\n",
              "      <td>http://www.pbs.org/newshour/bb/health-july-dec...</td>\n",
              "      <td>megan thompson ask nation associ chain drug st...</td>\n",
              "      <td>http www pbs org newshour bb health juli dec c...</td>\n",
              "    </tr>\n",
              "    <tr>\n",
              "      <th>25</th>\n",
              "      <td>0</td>\n",
              "      <td>2</td>\n",
              "      <td>prosecond amendment protester holds sign readi...</td>\n",
              "      <td>http://cnsnews.com/commentary/daniel-mitchell/...</td>\n",
              "      <td>prosecond amend protest hold sign read part sh...</td>\n",
              "      <td>http cnsnew com commentari daniel mitchel obam...</td>\n",
              "    </tr>\n",
              "    <tr>\n",
              "      <th>29</th>\n",
              "      <td>1</td>\n",
              "      <td>2</td>\n",
              "      <td>miami cbsmiami every time turn lights may putt...</td>\n",
              "      <td>http://miami.cbslocal.com/2013/01/02/study-eco...</td>\n",
              "      <td>miami cbsmiami everi time turn light may put r...</td>\n",
              "      <td>http miami cbslocal com studi eco friend light...</td>\n",
              "    </tr>\n",
              "    <tr>\n",
              "      <th>36</th>\n",
              "      <td>0</td>\n",
              "      <td>2</td>\n",
              "      <td>something relate to dreaded moment realize sup...</td>\n",
              "      <td>http://www.cnet.com/how-to/ways-to-increase-yo...</td>\n",
              "      <td>someth relat dread moment realiz superfast com...</td>\n",
              "      <td>http www cnet com way increas comput perform</td>\n",
              "    </tr>\n",
              "  </tbody>\n",
              "</table>\n",
              "</div>\n",
              "      <button class=\"colab-df-convert\" onclick=\"convertToInteractive('df-8b06774b-dfa0-4515-ab73-a0c54bcd96b3')\"\n",
              "              title=\"Convert this dataframe to an interactive table.\"\n",
              "              style=\"display:none;\">\n",
              "        \n",
              "  <svg xmlns=\"http://www.w3.org/2000/svg\" height=\"24px\"viewBox=\"0 0 24 24\"\n",
              "       width=\"24px\">\n",
              "    <path d=\"M0 0h24v24H0V0z\" fill=\"none\"/>\n",
              "    <path d=\"M18.56 5.44l.94 2.06.94-2.06 2.06-.94-2.06-.94-.94-2.06-.94 2.06-2.06.94zm-11 1L8.5 8.5l.94-2.06 2.06-.94-2.06-.94L8.5 2.5l-.94 2.06-2.06.94zm10 10l.94 2.06.94-2.06 2.06-.94-2.06-.94-.94-2.06-.94 2.06-2.06.94z\"/><path d=\"M17.41 7.96l-1.37-1.37c-.4-.4-.92-.59-1.43-.59-.52 0-1.04.2-1.43.59L10.3 9.45l-7.72 7.72c-.78.78-.78 2.05 0 2.83L4 21.41c.39.39.9.59 1.41.59.51 0 1.02-.2 1.41-.59l7.78-7.78 2.81-2.81c.8-.78.8-2.07 0-2.86zM5.41 20L4 18.59l7.72-7.72 1.47 1.35L5.41 20z\"/>\n",
              "  </svg>\n",
              "      </button>\n",
              "      \n",
              "  <style>\n",
              "    .colab-df-container {\n",
              "      display:flex;\n",
              "      flex-wrap:wrap;\n",
              "      gap: 12px;\n",
              "    }\n",
              "\n",
              "    .colab-df-convert {\n",
              "      background-color: #E8F0FE;\n",
              "      border: none;\n",
              "      border-radius: 50%;\n",
              "      cursor: pointer;\n",
              "      display: none;\n",
              "      fill: #1967D2;\n",
              "      height: 32px;\n",
              "      padding: 0 0 0 0;\n",
              "      width: 32px;\n",
              "    }\n",
              "\n",
              "    .colab-df-convert:hover {\n",
              "      background-color: #E2EBFA;\n",
              "      box-shadow: 0px 1px 2px rgba(60, 64, 67, 0.3), 0px 1px 3px 1px rgba(60, 64, 67, 0.15);\n",
              "      fill: #174EA6;\n",
              "    }\n",
              "\n",
              "    [theme=dark] .colab-df-convert {\n",
              "      background-color: #3B4455;\n",
              "      fill: #D2E3FC;\n",
              "    }\n",
              "\n",
              "    [theme=dark] .colab-df-convert:hover {\n",
              "      background-color: #434B5C;\n",
              "      box-shadow: 0px 1px 3px 1px rgba(0, 0, 0, 0.15);\n",
              "      filter: drop-shadow(0px 1px 2px rgba(0, 0, 0, 0.3));\n",
              "      fill: #FFFFFF;\n",
              "    }\n",
              "  </style>\n",
              "\n",
              "      <script>\n",
              "        const buttonEl =\n",
              "          document.querySelector('#df-8b06774b-dfa0-4515-ab73-a0c54bcd96b3 button.colab-df-convert');\n",
              "        buttonEl.style.display =\n",
              "          google.colab.kernel.accessAllowed ? 'block' : 'none';\n",
              "\n",
              "        async function convertToInteractive(key) {\n",
              "          const element = document.querySelector('#df-8b06774b-dfa0-4515-ab73-a0c54bcd96b3');\n",
              "          const dataTable =\n",
              "            await google.colab.kernel.invokeFunction('convertToInteractive',\n",
              "                                                     [key], {});\n",
              "          if (!dataTable) return;\n",
              "\n",
              "          const docLinkHtml = 'Like what you see? Visit the ' +\n",
              "            '<a target=\"_blank\" href=https://colab.research.google.com/notebooks/data_table.ipynb>data table notebook</a>'\n",
              "            + ' to learn more about interactive tables.';\n",
              "          element.innerHTML = '';\n",
              "          dataTable['output_type'] = 'display_data';\n",
              "          await google.colab.output.renderOutput(dataTable, element);\n",
              "          const docLink = document.createElement('div');\n",
              "          docLink.innerHTML = docLinkHtml;\n",
              "          element.appendChild(docLink);\n",
              "        }\n",
              "      </script>\n",
              "    </div>\n",
              "  </div>\n",
              "  "
            ]
          },
          "metadata": {},
          "execution_count": 295
        }
      ]
    },
    {
      "cell_type": "code",
      "source": [
        "# merging the news text and news title\n",
        "df_new['content'] = df_new['clean_text']+' '+df_new['clean_url']\n",
        "df_new['content']"
      ],
      "metadata": {
        "id": "JuSvUD6QsIlq",
        "execution": {
          "iopub.status.busy": "2022-06-12T23:53:20.139253Z",
          "iopub.execute_input": "2022-06-12T23:53:20.139593Z",
          "iopub.status.idle": "2022-06-12T23:53:20.217648Z",
          "shell.execute_reply.started": "2022-06-12T23:53:20.139541Z",
          "shell.execute_reply": "2022-06-12T23:53:20.216725Z"
        },
        "trusted": true,
        "colab": {
          "base_uri": "https://localhost:8080/"
        },
        "outputId": "614e49d5-2e47-4531-c4d0-5d4283fefa9f"
      },
      "execution_count": null,
      "outputs": [
        {
          "output_type": "execute_result",
          "data": {
            "text/plain": [
              "14       comprehens databas us voter fraud uncov evid p...\n",
              "21       megan thompson ask nation associ chain drug st...\n",
              "25       prosecond amend protest hold sign read part sh...\n",
              "29       miami cbsmiami everi time turn light may put r...\n",
              "36       someth relat dread moment realiz superfast com...\n",
              "                               ...                        \n",
              "69357    close heel obama point comment soni pictur ent...\n",
              "69376    parent pennsylvania communiti edg polic say va...\n",
              "69388    attack woman franc wore bikini public park spa...\n",
              "69391    donat stuff place clutter good book joy less t...\n",
              "69395    children crayon market color charact teenag mu...\n",
              "Name: content, Length: 5235, dtype: object"
            ]
          },
          "metadata": {},
          "execution_count": 296
        }
      ]
    },
    {
      "cell_type": "code",
      "source": [
        "\"\"\"\n",
        "Compute unique word vector with frequencies\n",
        "exclude very uncommon (<8 obsv.) and common (>=40%) words\n",
        "use pairs of three words (ngram)\n",
        "\"\"\"\n",
        "from sklearn.feature_extraction.text import TfidfVectorizer\n",
        "vectorizer_word = TfidfVectorizer( max_features=4000, analyzer=\"word\", max_df=0.4, min_df=8, ngram_range=(1, 3), norm=\"l2\")\n",
        "X = vectorizer_word.fit_transform(df_new[\"content\"])"
      ],
      "metadata": {
        "id": "LO6PJOWCLawQ",
        "execution": {
          "iopub.status.busy": "2022-06-12T23:53:20.219240Z",
          "iopub.execute_input": "2022-06-12T23:53:20.219981Z",
          "iopub.status.idle": "2022-06-12T23:53:54.467789Z",
          "shell.execute_reply.started": "2022-06-12T23:53:20.219945Z",
          "shell.execute_reply": "2022-06-12T23:53:54.466634Z"
        },
        "trusted": true
      },
      "execution_count": null,
      "outputs": []
    },
    {
      "cell_type": "code",
      "source": [
        "from scipy.sparse import csr_matrix\n",
        "df_train = pd.DataFrame.sparse.from_spmatrix(X)\n",
        "df_train.index=df_new.index\n",
        "df_train['researched_by']=df_new['researched_by']\n",
        "df_train['label']=df_new['label']\n",
        "\n",
        "df_train"
      ],
      "metadata": {
        "id": "IDceRIGgJglb",
        "execution": {
          "iopub.status.busy": "2022-06-12T23:53:54.469440Z",
          "iopub.execute_input": "2022-06-12T23:53:54.470235Z",
          "iopub.status.idle": "2022-06-12T23:53:57.124089Z",
          "shell.execute_reply.started": "2022-06-12T23:53:54.470187Z",
          "shell.execute_reply": "2022-06-12T23:53:57.123137Z"
        },
        "trusted": true,
        "colab": {
          "base_uri": "https://localhost:8080/"
        },
        "outputId": "b3796526-289a-4985-c327-eb31b379d322"
      },
      "execution_count": null,
      "outputs": [
        {
          "output_type": "execute_result",
          "data": {
            "text/plain": [
              "              0    1    2    3         4    5    6    7         8    9  ...  \\\n",
              "14     0.000000  0.0  0.0  0.0  0.006168  0.0  0.0  0.0  0.016318  0.0  ...   \n",
              "21     0.000000  0.0  0.0  0.0  0.000000  0.0  0.0  0.0  0.000000  0.0  ...   \n",
              "25     0.000000  0.0  0.0  0.0  0.027331  0.0  0.0  0.0  0.000000  0.0  ...   \n",
              "29     0.000000  0.0  0.0  0.0  0.000000  0.0  0.0  0.0  0.000000  0.0  ...   \n",
              "36     0.000000  0.0  0.0  0.0  0.029172  0.0  0.0  0.0  0.000000  0.0  ...   \n",
              "...         ...  ...  ...  ...       ...  ...  ...  ...       ...  ...  ...   \n",
              "69357  0.000000  0.0  0.0  0.0  0.012851  0.0  0.0  0.0  0.016999  0.0  ...   \n",
              "69376  0.000000  0.0  0.0  0.0  0.000000  0.0  0.0  0.0  0.000000  0.0  ...   \n",
              "69388  0.000000  0.0  0.0  0.0  0.000000  0.0  0.0  0.0  0.047018  0.0  ...   \n",
              "69391  0.010657  0.0  0.0  0.0  0.000000  0.0  0.0  0.0  0.000000  0.0  ...   \n",
              "69395  0.000000  0.0  0.0  0.0  0.000000  0.0  0.0  0.0  0.000000  0.0  ...   \n",
              "\n",
              "           3992  3993  3994      3995      3996  3997  3998      3999  \\\n",
              "14     0.000000   0.0   0.0  0.000000  0.000000   0.0   0.0  0.000000   \n",
              "21     0.000000   0.0   0.0  0.000000  0.000000   0.0   0.0  0.000000   \n",
              "25     0.000000   0.0   0.0  0.000000  0.000000   0.0   0.0  0.043385   \n",
              "29     0.000000   0.0   0.0  0.041689  0.000000   0.0   0.0  0.000000   \n",
              "36     0.000000   0.0   0.0  0.000000  0.000000   0.0   0.0  0.000000   \n",
              "...         ...   ...   ...       ...       ...   ...   ...       ...   \n",
              "69357  0.000000   0.0   0.0  0.000000  0.000000   0.0   0.0  0.000000   \n",
              "69376  0.000000   0.0   0.0  0.000000  0.000000   0.0   0.0  0.000000   \n",
              "69388  0.072593   0.0   0.0  0.000000  0.000000   0.0   0.0  0.000000   \n",
              "69391  0.007193   0.0   0.0  0.000000  0.034479   0.0   0.0  0.011182   \n",
              "69395  0.000000   0.0   0.0  0.000000  0.000000   0.0   0.0  0.000000   \n",
              "\n",
              "       researched_by  label  \n",
              "14                 2      0  \n",
              "21                 2      1  \n",
              "25                 2      0  \n",
              "29                 2      1  \n",
              "36                 2      0  \n",
              "...              ...    ...  \n",
              "69357              2      0  \n",
              "69376              2      1  \n",
              "69388              2      0  \n",
              "69391              2      0  \n",
              "69395              2      0  \n",
              "\n",
              "[5235 rows x 4002 columns]"
            ],
            "text/html": [
              "\n",
              "  <div id=\"df-66647493-c28d-4a57-9eaa-aaf903f7bdd5\">\n",
              "    <div class=\"colab-df-container\">\n",
              "      <div>\n",
              "<style scoped>\n",
              "    .dataframe tbody tr th:only-of-type {\n",
              "        vertical-align: middle;\n",
              "    }\n",
              "\n",
              "    .dataframe tbody tr th {\n",
              "        vertical-align: top;\n",
              "    }\n",
              "\n",
              "    .dataframe thead th {\n",
              "        text-align: right;\n",
              "    }\n",
              "</style>\n",
              "<table border=\"1\" class=\"dataframe\">\n",
              "  <thead>\n",
              "    <tr style=\"text-align: right;\">\n",
              "      <th></th>\n",
              "      <th>0</th>\n",
              "      <th>1</th>\n",
              "      <th>2</th>\n",
              "      <th>3</th>\n",
              "      <th>4</th>\n",
              "      <th>5</th>\n",
              "      <th>6</th>\n",
              "      <th>7</th>\n",
              "      <th>8</th>\n",
              "      <th>9</th>\n",
              "      <th>...</th>\n",
              "      <th>3992</th>\n",
              "      <th>3993</th>\n",
              "      <th>3994</th>\n",
              "      <th>3995</th>\n",
              "      <th>3996</th>\n",
              "      <th>3997</th>\n",
              "      <th>3998</th>\n",
              "      <th>3999</th>\n",
              "      <th>researched_by</th>\n",
              "      <th>label</th>\n",
              "    </tr>\n",
              "  </thead>\n",
              "  <tbody>\n",
              "    <tr>\n",
              "      <th>14</th>\n",
              "      <td>0.000000</td>\n",
              "      <td>0.0</td>\n",
              "      <td>0.0</td>\n",
              "      <td>0.0</td>\n",
              "      <td>0.006168</td>\n",
              "      <td>0.0</td>\n",
              "      <td>0.0</td>\n",
              "      <td>0.0</td>\n",
              "      <td>0.016318</td>\n",
              "      <td>0.0</td>\n",
              "      <td>...</td>\n",
              "      <td>0.000000</td>\n",
              "      <td>0.0</td>\n",
              "      <td>0.0</td>\n",
              "      <td>0.000000</td>\n",
              "      <td>0.000000</td>\n",
              "      <td>0.0</td>\n",
              "      <td>0.0</td>\n",
              "      <td>0.000000</td>\n",
              "      <td>2</td>\n",
              "      <td>0</td>\n",
              "    </tr>\n",
              "    <tr>\n",
              "      <th>21</th>\n",
              "      <td>0.000000</td>\n",
              "      <td>0.0</td>\n",
              "      <td>0.0</td>\n",
              "      <td>0.0</td>\n",
              "      <td>0.000000</td>\n",
              "      <td>0.0</td>\n",
              "      <td>0.0</td>\n",
              "      <td>0.0</td>\n",
              "      <td>0.000000</td>\n",
              "      <td>0.0</td>\n",
              "      <td>...</td>\n",
              "      <td>0.000000</td>\n",
              "      <td>0.0</td>\n",
              "      <td>0.0</td>\n",
              "      <td>0.000000</td>\n",
              "      <td>0.000000</td>\n",
              "      <td>0.0</td>\n",
              "      <td>0.0</td>\n",
              "      <td>0.000000</td>\n",
              "      <td>2</td>\n",
              "      <td>1</td>\n",
              "    </tr>\n",
              "    <tr>\n",
              "      <th>25</th>\n",
              "      <td>0.000000</td>\n",
              "      <td>0.0</td>\n",
              "      <td>0.0</td>\n",
              "      <td>0.0</td>\n",
              "      <td>0.027331</td>\n",
              "      <td>0.0</td>\n",
              "      <td>0.0</td>\n",
              "      <td>0.0</td>\n",
              "      <td>0.000000</td>\n",
              "      <td>0.0</td>\n",
              "      <td>...</td>\n",
              "      <td>0.000000</td>\n",
              "      <td>0.0</td>\n",
              "      <td>0.0</td>\n",
              "      <td>0.000000</td>\n",
              "      <td>0.000000</td>\n",
              "      <td>0.0</td>\n",
              "      <td>0.0</td>\n",
              "      <td>0.043385</td>\n",
              "      <td>2</td>\n",
              "      <td>0</td>\n",
              "    </tr>\n",
              "    <tr>\n",
              "      <th>29</th>\n",
              "      <td>0.000000</td>\n",
              "      <td>0.0</td>\n",
              "      <td>0.0</td>\n",
              "      <td>0.0</td>\n",
              "      <td>0.000000</td>\n",
              "      <td>0.0</td>\n",
              "      <td>0.0</td>\n",
              "      <td>0.0</td>\n",
              "      <td>0.000000</td>\n",
              "      <td>0.0</td>\n",
              "      <td>...</td>\n",
              "      <td>0.000000</td>\n",
              "      <td>0.0</td>\n",
              "      <td>0.0</td>\n",
              "      <td>0.041689</td>\n",
              "      <td>0.000000</td>\n",
              "      <td>0.0</td>\n",
              "      <td>0.0</td>\n",
              "      <td>0.000000</td>\n",
              "      <td>2</td>\n",
              "      <td>1</td>\n",
              "    </tr>\n",
              "    <tr>\n",
              "      <th>36</th>\n",
              "      <td>0.000000</td>\n",
              "      <td>0.0</td>\n",
              "      <td>0.0</td>\n",
              "      <td>0.0</td>\n",
              "      <td>0.029172</td>\n",
              "      <td>0.0</td>\n",
              "      <td>0.0</td>\n",
              "      <td>0.0</td>\n",
              "      <td>0.000000</td>\n",
              "      <td>0.0</td>\n",
              "      <td>...</td>\n",
              "      <td>0.000000</td>\n",
              "      <td>0.0</td>\n",
              "      <td>0.0</td>\n",
              "      <td>0.000000</td>\n",
              "      <td>0.000000</td>\n",
              "      <td>0.0</td>\n",
              "      <td>0.0</td>\n",
              "      <td>0.000000</td>\n",
              "      <td>2</td>\n",
              "      <td>0</td>\n",
              "    </tr>\n",
              "    <tr>\n",
              "      <th>...</th>\n",
              "      <td>...</td>\n",
              "      <td>...</td>\n",
              "      <td>...</td>\n",
              "      <td>...</td>\n",
              "      <td>...</td>\n",
              "      <td>...</td>\n",
              "      <td>...</td>\n",
              "      <td>...</td>\n",
              "      <td>...</td>\n",
              "      <td>...</td>\n",
              "      <td>...</td>\n",
              "      <td>...</td>\n",
              "      <td>...</td>\n",
              "      <td>...</td>\n",
              "      <td>...</td>\n",
              "      <td>...</td>\n",
              "      <td>...</td>\n",
              "      <td>...</td>\n",
              "      <td>...</td>\n",
              "      <td>...</td>\n",
              "      <td>...</td>\n",
              "    </tr>\n",
              "    <tr>\n",
              "      <th>69357</th>\n",
              "      <td>0.000000</td>\n",
              "      <td>0.0</td>\n",
              "      <td>0.0</td>\n",
              "      <td>0.0</td>\n",
              "      <td>0.012851</td>\n",
              "      <td>0.0</td>\n",
              "      <td>0.0</td>\n",
              "      <td>0.0</td>\n",
              "      <td>0.016999</td>\n",
              "      <td>0.0</td>\n",
              "      <td>...</td>\n",
              "      <td>0.000000</td>\n",
              "      <td>0.0</td>\n",
              "      <td>0.0</td>\n",
              "      <td>0.000000</td>\n",
              "      <td>0.000000</td>\n",
              "      <td>0.0</td>\n",
              "      <td>0.0</td>\n",
              "      <td>0.000000</td>\n",
              "      <td>2</td>\n",
              "      <td>0</td>\n",
              "    </tr>\n",
              "    <tr>\n",
              "      <th>69376</th>\n",
              "      <td>0.000000</td>\n",
              "      <td>0.0</td>\n",
              "      <td>0.0</td>\n",
              "      <td>0.0</td>\n",
              "      <td>0.000000</td>\n",
              "      <td>0.0</td>\n",
              "      <td>0.0</td>\n",
              "      <td>0.0</td>\n",
              "      <td>0.000000</td>\n",
              "      <td>0.0</td>\n",
              "      <td>...</td>\n",
              "      <td>0.000000</td>\n",
              "      <td>0.0</td>\n",
              "      <td>0.0</td>\n",
              "      <td>0.000000</td>\n",
              "      <td>0.000000</td>\n",
              "      <td>0.0</td>\n",
              "      <td>0.0</td>\n",
              "      <td>0.000000</td>\n",
              "      <td>2</td>\n",
              "      <td>1</td>\n",
              "    </tr>\n",
              "    <tr>\n",
              "      <th>69388</th>\n",
              "      <td>0.000000</td>\n",
              "      <td>0.0</td>\n",
              "      <td>0.0</td>\n",
              "      <td>0.0</td>\n",
              "      <td>0.000000</td>\n",
              "      <td>0.0</td>\n",
              "      <td>0.0</td>\n",
              "      <td>0.0</td>\n",
              "      <td>0.047018</td>\n",
              "      <td>0.0</td>\n",
              "      <td>...</td>\n",
              "      <td>0.072593</td>\n",
              "      <td>0.0</td>\n",
              "      <td>0.0</td>\n",
              "      <td>0.000000</td>\n",
              "      <td>0.000000</td>\n",
              "      <td>0.0</td>\n",
              "      <td>0.0</td>\n",
              "      <td>0.000000</td>\n",
              "      <td>2</td>\n",
              "      <td>0</td>\n",
              "    </tr>\n",
              "    <tr>\n",
              "      <th>69391</th>\n",
              "      <td>0.010657</td>\n",
              "      <td>0.0</td>\n",
              "      <td>0.0</td>\n",
              "      <td>0.0</td>\n",
              "      <td>0.000000</td>\n",
              "      <td>0.0</td>\n",
              "      <td>0.0</td>\n",
              "      <td>0.0</td>\n",
              "      <td>0.000000</td>\n",
              "      <td>0.0</td>\n",
              "      <td>...</td>\n",
              "      <td>0.007193</td>\n",
              "      <td>0.0</td>\n",
              "      <td>0.0</td>\n",
              "      <td>0.000000</td>\n",
              "      <td>0.034479</td>\n",
              "      <td>0.0</td>\n",
              "      <td>0.0</td>\n",
              "      <td>0.011182</td>\n",
              "      <td>2</td>\n",
              "      <td>0</td>\n",
              "    </tr>\n",
              "    <tr>\n",
              "      <th>69395</th>\n",
              "      <td>0.000000</td>\n",
              "      <td>0.0</td>\n",
              "      <td>0.0</td>\n",
              "      <td>0.0</td>\n",
              "      <td>0.000000</td>\n",
              "      <td>0.0</td>\n",
              "      <td>0.0</td>\n",
              "      <td>0.0</td>\n",
              "      <td>0.000000</td>\n",
              "      <td>0.0</td>\n",
              "      <td>...</td>\n",
              "      <td>0.000000</td>\n",
              "      <td>0.0</td>\n",
              "      <td>0.0</td>\n",
              "      <td>0.000000</td>\n",
              "      <td>0.000000</td>\n",
              "      <td>0.0</td>\n",
              "      <td>0.0</td>\n",
              "      <td>0.000000</td>\n",
              "      <td>2</td>\n",
              "      <td>0</td>\n",
              "    </tr>\n",
              "  </tbody>\n",
              "</table>\n",
              "<p>5235 rows × 4002 columns</p>\n",
              "</div>\n",
              "      <button class=\"colab-df-convert\" onclick=\"convertToInteractive('df-66647493-c28d-4a57-9eaa-aaf903f7bdd5')\"\n",
              "              title=\"Convert this dataframe to an interactive table.\"\n",
              "              style=\"display:none;\">\n",
              "        \n",
              "  <svg xmlns=\"http://www.w3.org/2000/svg\" height=\"24px\"viewBox=\"0 0 24 24\"\n",
              "       width=\"24px\">\n",
              "    <path d=\"M0 0h24v24H0V0z\" fill=\"none\"/>\n",
              "    <path d=\"M18.56 5.44l.94 2.06.94-2.06 2.06-.94-2.06-.94-.94-2.06-.94 2.06-2.06.94zm-11 1L8.5 8.5l.94-2.06 2.06-.94-2.06-.94L8.5 2.5l-.94 2.06-2.06.94zm10 10l.94 2.06.94-2.06 2.06-.94-2.06-.94-.94-2.06-.94 2.06-2.06.94z\"/><path d=\"M17.41 7.96l-1.37-1.37c-.4-.4-.92-.59-1.43-.59-.52 0-1.04.2-1.43.59L10.3 9.45l-7.72 7.72c-.78.78-.78 2.05 0 2.83L4 21.41c.39.39.9.59 1.41.59.51 0 1.02-.2 1.41-.59l7.78-7.78 2.81-2.81c.8-.78.8-2.07 0-2.86zM5.41 20L4 18.59l7.72-7.72 1.47 1.35L5.41 20z\"/>\n",
              "  </svg>\n",
              "      </button>\n",
              "      \n",
              "  <style>\n",
              "    .colab-df-container {\n",
              "      display:flex;\n",
              "      flex-wrap:wrap;\n",
              "      gap: 12px;\n",
              "    }\n",
              "\n",
              "    .colab-df-convert {\n",
              "      background-color: #E8F0FE;\n",
              "      border: none;\n",
              "      border-radius: 50%;\n",
              "      cursor: pointer;\n",
              "      display: none;\n",
              "      fill: #1967D2;\n",
              "      height: 32px;\n",
              "      padding: 0 0 0 0;\n",
              "      width: 32px;\n",
              "    }\n",
              "\n",
              "    .colab-df-convert:hover {\n",
              "      background-color: #E2EBFA;\n",
              "      box-shadow: 0px 1px 2px rgba(60, 64, 67, 0.3), 0px 1px 3px 1px rgba(60, 64, 67, 0.15);\n",
              "      fill: #174EA6;\n",
              "    }\n",
              "\n",
              "    [theme=dark] .colab-df-convert {\n",
              "      background-color: #3B4455;\n",
              "      fill: #D2E3FC;\n",
              "    }\n",
              "\n",
              "    [theme=dark] .colab-df-convert:hover {\n",
              "      background-color: #434B5C;\n",
              "      box-shadow: 0px 1px 3px 1px rgba(0, 0, 0, 0.15);\n",
              "      filter: drop-shadow(0px 1px 2px rgba(0, 0, 0, 0.3));\n",
              "      fill: #FFFFFF;\n",
              "    }\n",
              "  </style>\n",
              "\n",
              "      <script>\n",
              "        const buttonEl =\n",
              "          document.querySelector('#df-66647493-c28d-4a57-9eaa-aaf903f7bdd5 button.colab-df-convert');\n",
              "        buttonEl.style.display =\n",
              "          google.colab.kernel.accessAllowed ? 'block' : 'none';\n",
              "\n",
              "        async function convertToInteractive(key) {\n",
              "          const element = document.querySelector('#df-66647493-c28d-4a57-9eaa-aaf903f7bdd5');\n",
              "          const dataTable =\n",
              "            await google.colab.kernel.invokeFunction('convertToInteractive',\n",
              "                                                     [key], {});\n",
              "          if (!dataTable) return;\n",
              "\n",
              "          const docLinkHtml = 'Like what you see? Visit the ' +\n",
              "            '<a target=\"_blank\" href=https://colab.research.google.com/notebooks/data_table.ipynb>data table notebook</a>'\n",
              "            + ' to learn more about interactive tables.';\n",
              "          element.innerHTML = '';\n",
              "          dataTable['output_type'] = 'display_data';\n",
              "          await google.colab.output.renderOutput(dataTable, element);\n",
              "          const docLink = document.createElement('div');\n",
              "          docLink.innerHTML = docLinkHtml;\n",
              "          element.appendChild(docLink);\n",
              "        }\n",
              "      </script>\n",
              "    </div>\n",
              "  </div>\n",
              "  "
            ]
          },
          "metadata": {},
          "execution_count": 298
        }
      ]
    },
    {
      "cell_type": "markdown",
      "source": [
        "**Split data**"
      ],
      "metadata": {
        "id": "7tMfN8xmX_fW"
      }
    },
    {
      "cell_type": "code",
      "source": [
        "X = df_train.drop(columns='label')\n",
        "y = df_train['label']\n",
        "  "
      ],
      "metadata": {
        "id": "W_eyjjqBMWQH",
        "execution": {
          "iopub.status.busy": "2022-06-12T23:53:57.125638Z",
          "iopub.execute_input": "2022-06-12T23:53:57.126101Z",
          "iopub.status.idle": "2022-06-12T23:53:58.969601Z",
          "shell.execute_reply.started": "2022-06-12T23:53:57.126058Z",
          "shell.execute_reply": "2022-06-12T23:53:58.968550Z"
        },
        "trusted": true
      },
      "execution_count": null,
      "outputs": []
    },
    {
      "cell_type": "code",
      "source": [
        "from sklearn.model_selection import train_test_split\n",
        "x_train, x_test, y_train,y_test=train_test_split(X,y, random_state=42, test_size=0.2)"
      ],
      "metadata": {
        "id": "O96AbPQD9hjK",
        "execution": {
          "iopub.status.busy": "2022-06-13T00:19:20.617006Z",
          "iopub.execute_input": "2022-06-13T00:19:20.617536Z",
          "iopub.status.idle": "2022-06-13T00:19:46.525401Z",
          "shell.execute_reply.started": "2022-06-13T00:19:20.617486Z",
          "shell.execute_reply": "2022-06-13T00:19:46.524159Z"
        },
        "trusted": true
      },
      "execution_count": null,
      "outputs": []
    },
    {
      "cell_type": "code",
      "source": [
        "from imblearn.over_sampling import RandomOverSampler\n",
        "# define oversampling strategy\n",
        "oversample = RandomOverSampler(sampling_strategy='minority')\n",
        "# define oversampling strategy\n",
        "oversample = RandomOverSampler(sampling_strategy=0.5)\n",
        "# fit and apply the transform\n",
        "X_over, y_over = oversample.fit_resample(x_train, y_train)"
      ],
      "metadata": {
        "id": "E71fE5YhPxOg",
        "execution": {
          "iopub.status.busy": "2022-06-13T00:19:51.822618Z",
          "iopub.execute_input": "2022-06-13T00:19:51.823495Z",
          "iopub.status.idle": "2022-06-13T00:20:17.625164Z",
          "shell.execute_reply.started": "2022-06-13T00:19:51.823455Z",
          "shell.execute_reply": "2022-06-13T00:20:17.620628Z"
        },
        "trusted": true
      },
      "execution_count": null,
      "outputs": []
    },
    {
      "cell_type": "code",
      "source": [
        "def plot_confusion_matrix(cm, classes,\n",
        "                          normalize=False,\n",
        "                          title='Confusion matrix',\n",
        "                          cmap=plt.cm.Blues):\n",
        "    \"\"\"\n",
        "    This function prints and plots the confusion matrix.\n",
        "    Normalization can be applied by setting `normalize=True`.\n",
        "    \"\"\"\n",
        "    \n",
        "    plt.imshow(cm, interpolation='nearest', cmap=cmap)\n",
        "    plt.title(title)\n",
        "    plt.colorbar()\n",
        "    tick_marks = np.arange(len(classes))\n",
        "    plt.xticks(tick_marks, classes, rotation=45)\n",
        "    plt.yticks(tick_marks, classes)\n",
        "\n",
        "    if normalize:\n",
        "        cm = cm.astype('float') / cm.sum(axis=1)[:, np.newaxis]\n",
        "        print(\"Normalized confusion matrix\")\n",
        "    else:\n",
        "        print('Confusion matrix, without normalization')\n",
        "\n",
        "    thresh = cm.max() / 2.\n",
        "    for i in range (cm.shape[0]):\n",
        "        for j in range (cm.shape[1]):\n",
        "            plt.text(j, i, cm[i, j],\n",
        "                 horizontalalignment=\"center\",\n",
        "                 color=\"white\" if cm[i, j] > thresh else \"black\")\n",
        "\n",
        "    plt.tight_layout()\n",
        "    plt.ylabel('True label')\n",
        "    plt.xlabel('Predicted label')"
      ],
      "metadata": {
        "id": "bXCPdj6mKHUV"
      },
      "execution_count": null,
      "outputs": []
    },
    {
      "cell_type": "markdown",
      "source": [
        "###**Classification Models**"
      ],
      "metadata": {
        "id": "cRvSwn6LWzlW"
      }
    },
    {
      "cell_type": "markdown",
      "source": [
        "#### **LogisticRegression**"
      ],
      "metadata": {
        "id": "kWWvx6V30L-A"
      }
    },
    {
      "cell_type": "code",
      "source": [
        "from sklearn.metrics import accuracy_score\n",
        "from sklearn.linear_model import LogisticRegression\n",
        "LR = LogisticRegression(random_state=)\n",
        "LR.fit(X_over, y_over)"
      ],
      "metadata": {
        "id": "WgpNTxFl7-og",
        "execution": {
          "iopub.status.busy": "2022-06-13T00:20:25.102119Z",
          "iopub.execute_input": "2022-06-13T00:20:25.102511Z",
          "iopub.status.idle": "2022-06-13T00:20:44.707280Z",
          "shell.execute_reply.started": "2022-06-13T00:20:25.102480Z",
          "shell.execute_reply": "2022-06-13T00:20:44.706186Z"
        },
        "trusted": true,
        "colab": {
          "base_uri": "https://localhost:8080/"
        },
        "outputId": "babf81b8-96d9-483b-8452-2d67604f0059"
      },
      "execution_count": null,
      "outputs": [
        {
          "output_type": "execute_result",
          "data": {
            "text/plain": [
              "LogisticRegression()"
            ]
          },
          "metadata": {},
          "execution_count": 303
        }
      ]
    },
    {
      "cell_type": "code",
      "source": [
        "#evaluation Details\n",
        "from sklearn.metrics import f1_score\n",
        "models = [LR]\n",
        "for model in models:\n",
        "    print(type(model).__name__,' Train Score is   : ' ,model.score(X_over, y_over))\n",
        "    print(type(model).__name__,' Test Score is    : ' ,model.score(x_test, y_test))\n",
        "    \n",
        "    y_pred = model.predict(x_test)\n",
        "    print(type(model).__name__,' F1 Score is      : ' ,f1_score(y_test,y_pred))\n"
      ],
      "metadata": {
        "colab": {
          "base_uri": "https://localhost:8080/"
        },
        "id": "VF3sJlhZQhuI",
        "outputId": "e79049db-fd22-4fe6-e5f9-4247db5ccc7c"
      },
      "execution_count": null,
      "outputs": [
        {
          "output_type": "stream",
          "name": "stdout",
          "text": [
            "LogisticRegression  Train Score is   :  0.8335978236227612\n",
            "LogisticRegression  Test Score is    :  0.7677616501145913\n",
            "LogisticRegression  F1 Score is      :  0.3090909090909091\n"
          ]
        }
      ]
    },
    {
      "cell_type": "code",
      "source": [
        "from sklearn.metrics import confusion_matrix\n",
        "import seaborn as sns\n",
        "\n",
        "#Generate the confusion matrix\n",
        "cf_matrix = confusion_matrix(y_test, y_pred)\n",
        "print(cf_matrix)\n",
        "\n",
        "ax = sns.heatmap(cf_matrix, annot=True, cmap='Blues')\n",
        "\n",
        "ax.set_title('Seaborn Confusion Matrix with labels\\n\\n');\n",
        "ax.set_xlabel('\\nPredicted Values')\n",
        "ax.set_ylabel('Actual Values ');\n",
        "\n",
        "## Ticket labels - List must be in alphabetical order\n",
        "ax.xaxis.set_ticklabels(['False','True'])\n",
        "ax.yaxis.set_ticklabels(['False','True'])\n",
        "\n",
        "## Display the visualization of the Confusion Matrix.\n",
        "plt.show()"
      ],
      "metadata": {
        "colab": {
          "base_uri": "https://localhost:8080/"
        },
        "id": "m7_4jg5DOgqx",
        "outputId": "56783cc2-8d8a-487c-8a50-0e4ed3728d17"
      },
      "execution_count": null,
      "outputs": [
        {
          "output_type": "stream",
          "name": "stdout",
          "text": [
            "[[937  65]\n",
            " [239  68]]\n"
          ]
        },
        {
          "output_type": "display_data",
          "data": {
            "text/plain": [
              "<Figure size 720x360 with 2 Axes>"
            ],
            "image/png": "[encoded data removed]"
          },
          "metadata": {
            "needs_background": "light"
          }
        }
      ]
    },
    {
      "cell_type": "markdown",
      "source": [
        "#### **MultinomialNBModel**"
      ],
      "metadata": {
        "id": "M_Xa_fb10blU"
      }
    },
    {
      "cell_type": "code",
      "source": [
        "from sklearn.naive_bayes import MultinomialNB\n",
        "multinomialNBModel = MultinomialNB(alpha=0.1)\n",
        "multinomialNBModel.fit(X_over, y_over)"
      ],
      "metadata": {
        "id": "sbD2TVmd0blU",
        "execution": {
          "iopub.status.busy": "2022-06-13T00:21:05.885483Z",
          "iopub.execute_input": "2022-06-13T00:21:05.885910Z",
          "iopub.status.idle": "2022-06-13T00:21:08.936421Z",
          "shell.execute_reply.started": "2022-06-13T00:21:05.885876Z",
          "shell.execute_reply": "2022-06-13T00:21:08.935320Z"
        },
        "trusted": true,
        "colab": {
          "base_uri": "https://localhost:8080/"
        },
        "outputId": "496e3f9e-a1f3-47af-8048-e1f6738cb5f2"
      },
      "execution_count": null,
      "outputs": [
        {
          "output_type": "execute_result",
          "data": {
            "text/plain": [
              "MultinomialNB(alpha=0.1)"
            ]
          },
          "metadata": {},
          "execution_count": 306
        }
      ]
    },
    {
      "cell_type": "code",
      "source": [
        "#evaluation Details\n",
        "models = [multinomialNBModel]\n",
        "for model in models:\n",
        "    print(type(model).__name__,' Train Score is   : ' ,model.score(X_over, y_over))\n",
        "    print(type(model).__name__,' Test Score is    : ' ,model.score(x_test, y_test))\n",
        "    \n",
        "    y_pred = model.predict(x_test)\n",
        "    print(type(model).__name__,' F1 Score is      : ' ,f1_score(y_test,y_pred))\n"
      ],
      "metadata": {
        "id": "0I9C3Oul0blV",
        "execution": {
          "iopub.status.busy": "2022-06-13T00:21:08.938688Z",
          "iopub.execute_input": "2022-06-13T00:21:08.939591Z",
          "iopub.status.idle": "2022-06-13T00:21:17.246117Z",
          "shell.execute_reply.started": "2022-06-13T00:21:08.939518Z",
          "shell.execute_reply": "2022-06-13T00:21:17.243631Z"
        },
        "trusted": true,
        "colab": {
          "base_uri": "https://localhost:8080/"
        },
        "outputId": "4a7454cd-0fc6-4db4-a8ac-b8499643043e"
      },
      "execution_count": null,
      "outputs": [
        {
          "output_type": "stream",
          "name": "stdout",
          "text": [
            "MultinomialNB  Train Score is   :  0.7918839265472682\n",
            "MultinomialNB  Test Score is    :  0.73414820473644\n",
            "MultinomialNB  F1 Score is      :  0.3307692307692308\n"
          ]
        }
      ]
    },
    {
      "cell_type": "code",
      "source": [
        "#Generate the confusion matrix\n",
        "cf_matrix = confusion_matrix(y_test, y_pred)\n",
        "print(cf_matrix)\n",
        "\n",
        "ax = sns.heatmap(cf_matrix, annot=True, cmap='Blues')\n",
        "\n",
        "ax.set_title('Seaborn Confusion Matrix with labels\\n\\n');\n",
        "ax.set_xlabel('\\nPredicted Values')\n",
        "ax.set_ylabel('Actual Values ');\n",
        "\n",
        "## Ticket labels - List must be in alphabetical order\n",
        "ax.xaxis.set_ticklabels(['False','True'])\n",
        "ax.yaxis.set_ticklabels(['False','True'])\n",
        "\n",
        "## Display the visualization of the Confusion Matrix.\n",
        "plt.show()"
      ],
      "metadata": {
        "id": "M6ZWrbOV0blW",
        "colab": {
          "base_uri": "https://localhost:8080/"
        },
        "outputId": "15029b9d-3583-44eb-f6b7-e188b7dcda59"
      },
      "execution_count": null,
      "outputs": [
        {
          "output_type": "stream",
          "name": "stdout",
          "text": [
            "[[875 127]\n",
            " [221  86]]\n"
          ]
        },
        {
          "output_type": "display_data",
          "data": {
            "text/plain": [
              "<Figure size 720x360 with 2 Axes>"
            ],
            "image/png": "[encoded data removed]"
          },
          "metadata": {
            "needs_background": "light"
          }
        }
      ]
    },
    {
      "cell_type": "markdown",
      "source": [
        "#### **PassiveAggressiveClassifier**"
      ],
      "metadata": {
        "id": "i7ck7_1c2Zl6"
      }
    },
    {
      "cell_type": "code",
      "source": [
        "from sklearn.linear_model import PassiveAggressiveClassifier\n",
        "pac=PassiveAggressiveClassifier(C=10)\n",
        "pac.fit(X_over, y_over)"
      ],
      "metadata": {
        "id": "XlzJoEG32Zl7",
        "execution": {
          "iopub.status.busy": "2022-06-13T00:21:29.965703Z",
          "iopub.execute_input": "2022-06-13T00:21:29.966899Z",
          "iopub.status.idle": "2022-06-13T00:22:04.052640Z",
          "shell.execute_reply.started": "2022-06-13T00:21:29.966846Z",
          "shell.execute_reply": "2022-06-13T00:22:04.051896Z"
        },
        "trusted": true,
        "colab": {
          "base_uri": "https://localhost:8080/"
        },
        "outputId": "37b81a47-1dfe-4c81-9f46-effb3dfadab4"
      },
      "execution_count": null,
      "outputs": [
        {
          "output_type": "execute_result",
          "data": {
            "text/plain": [
              "PassiveAggressiveClassifier(C=10)"
            ]
          },
          "metadata": {},
          "execution_count": 309
        }
      ]
    },
    {
      "cell_type": "code",
      "source": [
        "#evaluation Details\n",
        "models = [pac]\n",
        "for model in models:\n",
        "    print(type(model).__name__,' Train Score is   : ' ,model.score(X_over, y_over))\n",
        "    print(type(model).__name__,' Test Score is    : ' ,model.score(x_test, y_test))\n",
        "    \n",
        "    y_pred = model.predict(x_test)\n",
        "    print(type(model).__name__,' F1 Score is      : ' ,f1_score(y_test,y_pred))"
      ],
      "metadata": {
        "colab": {
          "base_uri": "https://localhost:8080/"
        },
        "id": "AHYLcfVMRQ3v",
        "outputId": "98eb7c31-15cb-4a22-9e85-94b359298da8"
      },
      "execution_count": null,
      "outputs": [
        {
          "output_type": "stream",
          "name": "stdout",
          "text": [
            "PassiveAggressiveClassifier  Train Score is   :  0.9977329403763319\n",
            "PassiveAggressiveClassifier  Test Score is    :  0.721161191749427\n",
            "PassiveAggressiveClassifier  F1 Score is      :  0.38860971524288107\n"
          ]
        }
      ]
    },
    {
      "cell_type": "code",
      "source": [
        "#Generate the confusion matrix\n",
        "cf_matrix = confusion_matrix(y_test, y_pred)\n",
        "print(cf_matrix)\n",
        "\n",
        "ax = sns.heatmap(cf_matrix, annot=True, cmap='Blues')\n",
        "\n",
        "ax.set_title('Seaborn Confusion Matrix with labels\\n\\n');\n",
        "ax.set_xlabel('\\nPredicted Values')\n",
        "ax.set_ylabel('Actual Values ');\n",
        "\n",
        "## Ticket labels - List must be in alphabetical order\n",
        "ax.xaxis.set_ticklabels(['False','True'])\n",
        "ax.yaxis.set_ticklabels(['False','True'])\n",
        "\n",
        "## Display the visualization of the Confusion Matrix.\n",
        "plt.show()"
      ],
      "metadata": {
        "colab": {
          "base_uri": "https://localhost:8080/"
        },
        "id": "ElezF7lKRRDa",
        "outputId": "fe947e0f-bd48-4901-cccc-9b9ee11b9f87"
      },
      "execution_count": null,
      "outputs": [
        {
          "output_type": "stream",
          "name": "stdout",
          "text": [
            "[[828 174]\n",
            " [191 116]]\n"
          ]
        },
        {
          "output_type": "display_data",
          "data": {
            "text/plain": [
              "<Figure size 720x360 with 2 Axes>"
            ],
            "image/png": "[encoded data removed]"
          },
          "metadata": {
            "needs_background": "light"
          }
        }
      ]
    },
    {
      "cell_type": "markdown",
      "source": [
        "####**Random Forest**"
      ],
      "metadata": {
        "id": "kPpKoNz_WQB9"
      }
    },
    {
      "cell_type": "code",
      "source": [
        "from sklearn.ensemble import RandomForestClassifier\n",
        "RF = RandomForestClassifier(max_depth=10, random_state=42,n_estimators=500)\n",
        "RF.fit(X_over, y_over)"
      ],
      "metadata": {
        "colab": {
          "base_uri": "https://localhost:8080/"
        },
        "id": "lRQDu8PNV6oe",
        "outputId": "dd01b334-b4b0-4594-9aae-18b9233696fa"
      },
      "execution_count": null,
      "outputs": [
        {
          "output_type": "execute_result",
          "data": {
            "text/plain": [
              "RandomForestClassifier(max_depth=10, n_estimators=500, random_state=42)"
            ]
          },
          "metadata": {},
          "execution_count": 312
        }
      ]
    },
    {
      "cell_type": "code",
      "source": [
        "#evaluation Details\n",
        "models = [RF]\n",
        "for model in models:\n",
        "    print(type(model).__name__,' Train Score is   : ' ,model.score(X_over, y_over))\n",
        "    print(type(model).__name__,' Test Score is    : ' ,model.score(x_test, y_test))\n",
        "    \n",
        "    y_pred = model.predict(x_test)\n",
        "    print(type(model).__name__,' F1 Score is      : ' ,f1_score(y_test,y_pred))"
      ],
      "metadata": {
        "colab": {
          "base_uri": "https://localhost:8080/"
        },
        "id": "JKHDKCrRV6r9",
        "outputId": "76b5cb8a-e243-422e-979e-68c48169a50f"
      },
      "execution_count": null,
      "outputs": [
        {
          "output_type": "stream",
          "name": "stdout",
          "text": [
            "RandomForestClassifier  Train Score is   :  0.7485830877352074\n",
            "RandomForestClassifier  Test Score is    :  0.7669977081741788\n",
            "RandomForestClassifier  F1 Score is      :  0.012944983818770227\n"
          ]
        }
      ]
    },
    {
      "cell_type": "code",
      "source": [
        "#Generate the confusion matrix\n",
        "cf_matrix = confusion_matrix(y_test, y_pred)\n",
        "print(cf_matrix)\n",
        "\n",
        "ax = sns.heatmap(cf_matrix, annot=True, cmap='Blues')\n",
        "\n",
        "ax.set_title('Seaborn Confusion Matrix with labels\\n\\n');\n",
        "ax.set_xlabel('\\nPredicted Values')\n",
        "ax.set_ylabel('Actual Values ');\n",
        "\n",
        "## Ticket labels - List must be in alphabetical order\n",
        "ax.xaxis.set_ticklabels(['False','True'])\n",
        "ax.yaxis.set_ticklabels(['False','True'])\n",
        "\n",
        "## Display the visualization of the Confusion Matrix.\n",
        "plt.show()"
      ],
      "metadata": {
        "colab": {
          "base_uri": "https://localhost:8080/"
        },
        "id": "628JRvxLV6vh",
        "outputId": "cdac37b0-106a-43b1-d3ae-a78b172f3738"
      },
      "execution_count": null,
      "outputs": [
        {
          "output_type": "stream",
          "name": "stdout",
          "text": [
            "[[1002    0]\n",
            " [ 305    2]]\n"
          ]
        },
        {
          "output_type": "display_data",
          "data": {
            "text/plain": [
              "<Figure size 720x360 with 2 Axes>"
            ],
            "image/png": "[encoded data removed]"
          },
          "metadata": {
            "needs_background": "light"
          }
        }
      ]
    },
    {
      "cell_type": "code",
      "source": [],
      "metadata": {
        "id": "qnoPIEVuWmi_"
      },
      "execution_count": null,
      "outputs": []
    },
    {
      "cell_type": "markdown",
      "source": [
        "##**Second scenario**\n"
      ],
      "metadata": {
        "id": "4VW16AHqhc4B"
      }
    },
    {
      "cell_type": "markdown",
      "source": [
        "###**Data Preprossing**"
      ],
      "metadata": {
        "id": "DPq2V54AunxL"
      }
    },
    {
      "cell_type": "code",
      "source": [
        "df_new=df3.copy()"
      ],
      "metadata": {
        "id": "O-aTcIOvuvZz"
      },
      "execution_count": null,
      "outputs": []
    },
    {
      "cell_type": "code",
      "source": [
        "df_new[\"clean_text\"] = df_new.loc[df_new[\"text\"].str.len() > 0, \"text\"]\n",
        "df_new[\"clean_text\"] = df_new[\"clean_text\"].map(lambda x: clean_text(x, for_embedding=False) if isinstance(x, str) else x)"
      ],
      "metadata": {
        "execution": {
          "iopub.status.busy": "2022-06-12T23:50:28.106183Z",
          "iopub.execute_input": "2022-06-12T23:50:28.106715Z",
          "iopub.status.idle": "2022-06-12T23:53:20.111900Z",
          "shell.execute_reply.started": "2022-06-12T23:50:28.106672Z",
          "shell.execute_reply": "2022-06-12T23:53:20.110606Z"
        },
        "trusted": true,
        "id": "M8tbHFnBnj5s"
      },
      "execution_count": null,
      "outputs": []
    },
    {
      "cell_type": "code",
      "source": [
        "df_new.head()"
      ],
      "metadata": {
        "execution": {
          "iopub.status.busy": "2022-06-12T23:53:20.114065Z",
          "iopub.execute_input": "2022-06-12T23:53:20.114535Z",
          "iopub.status.idle": "2022-06-12T23:53:20.137812Z",
          "shell.execute_reply.started": "2022-06-12T23:53:20.114489Z",
          "shell.execute_reply": "2022-06-12T23:53:20.136757Z"
        },
        "trusted": true,
        "colab": {
          "base_uri": "https://localhost:8080/",
          "height": 704
        },
        "outputId": "8c992631-27c3-4914-ccf7-90ec2db80062",
        "id": "RAuIyyIynj5t"
      },
      "execution_count": null,
      "outputs": [
        {
          "output_type": "execute_result",
          "data": {
            "text/plain": [
              "    label                                    reddit_comments researched_by  \\\n",
              "14      0  [{'created_utc': 1344890447, 'label': 0, 'auth...        snopes   \n",
              "21      1  [{'created_utc': 1383445326, 'label': 1, 'auth...        snopes   \n",
              "25      0  [{'created_utc': 1450314492, 'label': 0, 'auth...        snopes   \n",
              "29      1  [{'created_utc': 1357236735, 'label': 1, 'auth...        snopes   \n",
              "36      0  [{'created_utc': 1398095468, 'label': 0, 'auth...        snopes   \n",
              "\n",
              "                                                 text  \\\n",
              "14  comprehensive database us voter fraud uncovers...   \n",
              "21  megan thompson asked national association chai...   \n",
              "25  prosecond amendment protester holds sign readi...   \n",
              "29  miami cbsmiami every time turn lights may putt...   \n",
              "36  something relate to dreaded moment realize sup...   \n",
              "\n",
              "                                                title  \\\n",
              "14                       news21 2012 national project   \n",
              "21          generic drugs necessarily mean low prices   \n",
              "25  obama admin willing run roughshod constitution...   \n",
              "29  study ecofriendly light bulbs may put health risk   \n",
              "36  spring cleaning three ways increase computers ...   \n",
              "\n",
              "                                                  url  \\\n",
              "14  http://votingrights.news21.com/article/electio...   \n",
              "21  http://www.pbs.org/newshour/bb/health-july-dec...   \n",
              "25  http://cnsnews.com/commentary/daniel-mitchell/...   \n",
              "29  http://miami.cbslocal.com/2013/01/02/study-eco...   \n",
              "36  http://www.cnet.com/how-to/ways-to-increase-yo...   \n",
              "\n",
              "                                               bodies  lengths  \\\n",
              "14  [analysis resulting comprehensive news21 elect...       16   \n",
              "21  [discovered recently trying get script generic...        2   \n",
              "25  [isnt, removed, last 7 years man day take ever...       26   \n",
              "29  [exposure bulbs could lead premature skin canc...       14   \n",
              "36                             [would amazed read 99]        1   \n",
              "\n",
              "                  clean_url  \\\n",
              "14  votingrights news21 com   \n",
              "21              www pbs org   \n",
              "25              cnsnews com   \n",
              "29       miami cbslocal com   \n",
              "36             www cnet com   \n",
              "\n",
              "                                          clean_title  \\\n",
              "14                                news nation project   \n",
              "21            generic drug necessarili mean low price   \n",
              "25  obama admin will run roughshod constitut gun c...   \n",
              "29     studi ecofriend light bulb may put health risk   \n",
              "36      spring clean three way increas comput perform   \n",
              "\n",
              "                                              content  \\\n",
              "14  snopes news nation project votingrights news21...   \n",
              "21  snopes generic drug necessarili mean low price...   \n",
              "25  snopes obama admin will run roughshod constitu...   \n",
              "29  snopes studi ecofriend light bulb may put heal...   \n",
              "36  snopes spring clean three way increas comput p...   \n",
              "\n",
              "                                           clean_text  \n",
              "14  comprehens databas us voter fraud uncov evid p...  \n",
              "21  megan thompson ask nation associ chain drug st...  \n",
              "25  prosecond amend protest hold sign read part sh...  \n",
              "29  miami cbsmiami everi time turn light may put r...  \n",
              "36  someth relat dread moment realiz superfast com...  "
            ],
            "text/html": [
              "\n",
              "  <div id=\"df-f5bec555-73c0-4c92-9884-1be6a9f5a17d\">\n",
              "    <div class=\"colab-df-container\">\n",
              "      <div>\n",
              "<style scoped>\n",
              "    .dataframe tbody tr th:only-of-type {\n",
              "        vertical-align: middle;\n",
              "    }\n",
              "\n",
              "    .dataframe tbody tr th {\n",
              "        vertical-align: top;\n",
              "    }\n",
              "\n",
              "    .dataframe thead th {\n",
              "        text-align: right;\n",
              "    }\n",
              "</style>\n",
              "<table border=\"1\" class=\"dataframe\">\n",
              "  <thead>\n",
              "    <tr style=\"text-align: right;\">\n",
              "      <th></th>\n",
              "      <th>label</th>\n",
              "      <th>reddit_comments</th>\n",
              "      <th>researched_by</th>\n",
              "      <th>text</th>\n",
              "      <th>title</th>\n",
              "      <th>url</th>\n",
              "      <th>bodies</th>\n",
              "      <th>lengths</th>\n",
              "      <th>clean_url</th>\n",
              "      <th>clean_title</th>\n",
              "      <th>content</th>\n",
              "      <th>clean_text</th>\n",
              "    </tr>\n",
              "  </thead>\n",
              "  <tbody>\n",
              "    <tr>\n",
              "      <th>14</th>\n",
              "      <td>0</td>\n",
              "      <td>[{'created_utc': 1344890447, 'label': 0, 'auth...</td>\n",
              "      <td>snopes</td>\n",
              "      <td>comprehensive database us voter fraud uncovers...</td>\n",
              "      <td>news21 2012 national project</td>\n",
              "      <td>http://votingrights.news21.com/article/electio...</td>\n",
              "      <td>[analysis resulting comprehensive news21 elect...</td>\n",
              "      <td>16</td>\n",
              "      <td>votingrights news21 com</td>\n",
              "      <td>news nation project</td>\n",
              "      <td>snopes news nation project votingrights news21...</td>\n",
              "      <td>comprehens databas us voter fraud uncov evid p...</td>\n",
              "    </tr>\n",
              "    <tr>\n",
              "      <th>21</th>\n",
              "      <td>1</td>\n",
              "      <td>[{'created_utc': 1383445326, 'label': 1, 'auth...</td>\n",
              "      <td>snopes</td>\n",
              "      <td>megan thompson asked national association chai...</td>\n",
              "      <td>generic drugs necessarily mean low prices</td>\n",
              "      <td>http://www.pbs.org/newshour/bb/health-july-dec...</td>\n",
              "      <td>[discovered recently trying get script generic...</td>\n",
              "      <td>2</td>\n",
              "      <td>www pbs org</td>\n",
              "      <td>generic drug necessarili mean low price</td>\n",
              "      <td>snopes generic drug necessarili mean low price...</td>\n",
              "      <td>megan thompson ask nation associ chain drug st...</td>\n",
              "    </tr>\n",
              "    <tr>\n",
              "      <th>25</th>\n",
              "      <td>0</td>\n",
              "      <td>[{'created_utc': 1450314492, 'label': 0, 'auth...</td>\n",
              "      <td>snopes</td>\n",
              "      <td>prosecond amendment protester holds sign readi...</td>\n",
              "      <td>obama admin willing run roughshod constitution...</td>\n",
              "      <td>http://cnsnews.com/commentary/daniel-mitchell/...</td>\n",
              "      <td>[isnt, removed, last 7 years man day take ever...</td>\n",
              "      <td>26</td>\n",
              "      <td>cnsnews com</td>\n",
              "      <td>obama admin will run roughshod constitut gun c...</td>\n",
              "      <td>snopes obama admin will run roughshod constitu...</td>\n",
              "      <td>prosecond amend protest hold sign read part sh...</td>\n",
              "    </tr>\n",
              "    <tr>\n",
              "      <th>29</th>\n",
              "      <td>1</td>\n",
              "      <td>[{'created_utc': 1357236735, 'label': 1, 'auth...</td>\n",
              "      <td>snopes</td>\n",
              "      <td>miami cbsmiami every time turn lights may putt...</td>\n",
              "      <td>study ecofriendly light bulbs may put health risk</td>\n",
              "      <td>http://miami.cbslocal.com/2013/01/02/study-eco...</td>\n",
              "      <td>[exposure bulbs could lead premature skin canc...</td>\n",
              "      <td>14</td>\n",
              "      <td>miami cbslocal com</td>\n",
              "      <td>studi ecofriend light bulb may put health risk</td>\n",
              "      <td>snopes studi ecofriend light bulb may put heal...</td>\n",
              "      <td>miami cbsmiami everi time turn light may put r...</td>\n",
              "    </tr>\n",
              "    <tr>\n",
              "      <th>36</th>\n",
              "      <td>0</td>\n",
              "      <td>[{'created_utc': 1398095468, 'label': 0, 'auth...</td>\n",
              "      <td>snopes</td>\n",
              "      <td>something relate to dreaded moment realize sup...</td>\n",
              "      <td>spring cleaning three ways increase computers ...</td>\n",
              "      <td>http://www.cnet.com/how-to/ways-to-increase-yo...</td>\n",
              "      <td>[would amazed read 99]</td>\n",
              "      <td>1</td>\n",
              "      <td>www cnet com</td>\n",
              "      <td>spring clean three way increas comput perform</td>\n",
              "      <td>snopes spring clean three way increas comput p...</td>\n",
              "      <td>someth relat dread moment realiz superfast com...</td>\n",
              "    </tr>\n",
              "  </tbody>\n",
              "</table>\n",
              "</div>\n",
              "      <button class=\"colab-df-convert\" onclick=\"convertToInteractive('df-f5bec555-73c0-4c92-9884-1be6a9f5a17d')\"\n",
              "              title=\"Convert this dataframe to an interactive table.\"\n",
              "              style=\"display:none;\">\n",
              "        \n",
              "  <svg xmlns=\"http://www.w3.org/2000/svg\" height=\"24px\"viewBox=\"0 0 24 24\"\n",
              "       width=\"24px\">\n",
              "    <path d=\"M0 0h24v24H0V0z\" fill=\"none\"/>\n",
              "    <path d=\"M18.56 5.44l.94 2.06.94-2.06 2.06-.94-2.06-.94-.94-2.06-.94 2.06-2.06.94zm-11 1L8.5 8.5l.94-2.06 2.06-.94-2.06-.94L8.5 2.5l-.94 2.06-2.06.94zm10 10l.94 2.06.94-2.06 2.06-.94-2.06-.94-.94-2.06-.94 2.06-2.06.94z\"/><path d=\"M17.41 7.96l-1.37-1.37c-.4-.4-.92-.59-1.43-.59-.52 0-1.04.2-1.43.59L10.3 9.45l-7.72 7.72c-.78.78-.78 2.05 0 2.83L4 21.41c.39.39.9.59 1.41.59.51 0 1.02-.2 1.41-.59l7.78-7.78 2.81-2.81c.8-.78.8-2.07 0-2.86zM5.41 20L4 18.59l7.72-7.72 1.47 1.35L5.41 20z\"/>\n",
              "  </svg>\n",
              "      </button>\n",
              "      \n",
              "  <style>\n",
              "    .colab-df-container {\n",
              "      display:flex;\n",
              "      flex-wrap:wrap;\n",
              "      gap: 12px;\n",
              "    }\n",
              "\n",
              "    .colab-df-convert {\n",
              "      background-color: #E8F0FE;\n",
              "      border: none;\n",
              "      border-radius: 50%;\n",
              "      cursor: pointer;\n",
              "      display: none;\n",
              "      fill: #1967D2;\n",
              "      height: 32px;\n",
              "      padding: 0 0 0 0;\n",
              "      width: 32px;\n",
              "    }\n",
              "\n",
              "    .colab-df-convert:hover {\n",
              "      background-color: #E2EBFA;\n",
              "      box-shadow: 0px 1px 2px rgba(60, 64, 67, 0.3), 0px 1px 3px 1px rgba(60, 64, 67, 0.15);\n",
              "      fill: #174EA6;\n",
              "    }\n",
              "\n",
              "    [theme=dark] .colab-df-convert {\n",
              "      background-color: #3B4455;\n",
              "      fill: #D2E3FC;\n",
              "    }\n",
              "\n",
              "    [theme=dark] .colab-df-convert:hover {\n",
              "      background-color: #434B5C;\n",
              "      box-shadow: 0px 1px 3px 1px rgba(0, 0, 0, 0.15);\n",
              "      filter: drop-shadow(0px 1px 2px rgba(0, 0, 0, 0.3));\n",
              "      fill: #FFFFFF;\n",
              "    }\n",
              "  </style>\n",
              "\n",
              "      <script>\n",
              "        const buttonEl =\n",
              "          document.querySelector('#df-f5bec555-73c0-4c92-9884-1be6a9f5a17d button.colab-df-convert');\n",
              "        buttonEl.style.display =\n",
              "          google.colab.kernel.accessAllowed ? 'block' : 'none';\n",
              "\n",
              "        async function convertToInteractive(key) {\n",
              "          const element = document.querySelector('#df-f5bec555-73c0-4c92-9884-1be6a9f5a17d');\n",
              "          const dataTable =\n",
              "            await google.colab.kernel.invokeFunction('convertToInteractive',\n",
              "                                                     [key], {});\n",
              "          if (!dataTable) return;\n",
              "\n",
              "          const docLinkHtml = 'Like what you see? Visit the ' +\n",
              "            '<a target=\"_blank\" href=https://colab.research.google.com/notebooks/data_table.ipynb>data table notebook</a>'\n",
              "            + ' to learn more about interactive tables.';\n",
              "          element.innerHTML = '';\n",
              "          dataTable['output_type'] = 'display_data';\n",
              "          await google.colab.output.renderOutput(dataTable, element);\n",
              "          const docLink = document.createElement('div');\n",
              "          docLink.innerHTML = docLinkHtml;\n",
              "          element.appendChild(docLink);\n",
              "        }\n",
              "      </script>\n",
              "    </div>\n",
              "  </div>\n",
              "  "
            ]
          },
          "metadata": {},
          "execution_count": 112
        }
      ]
    },
    {
      "cell_type": "markdown",
      "source": [
        "###**Prepare Model Input**"
      ],
      "metadata": {
        "id": "YIyT8GK-nj5t"
      }
    },
    {
      "cell_type": "code",
      "source": [
        "\"\"\"\n",
        "Compute unique word vector with frequencies\n",
        "exclude very uncommon (<8 obsv.) and common (>=40%) words\n",
        "use pairs of three words (ngram)\n",
        "\"\"\"\n",
        "from sklearn.feature_extraction.text import TfidfVectorizer\n",
        "vectorizer_word = TfidfVectorizer( max_features=40000, analyzer=\"word\", max_df=0.4, min_df=8, ngram_range=(1, 3), norm=\"l2\")\n",
        "X = vectorizer_word.fit_transform(df_new[\"clean_text\"])"
      ],
      "metadata": {
        "execution": {
          "iopub.status.busy": "2022-06-12T23:53:20.219240Z",
          "iopub.execute_input": "2022-06-12T23:53:20.219981Z",
          "iopub.status.idle": "2022-06-12T23:53:54.467789Z",
          "shell.execute_reply.started": "2022-06-12T23:53:20.219945Z",
          "shell.execute_reply": "2022-06-12T23:53:54.466634Z"
        },
        "trusted": true,
        "id": "TBYfmNnonj5t"
      },
      "execution_count": null,
      "outputs": []
    },
    {
      "cell_type": "code",
      "source": [
        "from scipy.sparse import csr_matrix\n",
        "df_train = pd.DataFrame.sparse.from_spmatrix(X)\n",
        "df_train.index=df_new.index\n",
        "df_train['researched_by']=df_new['researched_by']\n",
        "df_train['label']=df_new['label']\n",
        "df_train"
      ],
      "metadata": {
        "execution": {
          "iopub.status.busy": "2022-06-12T23:53:54.469440Z",
          "iopub.execute_input": "2022-06-12T23:53:54.470235Z",
          "iopub.status.idle": "2022-06-12T23:53:57.124089Z",
          "shell.execute_reply.started": "2022-06-12T23:53:54.470187Z",
          "shell.execute_reply": "2022-06-12T23:53:57.123137Z"
        },
        "trusted": true,
        "colab": {
          "base_uri": "https://localhost:8080/"
        },
        "outputId": "2fb6d10d-07c5-4c06-9385-f2b9233de423",
        "id": "q3gJNlwInj5t"
      },
      "execution_count": null,
      "outputs": [
        {
          "output_type": "execute_result",
          "data": {
            "text/plain": [
              "         0    1    2    3    4         5    6    7    8    9  ...  39992  \\\n",
              "14     0.0  0.0  0.0  0.0  0.0  0.000000  0.0  0.0  0.0  0.0  ...    0.0   \n",
              "21     0.0  0.0  0.0  0.0  0.0  0.000000  0.0  0.0  0.0  0.0  ...    0.0   \n",
              "25     0.0  0.0  0.0  0.0  0.0  0.000000  0.0  0.0  0.0  0.0  ...    0.0   \n",
              "29     0.0  0.0  0.0  0.0  0.0  0.000000  0.0  0.0  0.0  0.0  ...    0.0   \n",
              "36     0.0  0.0  0.0  0.0  0.0  0.000000  0.0  0.0  0.0  0.0  ...    0.0   \n",
              "...    ...  ...  ...  ...  ...       ...  ...  ...  ...  ...  ...    ...   \n",
              "69357  0.0  0.0  0.0  0.0  0.0  0.000000  0.0  0.0  0.0  0.0  ...    0.0   \n",
              "69376  0.0  0.0  0.0  0.0  0.0  0.000000  0.0  0.0  0.0  0.0  ...    0.0   \n",
              "69388  0.0  0.0  0.0  0.0  0.0  0.000000  0.0  0.0  0.0  0.0  ...    0.0   \n",
              "69391  0.0  0.0  0.0  0.0  0.0  0.008395  0.0  0.0  0.0  0.0  ...    0.0   \n",
              "69395  0.0  0.0  0.0  0.0  0.0  0.000000  0.0  0.0  0.0  0.0  ...    0.0   \n",
              "\n",
              "          39993  39994  39995  39996  39997  39998  39999  researched_by  \\\n",
              "14     0.000000    0.0    0.0    0.0    0.0    0.0    0.0         snopes   \n",
              "21     0.000000    0.0    0.0    0.0    0.0    0.0    0.0         snopes   \n",
              "25     0.032430    0.0    0.0    0.0    0.0    0.0    0.0         snopes   \n",
              "29     0.000000    0.0    0.0    0.0    0.0    0.0    0.0         snopes   \n",
              "36     0.000000    0.0    0.0    0.0    0.0    0.0    0.0         snopes   \n",
              "...         ...    ...    ...    ...    ...    ...    ...            ...   \n",
              "69357  0.000000    0.0    0.0    0.0    0.0    0.0    0.0         snopes   \n",
              "69376  0.000000    0.0    0.0    0.0    0.0    0.0    0.0         snopes   \n",
              "69388  0.000000    0.0    0.0    0.0    0.0    0.0    0.0         snopes   \n",
              "69391  0.008804    0.0    0.0    0.0    0.0    0.0    0.0         snopes   \n",
              "69395  0.000000    0.0    0.0    0.0    0.0    0.0    0.0         snopes   \n",
              "\n",
              "       label  \n",
              "14         0  \n",
              "21         1  \n",
              "25         0  \n",
              "29         1  \n",
              "36         0  \n",
              "...      ...  \n",
              "69357      0  \n",
              "69376      1  \n",
              "69388      0  \n",
              "69391      0  \n",
              "69395      0  \n",
              "\n",
              "[5235 rows x 40002 columns]"
            ],
            "text/html": [
              "\n",
              "  <div id=\"df-6651d8d2-9bf4-4e12-a30e-97711a014de9\">\n",
              "    <div class=\"colab-df-container\">\n",
              "      <div>\n",
              "<style scoped>\n",
              "    .dataframe tbody tr th:only-of-type {\n",
              "        vertical-align: middle;\n",
              "    }\n",
              "\n",
              "    .dataframe tbody tr th {\n",
              "        vertical-align: top;\n",
              "    }\n",
              "\n",
              "    .dataframe thead th {\n",
              "        text-align: right;\n",
              "    }\n",
              "</style>\n",
              "<table border=\"1\" class=\"dataframe\">\n",
              "  <thead>\n",
              "    <tr style=\"text-align: right;\">\n",
              "      <th></th>\n",
              "      <th>0</th>\n",
              "      <th>1</th>\n",
              "      <th>2</th>\n",
              "      <th>3</th>\n",
              "      <th>4</th>\n",
              "      <th>5</th>\n",
              "      <th>6</th>\n",
              "      <th>7</th>\n",
              "      <th>8</th>\n",
              "      <th>9</th>\n",
              "      <th>...</th>\n",
              "      <th>39992</th>\n",
              "      <th>39993</th>\n",
              "      <th>39994</th>\n",
              "      <th>39995</th>\n",
              "      <th>39996</th>\n",
              "      <th>39997</th>\n",
              "      <th>39998</th>\n",
              "      <th>39999</th>\n",
              "      <th>researched_by</th>\n",
              "      <th>label</th>\n",
              "    </tr>\n",
              "  </thead>\n",
              "  <tbody>\n",
              "    <tr>\n",
              "      <th>14</th>\n",
              "      <td>0.0</td>\n",
              "      <td>0.0</td>\n",
              "      <td>0.0</td>\n",
              "      <td>0.0</td>\n",
              "      <td>0.0</td>\n",
              "      <td>0.000000</td>\n",
              "      <td>0.0</td>\n",
              "      <td>0.0</td>\n",
              "      <td>0.0</td>\n",
              "      <td>0.0</td>\n",
              "      <td>...</td>\n",
              "      <td>0.0</td>\n",
              "      <td>0.000000</td>\n",
              "      <td>0.0</td>\n",
              "      <td>0.0</td>\n",
              "      <td>0.0</td>\n",
              "      <td>0.0</td>\n",
              "      <td>0.0</td>\n",
              "      <td>0.0</td>\n",
              "      <td>snopes</td>\n",
              "      <td>0</td>\n",
              "    </tr>\n",
              "    <tr>\n",
              "      <th>21</th>\n",
              "      <td>0.0</td>\n",
              "      <td>0.0</td>\n",
              "      <td>0.0</td>\n",
              "      <td>0.0</td>\n",
              "      <td>0.0</td>\n",
              "      <td>0.000000</td>\n",
              "      <td>0.0</td>\n",
              "      <td>0.0</td>\n",
              "      <td>0.0</td>\n",
              "      <td>0.0</td>\n",
              "      <td>...</td>\n",
              "      <td>0.0</td>\n",
              "      <td>0.000000</td>\n",
              "      <td>0.0</td>\n",
              "      <td>0.0</td>\n",
              "      <td>0.0</td>\n",
              "      <td>0.0</td>\n",
              "      <td>0.0</td>\n",
              "      <td>0.0</td>\n",
              "      <td>snopes</td>\n",
              "      <td>1</td>\n",
              "    </tr>\n",
              "    <tr>\n",
              "      <th>25</th>\n",
              "      <td>0.0</td>\n",
              "      <td>0.0</td>\n",
              "      <td>0.0</td>\n",
              "      <td>0.0</td>\n",
              "      <td>0.0</td>\n",
              "      <td>0.000000</td>\n",
              "      <td>0.0</td>\n",
              "      <td>0.0</td>\n",
              "      <td>0.0</td>\n",
              "      <td>0.0</td>\n",
              "      <td>...</td>\n",
              "      <td>0.0</td>\n",
              "      <td>0.032430</td>\n",
              "      <td>0.0</td>\n",
              "      <td>0.0</td>\n",
              "      <td>0.0</td>\n",
              "      <td>0.0</td>\n",
              "      <td>0.0</td>\n",
              "      <td>0.0</td>\n",
              "      <td>snopes</td>\n",
              "      <td>0</td>\n",
              "    </tr>\n",
              "    <tr>\n",
              "      <th>29</th>\n",
              "      <td>0.0</td>\n",
              "      <td>0.0</td>\n",
              "      <td>0.0</td>\n",
              "      <td>0.0</td>\n",
              "      <td>0.0</td>\n",
              "      <td>0.000000</td>\n",
              "      <td>0.0</td>\n",
              "      <td>0.0</td>\n",
              "      <td>0.0</td>\n",
              "      <td>0.0</td>\n",
              "      <td>...</td>\n",
              "      <td>0.0</td>\n",
              "      <td>0.000000</td>\n",
              "      <td>0.0</td>\n",
              "      <td>0.0</td>\n",
              "      <td>0.0</td>\n",
              "      <td>0.0</td>\n",
              "      <td>0.0</td>\n",
              "      <td>0.0</td>\n",
              "      <td>snopes</td>\n",
              "      <td>1</td>\n",
              "    </tr>\n",
              "    <tr>\n",
              "      <th>36</th>\n",
              "      <td>0.0</td>\n",
              "      <td>0.0</td>\n",
              "      <td>0.0</td>\n",
              "      <td>0.0</td>\n",
              "      <td>0.0</td>\n",
              "      <td>0.000000</td>\n",
              "      <td>0.0</td>\n",
              "      <td>0.0</td>\n",
              "      <td>0.0</td>\n",
              "      <td>0.0</td>\n",
              "      <td>...</td>\n",
              "      <td>0.0</td>\n",
              "      <td>0.000000</td>\n",
              "      <td>0.0</td>\n",
              "      <td>0.0</td>\n",
              "      <td>0.0</td>\n",
              "      <td>0.0</td>\n",
              "      <td>0.0</td>\n",
              "      <td>0.0</td>\n",
              "      <td>snopes</td>\n",
              "      <td>0</td>\n",
              "    </tr>\n",
              "    <tr>\n",
              "      <th>...</th>\n",
              "      <td>...</td>\n",
              "      <td>...</td>\n",
              "      <td>...</td>\n",
              "      <td>...</td>\n",
              "      <td>...</td>\n",
              "      <td>...</td>\n",
              "      <td>...</td>\n",
              "      <td>...</td>\n",
              "      <td>...</td>\n",
              "      <td>...</td>\n",
              "      <td>...</td>\n",
              "      <td>...</td>\n",
              "      <td>...</td>\n",
              "      <td>...</td>\n",
              "      <td>...</td>\n",
              "      <td>...</td>\n",
              "      <td>...</td>\n",
              "      <td>...</td>\n",
              "      <td>...</td>\n",
              "      <td>...</td>\n",
              "      <td>...</td>\n",
              "    </tr>\n",
              "    <tr>\n",
              "      <th>69357</th>\n",
              "      <td>0.0</td>\n",
              "      <td>0.0</td>\n",
              "      <td>0.0</td>\n",
              "      <td>0.0</td>\n",
              "      <td>0.0</td>\n",
              "      <td>0.000000</td>\n",
              "      <td>0.0</td>\n",
              "      <td>0.0</td>\n",
              "      <td>0.0</td>\n",
              "      <td>0.0</td>\n",
              "      <td>...</td>\n",
              "      <td>0.0</td>\n",
              "      <td>0.000000</td>\n",
              "      <td>0.0</td>\n",
              "      <td>0.0</td>\n",
              "      <td>0.0</td>\n",
              "      <td>0.0</td>\n",
              "      <td>0.0</td>\n",
              "      <td>0.0</td>\n",
              "      <td>snopes</td>\n",
              "      <td>0</td>\n",
              "    </tr>\n",
              "    <tr>\n",
              "      <th>69376</th>\n",
              "      <td>0.0</td>\n",
              "      <td>0.0</td>\n",
              "      <td>0.0</td>\n",
              "      <td>0.0</td>\n",
              "      <td>0.0</td>\n",
              "      <td>0.000000</td>\n",
              "      <td>0.0</td>\n",
              "      <td>0.0</td>\n",
              "      <td>0.0</td>\n",
              "      <td>0.0</td>\n",
              "      <td>...</td>\n",
              "      <td>0.0</td>\n",
              "      <td>0.000000</td>\n",
              "      <td>0.0</td>\n",
              "      <td>0.0</td>\n",
              "      <td>0.0</td>\n",
              "      <td>0.0</td>\n",
              "      <td>0.0</td>\n",
              "      <td>0.0</td>\n",
              "      <td>snopes</td>\n",
              "      <td>1</td>\n",
              "    </tr>\n",
              "    <tr>\n",
              "      <th>69388</th>\n",
              "      <td>0.0</td>\n",
              "      <td>0.0</td>\n",
              "      <td>0.0</td>\n",
              "      <td>0.0</td>\n",
              "      <td>0.0</td>\n",
              "      <td>0.000000</td>\n",
              "      <td>0.0</td>\n",
              "      <td>0.0</td>\n",
              "      <td>0.0</td>\n",
              "      <td>0.0</td>\n",
              "      <td>...</td>\n",
              "      <td>0.0</td>\n",
              "      <td>0.000000</td>\n",
              "      <td>0.0</td>\n",
              "      <td>0.0</td>\n",
              "      <td>0.0</td>\n",
              "      <td>0.0</td>\n",
              "      <td>0.0</td>\n",
              "      <td>0.0</td>\n",
              "      <td>snopes</td>\n",
              "      <td>0</td>\n",
              "    </tr>\n",
              "    <tr>\n",
              "      <th>69391</th>\n",
              "      <td>0.0</td>\n",
              "      <td>0.0</td>\n",
              "      <td>0.0</td>\n",
              "      <td>0.0</td>\n",
              "      <td>0.0</td>\n",
              "      <td>0.008395</td>\n",
              "      <td>0.0</td>\n",
              "      <td>0.0</td>\n",
              "      <td>0.0</td>\n",
              "      <td>0.0</td>\n",
              "      <td>...</td>\n",
              "      <td>0.0</td>\n",
              "      <td>0.008804</td>\n",
              "      <td>0.0</td>\n",
              "      <td>0.0</td>\n",
              "      <td>0.0</td>\n",
              "      <td>0.0</td>\n",
              "      <td>0.0</td>\n",
              "      <td>0.0</td>\n",
              "      <td>snopes</td>\n",
              "      <td>0</td>\n",
              "    </tr>\n",
              "    <tr>\n",
              "      <th>69395</th>\n",
              "      <td>0.0</td>\n",
              "      <td>0.0</td>\n",
              "      <td>0.0</td>\n",
              "      <td>0.0</td>\n",
              "      <td>0.0</td>\n",
              "      <td>0.000000</td>\n",
              "      <td>0.0</td>\n",
              "      <td>0.0</td>\n",
              "      <td>0.0</td>\n",
              "      <td>0.0</td>\n",
              "      <td>...</td>\n",
              "      <td>0.0</td>\n",
              "      <td>0.000000</td>\n",
              "      <td>0.0</td>\n",
              "      <td>0.0</td>\n",
              "      <td>0.0</td>\n",
              "      <td>0.0</td>\n",
              "      <td>0.0</td>\n",
              "      <td>0.0</td>\n",
              "      <td>snopes</td>\n",
              "      <td>0</td>\n",
              "    </tr>\n",
              "  </tbody>\n",
              "</table>\n",
              "<p>5235 rows × 40002 columns</p>\n",
              "</div>\n",
              "      <button class=\"colab-df-convert\" onclick=\"convertToInteractive('df-6651d8d2-9bf4-4e12-a30e-97711a014de9')\"\n",
              "              title=\"Convert this dataframe to an interactive table.\"\n",
              "              style=\"display:none;\">\n",
              "        \n",
              "  <svg xmlns=\"http://www.w3.org/2000/svg\" height=\"24px\"viewBox=\"0 0 24 24\"\n",
              "       width=\"24px\">\n",
              "    <path d=\"M0 0h24v24H0V0z\" fill=\"none\"/>\n",
              "    <path d=\"M18.56 5.44l.94 2.06.94-2.06 2.06-.94-2.06-.94-.94-2.06-.94 2.06-2.06.94zm-11 1L8.5 8.5l.94-2.06 2.06-.94-2.06-.94L8.5 2.5l-.94 2.06-2.06.94zm10 10l.94 2.06.94-2.06 2.06-.94-2.06-.94-.94-2.06-.94 2.06-2.06.94z\"/><path d=\"M17.41 7.96l-1.37-1.37c-.4-.4-.92-.59-1.43-.59-.52 0-1.04.2-1.43.59L10.3 9.45l-7.72 7.72c-.78.78-.78 2.05 0 2.83L4 21.41c.39.39.9.59 1.41.59.51 0 1.02-.2 1.41-.59l7.78-7.78 2.81-2.81c.8-.78.8-2.07 0-2.86zM5.41 20L4 18.59l7.72-7.72 1.47 1.35L5.41 20z\"/>\n",
              "  </svg>\n",
              "      </button>\n",
              "      \n",
              "  <style>\n",
              "    .colab-df-container {\n",
              "      display:flex;\n",
              "      flex-wrap:wrap;\n",
              "      gap: 12px;\n",
              "    }\n",
              "\n",
              "    .colab-df-convert {\n",
              "      background-color: #E8F0FE;\n",
              "      border: none;\n",
              "      border-radius: 50%;\n",
              "      cursor: pointer;\n",
              "      display: none;\n",
              "      fill: #1967D2;\n",
              "      height: 32px;\n",
              "      padding: 0 0 0 0;\n",
              "      width: 32px;\n",
              "    }\n",
              "\n",
              "    .colab-df-convert:hover {\n",
              "      background-color: #E2EBFA;\n",
              "      box-shadow: 0px 1px 2px rgba(60, 64, 67, 0.3), 0px 1px 3px 1px rgba(60, 64, 67, 0.15);\n",
              "      fill: #174EA6;\n",
              "    }\n",
              "\n",
              "    [theme=dark] .colab-df-convert {\n",
              "      background-color: #3B4455;\n",
              "      fill: #D2E3FC;\n",
              "    }\n",
              "\n",
              "    [theme=dark] .colab-df-convert:hover {\n",
              "      background-color: #434B5C;\n",
              "      box-shadow: 0px 1px 3px 1px rgba(0, 0, 0, 0.15);\n",
              "      filter: drop-shadow(0px 1px 2px rgba(0, 0, 0, 0.3));\n",
              "      fill: #FFFFFF;\n",
              "    }\n",
              "  </style>\n",
              "\n",
              "      <script>\n",
              "        const buttonEl =\n",
              "          document.querySelector('#df-6651d8d2-9bf4-4e12-a30e-97711a014de9 button.colab-df-convert');\n",
              "        buttonEl.style.display =\n",
              "          google.colab.kernel.accessAllowed ? 'block' : 'none';\n",
              "\n",
              "        async function convertToInteractive(key) {\n",
              "          const element = document.querySelector('#df-6651d8d2-9bf4-4e12-a30e-97711a014de9');\n",
              "          const dataTable =\n",
              "            await google.colab.kernel.invokeFunction('convertToInteractive',\n",
              "                                                     [key], {});\n",
              "          if (!dataTable) return;\n",
              "\n",
              "          const docLinkHtml = 'Like what you see? Visit the ' +\n",
              "            '<a target=\"_blank\" href=https://colab.research.google.com/notebooks/data_table.ipynb>data table notebook</a>'\n",
              "            + ' to learn more about interactive tables.';\n",
              "          element.innerHTML = '';\n",
              "          dataTable['output_type'] = 'display_data';\n",
              "          await google.colab.output.renderOutput(dataTable, element);\n",
              "          const docLink = document.createElement('div');\n",
              "          docLink.innerHTML = docLinkHtml;\n",
              "          element.appendChild(docLink);\n",
              "        }\n",
              "      </script>\n",
              "    </div>\n",
              "  </div>\n",
              "  "
            ]
          },
          "metadata": {},
          "execution_count": 114
        }
      ]
    },
    {
      "cell_type": "code",
      "source": [
        "#Encoding the categorical data\n",
        "from sklearn.preprocessing import LabelEncoder\n",
        "\n",
        "labelencoder_X = LabelEncoder()\n",
        "df_train['researched_by']= labelencoder_X.fit_transform(df_train['researched_by'])"
      ],
      "metadata": {
        "id": "Ty1CZfTPKp-c"
      },
      "execution_count": null,
      "outputs": []
    },
    {
      "cell_type": "markdown",
      "source": [
        "**Split data**"
      ],
      "metadata": {
        "id": "zHiC6mgjnj5t"
      }
    },
    {
      "cell_type": "code",
      "source": [
        "X = df_train.drop(columns='label')\n",
        "y = df_train['label']\n",
        "  "
      ],
      "metadata": {
        "execution": {
          "iopub.status.busy": "2022-06-12T23:53:57.125638Z",
          "iopub.execute_input": "2022-06-12T23:53:57.126101Z",
          "iopub.status.idle": "2022-06-12T23:53:58.969601Z",
          "shell.execute_reply.started": "2022-06-12T23:53:57.126058Z",
          "shell.execute_reply": "2022-06-12T23:53:58.968550Z"
        },
        "trusted": true,
        "id": "ZxUIT1Alnj5u"
      },
      "execution_count": null,
      "outputs": []
    },
    {
      "cell_type": "code",
      "source": [
        "X"
      ],
      "metadata": {
        "execution": {
          "iopub.status.busy": "2022-06-12T23:53:58.970961Z",
          "iopub.execute_input": "2022-06-12T23:53:58.972012Z",
          "iopub.status.idle": "2022-06-12T23:53:59.289040Z",
          "shell.execute_reply.started": "2022-06-12T23:53:58.971965Z",
          "shell.execute_reply": "2022-06-12T23:53:59.287979Z"
        },
        "trusted": true,
        "colab": {
          "base_uri": "https://localhost:8080/"
        },
        "outputId": "21da0792-a80c-45bb-d4bf-be7d50f93e3b",
        "id": "iB7zlkqhnj5u"
      },
      "execution_count": null,
      "outputs": [
        {
          "output_type": "execute_result",
          "data": {
            "text/plain": [
              "         0    1    2    3    4         5    6    7    8    9  ...  39991  \\\n",
              "14     0.0  0.0  0.0  0.0  0.0  0.000000  0.0  0.0  0.0  0.0  ...    0.0   \n",
              "21     0.0  0.0  0.0  0.0  0.0  0.000000  0.0  0.0  0.0  0.0  ...    0.0   \n",
              "25     0.0  0.0  0.0  0.0  0.0  0.000000  0.0  0.0  0.0  0.0  ...    0.0   \n",
              "29     0.0  0.0  0.0  0.0  0.0  0.000000  0.0  0.0  0.0  0.0  ...    0.0   \n",
              "36     0.0  0.0  0.0  0.0  0.0  0.000000  0.0  0.0  0.0  0.0  ...    0.0   \n",
              "...    ...  ...  ...  ...  ...       ...  ...  ...  ...  ...  ...    ...   \n",
              "69357  0.0  0.0  0.0  0.0  0.0  0.000000  0.0  0.0  0.0  0.0  ...    0.0   \n",
              "69376  0.0  0.0  0.0  0.0  0.0  0.000000  0.0  0.0  0.0  0.0  ...    0.0   \n",
              "69388  0.0  0.0  0.0  0.0  0.0  0.000000  0.0  0.0  0.0  0.0  ...    0.0   \n",
              "69391  0.0  0.0  0.0  0.0  0.0  0.008395  0.0  0.0  0.0  0.0  ...    0.0   \n",
              "69395  0.0  0.0  0.0  0.0  0.0  0.000000  0.0  0.0  0.0  0.0  ...    0.0   \n",
              "\n",
              "       39992     39993  39994  39995  39996  39997  39998  39999  \\\n",
              "14       0.0  0.000000    0.0    0.0    0.0    0.0    0.0    0.0   \n",
              "21       0.0  0.000000    0.0    0.0    0.0    0.0    0.0    0.0   \n",
              "25       0.0  0.032430    0.0    0.0    0.0    0.0    0.0    0.0   \n",
              "29       0.0  0.000000    0.0    0.0    0.0    0.0    0.0    0.0   \n",
              "36       0.0  0.000000    0.0    0.0    0.0    0.0    0.0    0.0   \n",
              "...      ...       ...    ...    ...    ...    ...    ...    ...   \n",
              "69357    0.0  0.000000    0.0    0.0    0.0    0.0    0.0    0.0   \n",
              "69376    0.0  0.000000    0.0    0.0    0.0    0.0    0.0    0.0   \n",
              "69388    0.0  0.000000    0.0    0.0    0.0    0.0    0.0    0.0   \n",
              "69391    0.0  0.008804    0.0    0.0    0.0    0.0    0.0    0.0   \n",
              "69395    0.0  0.000000    0.0    0.0    0.0    0.0    0.0    0.0   \n",
              "\n",
              "       researched_by  \n",
              "14                 2  \n",
              "21                 2  \n",
              "25                 2  \n",
              "29                 2  \n",
              "36                 2  \n",
              "...              ...  \n",
              "69357              2  \n",
              "69376              2  \n",
              "69388              2  \n",
              "69391              2  \n",
              "69395              2  \n",
              "\n",
              "[5235 rows x 40001 columns]"
            ],
            "text/html": [
              "\n",
              "  <div id=\"df-34c657b6-efb3-4ac8-96ae-e557fcdc0ec8\">\n",
              "    <div class=\"colab-df-container\">\n",
              "      <div>\n",
              "<style scoped>\n",
              "    .dataframe tbody tr th:only-of-type {\n",
              "        vertical-align: middle;\n",
              "    }\n",
              "\n",
              "    .dataframe tbody tr th {\n",
              "        vertical-align: top;\n",
              "    }\n",
              "\n",
              "    .dataframe thead th {\n",
              "        text-align: right;\n",
              "    }\n",
              "</style>\n",
              "<table border=\"1\" class=\"dataframe\">\n",
              "  <thead>\n",
              "    <tr style=\"text-align: right;\">\n",
              "      <th></th>\n",
              "      <th>0</th>\n",
              "      <th>1</th>\n",
              "      <th>2</th>\n",
              "      <th>3</th>\n",
              "      <th>4</th>\n",
              "      <th>5</th>\n",
              "      <th>6</th>\n",
              "      <th>7</th>\n",
              "      <th>8</th>\n",
              "      <th>9</th>\n",
              "      <th>...</th>\n",
              "      <th>39991</th>\n",
              "      <th>39992</th>\n",
              "      <th>39993</th>\n",
              "      <th>39994</th>\n",
              "      <th>39995</th>\n",
              "      <th>39996</th>\n",
              "      <th>39997</th>\n",
              "      <th>39998</th>\n",
              "      <th>39999</th>\n",
              "      <th>researched_by</th>\n",
              "    </tr>\n",
              "  </thead>\n",
              "  <tbody>\n",
              "    <tr>\n",
              "      <th>14</th>\n",
              "      <td>0.0</td>\n",
              "      <td>0.0</td>\n",
              "      <td>0.0</td>\n",
              "      <td>0.0</td>\n",
              "      <td>0.0</td>\n",
              "      <td>0.000000</td>\n",
              "      <td>0.0</td>\n",
              "      <td>0.0</td>\n",
              "      <td>0.0</td>\n",
              "      <td>0.0</td>\n",
              "      <td>...</td>\n",
              "      <td>0.0</td>\n",
              "      <td>0.0</td>\n",
              "      <td>0.000000</td>\n",
              "      <td>0.0</td>\n",
              "      <td>0.0</td>\n",
              "      <td>0.0</td>\n",
              "      <td>0.0</td>\n",
              "      <td>0.0</td>\n",
              "      <td>0.0</td>\n",
              "      <td>2</td>\n",
              "    </tr>\n",
              "    <tr>\n",
              "      <th>21</th>\n",
              "      <td>0.0</td>\n",
              "      <td>0.0</td>\n",
              "      <td>0.0</td>\n",
              "      <td>0.0</td>\n",
              "      <td>0.0</td>\n",
              "      <td>0.000000</td>\n",
              "      <td>0.0</td>\n",
              "      <td>0.0</td>\n",
              "      <td>0.0</td>\n",
              "      <td>0.0</td>\n",
              "      <td>...</td>\n",
              "      <td>0.0</td>\n",
              "      <td>0.0</td>\n",
              "      <td>0.000000</td>\n",
              "      <td>0.0</td>\n",
              "      <td>0.0</td>\n",
              "      <td>0.0</td>\n",
              "      <td>0.0</td>\n",
              "      <td>0.0</td>\n",
              "      <td>0.0</td>\n",
              "      <td>2</td>\n",
              "    </tr>\n",
              "    <tr>\n",
              "      <th>25</th>\n",
              "      <td>0.0</td>\n",
              "      <td>0.0</td>\n",
              "      <td>0.0</td>\n",
              "      <td>0.0</td>\n",
              "      <td>0.0</td>\n",
              "      <td>0.000000</td>\n",
              "      <td>0.0</td>\n",
              "      <td>0.0</td>\n",
              "      <td>0.0</td>\n",
              "      <td>0.0</td>\n",
              "      <td>...</td>\n",
              "      <td>0.0</td>\n",
              "      <td>0.0</td>\n",
              "      <td>0.032430</td>\n",
              "      <td>0.0</td>\n",
              "      <td>0.0</td>\n",
              "      <td>0.0</td>\n",
              "      <td>0.0</td>\n",
              "      <td>0.0</td>\n",
              "      <td>0.0</td>\n",
              "      <td>2</td>\n",
              "    </tr>\n",
              "    <tr>\n",
              "      <th>29</th>\n",
              "      <td>0.0</td>\n",
              "      <td>0.0</td>\n",
              "      <td>0.0</td>\n",
              "      <td>0.0</td>\n",
              "      <td>0.0</td>\n",
              "      <td>0.000000</td>\n",
              "      <td>0.0</td>\n",
              "      <td>0.0</td>\n",
              "      <td>0.0</td>\n",
              "      <td>0.0</td>\n",
              "      <td>...</td>\n",
              "      <td>0.0</td>\n",
              "      <td>0.0</td>\n",
              "      <td>0.000000</td>\n",
              "      <td>0.0</td>\n",
              "      <td>0.0</td>\n",
              "      <td>0.0</td>\n",
              "      <td>0.0</td>\n",
              "      <td>0.0</td>\n",
              "      <td>0.0</td>\n",
              "      <td>2</td>\n",
              "    </tr>\n",
              "    <tr>\n",
              "      <th>36</th>\n",
              "      <td>0.0</td>\n",
              "      <td>0.0</td>\n",
              "      <td>0.0</td>\n",
              "      <td>0.0</td>\n",
              "      <td>0.0</td>\n",
              "      <td>0.000000</td>\n",
              "      <td>0.0</td>\n",
              "      <td>0.0</td>\n",
              "      <td>0.0</td>\n",
              "      <td>0.0</td>\n",
              "      <td>...</td>\n",
              "      <td>0.0</td>\n",
              "      <td>0.0</td>\n",
              "      <td>0.000000</td>\n",
              "      <td>0.0</td>\n",
              "      <td>0.0</td>\n",
              "      <td>0.0</td>\n",
              "      <td>0.0</td>\n",
              "      <td>0.0</td>\n",
              "      <td>0.0</td>\n",
              "      <td>2</td>\n",
              "    </tr>\n",
              "    <tr>\n",
              "      <th>...</th>\n",
              "      <td>...</td>\n",
              "      <td>...</td>\n",
              "      <td>...</td>\n",
              "      <td>...</td>\n",
              "      <td>...</td>\n",
              "      <td>...</td>\n",
              "      <td>...</td>\n",
              "      <td>...</td>\n",
              "      <td>...</td>\n",
              "      <td>...</td>\n",
              "      <td>...</td>\n",
              "      <td>...</td>\n",
              "      <td>...</td>\n",
              "      <td>...</td>\n",
              "      <td>...</td>\n",
              "      <td>...</td>\n",
              "      <td>...</td>\n",
              "      <td>...</td>\n",
              "      <td>...</td>\n",
              "      <td>...</td>\n",
              "      <td>...</td>\n",
              "    </tr>\n",
              "    <tr>\n",
              "      <th>69357</th>\n",
              "      <td>0.0</td>\n",
              "      <td>0.0</td>\n",
              "      <td>0.0</td>\n",
              "      <td>0.0</td>\n",
              "      <td>0.0</td>\n",
              "      <td>0.000000</td>\n",
              "      <td>0.0</td>\n",
              "      <td>0.0</td>\n",
              "      <td>0.0</td>\n",
              "      <td>0.0</td>\n",
              "      <td>...</td>\n",
              "      <td>0.0</td>\n",
              "      <td>0.0</td>\n",
              "      <td>0.000000</td>\n",
              "      <td>0.0</td>\n",
              "      <td>0.0</td>\n",
              "      <td>0.0</td>\n",
              "      <td>0.0</td>\n",
              "      <td>0.0</td>\n",
              "      <td>0.0</td>\n",
              "      <td>2</td>\n",
              "    </tr>\n",
              "    <tr>\n",
              "      <th>69376</th>\n",
              "      <td>0.0</td>\n",
              "      <td>0.0</td>\n",
              "      <td>0.0</td>\n",
              "      <td>0.0</td>\n",
              "      <td>0.0</td>\n",
              "      <td>0.000000</td>\n",
              "      <td>0.0</td>\n",
              "      <td>0.0</td>\n",
              "      <td>0.0</td>\n",
              "      <td>0.0</td>\n",
              "      <td>...</td>\n",
              "      <td>0.0</td>\n",
              "      <td>0.0</td>\n",
              "      <td>0.000000</td>\n",
              "      <td>0.0</td>\n",
              "      <td>0.0</td>\n",
              "      <td>0.0</td>\n",
              "      <td>0.0</td>\n",
              "      <td>0.0</td>\n",
              "      <td>0.0</td>\n",
              "      <td>2</td>\n",
              "    </tr>\n",
              "    <tr>\n",
              "      <th>69388</th>\n",
              "      <td>0.0</td>\n",
              "      <td>0.0</td>\n",
              "      <td>0.0</td>\n",
              "      <td>0.0</td>\n",
              "      <td>0.0</td>\n",
              "      <td>0.000000</td>\n",
              "      <td>0.0</td>\n",
              "      <td>0.0</td>\n",
              "      <td>0.0</td>\n",
              "      <td>0.0</td>\n",
              "      <td>...</td>\n",
              "      <td>0.0</td>\n",
              "      <td>0.0</td>\n",
              "      <td>0.000000</td>\n",
              "      <td>0.0</td>\n",
              "      <td>0.0</td>\n",
              "      <td>0.0</td>\n",
              "      <td>0.0</td>\n",
              "      <td>0.0</td>\n",
              "      <td>0.0</td>\n",
              "      <td>2</td>\n",
              "    </tr>\n",
              "    <tr>\n",
              "      <th>69391</th>\n",
              "      <td>0.0</td>\n",
              "      <td>0.0</td>\n",
              "      <td>0.0</td>\n",
              "      <td>0.0</td>\n",
              "      <td>0.0</td>\n",
              "      <td>0.008395</td>\n",
              "      <td>0.0</td>\n",
              "      <td>0.0</td>\n",
              "      <td>0.0</td>\n",
              "      <td>0.0</td>\n",
              "      <td>...</td>\n",
              "      <td>0.0</td>\n",
              "      <td>0.0</td>\n",
              "      <td>0.008804</td>\n",
              "      <td>0.0</td>\n",
              "      <td>0.0</td>\n",
              "      <td>0.0</td>\n",
              "      <td>0.0</td>\n",
              "      <td>0.0</td>\n",
              "      <td>0.0</td>\n",
              "      <td>2</td>\n",
              "    </tr>\n",
              "    <tr>\n",
              "      <th>69395</th>\n",
              "      <td>0.0</td>\n",
              "      <td>0.0</td>\n",
              "      <td>0.0</td>\n",
              "      <td>0.0</td>\n",
              "      <td>0.0</td>\n",
              "      <td>0.000000</td>\n",
              "      <td>0.0</td>\n",
              "      <td>0.0</td>\n",
              "      <td>0.0</td>\n",
              "      <td>0.0</td>\n",
              "      <td>...</td>\n",
              "      <td>0.0</td>\n",
              "      <td>0.0</td>\n",
              "      <td>0.000000</td>\n",
              "      <td>0.0</td>\n",
              "      <td>0.0</td>\n",
              "      <td>0.0</td>\n",
              "      <td>0.0</td>\n",
              "      <td>0.0</td>\n",
              "      <td>0.0</td>\n",
              "      <td>2</td>\n",
              "    </tr>\n",
              "  </tbody>\n",
              "</table>\n",
              "<p>5235 rows × 40001 columns</p>\n",
              "</div>\n",
              "      <button class=\"colab-df-convert\" onclick=\"convertToInteractive('df-34c657b6-efb3-4ac8-96ae-e557fcdc0ec8')\"\n",
              "              title=\"Convert this dataframe to an interactive table.\"\n",
              "              style=\"display:none;\">\n",
              "        \n",
              "  <svg xmlns=\"http://www.w3.org/2000/svg\" height=\"24px\"viewBox=\"0 0 24 24\"\n",
              "       width=\"24px\">\n",
              "    <path d=\"M0 0h24v24H0V0z\" fill=\"none\"/>\n",
              "    <path d=\"M18.56 5.44l.94 2.06.94-2.06 2.06-.94-2.06-.94-.94-2.06-.94 2.06-2.06.94zm-11 1L8.5 8.5l.94-2.06 2.06-.94-2.06-.94L8.5 2.5l-.94 2.06-2.06.94zm10 10l.94 2.06.94-2.06 2.06-.94-2.06-.94-.94-2.06-.94 2.06-2.06.94z\"/><path d=\"M17.41 7.96l-1.37-1.37c-.4-.4-.92-.59-1.43-.59-.52 0-1.04.2-1.43.59L10.3 9.45l-7.72 7.72c-.78.78-.78 2.05 0 2.83L4 21.41c.39.39.9.59 1.41.59.51 0 1.02-.2 1.41-.59l7.78-7.78 2.81-2.81c.8-.78.8-2.07 0-2.86zM5.41 20L4 18.59l7.72-7.72 1.47 1.35L5.41 20z\"/>\n",
              "  </svg>\n",
              "      </button>\n",
              "      \n",
              "  <style>\n",
              "    .colab-df-container {\n",
              "      display:flex;\n",
              "      flex-wrap:wrap;\n",
              "      gap: 12px;\n",
              "    }\n",
              "\n",
              "    .colab-df-convert {\n",
              "      background-color: #E8F0FE;\n",
              "      border: none;\n",
              "      border-radius: 50%;\n",
              "      cursor: pointer;\n",
              "      display: none;\n",
              "      fill: #1967D2;\n",
              "      height: 32px;\n",
              "      padding: 0 0 0 0;\n",
              "      width: 32px;\n",
              "    }\n",
              "\n",
              "    .colab-df-convert:hover {\n",
              "      background-color: #E2EBFA;\n",
              "      box-shadow: 0px 1px 2px rgba(60, 64, 67, 0.3), 0px 1px 3px 1px rgba(60, 64, 67, 0.15);\n",
              "      fill: #174EA6;\n",
              "    }\n",
              "\n",
              "    [theme=dark] .colab-df-convert {\n",
              "      background-color: #3B4455;\n",
              "      fill: #D2E3FC;\n",
              "    }\n",
              "\n",
              "    [theme=dark] .colab-df-convert:hover {\n",
              "      background-color: #434B5C;\n",
              "      box-shadow: 0px 1px 3px 1px rgba(0, 0, 0, 0.15);\n",
              "      filter: drop-shadow(0px 1px 2px rgba(0, 0, 0, 0.3));\n",
              "      fill: #FFFFFF;\n",
              "    }\n",
              "  </style>\n",
              "\n",
              "      <script>\n",
              "        const buttonEl =\n",
              "          document.querySelector('#df-34c657b6-efb3-4ac8-96ae-e557fcdc0ec8 button.colab-df-convert');\n",
              "        buttonEl.style.display =\n",
              "          google.colab.kernel.accessAllowed ? 'block' : 'none';\n",
              "\n",
              "        async function convertToInteractive(key) {\n",
              "          const element = document.querySelector('#df-34c657b6-efb3-4ac8-96ae-e557fcdc0ec8');\n",
              "          const dataTable =\n",
              "            await google.colab.kernel.invokeFunction('convertToInteractive',\n",
              "                                                     [key], {});\n",
              "          if (!dataTable) return;\n",
              "\n",
              "          const docLinkHtml = 'Like what you see? Visit the ' +\n",
              "            '<a target=\"_blank\" href=https://colab.research.google.com/notebooks/data_table.ipynb>data table notebook</a>'\n",
              "            + ' to learn more about interactive tables.';\n",
              "          element.innerHTML = '';\n",
              "          dataTable['output_type'] = 'display_data';\n",
              "          await google.colab.output.renderOutput(dataTable, element);\n",
              "          const docLink = document.createElement('div');\n",
              "          docLink.innerHTML = docLinkHtml;\n",
              "          element.appendChild(docLink);\n",
              "        }\n",
              "      </script>\n",
              "    </div>\n",
              "  </div>\n",
              "  "
            ]
          },
          "metadata": {},
          "execution_count": 117
        }
      ]
    },
    {
      "cell_type": "code",
      "source": [
        "from sklearn.model_selection import train_test_split\n",
        "x_train, x_test, y_train,y_test=train_test_split(X,y, random_state=42, test_size=0.25)"
      ],
      "metadata": {
        "execution": {
          "iopub.status.busy": "2022-06-13T00:19:20.617006Z",
          "iopub.execute_input": "2022-06-13T00:19:20.617536Z",
          "iopub.status.idle": "2022-06-13T00:19:46.525401Z",
          "shell.execute_reply.started": "2022-06-13T00:19:20.617486Z",
          "shell.execute_reply": "2022-06-13T00:19:46.524159Z"
        },
        "trusted": true,
        "id": "qo7SNU-lnj5u"
      },
      "execution_count": null,
      "outputs": []
    },
    {
      "cell_type": "code",
      "source": [
        "from imblearn.over_sampling import RandomOverSampler\n",
        "# define oversampling strategy\n",
        "oversample = RandomOverSampler(sampling_strategy='minority')\n",
        "# define oversampling strategy\n",
        "oversample = RandomOverSampler(sampling_strategy=0.5)\n",
        "# fit and apply the transform\n",
        "X_over, y_over = oversample.fit_resample(x_train, y_train)"
      ],
      "metadata": {
        "execution": {
          "iopub.status.busy": "2022-06-13T00:19:51.822618Z",
          "iopub.execute_input": "2022-06-13T00:19:51.823495Z",
          "iopub.status.idle": "2022-06-13T00:20:17.625164Z",
          "shell.execute_reply.started": "2022-06-13T00:19:51.823455Z",
          "shell.execute_reply": "2022-06-13T00:20:17.620628Z"
        },
        "trusted": true,
        "id": "TkmXJG7Lnj5u"
      },
      "execution_count": null,
      "outputs": []
    },
    {
      "cell_type": "code",
      "source": [
        "def plot_confusion_matrix(cm, classes,\n",
        "                          normalize=False,\n",
        "                          title='Confusion matrix',\n",
        "                          cmap=plt.cm.Blues):\n",
        "    \"\"\"\n",
        "    This function prints and plots the confusion matrix.\n",
        "    Normalization can be applied by setting `normalize=True`.\n",
        "    \"\"\"\n",
        "    \n",
        "    plt.imshow(cm, interpolation='nearest', cmap=cmap)\n",
        "    plt.title(title)\n",
        "    plt.colorbar()\n",
        "    tick_marks = np.arange(len(classes))\n",
        "    plt.xticks(tick_marks, classes, rotation=45)\n",
        "    plt.yticks(tick_marks, classes)\n",
        "\n",
        "    if normalize:\n",
        "        cm = cm.astype('float') / cm.sum(axis=1)[:, np.newaxis]\n",
        "        print(\"Normalized confusion matrix\")\n",
        "    else:\n",
        "        print('Confusion matrix, without normalization')\n",
        "\n",
        "    thresh = cm.max() / 2.\n",
        "    for i in range (cm.shape[0]):\n",
        "        for j in range (cm.shape[1]):\n",
        "            plt.text(j, i, cm[i, j],\n",
        "                 horizontalalignment=\"center\",\n",
        "                 color=\"white\" if cm[i, j] > thresh else \"black\")\n",
        "\n",
        "    plt.tight_layout()\n",
        "    plt.ylabel('True label')\n",
        "    plt.xlabel('Predicted label')"
      ],
      "metadata": {
        "id": "zJsgLZN9nj5u"
      },
      "execution_count": null,
      "outputs": []
    },
    {
      "cell_type": "markdown",
      "source": [
        "###**Classification Models**"
      ],
      "metadata": {
        "id": "zMNFwr1anj5u"
      }
    },
    {
      "cell_type": "markdown",
      "source": [
        "#### **LogisticRegression**"
      ],
      "metadata": {
        "id": "WqE-oFdqnj5u"
      }
    },
    {
      "cell_type": "code",
      "source": [
        "from sklearn.metrics import accuracy_score\n",
        "from sklearn.linear_model import LogisticRegression\n",
        "LR = LogisticRegression()\n",
        "LR.fit(X_over, y_over)"
      ],
      "metadata": {
        "execution": {
          "iopub.status.busy": "2022-06-13T00:20:25.102119Z",
          "iopub.execute_input": "2022-06-13T00:20:25.102511Z",
          "iopub.status.idle": "2022-06-13T00:20:44.707280Z",
          "shell.execute_reply.started": "2022-06-13T00:20:25.102480Z",
          "shell.execute_reply": "2022-06-13T00:20:44.706186Z"
        },
        "trusted": true,
        "colab": {
          "base_uri": "https://localhost:8080/"
        },
        "outputId": "fb17ed8b-b66b-4e4d-917c-96d3cc8ff3c8",
        "id": "uVqotwJenj5u"
      },
      "execution_count": null,
      "outputs": [
        {
          "output_type": "execute_result",
          "data": {
            "text/plain": [
              "LogisticRegression()"
            ]
          },
          "metadata": {},
          "execution_count": 326
        }
      ]
    },
    {
      "cell_type": "code",
      "source": [
        "#evaluation Details\n",
        "from sklearn.metrics import f1_score\n",
        "models = [LR]\n",
        "for model in models:\n",
        "    print(type(model).__name__,' Train Score is   : ' ,model.score(X_over, y_over))\n",
        "    print(type(model).__name__,' Test Score is    : ' ,model.score(x_test, y_test))\n",
        "    \n",
        "    y_pred = model.predict(x_test)\n",
        "    print(type(model).__name__,' F1 Score is      : ' ,f1_score(y_test,y_pred))\n"
      ],
      "metadata": {
        "colab": {
          "base_uri": "https://localhost:8080/"
        },
        "outputId": "8ea290e4-e579-4063-ee46-edabd5110f6a",
        "id": "sF2LZyEBnj5v"
      },
      "execution_count": null,
      "outputs": [
        {
          "output_type": "stream",
          "name": "stdout",
          "text": [
            "LogisticRegression  Train Score is   :  0.8691906597143505\n",
            "LogisticRegression  Test Score is    :  0.7807486631016043\n",
            "LogisticRegression  F1 Score is      :  0.2506527415143603\n"
          ]
        }
      ]
    },
    {
      "cell_type": "code",
      "source": [
        "from sklearn.metrics import confusion_matrix\n",
        "import seaborn as sns\n",
        "\n",
        "#Generate the confusion matrix\n",
        "cf_matrix = confusion_matrix(y_test, y_pred)\n",
        "print(cf_matrix)\n",
        "\n",
        "ax = sns.heatmap(cf_matrix, annot=True, cmap='Blues')\n",
        "\n",
        "ax.set_title('Seaborn Confusion Matrix with labels\\n\\n');\n",
        "ax.set_xlabel('\\nPredicted Values')\n",
        "ax.set_ylabel('Actual Values ');\n",
        "\n",
        "## Ticket labels - List must be in alphabetical order\n",
        "ax.xaxis.set_ticklabels(['False','True'])\n",
        "ax.yaxis.set_ticklabels(['False','True'])\n",
        "\n",
        "## Display the visualization of the Confusion Matrix.\n",
        "plt.show()"
      ],
      "metadata": {
        "colab": {
          "base_uri": "https://localhost:8080/"
        },
        "outputId": "7e3f9062-7a28-4823-f50b-90aed7e84a47",
        "id": "C7Z3z4awnj5v"
      },
      "execution_count": null,
      "outputs": [
        {
          "output_type": "stream",
          "name": "stdout",
          "text": [
            "[[974  28]\n",
            " [259  48]]\n"
          ]
        },
        {
          "output_type": "display_data",
          "data": {
            "text/plain": [
              "<Figure size 720x360 with 2 Axes>"
            ],
            "image/png": "[encoded data removed]"
          },
          "metadata": {
            "needs_background": "light"
          }
        }
      ]
    },
    {
      "cell_type": "markdown",
      "source": [
        "#### **MultinomialNBModel**"
      ],
      "metadata": {
        "id": "sZkJ7bFWnj5v"
      }
    },
    {
      "cell_type": "code",
      "source": [
        "from sklearn.naive_bayes import MultinomialNB\n",
        "multinomialNBModel = MultinomialNB(alpha=0.1)\n",
        "multinomialNBModel.fit(X_over, y_over)"
      ],
      "metadata": {
        "execution": {
          "iopub.status.busy": "2022-06-13T00:21:05.885483Z",
          "iopub.execute_input": "2022-06-13T00:21:05.885910Z",
          "iopub.status.idle": "2022-06-13T00:21:08.936421Z",
          "shell.execute_reply.started": "2022-06-13T00:21:05.885876Z",
          "shell.execute_reply": "2022-06-13T00:21:08.935320Z"
        },
        "trusted": true,
        "colab": {
          "base_uri": "https://localhost:8080/"
        },
        "outputId": "4467b02d-999c-45d4-d68a-624103c94426",
        "id": "uMaktDATnj5v"
      },
      "execution_count": null,
      "outputs": [
        {
          "output_type": "execute_result",
          "data": {
            "text/plain": [
              "MultinomialNB(alpha=0.1)"
            ]
          },
          "metadata": {},
          "execution_count": 329
        }
      ]
    },
    {
      "cell_type": "code",
      "source": [
        "#evaluation Details\n",
        "models = [multinomialNBModel]\n",
        "for model in models:\n",
        "    print(type(model).__name__,' Train Score is   : ' ,model.score(X_over, y_over))\n",
        "    print(type(model).__name__,' Test Score is    : ' ,model.score(x_test, y_test))\n",
        "    \n",
        "    y_pred = model.predict(x_test)\n",
        "    print(type(model).__name__,' F1 Score is      : ' ,f1_score(y_test,y_pred))\n"
      ],
      "metadata": {
        "execution": {
          "iopub.status.busy": "2022-06-13T00:21:08.938688Z",
          "iopub.execute_input": "2022-06-13T00:21:08.939591Z",
          "iopub.status.idle": "2022-06-13T00:21:17.246117Z",
          "shell.execute_reply.started": "2022-06-13T00:21:08.939518Z",
          "shell.execute_reply": "2022-06-13T00:21:17.243631Z"
        },
        "trusted": true,
        "colab": {
          "base_uri": "https://localhost:8080/"
        },
        "outputId": "ef99e462-fe55-465e-f38a-8a49858cb8d7",
        "id": "fwPUrhuYnj5v"
      },
      "execution_count": null,
      "outputs": [
        {
          "output_type": "stream",
          "name": "stdout",
          "text": [
            "MultinomialNB  Train Score is   :  0.929494445703922\n",
            "MultinomialNB  Test Score is    :  0.7669977081741788\n",
            "MultinomialNB  F1 Score is      :  0.3813387423935092\n"
          ]
        }
      ]
    },
    {
      "cell_type": "code",
      "source": [
        "#Generate the confusion matrix\n",
        "cf_matrix = confusion_matrix(y_test, y_pred)\n",
        "print(cf_matrix)\n",
        "\n",
        "ax = sns.heatmap(cf_matrix, annot=True, cmap='Blues')\n",
        "\n",
        "ax.set_title('Seaborn Confusion Matrix with labels\\n\\n');\n",
        "ax.set_xlabel('\\nPredicted Values')\n",
        "ax.set_ylabel('Actual Values ');\n",
        "\n",
        "## Ticket labels - List must be in alphabetical order\n",
        "ax.xaxis.set_ticklabels(['False','True'])\n",
        "ax.yaxis.set_ticklabels(['False','True'])\n",
        "\n",
        "## Display the visualization of the Confusion Matrix.\n",
        "plt.show()"
      ],
      "metadata": {
        "colab": {
          "base_uri": "https://localhost:8080/"
        },
        "outputId": "fd259aaf-64a2-47e8-c39b-15bda53d97d3",
        "id": "to5gGmRvnj5v"
      },
      "execution_count": null,
      "outputs": [
        {
          "output_type": "stream",
          "name": "stdout",
          "text": [
            "[[910  92]\n",
            " [213  94]]\n"
          ]
        },
        {
          "output_type": "display_data",
          "data": {
            "text/plain": [
              "<Figure size 720x360 with 2 Axes>"
            ],
            "image/png": "[encoded data removed]"
          },
          "metadata": {
            "needs_background": "light"
          }
        }
      ]
    },
    {
      "cell_type": "markdown",
      "source": [
        "#### **PassiveAggressiveClassifier**"
      ],
      "metadata": {
        "id": "MZA4WLPPnj5v"
      }
    },
    {
      "cell_type": "code",
      "source": [
        "from sklearn.linear_model import PassiveAggressiveClassifier\n",
        "pac=PassiveAggressiveClassifier(C=100)\n",
        "pac.fit(X_over, y_over)"
      ],
      "metadata": {
        "execution": {
          "iopub.status.busy": "2022-06-13T00:21:29.965703Z",
          "iopub.execute_input": "2022-06-13T00:21:29.966899Z",
          "iopub.status.idle": "2022-06-13T00:22:04.052640Z",
          "shell.execute_reply.started": "2022-06-13T00:21:29.966846Z",
          "shell.execute_reply": "2022-06-13T00:22:04.051896Z"
        },
        "trusted": true,
        "colab": {
          "base_uri": "https://localhost:8080/"
        },
        "outputId": "74fef265-f3ff-47c2-ec83-49c585caa2fd",
        "id": "Ry4jQk9enj5w"
      },
      "execution_count": null,
      "outputs": [
        {
          "output_type": "execute_result",
          "data": {
            "text/plain": [
              "PassiveAggressiveClassifier(C=100)"
            ]
          },
          "metadata": {},
          "execution_count": 121
        }
      ]
    },
    {
      "cell_type": "code",
      "source": [
        "#evaluation Details\n",
        "from sklearn.metrics import f1_score\n",
        "\n",
        "models = [pac]\n",
        "for model in models:\n",
        "    print(type(model).__name__,' Train Score is   : ' ,model.score(X_over, y_over))\n",
        "    print(type(model).__name__,' Test Score is    : ' ,model.score(x_test, y_test))\n",
        "    \n",
        "    y_pred = model.predict(x_test)\n",
        "    print(type(model).__name__,' F1 Score is      : ' ,f1_score(y_test,y_pred))"
      ],
      "metadata": {
        "colab": {
          "base_uri": "https://localhost:8080/"
        },
        "outputId": "c41c5712-e01c-4f0a-de7d-c9c46c7ae0a2",
        "id": "9x10qj5Vnj5w"
      },
      "execution_count": null,
      "outputs": [
        {
          "output_type": "stream",
          "name": "stdout",
          "text": [
            "PassiveAggressiveClassifier  Train Score is   :  0.9979596463386987\n",
            "PassiveAggressiveClassifier  Test Score is    :  0.7708174178762414\n",
            "PassiveAggressiveClassifier  F1 Score is      :  0.4140625\n"
          ]
        }
      ]
    },
    {
      "cell_type": "code",
      "source": [
        "#Generate the confusion matrix\n",
        "cf_matrix = confusion_matrix(y_test, y_pred)\n",
        "print(cf_matrix)\n",
        "\n",
        "ax = sns.heatmap(cf_matrix, annot=True, cmap='Blues')\n",
        "\n",
        "ax.set_title('Seaborn Confusion Matrix with labels\\n\\n');\n",
        "ax.set_xlabel('\\nPredicted Values')\n",
        "ax.set_ylabel('Actual Values ');\n",
        "\n",
        "## Ticket labels - List must be in alphabetical order\n",
        "ax.xaxis.set_ticklabels(['False','True'])\n",
        "ax.yaxis.set_ticklabels(['False','True'])\n",
        "\n",
        "## Display the visualization of the Confusion Matrix.\n",
        "plt.show()"
      ],
      "metadata": {
        "colab": {
          "base_uri": "https://localhost:8080/",
          "height": 428
        },
        "outputId": "e1bac09a-d4b6-4456-a33b-473a2943b3a0",
        "id": "pSuHs_55nj5w"
      },
      "execution_count": null,
      "outputs": [
        {
          "output_type": "stream",
          "name": "stdout",
          "text": [
            "[[903  99]\n",
            " [201 106]]\n"
          ]
        },
        {
          "output_type": "display_data",
          "data": {
            "text/plain": [
              "<Figure size 720x360 with 2 Axes>"
            ],
            "image/png": "[encoded data removed]"
          },
          "metadata": {
            "needs_background": "light"
          }
        }
      ]
    },
    {
      "cell_type": "markdown",
      "source": [
        "####**Random Forest**"
      ],
      "metadata": {
        "id": "6euXEnSVnj5w"
      }
    },
    {
      "cell_type": "code",
      "source": [
        "from sklearn.ensemble import RandomForestClassifier\n",
        "RF = RandomForestClassifier(max_depth=100, random_state=42,n_estimators=500)\n",
        "RF.fit(X_over, y_over)"
      ],
      "metadata": {
        "colab": {
          "base_uri": "https://localhost:8080/"
        },
        "outputId": "c7840363-0852-43fa-eb21-c3bc46bc9b07",
        "id": "eVl2AEq4nj5w"
      },
      "execution_count": null,
      "outputs": [
        {
          "output_type": "execute_result",
          "data": {
            "text/plain": [
              "RandomForestClassifier(max_depth=500, n_estimators=500, random_state=42)"
            ]
          },
          "metadata": {},
          "execution_count": 131
        }
      ]
    },
    {
      "cell_type": "code",
      "source": [
        "#evaluation Details\n",
        "from sklearn.metrics import f1_score\n",
        "models = [RF]\n",
        "for model in models:\n",
        "    print(type(model).__name__,' Train Score is   : ' ,model.score(X_over, y_over))\n",
        "    print(type(model).__name__,' Test Score is    : ' ,model.score(x_test, y_test))\n",
        "    \n",
        "    y_pred = model.predict(x_test)\n",
        "    print(type(model).__name__,' F1 Score is      : ' ,f1_score(y_test,y_pred))"
      ],
      "metadata": {
        "colab": {
          "base_uri": "https://localhost:8080/"
        },
        "outputId": "6f49f7fd-cc0c-4b89-9263-9ce2504a8661",
        "id": "CWk73rjMnj5w"
      },
      "execution_count": null,
      "outputs": [
        {
          "output_type": "stream",
          "name": "stdout",
          "text": [
            "RandomForestClassifier  Train Score is   :  0.9984130582634323\n",
            "RandomForestClassifier  Test Score is    :  0.7700534759358288\n",
            "RandomForestClassifier  F1 Score is      :  0.06230529595015576\n"
          ]
        }
      ]
    },
    {
      "cell_type": "code",
      "source": [
        "#Generate the confusion matrix\n",
        "cf_matrix = confusion_matrix(y_test, y_pred)\n",
        "print(cf_matrix)\n",
        "\n",
        "ax = sns.heatmap(cf_matrix, annot=True, cmap='Blues')\n",
        "\n",
        "ax.set_title('Seaborn Confusion Matrix with labels\\n\\n');\n",
        "ax.set_xlabel('\\nPredicted Values')\n",
        "ax.set_ylabel('Actual Values ');\n",
        "\n",
        "## Ticket labels - List must be in alphabetical order\n",
        "ax.xaxis.set_ticklabels(['False','True'])\n",
        "ax.yaxis.set_ticklabels(['False','True'])\n",
        "\n",
        "## Display the visualization of the Confusion Matrix.\n",
        "plt.show()"
      ],
      "metadata": {
        "colab": {
          "base_uri": "https://localhost:8080/",
          "height": 428
        },
        "outputId": "62db4ad5-0294-4fe5-a6e9-f287aabdfe16",
        "id": "wpyx3El7nj5w"
      },
      "execution_count": null,
      "outputs": [
        {
          "output_type": "stream",
          "name": "stdout",
          "text": [
            "[[998   4]\n",
            " [297  10]]\n"
          ]
        },
        {
          "output_type": "display_data",
          "data": {
            "text/plain": [
              "<Figure size 720x360 with 2 Axes>"
            ],
            "image/png": "[encoded data removed]"
          },
          "metadata": {
            "needs_background": "light"
          }
        }
      ]
    },
    {
      "cell_type": "code",
      "source": [],
      "metadata": {
        "id": "aBiiMSNfJUBL"
      },
      "execution_count": null,
      "outputs": []
    }
  ],
  "metadata": {
    "accelerator": "GPU",
    "colab": {
      "collapsed_sections": [
        "1s8mTIxP-JA8",
        "hVUwkOtF-bDY",
        "oXGw9P1N-erJ",
        "qvXvaKyhBNRO",
        "BYWRa34nmjxl",
        "a7-XvopBbuqt",
        "SWS5oe1eOhhC",
        "OIjvu5_S5wWZ",
        "rPOTswAaY2yq",
        "7bCDGGiQcI4U",
        "mtcYdp1tzV16",
        "XTmKDG_H6vbG",
        "1prwLMuF1UOf",
        "6BfXDDqjYIfs",
        "9BIz7faPz1Pt",
        "VoH81-AYNJ96",
        "n8k2_O6hcsSG",
        "6InupPi1d1Qi",
        "HNDm-rjdM31n",
        "HiJwveBe0C2T",
        "AILei80s0C2Z",
        "zul8BOhERY6L",
        "1H-BgmtDQ6FE",
        "25BaCL02Q6FE",
        "e95HAh-GQ6FF",
        "bUz1K_ZDQ6FF",
        "zzrUWbz3Q6FG",
        "-M0goMAFQ6FH",
        "SnXI-VAqQ6FH",
        "1xTeW4fLQ6FJ",
        "xILMOyURQ6FJ",
        "nUdnYLg5Q6FK",
        "F08V3yrWQ6FL",
        "7mczODBkQ6FM",
        "TKfJeXEJQ6FM",
        "Lm4cqCdSQ6FO",
        "otbf92uNQ6FQ",
        "GryBR0hLZylh",
        "u7zcneITuYLS",
        "kWWvx6V30L-A",
        "M_Xa_fb10blU",
        "i7ck7_1c2Zl6",
        "kPpKoNz_WQB9",
        "DPq2V54AunxL",
        "YIyT8GK-nj5t",
        "WqE-oFdqnj5u",
        "sZkJ7bFWnj5v",
        "6euXEnSVnj5w"
      ],
      "provenance": []
    },
    "kernelspec": {
      "display_name": "Python 3",
      "name": "python3"
    },
    "language_info": {
      "name": "python"
    },
    "gpuClass": "standard"
  },
  "nbformat": 4,
  "nbformat_minor": 0
}